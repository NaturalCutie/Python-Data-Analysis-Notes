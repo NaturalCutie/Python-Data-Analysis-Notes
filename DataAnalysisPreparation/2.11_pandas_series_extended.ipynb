{
 "cells": [
  {
   "cell_type": "markdown",
   "id": "778e6335-be65-4ded-bb2e-e07463fa10ca",
   "metadata": {},
   "source": [
    "# **2.11_series_extended**"
   ]
  },
  {
   "cell_type": "markdown",
   "id": "5b11d661-6ffa-4165-b024-8ea080830187",
   "metadata": {},
   "source": [
    "### 一、Series的运算"
   ]
  },
  {
   "cell_type": "markdown",
   "id": "5502ceee-d79f-4b92-bad7-51c721c36a28",
   "metadata": {
    "jp-MarkdownHeadingCollapsed": true
   },
   "source": [
    "#### (一)、Series和Series之间"
   ]
  },
  {
   "cell_type": "markdown",
   "id": "2bd744e1-f144-43e3-85e0-0d18c58922f0",
   "metadata": {},
   "source": [
    "在Series和Series之间,可以做加减乘除等各种运算，Pandas会自动根据索引去排序并对齐"
   ]
  },
  {
   "cell_type": "markdown",
   "id": "f84cfc30-4315-443e-9249-b3e6eb8fcc11",
   "metadata": {},
   "source": [
    "1. 如果某个索引只在其中一个Series出现的话，结果就会是NaN,表示not a number，说明无法得到计算值\n",
    "\n",
    "    也就是说，由于Series之间的计算会自动进行索引对齐，只有当某个索引同时出现在两个Series里时，结果里才会有对应的值\n",
    "\n",
    "    ***按照什么进行排序? 数字按照大小，英文按照字母顺序，数字英文中文可以混在一起排序对齐，数字在英文前，英文在中文前。中文排序方式或许是ASCII***"
   ]
  },
  {
   "cell_type": "code",
   "execution_count": 1,
   "id": "240b7a6c-00ec-4248-bbd8-4176ca2f32c2",
   "metadata": {},
   "outputs": [
    {
     "data": {
      "text/plain": [
       "1      9.0\n",
       "2      NaN\n",
       "3     11.0\n",
       "5      5.0\n",
       "7      NaN\n",
       "9      NaN\n",
       "10     NaN\n",
       "dtype: float64"
      ]
     },
     "execution_count": 1,
     "metadata": {},
     "output_type": "execute_result"
    }
   ],
   "source": [
    "import pandas as pd\n",
    "s1 = pd.Series([1, 4, 2, 3, 5], index=[1, 3, 5, 7, 9])\n",
    "s2 = pd.Series([8, 1, 7 ,3 ,9], index=[1, 2, 3, 5, 10])\n",
    "s1 + s2"
   ]
  },
  {
   "cell_type": "code",
   "execution_count": 2,
   "id": "6d36a56f-1975-4478-8ad8-5616a12c0bfd",
   "metadata": {},
   "outputs": [
    {
     "data": {
      "text/plain": [
       "1      2.0\n",
       "3      5.0\n",
       "5      NaN\n",
       "7      NaN\n",
       "9      NaN\n",
       "num    NaN\n",
       "住      NaN\n",
       "只      NaN\n",
       "dtype: float64"
      ]
     },
     "execution_count": 2,
     "metadata": {},
     "output_type": "execute_result"
    }
   ],
   "source": [
    "s0 = pd.Series({1: 1, \"只\": 1, \"住\": 1, \"num\": 1, 3: 1})\n",
    "s0 + s1"
   ]
  },
  {
   "cell_type": "markdown",
   "id": "f19e8c39-e9ac-4ce5-b20e-5d33810a5da1",
   "metadata": {},
   "source": [
    "2. 如果你希望给缺失的值一个默认值的话，可以用方法而不是运算符号进行运算，然后给fill_value这个参数传入一个值。\n",
    "\n",
    "   用符号的话我们没法额外传参，但用方法的话就可以"
   ]
  },
  {
   "cell_type": "code",
   "execution_count": 3,
   "id": "2efd4a73-7723-4f1b-98ea-eaae766d1478",
   "metadata": {},
   "outputs": [
    {
     "data": {
      "text/plain": [
       "1      9.0\n",
       "2      1.0\n",
       "3     11.0\n",
       "5      5.0\n",
       "7      3.0\n",
       "9      5.0\n",
       "10     9.0\n",
       "dtype: float64"
      ]
     },
     "execution_count": 3,
     "metadata": {},
     "output_type": "execute_result"
    }
   ],
   "source": [
    "s1.add(s2, fill_value=0)"
   ]
  },
  {
   "cell_type": "markdown",
   "id": "356cc1db-43cf-40da-882c-37bbbab00cef",
   "metadata": {},
   "source": [
    "    等同于s1 + s2,并同时给两边缺失的值一个默认值0"
   ]
  },
  {
   "cell_type": "code",
   "execution_count": 4,
   "id": "64735d3d-3da1-42b3-8a0f-9fd5f2122c37",
   "metadata": {},
   "outputs": [
    {
     "data": {
      "text/plain": [
       "1    -7.0\n",
       "2    -1.0\n",
       "3    -3.0\n",
       "5    -1.0\n",
       "7     3.0\n",
       "9     5.0\n",
       "10   -9.0\n",
       "dtype: float64"
      ]
     },
     "execution_count": 4,
     "metadata": {},
     "output_type": "execute_result"
    }
   ],
   "source": [
    "s1.sub(s2, fill_value=0)"
   ]
  },
  {
   "cell_type": "code",
   "execution_count": 5,
   "id": "34182474-7058-48ce-bf38-3b3b24b9fb4e",
   "metadata": {},
   "outputs": [
    {
     "data": {
      "text/plain": [
       "1      8.0\n",
       "2      0.0\n",
       "3     28.0\n",
       "5      6.0\n",
       "7      0.0\n",
       "9      0.0\n",
       "10     0.0\n",
       "dtype: float64"
      ]
     },
     "execution_count": 5,
     "metadata": {},
     "output_type": "execute_result"
    }
   ],
   "source": [
    "s1.mul(s2, fill_value=0)"
   ]
  },
  {
   "cell_type": "code",
   "execution_count": 6,
   "id": "3bb5e9ca-3c8f-4b5a-a193-d8c4a4644409",
   "metadata": {},
   "outputs": [
    {
     "data": {
      "text/plain": [
       "1     0.125000\n",
       "2     0.000000\n",
       "3     0.571429\n",
       "5     0.666667\n",
       "7          inf\n",
       "9          inf\n",
       "10    0.000000\n",
       "dtype: float64"
      ]
     },
     "execution_count": 6,
     "metadata": {},
     "output_type": "execute_result"
    }
   ],
   "source": [
    "s1.div(s2, fill_value=0)"
   ]
  },
  {
   "cell_type": "markdown",
   "id": "ea33eae2-8896-4b98-bf5e-cf014b9b47dd",
   "metadata": {},
   "source": [
    "3. 优势\n",
    "\n",
    "   Series之间的操作会根据索引自动对齐的好处是，由于一般我们会利用标签索引表示不同对象的数据,那即使不同Series里数据顺序不一样，计算时也会根据索引自动对齐"
   ]
  },
  {
   "cell_type": "markdown",
   "id": "cd749132-2f33-451b-9ee8-22ebd5d143c2",
   "metadata": {},
   "source": [
    "#### (二)、聚合运算"
   ]
  },
  {
   "cell_type": "markdown",
   "id": "932c1f66-ca6b-4e62-9953-7157b5407b70",
   "metadata": {},
   "source": [
    "1. NumPy数组的统计方法，包括max, min, sum, mean，Pandas的Series对象也有相同名字的方法"
   ]
  },
  {
   "cell_type": "code",
   "execution_count": 7,
   "id": "7ca49452-6484-4748-958c-9fd1ae9efa49",
   "metadata": {},
   "outputs": [
    {
     "name": "stdout",
     "output_type": "stream",
     "text": [
      "5\n",
      "1\n",
      "15\n",
      "3.0\n"
     ]
    }
   ],
   "source": [
    "print(s1.max())\n",
    "print(s1.min())\n",
    "print(s1.sum())\n",
    "print(s1.mean())"
   ]
  },
  {
   "cell_type": "markdown",
   "id": "88745ec3-7e8a-44ef-896b-3668f6ad993f",
   "metadata": {},
   "source": [
    "2. describe方法，是Series特有的一个强大的方法，describe方法能直接告诉我们很多这个Series的统计信息，\n",
    "\n",
    "   包括：元素个数、平均数、标准差、最小值、四分位数、最大值"
   ]
  },
  {
   "cell_type": "code",
   "execution_count": 8,
   "id": "f0d91b85-27cc-47c1-9e13-255e28a1637c",
   "metadata": {},
   "outputs": [
    {
     "data": {
      "text/plain": [
       "count    5.000000\n",
       "mean     3.000000\n",
       "std      1.581139\n",
       "min      1.000000\n",
       "25%      2.000000\n",
       "50%      3.000000\n",
       "75%      4.000000\n",
       "max      5.000000\n",
       "dtype: float64"
      ]
     },
     "execution_count": 8,
     "metadata": {},
     "output_type": "execute_result"
    }
   ],
   "source": [
    "s1.describe()"
   ]
  },
  {
   "cell_type": "markdown",
   "id": "d225e906-cf47-4229-ba15-bf7314e7b2cd",
   "metadata": {},
   "source": [
    "#### (三)、Series和单个数字之间"
   ]
  },
  {
   "cell_type": "markdown",
   "id": "8b5017f2-3fcd-498e-98ec-ddd7d89e3395",
   "metadata": {},
   "source": [
    "与NumPy数组的广播机制一样，在Pandas Series里，单个数字和Series之间进行操作的时候，操作会被自动运用到Series里每个元素上"
   ]
  },
  {
   "cell_type": "code",
   "execution_count": 9,
   "id": "71bc70cd-f4f2-413e-8d2a-92f0e7d3a883",
   "metadata": {},
   "outputs": [
    {
     "data": {
      "text/plain": [
       "1     3\n",
       "3    12\n",
       "5     6\n",
       "7     9\n",
       "9    15\n",
       "dtype: int64"
      ]
     },
     "execution_count": 9,
     "metadata": {},
     "output_type": "execute_result"
    }
   ],
   "source": [
    "s1 * 3"
   ]
  },
  {
   "cell_type": "markdown",
   "id": "ab6318a4-ab58-44ee-bb60-db01fa35ee9a",
   "metadata": {},
   "source": [
    "### 二、对元素分别执行相同操作"
   ]
  },
  {
   "cell_type": "markdown",
   "id": "df2f0d80-3558-4ce9-856c-e8cf37c42d2e",
   "metadata": {},
   "source": [
    "1. apply方法，接收函数作为参数，然后调用时把Series里各个元素，分别作为那个函数的参数，返回的Series里的元素，就是那个函数对原始Series里各个元素调用后的结果\n",
    "\n",
    "    **apply方法不改变原始Series，而是会返回一个新的Series**"
   ]
  },
  {
   "cell_type": "markdown",
   "id": "33d9c511-85cf-4e5f-a2b5-2010a22adc64",
   "metadata": {},
   "source": [
    "***apply相当于是高阶函数***\n",
    "        \n",
    "***注意传入的函数后面不要跟括号，因为不是要把函数调用后的结果，去作为apply的参数，而是把函数本身给apply***\n",
    "    \n",
    "***apply的定义语句里肯定包括：***\n",
    " \n",
    "***a.让每一个Series里面的元素作为参数，调用函数***\n",
    "    \n",
    "***b.将每一个元素调用函数得到的结果，组成的新Series。***"
   ]
  },
  {
   "cell_type": "markdown",
   "id": "8b8d5360-4706-4f1e-9b58-e78403fa078c",
   "metadata": {},
   "source": [
    "    优势:apply方法大大增加了我们操作Series的灵活性，能定义出来的函数，我们都可以作用在Series的各个元素上，帮我们得到新的Series"
   ]
  },
  {
   "cell_type": "markdown",
   "id": "2a5f7a65-81fc-41db-bcb3-852d7e5ccfcb",
   "metadata": {},
   "source": [
    "    应用场景：当前有5名学生的成绩所组成的Series,索引为学生名字，我们希望能得到每个成绩对应的等级：90及以上是A，80到90是B，70到80是C，70以下是D。我们知道怎么根据分数数字得到对应等级，只需要get_grade_from_score函数即可。现在问题在于，如何对Series里每个元素，都运用这个函数，得到对应结果组成的新Series。新方法，apply方法可以实现这一步。"
   ]
  },
  {
   "cell_type": "code",
   "execution_count": 10,
   "id": "5ec4ac5e-9373-4730-a7fb-a738e3418cde",
   "metadata": {},
   "outputs": [
    {
     "data": {
      "text/plain": [
       "小明    A\n",
       "小红    D\n",
       "小杰    C\n",
       "小丽    B\n",
       "小华    C\n",
       "dtype: object"
      ]
     },
     "execution_count": 10,
     "metadata": {},
     "output_type": "execute_result"
    }
   ],
   "source": [
    "scores = pd.Series({\"小明\": 92, \"小红\": 67, \"小杰\": 70, \"小丽\": 88, \"小华\": 76})\n",
    "def get_grade_from_score(score):\n",
    "    if score >= 90:\n",
    "        return \"A\"\n",
    "    elif score >= 80:\n",
    "        return \"B\"\n",
    "    elif score >= 70:\n",
    "        return \"C\"\n",
    "    else:\n",
    "        return \"D\"\n",
    "\n",
    "\n",
    "grades = scores.apply(get_grade_from_score)\n",
    "grades"
   ]
  },
  {
   "cell_type": "markdown",
   "id": "faf18885-24f5-4d74-8450-0f36d5ccfb61",
   "metadata": {},
   "source": [
    "2. 除了传入定义好的函数名，在函数逻辑比较简单的时候，匿名函数也可以应用在这里"
   ]
  },
  {
   "cell_type": "code",
   "execution_count": 11,
   "id": "217add00-f8d3-46d7-bf12-a196600761bb",
   "metadata": {},
   "outputs": [
    {
     "data": {
      "text/plain": [
       "小明    46.0\n",
       "小红    33.5\n",
       "小杰    35.0\n",
       "小丽    44.0\n",
       "小华    38.0\n",
       "dtype: float64"
      ]
     },
     "execution_count": 11,
     "metadata": {},
     "output_type": "execute_result"
    }
   ],
   "source": [
    "half_scores = scores.apply(lambda x: 0.5*x)\n",
    "half_scores"
   ]
  },
  {
   "cell_type": "markdown",
   "id": "48b373b2-352e-44d1-bf40-8ce213513b47",
   "metadata": {},
   "source": [
    "### 三、转换数据类型 "
   ]
  },
  {
   "cell_type": "markdown",
   "id": "7a4aad1c-cc13-46cb-834a-5205f4c7afcf",
   "metadata": {},
   "source": [
    "astype方法：转换Series的数据类型"
   ]
  },
  {
   "cell_type": "code",
   "execution_count": 15,
   "id": "86def539-1164-4578-bd32-367379bdc9de",
   "metadata": {},
   "outputs": [
    {
     "data": {
      "text/plain": [
       "小明    92\n",
       "小红    67\n",
       "小杰    70\n",
       "小丽    88\n",
       "小华    76\n",
       "dtype: object"
      ]
     },
     "execution_count": 15,
     "metadata": {},
     "output_type": "execute_result"
    }
   ],
   "source": [
    "scores = scores.astype(str)\n",
    "scores"
   ]
  },
  {
   "cell_type": "markdown",
   "id": "3d803fc9-73a0-4add-ae1c-fd079bb4ede7",
   "metadata": {},
   "source": [
    "### 四、针对字符串Series，保留Series每个元素的某一部分"
   ]
  },
  {
   "cell_type": "markdown",
   "id": "deaacae9-96ba-4876-9826-081562d79a2f",
   "metadata": {},
   "source": [
    "str.slice方法\n",
    "\n",
    "str是Series类自带的一个属性，会返回一个包含了很多字符串相关操作方法的,StringMethods类的实例(返回实例才可以调用方法)，对这个StringMethods实例调用slice方法，就会分别保留Series里每个元素选定的部分\n",
    "\n",
    "第一个参数传入，要保留的起始位置的索引；第二个参数传入，要保留的结束位置的下一索引"
   ]
  },
  {
   "cell_type": "code",
   "execution_count": 16,
   "id": "2d0bba6e-fdcb-45cb-a154-909f8a04a47f",
   "metadata": {},
   "outputs": [
    {
     "data": {
      "text/plain": [
       "小明    9\n",
       "小红    6\n",
       "小杰    7\n",
       "小丽    8\n",
       "小华    7\n",
       "dtype: object"
      ]
     },
     "execution_count": 16,
     "metadata": {},
     "output_type": "execute_result"
    }
   ],
   "source": [
    "scores.str.slice(0, 1)"
   ]
  },
  {
   "cell_type": "code",
   "execution_count": null,
   "id": "03f2cd32-49c6-419e-87f5-9000794815cd",
   "metadata": {},
   "outputs": [],
   "source": []
  }
 ],
 "metadata": {
  "kernelspec": {
   "display_name": "Python 3 (ipykernel)",
   "language": "python",
   "name": "python3"
  },
  "language_info": {
   "codemirror_mode": {
    "name": "ipython",
    "version": 3
   },
   "file_extension": ".py",
   "mimetype": "text/x-python",
   "name": "python",
   "nbconvert_exporter": "python",
   "pygments_lexer": "ipython3",
   "version": "3.11.1"
  }
 },
 "nbformat": 4,
 "nbformat_minor": 5
}
