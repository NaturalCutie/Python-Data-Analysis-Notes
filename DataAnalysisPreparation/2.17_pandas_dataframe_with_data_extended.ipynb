{
 "cells": [
  {
   "cell_type": "markdown",
   "id": "7d75f39e-bb4f-4197-994c-82b3f1c2a486",
   "metadata": {},
   "source": [
    "# **2.17_pandas_dataframe_with_data_extended**"
   ]
  },
  {
   "cell_type": "markdown",
   "id": "b4bd855a-9467-4fe2-8d03-d4bfb5f1afc4",
   "metadata": {},
   "source": [
    "### 一、聚合运算"
   ]
  },
  {
   "cell_type": "markdown",
   "id": "89ec8a47-59e0-4590-ba27-bd69ad27ff39",
   "metadata": {},
   "source": [
    "#### (一)、统计方法"
   ]
  },
  {
   "cell_type": "markdown",
   "id": "21e9edcd-5ab6-4bf2-a384-db308f26118a",
   "metadata": {},
   "source": [
    "NumPy数组和Pandas的Series的统计方法，包括max, min, sum, mean，在DataFrame中也有相同名字的方法\n",
    "\n",
    "不同之处在于，由于DataFrame是二维的，我们可以指定是沿着索引纵向操作，还是沿着列名横向操作。"
   ]
  },
  {
   "cell_type": "code",
   "execution_count": 1,
   "id": "02cb589b-7de7-431d-b9e3-3ca2c72346a5",
   "metadata": {},
   "outputs": [
    {
     "data": {
      "text/html": [
       "<div>\n",
       "<style scoped>\n",
       "    .dataframe tbody tr th:only-of-type {\n",
       "        vertical-align: middle;\n",
       "    }\n",
       "\n",
       "    .dataframe tbody tr th {\n",
       "        vertical-align: top;\n",
       "    }\n",
       "\n",
       "    .dataframe thead th {\n",
       "        text-align: right;\n",
       "    }\n",
       "</style>\n",
       "<table border=\"1\" class=\"dataframe\">\n",
       "  <thead>\n",
       "    <tr style=\"text-align: right;\">\n",
       "      <th></th>\n",
       "      <th>选手1</th>\n",
       "      <th>选手2</th>\n",
       "      <th>选手3</th>\n",
       "    </tr>\n",
       "  </thead>\n",
       "  <tbody>\n",
       "    <tr>\n",
       "      <th>001</th>\n",
       "      <td>8.5</td>\n",
       "      <td>9.0</td>\n",
       "      <td>8.7</td>\n",
       "    </tr>\n",
       "    <tr>\n",
       "      <th>002</th>\n",
       "      <td>7.9</td>\n",
       "      <td>8.3</td>\n",
       "      <td>8.1</td>\n",
       "    </tr>\n",
       "    <tr>\n",
       "      <th>003</th>\n",
       "      <td>8.2</td>\n",
       "      <td>8.6</td>\n",
       "      <td>8.4</td>\n",
       "    </tr>\n",
       "    <tr>\n",
       "      <th>004</th>\n",
       "      <td>7.6</td>\n",
       "      <td>7.7</td>\n",
       "      <td>7.9</td>\n",
       "    </tr>\n",
       "    <tr>\n",
       "      <th>005</th>\n",
       "      <td>8.8</td>\n",
       "      <td>8.9</td>\n",
       "      <td>8.6</td>\n",
       "    </tr>\n",
       "    <tr>\n",
       "      <th>006</th>\n",
       "      <td>7.4</td>\n",
       "      <td>7.8</td>\n",
       "      <td>7.3</td>\n",
       "    </tr>\n",
       "  </tbody>\n",
       "</table>\n",
       "</div>"
      ],
      "text/plain": [
       "     选手1  选手2  选手3\n",
       "001  8.5  9.0  8.7\n",
       "002  7.9  8.3  8.1\n",
       "003  8.2  8.6  8.4\n",
       "004  7.6  7.7  7.9\n",
       "005  8.8  8.9  8.6\n",
       "006  7.4  7.8  7.3"
      ]
     },
     "execution_count": 1,
     "metadata": {},
     "output_type": "execute_result"
    }
   ],
   "source": [
    "import pandas as pd\n",
    "player1 = pd.Series([8.5, 7.9, 8.2, 7.6, 8.8, 7.4], index=[\"001\", \"002\", \"003\", \"004\", \"005\", \"006\"])\n",
    "player2 = pd.Series([9.0, 8.3, 8.6, 7.7, 8.9, 7.8], index=[\"001\", \"002\", \"003\", \"004\", \"005\", \"006\"])\n",
    "player3 = pd.Series([8.7, 8.1, 8.4, 7.9, 8.6, 7.3], index=[\"001\", \"002\", \"003\", \"004\", \"005\", \"006\"])\n",
    "df1 = pd.DataFrame({\"选手1\": player1, \"选手2\": player2, \"选手3\": player3})\n",
    "df1"
   ]
  },
  {
   "cell_type": "code",
   "execution_count": 2,
   "id": "d9150bae-427b-41c2-8c77-c88071a6cf96",
   "metadata": {},
   "outputs": [
    {
     "data": {
      "text/plain": [
       "选手1    8.066667\n",
       "选手2    8.383333\n",
       "选手3    8.166667\n",
       "dtype: float64"
      ]
     },
     "execution_count": 2,
     "metadata": {},
     "output_type": "execute_result"
    }
   ],
   "source": [
    "df1.mean()"
   ]
  },
  {
   "cell_type": "markdown",
   "id": "c6d2e3dc-df17-4880-aa92-390405e13a93",
   "metadata": {},
   "source": [
    "默认沿着索引纵向操作，计算各列的统计值，因此返回结果的Series索引和列名对应"
   ]
  },
  {
   "cell_type": "code",
   "execution_count": 3,
   "id": "9343f6bb-db62-4022-a80a-26b6a5ce37a6",
   "metadata": {},
   "outputs": [
    {
     "data": {
      "text/plain": [
       "001    8.733333\n",
       "002    8.100000\n",
       "003    8.400000\n",
       "004    7.733333\n",
       "005    8.766667\n",
       "006    7.500000\n",
       "dtype: float64"
      ]
     },
     "execution_count": 3,
     "metadata": {},
     "output_type": "execute_result"
    }
   ],
   "source": [
    "df1.mean(axis=1)"
   ]
  },
  {
   "cell_type": "markdown",
   "id": "7efaec5e-5dc5-4293-81b2-a0974e677455",
   "metadata": {},
   "source": [
    "如果用可选参数指定axis=1的话，就变成横向操作，计算各行的统计值，因此返回结果的Series索引和DataFrame索引对应"
   ]
  },
  {
   "cell_type": "markdown",
   "id": "b1dc8dc5-0b69-466c-8c55-ea91f2da022f",
   "metadata": {},
   "source": [
    "#### (二)、describe方法"
   ]
  },
  {
   "cell_type": "markdown",
   "id": "0daddbeb-cc54-467c-86ed-5957e7317d2d",
   "metadata": {},
   "source": [
    "与Series的describe方法类似。用在DataFrame上，能得到各列的统计信息\n",
    "\n",
    "**如果DataFrame既有数字列也有非数字列，我们不需要吧数字列提取出来再调用这个方法，describe方法会自动忽略掉所有非数字列，只计算数字列的统计信息**\n",
    "\n",
    "**如果DataFrame数据类型全都都是object，那么describe方法会展现针对object类型数据的信息**"
   ]
  },
  {
   "cell_type": "code",
   "execution_count": 11,
   "id": "fceecf0c-66d2-4374-8189-56294245eb0a",
   "metadata": {},
   "outputs": [
    {
     "data": {
      "text/html": [
       "<div>\n",
       "<style scoped>\n",
       "    .dataframe tbody tr th:only-of-type {\n",
       "        vertical-align: middle;\n",
       "    }\n",
       "\n",
       "    .dataframe tbody tr th {\n",
       "        vertical-align: top;\n",
       "    }\n",
       "\n",
       "    .dataframe thead th {\n",
       "        text-align: right;\n",
       "    }\n",
       "</style>\n",
       "<table border=\"1\" class=\"dataframe\">\n",
       "  <thead>\n",
       "    <tr style=\"text-align: right;\">\n",
       "      <th></th>\n",
       "      <th>选手1</th>\n",
       "      <th>选手2</th>\n",
       "      <th>选手3</th>\n",
       "      <th>姓名</th>\n",
       "    </tr>\n",
       "  </thead>\n",
       "  <tbody>\n",
       "    <tr>\n",
       "      <th>001</th>\n",
       "      <td>8.5</td>\n",
       "      <td>9.0</td>\n",
       "      <td>8.7</td>\n",
       "      <td>小陈</td>\n",
       "    </tr>\n",
       "    <tr>\n",
       "      <th>002</th>\n",
       "      <td>7.9</td>\n",
       "      <td>8.3</td>\n",
       "      <td>8.1</td>\n",
       "      <td>小李</td>\n",
       "    </tr>\n",
       "    <tr>\n",
       "      <th>003</th>\n",
       "      <td>8.2</td>\n",
       "      <td>8.6</td>\n",
       "      <td>8.4</td>\n",
       "      <td>小王</td>\n",
       "    </tr>\n",
       "    <tr>\n",
       "      <th>004</th>\n",
       "      <td>7.6</td>\n",
       "      <td>7.7</td>\n",
       "      <td>7.9</td>\n",
       "      <td>小张</td>\n",
       "    </tr>\n",
       "    <tr>\n",
       "      <th>005</th>\n",
       "      <td>8.8</td>\n",
       "      <td>8.9</td>\n",
       "      <td>8.6</td>\n",
       "      <td>小赵</td>\n",
       "    </tr>\n",
       "    <tr>\n",
       "      <th>006</th>\n",
       "      <td>7.4</td>\n",
       "      <td>7.8</td>\n",
       "      <td>7.3</td>\n",
       "      <td>小周</td>\n",
       "    </tr>\n",
       "  </tbody>\n",
       "</table>\n",
       "</div>"
      ],
      "text/plain": [
       "     选手1  选手2  选手3  姓名\n",
       "001  8.5  9.0  8.7  小陈\n",
       "002  7.9  8.3  8.1  小李\n",
       "003  8.2  8.6  8.4  小王\n",
       "004  7.6  7.7  7.9  小张\n",
       "005  8.8  8.9  8.6  小赵\n",
       "006  7.4  7.8  7.3  小周"
      ]
     },
     "execution_count": 11,
     "metadata": {},
     "output_type": "execute_result"
    }
   ],
   "source": [
    "df1[\"姓名\"] = [\"小陈\", \"小李\", \"小王\", \"小张\", \"小赵\", \"小周\"]\n",
    "df1"
   ]
  },
  {
   "cell_type": "code",
   "execution_count": 12,
   "id": "0fea9465-5d66-482a-be60-a3c01e87bc5c",
   "metadata": {},
   "outputs": [
    {
     "data": {
      "text/html": [
       "<div>\n",
       "<style scoped>\n",
       "    .dataframe tbody tr th:only-of-type {\n",
       "        vertical-align: middle;\n",
       "    }\n",
       "\n",
       "    .dataframe tbody tr th {\n",
       "        vertical-align: top;\n",
       "    }\n",
       "\n",
       "    .dataframe thead th {\n",
       "        text-align: right;\n",
       "    }\n",
       "</style>\n",
       "<table border=\"1\" class=\"dataframe\">\n",
       "  <thead>\n",
       "    <tr style=\"text-align: right;\">\n",
       "      <th></th>\n",
       "      <th>选手1</th>\n",
       "      <th>选手2</th>\n",
       "      <th>选手3</th>\n",
       "    </tr>\n",
       "  </thead>\n",
       "  <tbody>\n",
       "    <tr>\n",
       "      <th>count</th>\n",
       "      <td>6.000000</td>\n",
       "      <td>6.000000</td>\n",
       "      <td>6.000000</td>\n",
       "    </tr>\n",
       "    <tr>\n",
       "      <th>mean</th>\n",
       "      <td>8.066667</td>\n",
       "      <td>8.383333</td>\n",
       "      <td>8.166667</td>\n",
       "    </tr>\n",
       "    <tr>\n",
       "      <th>std</th>\n",
       "      <td>0.535413</td>\n",
       "      <td>0.549242</td>\n",
       "      <td>0.520256</td>\n",
       "    </tr>\n",
       "    <tr>\n",
       "      <th>min</th>\n",
       "      <td>7.400000</td>\n",
       "      <td>7.700000</td>\n",
       "      <td>7.300000</td>\n",
       "    </tr>\n",
       "    <tr>\n",
       "      <th>25%</th>\n",
       "      <td>7.675000</td>\n",
       "      <td>7.925000</td>\n",
       "      <td>7.950000</td>\n",
       "    </tr>\n",
       "    <tr>\n",
       "      <th>50%</th>\n",
       "      <td>8.050000</td>\n",
       "      <td>8.450000</td>\n",
       "      <td>8.250000</td>\n",
       "    </tr>\n",
       "    <tr>\n",
       "      <th>75%</th>\n",
       "      <td>8.425000</td>\n",
       "      <td>8.825000</td>\n",
       "      <td>8.550000</td>\n",
       "    </tr>\n",
       "    <tr>\n",
       "      <th>max</th>\n",
       "      <td>8.800000</td>\n",
       "      <td>9.000000</td>\n",
       "      <td>8.700000</td>\n",
       "    </tr>\n",
       "  </tbody>\n",
       "</table>\n",
       "</div>"
      ],
      "text/plain": [
       "            选手1       选手2       选手3\n",
       "count  6.000000  6.000000  6.000000\n",
       "mean   8.066667  8.383333  8.166667\n",
       "std    0.535413  0.549242  0.520256\n",
       "min    7.400000  7.700000  7.300000\n",
       "25%    7.675000  7.925000  7.950000\n",
       "50%    8.050000  8.450000  8.250000\n",
       "75%    8.425000  8.825000  8.550000\n",
       "max    8.800000  9.000000  8.700000"
      ]
     },
     "execution_count": 12,
     "metadata": {},
     "output_type": "execute_result"
    }
   ],
   "source": [
    "df1.describe()"
   ]
  },
  {
   "cell_type": "markdown",
   "id": "8fd4ab33-c477-40c8-9da9-0e8f08bd88bc",
   "metadata": {},
   "source": [
    "### 二、apply方法"
   ]
  },
  {
   "cell_type": "markdown",
   "id": "a00ee231-ae97-4df8-966f-546009c259ab",
   "metadata": {},
   "source": [
    "与Series的apply方法类似，DataFrame中也有相同名字的方法。\n",
    "\n",
    "参数接受一个函数，调用后把DataFrame的每列或每行的Series数据，分别作为那个函数的参数，默认对列进行操作。返回的Series里的元素，就是那个函数对原始Series里各列或各行调用后的结果。\n",
    "\n",
    "**apply方法不改变原始DataFrame，而是会返回一个新的DataFrame**"
   ]
  },
  {
   "cell_type": "code",
   "execution_count": 7,
   "id": "07492bb4-e485-4d94-98bd-9952eaf4b48e",
   "metadata": {},
   "outputs": [],
   "source": [
    "# 写出一个函数，去掉选手最高分和最低分后，求平均分\n",
    "def trim_mean(data):\n",
    "    data_len = len(data)\n",
    "    data_sum = data.sum()\n",
    "    max_num = data.max()\n",
    "    min_num = data.min()\n",
    "    return (data_sum - max_num - min_num) / data_len"
   ]
  },
  {
   "cell_type": "code",
   "execution_count": 8,
   "id": "67307fb7-6296-44aa-bbc1-365af4afb468",
   "metadata": {},
   "outputs": [
    {
     "data": {
      "text/plain": [
       "选手1    5.366667\n",
       "选手2    5.600000\n",
       "选手3    5.500000\n",
       "dtype: float64"
      ]
     },
     "execution_count": 8,
     "metadata": {},
     "output_type": "execute_result"
    }
   ],
   "source": [
    "df1.apply(trim_mean)"
   ]
  },
  {
   "cell_type": "code",
   "execution_count": 9,
   "id": "29f452d4-6dfd-40db-b431-43e9b1fa1703",
   "metadata": {},
   "outputs": [
    {
     "data": {
      "text/plain": [
       "001    2.900000\n",
       "002    2.700000\n",
       "003    2.800000\n",
       "004    2.566667\n",
       "005    2.933333\n",
       "006    2.466667\n",
       "dtype: float64"
      ]
     },
     "execution_count": 9,
     "metadata": {},
     "output_type": "execute_result"
    }
   ],
   "source": [
    "df1.apply(trim_mean, axis=1)"
   ]
  },
  {
   "cell_type": "markdown",
   "id": "96907cc3-fe8c-48cc-8b29-d8952b2f3c36",
   "metadata": {},
   "source": [
    "### 三、applymap方法"
   ]
  },
  {
   "cell_type": "markdown",
   "id": "2ef918ee-57c3-4a46-bc08-47ca8305f9c3",
   "metadata": {},
   "source": [
    "**与apply方法区别在于，传给apply的函数，会运用在每列或每行上；而传给applymap的函数，会运用在每一个元素上**\n",
    "\n",
    "**applymap方法不改变原始DataFrame，而是会返回一个新的DataFrame**"
   ]
  },
  {
   "cell_type": "code",
   "execution_count": 5,
   "id": "07de7e00-fd33-4491-89a2-96610d866f6d",
   "metadata": {},
   "outputs": [
    {
     "data": {
      "text/html": [
       "<div>\n",
       "<style scoped>\n",
       "    .dataframe tbody tr th:only-of-type {\n",
       "        vertical-align: middle;\n",
       "    }\n",
       "\n",
       "    .dataframe tbody tr th {\n",
       "        vertical-align: top;\n",
       "    }\n",
       "\n",
       "    .dataframe thead th {\n",
       "        text-align: right;\n",
       "    }\n",
       "</style>\n",
       "<table border=\"1\" class=\"dataframe\">\n",
       "  <thead>\n",
       "    <tr style=\"text-align: right;\">\n",
       "      <th></th>\n",
       "      <th>选手1</th>\n",
       "      <th>选手2</th>\n",
       "      <th>选手3</th>\n",
       "    </tr>\n",
       "  </thead>\n",
       "  <tbody>\n",
       "    <tr>\n",
       "      <th>001</th>\n",
       "      <td>13.5</td>\n",
       "      <td>14.0</td>\n",
       "      <td>13.7</td>\n",
       "    </tr>\n",
       "    <tr>\n",
       "      <th>002</th>\n",
       "      <td>12.9</td>\n",
       "      <td>13.3</td>\n",
       "      <td>13.1</td>\n",
       "    </tr>\n",
       "    <tr>\n",
       "      <th>003</th>\n",
       "      <td>13.2</td>\n",
       "      <td>13.6</td>\n",
       "      <td>13.4</td>\n",
       "    </tr>\n",
       "    <tr>\n",
       "      <th>004</th>\n",
       "      <td>12.6</td>\n",
       "      <td>12.7</td>\n",
       "      <td>12.9</td>\n",
       "    </tr>\n",
       "    <tr>\n",
       "      <th>005</th>\n",
       "      <td>13.8</td>\n",
       "      <td>13.9</td>\n",
       "      <td>13.6</td>\n",
       "    </tr>\n",
       "    <tr>\n",
       "      <th>006</th>\n",
       "      <td>12.4</td>\n",
       "      <td>12.8</td>\n",
       "      <td>12.3</td>\n",
       "    </tr>\n",
       "  </tbody>\n",
       "</table>\n",
       "</div>"
      ],
      "text/plain": [
       "      选手1   选手2   选手3\n",
       "001  13.5  14.0  13.7\n",
       "002  12.9  13.3  13.1\n",
       "003  13.2  13.6  13.4\n",
       "004  12.6  12.7  12.9\n",
       "005  13.8  13.9  13.6\n",
       "006  12.4  12.8  12.3"
      ]
     },
     "execution_count": 5,
     "metadata": {},
     "output_type": "execute_result"
    }
   ],
   "source": [
    "df1.applymap(lambda x: x + 5)"
   ]
  },
  {
   "cell_type": "code",
   "execution_count": null,
   "id": "62fc05ec-dcf4-475f-bcab-09d5574b8957",
   "metadata": {},
   "outputs": [],
   "source": []
  }
 ],
 "metadata": {
  "kernelspec": {
   "display_name": "Python 3 (ipykernel)",
   "language": "python",
   "name": "python3"
  },
  "language_info": {
   "codemirror_mode": {
    "name": "ipython",
    "version": 3
   },
   "file_extension": ".py",
   "mimetype": "text/x-python",
   "name": "python",
   "nbconvert_exporter": "python",
   "pygments_lexer": "ipython3",
   "version": "3.11.1"
  }
 },
 "nbformat": 4,
 "nbformat_minor": 5
}
