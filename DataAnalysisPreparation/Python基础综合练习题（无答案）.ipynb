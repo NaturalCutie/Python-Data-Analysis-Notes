{
 "cells": [
  {
   "cell_type": "markdown",
   "id": "e150dc87",
   "metadata": {},
   "source": [
    "背景：某个电商平台需要计算用户购物车中商品的总价格，并给出打折后的结果。  \n",
    "题目描述：编写一个程序，根据购物车中每个商品的价格列表，计算总价格和打八折后的价格，并打印出来。购物车里商品价格分别为：50, 30, 25, 15, 40。"
   ]
  },
  {
   "cell_type": "code",
   "execution_count": 2,
   "id": "5cb0ae9a",
   "metadata": {},
   "outputs": [
    {
     "name": "stdout",
     "output_type": "stream",
     "text": [
      "\n",
      "原价:160元\n",
      "优惠后:128.0元\n"
     ]
    }
   ],
   "source": [
    "def price_counting(cart):\n",
    "    total_price = 0\n",
    "    for price in cart:\n",
    "        total_price += price\n",
    "    discounted_price = 0.8 * total_price\n",
    "    return total_price, discounted_price\n",
    "\n",
    "\n",
    "result = price_counting([50, 30, 25, 15, 40])\n",
    "print(f\"\"\"\n",
    "原价:{result[0]}元\n",
    "优惠后:{result[1]}元\"\"\")"
   ]
  },
  {
   "cell_type": "markdown",
   "id": "ee684cd2",
   "metadata": {},
   "source": [
    " ---"
   ]
  },
  {
   "cell_type": "markdown",
   "id": "555b97f3",
   "metadata": {},
   "source": [
    "背景：某个学生成绩管理系统需要计算学生的平均成绩和最高分。  \n",
    "题目描述：编写一个程序，根据学生的成绩列表，计算平均成绩和最高分。学生成绩分别为：85, 92, 78, 89, 94。"
   ]
  },
  {
   "cell_type": "code",
   "execution_count": 3,
   "id": "f79c653c",
   "metadata": {},
   "outputs": [
    {
     "name": "stdout",
     "output_type": "stream",
     "text": [
      "学生平均成绩为87.6，最高分为94\n"
     ]
    }
   ],
   "source": [
    "def score_management_system(score_list):\n",
    "    total_score = 0\n",
    "    for score in score_list:\n",
    "        total_score += score\n",
    "    avg_score = total_score/len(score_list)\n",
    "    max_score = max(score_list)\n",
    "    print(f\"学生平均成绩为{avg_score}，最高分为{max_score}\")\n",
    "\n",
    "\n",
    "score_management_system([85, 92, 78, 89, 94])"
   ]
  },
  {
   "cell_type": "markdown",
   "id": "c0655732",
   "metadata": {},
   "source": [
    " ---"
   ]
  },
  {
   "cell_type": "markdown",
   "id": "2bbae1f6",
   "metadata": {},
   "source": [
    "背景：某商场正在举行打折促销活动，现需要编写一个程序来计算顾客购买商品的实际支付金额。\n",
    "题目描述：编写一个程序，输入商品的原价和折扣（以百分比表示），计算并输出顾客需要支付的金额。  \n",
    "提示：折后价 = 原价 × (1 - 折扣百分比/100）  \n",
    "示例：\n",
    "> 请输入商品的原价：300  \n",
    "请输入折扣（以百分比表示）：20  \n",
    "顾客需要支付的金额为： 240.0  "
   ]
  },
  {
   "cell_type": "code",
   "execution_count": 7,
   "id": "977e9511",
   "metadata": {},
   "outputs": [
    {
     "name": "stdin",
     "output_type": "stream",
     "text": [
      "请输入商品的原价： 100\n",
      "请输入折扣（以百分比表示）： 10\n"
     ]
    },
    {
     "name": "stdout",
     "output_type": "stream",
     "text": [
      "顾客需要支付的金额为：90.0\n"
     ]
    }
   ],
   "source": [
    "original_price = float(input(\"请输入商品的原价：\"))\n",
    "discount = float(input(\"请输入折扣（以百分比表示）：\"))\n",
    "price_after_discount = original_price * (1 - discount / 100)\n",
    "print(f\"顾客需要支付的金额为：{price_after_discount}\")"
   ]
  },
  {
   "cell_type": "markdown",
   "id": "88fd0163",
   "metadata": {},
   "source": [
    " ---"
   ]
  },
  {
   "cell_type": "markdown",
   "id": "c1eda999",
   "metadata": {},
   "source": [
    "背景：为了提高公司员工的工作积极性，公司决定给每位员工根据其工作表现发放奖金。  \n",
    "题目描述：编写一个程序，输入员工的工作评分（以整数表示），根据评分计算并输出员工应获得的奖金金额。其中评分高于或等于90，奖金为500。评分高于或等于80，奖金为300。评分高于或等于70，奖金为100。低于70，奖金为0。  \n",
    "示例：\n",
    "> 请输入员工的工作评分：82  \n",
    "员工应获得的奖金金额为： 300"
   ]
  },
  {
   "cell_type": "code",
   "execution_count": 10,
   "id": "278ade01",
   "metadata": {},
   "outputs": [
    {
     "name": "stdin",
     "output_type": "stream",
     "text": [
      "请输入员工的工作评分（以整数表示）： 100\n"
     ]
    },
    {
     "name": "stdout",
     "output_type": "stream",
     "text": [
      "员工应获得的奖金金额为：500\n"
     ]
    }
   ],
   "source": [
    "work_score = int(input(\"请输入员工的工作评分（以整数表示）：\"))\n",
    "if work_score >= 90:\n",
    "    bonus = 500\n",
    "elif work_score >= 80:\n",
    "    bonus = 300\n",
    "elif work_score >= 70:\n",
    "    bonus = 100\n",
    "else:\n",
    "    bonus = 0\n",
    "print(f\"员工应获得的奖金金额为：{bonus}\")"
   ]
  },
  {
   "cell_type": "markdown",
   "id": "e07520b2",
   "metadata": {},
   "source": [
    " ----"
   ]
  },
  {
   "cell_type": "markdown",
   "id": "5df5ad0d",
   "metadata": {},
   "source": [
    "背景：某个游戏需要判断玩家是否具备升级的条件。  \n",
    "题目描述：编写一个程序，用户输入玩家等级和金币数量，以此判断玩家的等级是否达到升级的要求。如果玩家等级大于等于50级且拥有至少10000金币，可以进行升级，否则则不行。  \n",
    "示例：\n",
    "> 请输入玩家等级：35  \n",
    "请输入玩家金币数量：12005  \n",
    "不符合升级条件"
   ]
  },
  {
   "cell_type": "code",
   "execution_count": 14,
   "id": "6cb5b357",
   "metadata": {},
   "outputs": [
    {
     "name": "stdin",
     "output_type": "stream",
     "text": [
      "请输入玩家等级： 50\n",
      "请输入玩家金币数量： 10000\n"
     ]
    },
    {
     "name": "stdout",
     "output_type": "stream",
     "text": [
      "符合升级条件\n"
     ]
    }
   ],
   "source": [
    "level = int(input(\"请输入玩家等级：\"))\n",
    "coin = int(input(\"请输入玩家金币数量：\"))\n",
    "if level >= 50 and coin >= 10000:\n",
    "    print(\"符合升级条件\")\n",
    "else:\n",
    "    print(\"不符合升级条件\")"
   ]
  },
  {
   "cell_type": "markdown",
   "id": "8f372175",
   "metadata": {},
   "source": [
    " ----"
   ]
  },
  {
   "cell_type": "markdown",
   "id": "fb716224",
   "metadata": {},
   "source": [
    "背景：某个系统为了提高安全性，要求用户输入的验证码必须是正确的。  \n",
    "题目描述：编写一个程序，自定义一个4位数的验证码，然后接收用户的输入，判断用户输入的验证码是否正确。如果用户输入的验证码与系统生成的验证码一致，则输出验证通过。  \n",
    "示例：  \n",
    "假如系统内储存的验证码是1234，\n",
    "> 请输入验证码：1234  \n",
    "验证通过"
   ]
  },
  {
   "cell_type": "code",
   "execution_count": 34,
   "id": "4d5c22e2",
   "metadata": {},
   "outputs": [
    {
     "name": "stdin",
     "output_type": "stream",
     "text": [
      "请输入验证码： 7778\n"
     ]
    },
    {
     "name": "stdout",
     "output_type": "stream",
     "text": [
      "验证不通过\n"
     ]
    }
   ],
   "source": [
    "verification_code = 7777\n",
    "user_input = int(input(\"请输入验证码：\"))\n",
    "if user_input == verification_code:\n",
    "    print(\"验证通过\")\n",
    "else:\n",
    "    print(\"验证不通过\")"
   ]
  },
  {
   "cell_type": "markdown",
   "id": "62f65f4e",
   "metadata": {},
   "source": [
    " ----"
   ]
  },
  {
   "cell_type": "markdown",
   "id": "20e29890",
   "metadata": {},
   "source": [
    "背景：某个游戏中，玩家需要通过回答问题来获得奖励。  \n",
    "题目描述：编写一个程序，根据问题字典，判断玩家回答的问题是否正确。如果玩家同时回答了所有问题且答案全部正确，则给予奖励。  \n",
    "问题字典的例子：\n",
    "```python\n",
    "questions = {\n",
    "    \"1. 2+2等于几？\": \"4\",\n",
    "    \"2. 地球是圆还是扁？\": \"圆\",\n",
    "    \"3. 西瓜是蔬菜还是水果？\": \"水果\"\n",
    "}\n",
    "```\n",
    "示例：\n",
    "> 1. 2+2等于几？4  \n",
    "2. 地球是圆还是扁？圆  \n",
    "3. 西瓜是蔬菜还是水果？水果  \n",
    "回答正确，给予奖励"
   ]
  },
  {
   "cell_type": "code",
   "execution_count": 38,
   "id": "4a4b997e",
   "metadata": {},
   "outputs": [
    {
     "name": "stdin",
     "output_type": "stream",
     "text": [
      "1. 2+2等于几？ 4\n",
      "2. 地球是圆还是扁？ 圆\n",
      "3. 西瓜是蔬菜还是水果？ 水果\n"
     ]
    },
    {
     "name": "stdout",
     "output_type": "stream",
     "text": [
      "奖励\n"
     ]
    }
   ],
   "source": [
    "questions = {\n",
    "    \"1. 2+2等于几？\": \"4\",\n",
    "    \"2. 地球是圆还是扁？\": \"圆\",\n",
    "    \"3. 西瓜是蔬菜还是水果？\": \"水果\"\n",
    "}\n",
    "\n",
    "i = 0\n",
    "for cor_q, cor_a in questions.items():\n",
    "    a = input(cor_q)\n",
    "    if a == cor_a:\n",
    "        i += 1\n",
    "\n",
    "if i == 3:\n",
    "    print(\"奖励\")\n",
    "else:\n",
    "    print(\"惩罚\")"
   ]
  },
  {
   "cell_type": "markdown",
   "id": "7c3c1c7e",
   "metadata": {},
   "source": [
    " ----"
   ]
  },
  {
   "cell_type": "markdown",
   "id": "f357a3c0",
   "metadata": {},
   "source": [
    "背景：某个餐厅需要统计每天就餐人数并计算平均每桌就餐人数。  \n",
    "题目描述：编写一个程序，输入每桌就餐人数，统计总就餐人数和平均每桌就餐人数，直到输入-1结束统计。  \n",
    "示例：\n",
    "> 请输入每桌就餐人数（输入-1结束统计）：2  \n",
    "请输入每桌就餐人数（输入-1结束统计）：5  \n",
    "请输入每桌就餐人数（输入-1结束统计）：3  \n",
    "请输入每桌就餐人数（输入-1结束统计）：4  \n",
    "请输入每桌就餐人数（输入-1结束统计）：2  \n",
    "请输入每桌就餐人数（输入-1结束统计）：4  \n",
    "请输入每桌就餐人数（输入-1结束统计）：-1  \n",
    "总就餐人数： 20  \n",
    "平均每桌就餐人数： 3.3333333333333335"
   ]
  },
  {
   "cell_type": "code",
   "execution_count": 25,
   "id": "e17bfcc2",
   "metadata": {},
   "outputs": [
    {
     "name": "stdin",
     "output_type": "stream",
     "text": [
      "请输入每桌就餐人数（输入-1结束统计）： 1\n",
      "请输入每桌就餐人数（输入-1结束统计）： 2\n",
      "请输入每桌就餐人数（输入-1结束统计）： 3\n",
      "请输入每桌就餐人数（输入-1结束统计）： -1\n"
     ]
    },
    {
     "name": "stdout",
     "output_type": "stream",
     "text": [
      "\n",
      "总就餐人数：6\n",
      "平均每桌就餐人数： 2.0\n",
      "\n"
     ]
    }
   ],
   "source": [
    "total = 0\n",
    "i = 0\n",
    "num = input(\"请输入每桌就餐人数（输入-1结束统计）：\")\n",
    "while num != \"-1\":\n",
    "    total += int(num)\n",
    "    i += 1\n",
    "    num = input(\"请输入每桌就餐人数（输入-1结束统计）：\")\n",
    "if i == 0:\n",
    "    avg = 0\n",
    "else:\n",
    "    avg = total / i\n",
    "print(f\"\"\"\n",
    "总就餐人数：{total}\n",
    "平均每桌就餐人数： {avg:.1f}\n",
    "\"\"\")"
   ]
  },
  {
   "cell_type": "markdown",
   "id": "99dc4289",
   "metadata": {},
   "source": [
    " ----"
   ]
  },
  {
   "cell_type": "markdown",
   "id": "e122c3f2",
   "metadata": {},
   "source": [
    "背景：某个音乐播放器需要循环播放指定的歌曲列表。  \n",
    "题目描述：编写一个程序，当用户输入“下一首”时，按照顺序循环播放歌曲列表，直到用户输入“停止”，表明要求停止播放。  \n",
    "歌曲列表的例子：\n",
    "```python\n",
    "songs = [\"歌曲1\", \"歌曲2\", \"歌曲3\"]\n",
    "```\n",
    "示例：\n",
    "> 正在播放歌曲： 歌曲1  \n",
    "输入'下一首'播放下一首歌曲，输入'停止'停止播放：下一首  \n",
    "正在播放歌曲： 歌曲2  \n",
    "输入'下一首'播放下一首歌曲，输入'停止'停止播放：下一首  \n",
    "正在播放歌曲： 歌曲3  \n",
    "输入'下一首'播放下一首歌曲，输入'停止'停止播放：下一首  \n",
    "正在播放歌曲： 歌曲1  \n",
    "输入'下一首'播放下一首歌曲，输入'停止'停止播放：下一首  \n",
    "正在播放歌曲： 歌曲2  \n",
    "输入'下一首'播放下一首歌曲，输入'停止'停止播放：-  \n",
    "正在播放歌曲： 歌曲2  \n",
    "输入'下一首'播放下一首歌曲，输入'停止'停止播放：-  \n",
    "正在播放歌曲： 歌曲2  \n",
    "输入'下一首'播放下一首歌曲，输入'停止'停止播放：下一首  \n",
    "正在播放歌曲： 歌曲3  \n",
    "输入'下一首'播放下一首歌曲，输入'停止'停止播放：停止"
   ]
  },
  {
   "cell_type": "code",
   "execution_count": 42,
   "id": "3b364909",
   "metadata": {},
   "outputs": [
    {
     "name": "stdout",
     "output_type": "stream",
     "text": [
      "正在播放歌曲：歌曲1\n"
     ]
    },
    {
     "name": "stdin",
     "output_type": "stream",
     "text": [
      "输入'下一首'播放下一首歌曲，输入'停止'停止播放： 下一首\n"
     ]
    },
    {
     "name": "stdout",
     "output_type": "stream",
     "text": [
      "正在播放歌曲：歌曲2\n"
     ]
    },
    {
     "name": "stdin",
     "output_type": "stream",
     "text": [
      "输入'下一首'播放下一首歌曲，输入'停止'停止播放： 下一首\n"
     ]
    },
    {
     "name": "stdout",
     "output_type": "stream",
     "text": [
      "正在播放歌曲：歌曲3\n"
     ]
    },
    {
     "name": "stdin",
     "output_type": "stream",
     "text": [
      "输入'下一首'播放下一首歌曲，输入'停止'停止播放： 下一首\n"
     ]
    },
    {
     "name": "stdout",
     "output_type": "stream",
     "text": [
      "正在播放歌曲：歌曲1\n"
     ]
    },
    {
     "name": "stdin",
     "output_type": "stream",
     "text": [
      "输入'下一首'播放下一首歌曲，输入'停止'停止播放： 下一首\n"
     ]
    },
    {
     "name": "stdout",
     "output_type": "stream",
     "text": [
      "正在播放歌曲：歌曲2\n"
     ]
    },
    {
     "name": "stdin",
     "output_type": "stream",
     "text": [
      "输入'下一首'播放下一首歌曲，输入'停止'停止播放： -\n"
     ]
    },
    {
     "name": "stdout",
     "output_type": "stream",
     "text": [
      "正在播放歌曲：歌曲2\n"
     ]
    },
    {
     "name": "stdin",
     "output_type": "stream",
     "text": [
      "输入'下一首'播放下一首歌曲，输入'停止'停止播放： 停止\n"
     ]
    }
   ],
   "source": [
    "songs = [\"歌曲1\", \"歌曲2\", \"歌曲3\"]\n",
    "i = 0\n",
    "\n",
    "while True:\n",
    "    print(f\"正在播放歌曲：{songs[i]}\")\n",
    "    operation = input(\"输入'下一首'播放下一首歌曲，输入'停止'停止播放：\")\n",
    "    if operation == \"下一首\":\n",
    "        i = (i + 1) % len(songs)\n",
    "    elif operation == \"停止\":\n",
    "        break"
   ]
  },
  {
   "cell_type": "markdown",
   "id": "1b6c24bf",
   "metadata": {},
   "source": [
    " ----"
   ]
  },
  {
   "cell_type": "markdown",
   "id": "5397690f",
   "metadata": {},
   "source": [
    "背景：某个学校需要统计每个班级的学生人数并计算总学生人数。  \n",
    "题目描述：编写一个程序，先询问所有班级的数量，然后让用户输入各个班级的学生人数，从而统计所有班级的总学生人数。  \n",
    "示例：\n",
    "> 请输入班级数量：5  \n",
    "请输入第 1 个班级的学生人数：39  \n",
    "请输入第 2 个班级的学生人数：42  \n",
    "请输入第 3 个班级的学生人数：41  \n",
    "请输入第 4 个班级的学生人数：40  \n",
    "请输入第 5 个班级的学生人数：42  \n",
    "总学生人数： 204"
   ]
  },
  {
   "cell_type": "code",
   "execution_count": 39,
   "id": "eca716c4",
   "metadata": {},
   "outputs": [
    {
     "name": "stdin",
     "output_type": "stream",
     "text": [
      "请输入班级数量： 1\n",
      "请输入第 1 个班级的学生人数： 1\n"
     ]
    },
    {
     "name": "stdout",
     "output_type": "stream",
     "text": [
      "总学生人数：1\n"
     ]
    }
   ],
   "source": [
    "class_num = int(input(\"请输入班级数量：\"))\n",
    "i = class_num\n",
    "total = 0\n",
    "\n",
    "while class_num != 0:\n",
    "    student_num = int(input(f\"请输入第 {i - class_num + 1} 个班级的学生人数：\"))\n",
    "    class_num -= 1\n",
    "    total += student_num\n",
    "    \n",
    "print(f\"总学生人数：{total}\")"
   ]
  },
  {
   "cell_type": "markdown",
   "id": "8c7cba67",
   "metadata": {},
   "source": [
    " ----"
   ]
  },
  {
   "cell_type": "markdown",
   "id": "173b8945",
   "metadata": {},
   "source": [
    "背景：某个学生管理系统需要将学生信息保存到文件中。  \n",
    "题目描述：编写一个程序，用户可以在输入一个学生的姓名和年龄，将其保存到一个文本文件中。\n",
    "示例：\n",
    "> 请输入学生姓名：粒粒  \n",
    "请输入学生年龄：5  \n",
    "学生信息已保存到文件。"
   ]
  },
  {
   "cell_type": "code",
   "execution_count": 9,
   "id": "7397e27f",
   "metadata": {},
   "outputs": [
    {
     "name": "stdin",
     "output_type": "stream",
     "text": [
      "请输入学生姓名： 一夫\n",
      "请输入学生年龄： 25\n"
     ]
    },
    {
     "name": "stdout",
     "output_type": "stream",
     "text": [
      "学生信息已保存到文件。\n"
     ]
    }
   ],
   "source": [
    "name = input(\"请输入学生姓名：\")\n",
    "age = input(\"请输入学生年龄：\")\n",
    "with open(\"stu_info.txt\", \"w\", encoding=\"utf-8\") as f:\n",
    "    f.write(f\"学生姓名:{name},\\n学生年龄：{age}。\")\n",
    "    print(\"学生信息已保存到文件。\")"
   ]
  },
  {
   "cell_type": "markdown",
   "id": "ba8ee505",
   "metadata": {},
   "source": [
    "背景：某个日志系统需要将用户的操作记录保存到日志文件中。  \n",
    "题目描述：编写一个程序，输入用户的操作记录，将其保存到一个日志文件中（每条记录占一行）。  \n",
    "示例：\n",
    "> 请输入操作记录：打开文件  \n",
    "操作记录已保存到日志文件。"
   ]
  },
  {
   "cell_type": "code",
   "execution_count": 17,
   "id": "0718d09c",
   "metadata": {},
   "outputs": [
    {
     "name": "stdin",
     "output_type": "stream",
     "text": [
      "请输入操作记录： save\n"
     ]
    },
    {
     "name": "stdout",
     "output_type": "stream",
     "text": [
      "操作记录已保存到日志文件。\n"
     ]
    }
   ],
   "source": [
    "operation_record = input(\"请输入操作记录：\") \n",
    "with open(\"operation_record.txt\", \"a\", encoding=\"utf-8\") as f:\n",
    "    f.write(f\"{operation_record}\\n\")\n",
    "    print(\"操作记录已保存到日志文件。\")"
   ]
  },
  {
   "cell_type": "markdown",
   "id": "06680ed9",
   "metadata": {},
   "source": [
    " ----"
   ]
  },
  {
   "cell_type": "markdown",
   "id": "965043d7",
   "metadata": {},
   "source": [
    "背景：某个日程管理系统需要读取用户的日程安排。  \n",
    "题目描述：编写一个程序，读取名为\"schedules.txt\"的文本文件，逐行打印出其中的日程安排。"
   ]
  },
  {
   "cell_type": "code",
   "execution_count": 16,
   "id": "c866dad1",
   "metadata": {},
   "outputs": [
    {
     "name": "stdout",
     "output_type": "stream",
     "text": [
      "8.25 科研\n",
      "\n",
      "8.26 科研\n",
      "\n",
      "8.27 玩耍\n"
     ]
    }
   ],
   "source": [
    "with open(\"schedules.txt\", \"r\", encoding=\"utf-8\") as f:\n",
    "    for line in f.readlines():\n",
    "        print(line)"
   ]
  },
  {
   "cell_type": "markdown",
   "id": "a28b7e4a",
   "metadata": {},
   "source": [
    " ----"
   ]
  },
  {
   "cell_type": "markdown",
   "id": "a3b37186",
   "metadata": {},
   "source": [
    "背景：某个计算器程序需要处理除零错误。  \n",
    "题目描述：编写一个程序，输入两个数进行除法运算，如果除数为零，则捕获异常并输出错误提示。\n",
    "示例一：\n",
    "> 请输入被除数：5  \n",
    "请输入除数：8  \n",
    "结果： 0.625\n",
    "\n",
    "示例二：\n",
    "> 请输入被除数：23  \n",
    "请输入除数：0  \n",
    "除数不能为零"
   ]
  },
  {
   "cell_type": "code",
   "execution_count": 40,
   "id": "6dcc918a",
   "metadata": {},
   "outputs": [
    {
     "name": "stdin",
     "output_type": "stream",
     "text": [
      "请输入被除数： 5\n",
      "请输入除数： 3\n"
     ]
    },
    {
     "name": "stdout",
     "output_type": "stream",
     "text": [
      "结果：1.67\n"
     ]
    }
   ],
   "source": [
    "try:\n",
    "    dividend = float(input(\"请输入被除数：\"))\n",
    "    divisor = float(input(\"请输入除数：\"))\n",
    "    result = dividend / divisor\n",
    "except ZeroDivisionError:\n",
    "    print(\"除数不能为零\")\n",
    "else:\n",
    "    print(f\"结果：{result:.2f}\")"
   ]
  },
  {
   "cell_type": "markdown",
   "id": "7ec1bc59",
   "metadata": {},
   "source": [
    " ----"
   ]
  },
  {
   "cell_type": "markdown",
   "id": "24c7ffea",
   "metadata": {},
   "source": [
    "背景：某个文件读取程序需要处理文件不存在的情况。  \n",
    "题目描述：编写一个程序，读取名为\"data.txt\"的文件内容，如果文件不存在，则捕获异常并输出错误提示：“文件不存在，请检查文件名”。"
   ]
  },
  {
   "cell_type": "code",
   "execution_count": 22,
   "id": "6ee51235",
   "metadata": {},
   "outputs": [
    {
     "name": "stdout",
     "output_type": "stream",
     "text": [
      "文件不存在，请检查文件名\n"
     ]
    }
   ],
   "source": [
    "try:\n",
    "    f = open(\"data.txt\", \"r\", encoding=\"utf-8\")\n",
    "    f.close()\n",
    "except FileNotFoundError:\n",
    "    print(\"文件不存在，请检查文件名\")"
   ]
  },
  {
   "cell_type": "markdown",
   "id": "95fe8117",
   "metadata": {},
   "source": [
    " ----"
   ]
  },
  {
   "cell_type": "markdown",
   "id": "51e32c06",
   "metadata": {},
   "source": [
    "背景：某个图书管理系统需要管理图书馆中的书籍信息。  \n",
    "题目描述：创建一个Book类，包含图书的属性（书名 `title`、作者 `author`、出版年份 `year`）和方法（展示图书信息 `display_info`，用于打印所有属性的信息）。然后再创建一个Book类的实例，并调用`display_info`方法，来打印该书籍的信息。"
   ]
  },
  {
   "cell_type": "code",
   "execution_count": 24,
   "id": "b4236014",
   "metadata": {},
   "outputs": [
    {
     "name": "stdout",
     "output_type": "stream",
     "text": [
      "图书：The Art of Love\n",
      "作者：Erich Fromm\n",
      "出版年份：1956\n"
     ]
    }
   ],
   "source": [
    "class Book:\n",
    "    def __init__(self, title, author, year):\n",
    "        self.title = title\n",
    "        self.author = author\n",
    "        self.year = year\n",
    "        \n",
    "    def display_info(self):\n",
    "        print(f\"图书：{self.title}\\n作者：{self.author}\\n出版年份：{self.year}\")\n",
    "\n",
    "\n",
    "the_art_of_love = Book(\"The Art of Love\", \"Erich Fromm\", 1956)\n",
    "the_art_of_love.display_info()"
   ]
  },
  {
   "cell_type": "markdown",
   "id": "910431ee",
   "metadata": {},
   "source": [
    " ----"
   ]
  },
  {
   "cell_type": "markdown",
   "id": "1f49743c",
   "metadata": {},
   "source": [
    "背景：某个几何图形计算程序需要计算圆的相关信息。  \n",
    "题目描述：设计一个Circle类，包含圆的属性（半径 `radius`）和方法（计算周长和面积 `calculate_circumference` 和 `calculate_area`）。然后再创建一个Circle类的实例，并调用方法分别计算周长和面积，并进行打印。"
   ]
  },
  {
   "cell_type": "code",
   "execution_count": 26,
   "id": "3a7a5392",
   "metadata": {},
   "outputs": [
    {
     "name": "stdout",
     "output_type": "stream",
     "text": [
      "圆的周长:37.68\n",
      "圆的面积:113.04\n"
     ]
    }
   ],
   "source": [
    "class Circle:\n",
    "    def __init__(self, radius):\n",
    "        self.radius = radius\n",
    "        \n",
    "    def calculate_circumference(self):\n",
    "        circumference = 2 * 3.14 * self.radius\n",
    "        print(f\"圆的周长:{circumference}\")\n",
    "        \n",
    "    def calculate_area(self):\n",
    "        area = 3.14 * self.radius ** 2\n",
    "        print(f\"圆的面积:{area}\")\n",
    "\n",
    "\n",
    "c1 = Circle(6)\n",
    "c1.calculate_circumference()\n",
    "c1.calculate_area()"
   ]
  },
  {
   "cell_type": "markdown",
   "id": "31c74a36",
   "metadata": {},
   "source": [
    " ----"
   ]
  },
  {
   "cell_type": "markdown",
   "id": "f7f27165",
   "metadata": {},
   "source": [
    "背景：某个矩形计算程序需要计算矩形的相关信息。  \n",
    "题目描述：设计一个Rectangle类，包含矩形的属性（长 `length` 和宽 `width`）和方法（计算周长和面积 `calculate_perimeter` 和 `calculate_area`）。设计一个Rectangle类，并调用方法分别计算周长和面积，并进行打印。"
   ]
  },
  {
   "cell_type": "code",
   "execution_count": 41,
   "id": "863f74bd",
   "metadata": {},
   "outputs": [
    {
     "name": "stdout",
     "output_type": "stream",
     "text": [
      "矩形的周长:30\n",
      "矩形的面积:56\n"
     ]
    }
   ],
   "source": [
    "class Rectangle:\n",
    "    def __init__(self, length, width):\n",
    "        self.length = length\n",
    "        self.width = width\n",
    "        \n",
    "    def calculate_perimeter(self):\n",
    "        perimeter = 2 * self.length + 2 * self.width\n",
    "        print(f\"矩形的周长:{perimeter}\")\n",
    "        \n",
    "    def calculate_area(self):\n",
    "        area = self.length * self.width\n",
    "        print(f\"矩形的面积:{area}\")\n",
    "\n",
    "\n",
    "r1 = Rectangle(7, 8)\n",
    "r1.calculate_perimeter()\n",
    "r1.calculate_area()"
   ]
  },
  {
   "cell_type": "markdown",
   "id": "2505417f",
   "metadata": {},
   "source": [
    " ----"
   ]
  },
  {
   "cell_type": "markdown",
   "id": "9bc6a8d0",
   "metadata": {},
   "source": [
    "背景：某个公司的员工分为正式员工和临时员工。  \n",
    "题目描述：设计一个Employee类作为父类，包含员工的基本属性（姓名 `name`、工号 `emp_id`）和方法（展示员工信息，即姓名和工号 `display_info`）。然后设计一个RegularEmployee类和一个TemporaryEmployee类，分别继承自Employee类，但它们各自有额外的属性和方法。具体来说，RegularEmployee的员工有部门属性 `department`，TemporaryEmployee的员工有项目属性 `project`，并且它们各自的`display_info`方法也会把独有的部门或项目信息打印出来。"
   ]
  },
  {
   "cell_type": "code",
   "execution_count": 32,
   "id": "c3ba4c8f",
   "metadata": {},
   "outputs": [
    {
     "name": "stdout",
     "output_type": "stream",
     "text": [
      "员工:小郑,\n",
      "工号:2978\n",
      "部门：EO部门\n",
      "\n",
      "员工:小曾,\n",
      "工号:2979\n",
      "项目：轮值秘书\n",
      "\n"
     ]
    }
   ],
   "source": [
    "class Employee:\n",
    "    def __init__(self, name, emp_id):\n",
    "        self.name = name\n",
    "        self.emp_id = emp_id\n",
    "        \n",
    "    def display_info(self):\n",
    "        print(f\"\"\"员工:{self.name},\n",
    "工号:{self.emp_id}\"\"\")\n",
    "\n",
    "\n",
    "class RegularEmployee(Employee):\n",
    "    def __init__(self, name, emp_id, department):\n",
    "        super().__init__(name, emp_id)\n",
    "        self.department = department\n",
    "\n",
    "    def display_info(self):\n",
    "        super().display_info()\n",
    "        print(f\"部门：{self.department}\\n\")\n",
    "\n",
    "\n",
    "class TemporaryEmployee(Employee):\n",
    "    def __init__(self, name, emp_id, project):\n",
    "        super().__init__(name, emp_id)\n",
    "        self.project = project\n",
    "\n",
    "    def display_info(self):\n",
    "        super().display_info()\n",
    "        print(f\"项目：{self.project}\\n\")\n",
    "\n",
    "\n",
    "zheng = RegularEmployee(\"小郑\", \"2978\", \"EO部门\")\n",
    "zeng = TemporaryEmployee(\"小曾\", \"2979\", \"轮值秘书\")\n",
    "zheng.display_info()\n",
    "zeng.display_info()"
   ]
  },
  {
   "cell_type": "code",
   "execution_count": null,
   "id": "783c64a7-c324-4aa4-b3ec-d3c6b6c184fe",
   "metadata": {},
   "outputs": [],
   "source": []
  }
 ],
 "metadata": {
  "kernelspec": {
   "display_name": "Python 3 (ipykernel)",
   "language": "python",
   "name": "python3"
  },
  "language_info": {
   "codemirror_mode": {
    "name": "ipython",
    "version": 3
   },
   "file_extension": ".py",
   "mimetype": "text/x-python",
   "name": "python",
   "nbconvert_exporter": "python",
   "pygments_lexer": "ipython3",
   "version": "3.11.1"
  }
 },
 "nbformat": 4,
 "nbformat_minor": 5
}
