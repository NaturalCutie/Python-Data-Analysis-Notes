{
 "cells": [
  {
   "cell_type": "markdown",
   "id": "756b7cc8-acf0-4fd5-8a1d-bd1ee3b62a41",
   "metadata": {},
   "source": [
    "### 三级标题"
   ]
  },
  {
   "cell_type": "markdown",
   "id": "09499706-d1ef-452e-b14a-8d74f0496b6f",
   "metadata": {},
   "source": [
    "**粗体字**"
   ]
  },
  {
   "cell_type": "markdown",
   "id": "b34b43ab-c9e0-4a85-a454-3a1a8a7d6ed7",
   "metadata": {},
   "source": [
    "# 一级标题\n",
    "#### 四级标题"
   ]
  },
  {
   "cell_type": "markdown",
   "id": "dc1f68ea-44f5-4381-b12b-7f16c7f37f81",
   "metadata": {},
   "source": [
    "**加粗**  \n",
    "*斜体*  \n",
    "~~删除线~~"
   ]
  },
  {
   "cell_type": "markdown",
   "id": "03050d9c-2230-4f9b-b16d-48ec9e7014fc",
   "metadata": {},
   "source": [
    "- 无序列表\n",
    "- 无序列表\n",
    "- 无序列表"
   ]
  },
  {
   "cell_type": "markdown",
   "id": "c67e558c-fd05-434f-94db-e896cefb17f7",
   "metadata": {},
   "source": [
    "1. 有序列表1\n",
    "2. 有序列表2\n",
    "3. 有序列表3"
   ]
  },
  {
   "cell_type": "markdown",
   "id": "9c1e6a32-b3ee-474f-8cf5-c0bd394c3ae3",
   "metadata": {},
   "source": [
    "https://cn.bing.com/  \n",
    "[必应](https://cn.bing.com/)"
   ]
  },
  {
   "cell_type": "markdown",
   "id": "0b64ec24-43c0-4173-a7dd-d26f796bfe98",
   "metadata": {},
   "source": [
    "![城市景观](https://img0.baidu.com/it/u=25183460,870873689&fm=253)"
   ]
  },
  {
   "cell_type": "markdown",
   "id": "9962bb84-375e-40d1-bb3f-06c76ac8ad99",
   "metadata": {},
   "source": [
    "> 蒹葭苍苍  \n",
    "白露为霜"
   ]
  },
  {
   "cell_type": "markdown",
   "id": "3a7476e1-fa24-462a-aff3-fbbc74ab33f9",
   "metadata": {},
   "source": [
    "插入代码 `import math`"
   ]
  },
  {
   "cell_type": "markdown",
   "id": "b4c1b80c-e45c-4241-b78d-71be800a43cc",
   "metadata": {},
   "source": [
    "```python\r\n",
    "import math\r\n",
    "print(\"Hello World!\")\r\n",
    "print(math.pi)\r\n",
    "```"
   ]
  },
  {
   "cell_type": "markdown",
   "id": "8e4e98e8-94b3-4db2-a383-36aa3f86990d",
   "metadata": {},
   "source": [
    "$$x + y$$\r\n",
    "$$x - y$$\r\n",
    "$$x \\times y$$\r\n",
    "$$x \\div y$$"
   ]
  },
  {
   "cell_type": "markdown",
   "id": "65776528-5f8e-41c1-b071-4435ea02a997",
   "metadata": {},
   "source": [
    "$$x^3$$\r\n",
    "$$H_2O$$\r\n",
    "$$S_{input}$$"
   ]
  },
  {
   "cell_type": "markdown",
   "id": "dd4ac9a1-1ab0-4e40-a6fc-07d658786012",
   "metadata": {},
   "source": [
    "$$\\sum(x^2 + y^2)$$\r\n",
    "$$\\sqrt[3]x$$\r\n",
    "$$\\sqrt[3]{a^2m^2}$$"
   ]
  },
  {
   "cell_type": "markdown",
   "id": "dd734be3-bf33-4a64-a6be-9215cb4aaafc",
   "metadata": {},
   "source": [
    "$$\\frac{x+y}{x-y}$$"
   ]
  },
  {
   "cell_type": "markdown",
   "id": "a7816dbe-6a60-471f-8375-e3830c40da76",
   "metadata": {},
   "source": [
    "$$\\alpha\\beta\\gamma$$"
   ]
  },
  {
   "cell_type": "markdown",
   "id": "d9f9d8b2-0d11-4240-8671-19d0fcf570bc",
   "metadata": {},
   "source": []
  },
  {
   "cell_type": "markdown",
   "id": "3814fcfd-2c50-403c-8ed5-09b9377669b5",
   "metadata": {},
   "source": []
  },
  {
   "cell_type": "markdown",
   "id": "bcf1d475-9c5b-4f70-b24c-46db363ea0e9",
   "metadata": {},
   "source": []
  },
  {
   "cell_type": "markdown",
   "id": "d957f787-51a3-4eb7-8472-254f2938e5e0",
   "metadata": {},
   "source": []
  },
  {
   "cell_type": "markdown",
   "id": "714a1b73-ea66-4483-bc81-e2b8694dc96c",
   "metadata": {},
   "source": []
  }
 ],
 "metadata": {
  "kernelspec": {
   "display_name": "Python 3 (ipykernel)",
   "language": "python",
   "name": "python3"
  },
  "language_info": {
   "codemirror_mode": {
    "name": "ipython",
    "version": 3
   },
   "file_extension": ".py",
   "mimetype": "text/x-python",
   "name": "python",
   "nbconvert_exporter": "python",
   "pygments_lexer": "ipython3",
   "version": "3.11.1"
  }
 },
 "nbformat": 4,
 "nbformat_minor": 5
}
