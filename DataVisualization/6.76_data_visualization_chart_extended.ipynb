{
 "cells": [
  {
   "cell_type": "markdown",
   "id": "ba058e3f-14c8-473d-86d2-5c8a2fbbdf2d",
   "metadata": {},
   "source": [
    "# **6.76_data_visualization_chart_extended**"
   ]
  },
  {
   "cell_type": "markdown",
   "id": "bc3284aa-4da6-48f9-b36f-f8fd1da27131",
   "metadata": {},
   "source": [
    "### 一、数据包含两个变量"
   ]
  },
  {
   "cell_type": "markdown",
   "id": "1dce401b-0de5-4dd4-9fdf-6c0e10b8a1d6",
   "metadata": {},
   "source": [
    "如果我们的数据包含两个变量，比如两列DataFrame的话，可以绘制散点图、折线图、条形图、饼图。其中散点图和折线图，主要针对两个数值变量；条形图和饼图主要针对一个分类变量加一个数值变量。"
   ]
  },
  {
   "cell_type": "markdown",
   "id": "5e60f428-3b2a-46ce-b655-130aa9b9b98c",
   "metadata": {},
   "source": [
    "#### (一)、散点图"
   ]
  },
  {
   "cell_type": "markdown",
   "id": "2d170642-eaf4-4f49-a490-c70a5c0de81f",
   "metadata": {},
   "source": [
    "1. 特点\n",
    "\n",
    "   可以从散点图，看出变量之间的相关性，比如是否相关、呈正比还是呈反比、线性还是非线性等等，也可以帮我们发现异常值的存在\n",
    "\n",
    "2. 表示\n",
    "\n",
    "   X轴表示一个变量的值，Y轴表示另一个变量的值"
   ]
  },
  {
   "cell_type": "markdown",
   "id": "67f13465-b7ad-4bf7-9571-6f87be629d0c",
   "metadata": {},
   "source": [
    "#### (二)、折线图"
   ]
  },
  {
   "cell_type": "markdown",
   "id": "d5c727b6-460e-42e9-b708-3612d38dc3a8",
   "metadata": {},
   "source": [
    "1. 特点\n",
    "\n",
    "   用于展示连续间隔或时间跨度上数值的变化，从而展示趋势变化"
   ]
  },
  {
   "cell_type": "markdown",
   "id": "4b221e5f-c2b4-4cea-9f3c-f3e0b4ebf988",
   "metadata": {},
   "source": [
    "#### (三)、条形图"
   ]
  },
  {
   "cell_type": "markdown",
   "id": "08870a3d-e2b2-4577-ae86-eaba6be6678a",
   "metadata": {},
   "source": [
    "1. 特点\n",
    "\n",
    "   用来展示一个分类变量所对应的数值变量\n",
    "\n",
    "2. 条形图与直方图的不同\n",
    "\n",
    "   - 直方图只针对一个数值变量，而条形图则是针对一个分类变量和一个数值变量\n",
    "  \n",
    "   - 直方图的各个条柱分隔除了不同的数字区间，而条形图的各个条柱分隔这不同的分类变量"
   ]
  },
  {
   "cell_type": "markdown",
   "id": "3e6c907c-fccc-4261-baa9-e467175477ae",
   "metadata": {},
   "source": [
    "#### (四)、饼图"
   ]
  },
  {
   "cell_type": "markdown",
   "id": "cb3eeb1e-8407-480f-be41-b518938c8887",
   "metadata": {},
   "source": [
    "1. 特点\n",
    "\n",
    "   用来展示各个分类对应的数值之间的比例，可以直观了解不同类别在整体中的占比\n",
    "\n",
    "2. 表示\n",
    "\n",
    "   每个圆弧的长度/面积，代表每个分类所占的百分比，全圆则表示所有分类占比的总和，也就是100%"
   ]
  },
  {
   "cell_type": "markdown",
   "id": "05ad1789-6dd9-453f-9b4e-60e8e315089c",
   "metadata": {},
   "source": [
    "### 二、数据包含多个变量"
   ]
  },
  {
   "cell_type": "markdown",
   "id": "1feca603-b96c-4f27-863c-56f82d89e9a3",
   "metadata": {},
   "source": [
    "#### 通过添加颜色或尺寸，在图表上表示新的变量"
   ]
  },
  {
   "cell_type": "markdown",
   "id": "0cb02b52-16ee-42a1-8874-a965ff179c0f",
   "metadata": {},
   "source": [
    "##### (一)、散点图"
   ]
  },
  {
   "cell_type": "markdown",
   "id": "be72743a-05bd-4646-9e4c-d12dc554052d",
   "metadata": {},
   "source": [
    "1. 2个数值变量，1个分类变量\n",
    "\n",
    "   如果要引入新的分类变量，可以把点绘制成不同的颜色，让颜色表示不同分类\n",
    "\n",
    "2. 气泡图，3个数值变量\n",
    "\n",
    "   如果要引入新的数值变量，可以把点绘制成不同的大小，让面积去表示不同数值\n",
    "\n",
    "3. 气泡图，3个数值变量，1个分类变量\n",
    "\n",
    "   把气泡绘制成不同的颜色"
   ]
  },
  {
   "cell_type": "markdown",
   "id": "fa67b117-a47b-438c-8765-aa8627fcb397",
   "metadata": {},
   "source": [
    "##### (二)、折线图"
   ]
  },
  {
   "cell_type": "markdown",
   "id": "5de24e98-6d7f-4403-b0bf-b3e8b63b20ad",
   "metadata": {},
   "source": [
    "1. 2个数值变量，1个分类变量\n",
    "\n",
    "   可以绘制多条折线，不同颜色的折线代表不同分类"
   ]
  },
  {
   "cell_type": "markdown",
   "id": "e75711fb-7cc0-4137-ba55-ba55223544fa",
   "metadata": {},
   "source": [
    "##### (三)、条形图"
   ]
  },
  {
   "cell_type": "markdown",
   "id": "f527cb4e-8ca7-4d58-ac12-596e5417825a",
   "metadata": {},
   "source": [
    "1. 复式条形图，2个分类变量，1个数值变量\n",
    "\n",
    "   绘制多个条柱，不同颜色的条柱代表不同分类"
   ]
  },
  {
   "cell_type": "markdown",
   "id": "4287a6e0-6ad0-4b77-875e-a4ed2d30d6b3",
   "metadata": {},
   "source": [
    "##### (四)、热力图"
   ]
  },
  {
   "cell_type": "markdown",
   "id": "eda19b54-8c80-48be-9d48-7a5b1a180a63",
   "metadata": {},
   "source": [
    "2个分类变量，1个数值变量\n",
    "\n",
    "1. 特点\n",
    "\n",
    "   通过颜色来展示不同变量之间的数值差异\n",
    "\n",
    "2. 表示\n",
    "\n",
    "   横轴是分类变量，纵轴也是分类变量，每行或每列都表示一个分类种类，通过热力图里单元格的颜色或数值，表示数值变量数值的大小"
   ]
  },
  {
   "cell_type": "markdown",
   "id": "48793a37-e957-4ec6-8654-be55dca1ba78",
   "metadata": {},
   "source": [
    "#### 通过把多个图放在一起，互相对比来挖掘信息"
   ]
  },
  {
   "cell_type": "markdown",
   "id": "2994b881-34be-4f9d-a6d3-3eb196baa9a8",
   "metadata": {},
   "source": [
    "1. 通过把两个直方图叠在一张图上，可以直观的看出，它们集中位置的差异、分散程度的差异等等\n",
    "\n",
    "2. 通过把多个小提琴图并排放，可以直观的比较它们的四分位距、密度概率等等"
   ]
  },
  {
   "cell_type": "code",
   "execution_count": null,
   "id": "b6a89d0e-6f53-47d8-9cf7-8d8ceb8a327f",
   "metadata": {},
   "outputs": [],
   "source": []
  }
 ],
 "metadata": {
  "kernelspec": {
   "display_name": "Python 3 (ipykernel)",
   "language": "python",
   "name": "python3"
  },
  "language_info": {
   "codemirror_mode": {
    "name": "ipython",
    "version": 3
   },
   "file_extension": ".py",
   "mimetype": "text/x-python",
   "name": "python",
   "nbconvert_exporter": "python",
   "pygments_lexer": "ipython3",
   "version": "3.11.1"
  }
 },
 "nbformat": 4,
 "nbformat_minor": 5
}
