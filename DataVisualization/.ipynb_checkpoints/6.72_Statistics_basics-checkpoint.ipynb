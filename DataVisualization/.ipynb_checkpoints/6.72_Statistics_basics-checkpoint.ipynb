{
 "cells": [
  {
   "cell_type": "markdown",
   "id": "83a62396-c020-419b-882c-dade02c2b35c",
   "metadata": {},
   "source": [
    "6.72_Statistics_basics"
   ]
  },
  {
   "cell_type": "markdown",
   "id": "e6d56090-5757-48fc-8943-8ee45bf51842",
   "metadata": {},
   "source": [
    "我们用Python做数据分析时，要用代码编写统计分析方法，运用在数据上。\n",
    "\n",
    "数据分析和统计学是无法分隔的。\n",
    "\n",
    "统计学的本质是对数据进行描述和推断，这一节主要涉及描述统计学知识。\n",
    "\n",
    "描述，指的是对数据提供特征的概述。"
   ]
  },
  {
   "cell_type": "markdown",
   "id": "616ffa59-7938-4518-824c-846fa63745c7",
   "metadata": {},
   "source": [
    "### 一、数据的分类"
   ]
  },
  {
   "cell_type": "markdown",
   "id": "b89a6e7a-8057-4489-918d-ce4f1be148d9",
   "metadata": {},
   "source": [
    "#### (一)、分类数据"
   ]
  },
  {
   "cell_type": "markdown",
   "id": "61b0a71e-e16b-4241-b209-e6444b428306",
   "metadata": {},
   "source": [
    "分类数据指的是包含有限数量的不同类别的数据。"
   ]
  },
  {
   "cell_type": "markdown",
   "id": "5cc599d3-71c2-4620-b5d9-882fe50ad0a5",
   "metadata": {},
   "source": [
    "1. 定序数据\n",
    "\n",
    "    表示数据是可以有顺序的，比如：金银铜可以按顺序排\n",
    "\n",
    "2. 定类数据\n",
    "\n",
    "   表示数据没有顺序，比如：狗子的种类"
   ]
  },
  {
   "cell_type": "markdown",
   "id": "f38a0d7d-114b-4160-a083-801d53ad188f",
   "metadata": {},
   "source": [
    "#### (二)、数值数据"
   ]
  },
  {
   "cell_type": "markdown",
   "id": "4731d181-8fa2-4c29-83b0-5b0b6a92e845",
   "metadata": {},
   "source": [
    "数值数据，指的是测量出的观测值，是个具体的数值，对它进行求和或求平均值等数学运算是有意义的。"
   ]
  },
  {
   "cell_type": "markdown",
   "id": "23446ba7-cfc2-47c6-bb1a-627eb6f2f1d5",
   "metadata": {},
   "source": [
    "1. 连续数据\n",
    "\n",
    "    表示数据没有最小的表示单位，两个数值之间可以取无数不同的值\n",
    "\n",
    "2. 离散数据\n",
    "\n",
    "   表示数据只能以整数或自然数为单位"
   ]
  },
  {
   "cell_type": "markdown",
   "id": "f4eb4a30-4cc4-498d-a074-d1400fe0fad6",
   "metadata": {},
   "source": [
    "### 二、分析维度"
   ]
  },
  {
   "cell_type": "markdown",
   "id": "d470619e-78d8-4901-a65b-b306cbffc2bb",
   "metadata": {},
   "source": [
    "数值数据，通常是分析的重点，可以有三个分析维度。"
   ]
  },
  {
   "cell_type": "markdown",
   "id": "77c70253-9000-407c-9faf-930c4cb80428",
   "metadata": {},
   "source": [
    "#### (一)、集中趋势"
   ]
  },
  {
   "cell_type": "markdown",
   "id": "5db46a64-e3eb-4442-9c58-c1d772c85207",
   "metadata": {},
   "source": [
    "看的是数据集中在何处"
   ]
  },
  {
   "cell_type": "markdown",
   "id": "a76fed2e-1b23-4255-8c0a-f558d602f2cd",
   "metadata": {},
   "source": [
    "#### (二)、离散趋势"
   ]
  },
  {
   "cell_type": "markdown",
   "id": "42f5aa56-81a6-4bd0-885f-86439c4082a3",
   "metadata": {},
   "source": [
    "看的是数据偏离中心的散布情况"
   ]
  },
  {
   "cell_type": "markdown",
   "id": "05201be9-10e5-48b8-beff-767dbe12f6ec",
   "metadata": {},
   "source": [
    "#### (三)、分布形状"
   ]
  },
  {
   "cell_type": "markdown",
   "id": "54e84985-7c6e-4f49-8912-6d4b9f74e0ab",
   "metadata": {},
   "source": [
    "看的是分布的对称程度，峰值高低等等情况"
   ]
  },
  {
   "cell_type": "code",
   "execution_count": null,
   "id": "77aad5a2-ad27-45ce-bc62-3725672fcd7c",
   "metadata": {},
   "outputs": [],
   "source": []
  }
 ],
 "metadata": {
  "kernelspec": {
   "display_name": "Python 3 (ipykernel)",
   "language": "python",
   "name": "python3"
  },
  "language_info": {
   "codemirror_mode": {
    "name": "ipython",
    "version": 3
   },
   "file_extension": ".py",
   "mimetype": "text/x-python",
   "name": "python",
   "nbconvert_exporter": "python",
   "pygments_lexer": "ipython3",
   "version": "3.11.1"
  }
 },
 "nbformat": 4,
 "nbformat_minor": 5
}
