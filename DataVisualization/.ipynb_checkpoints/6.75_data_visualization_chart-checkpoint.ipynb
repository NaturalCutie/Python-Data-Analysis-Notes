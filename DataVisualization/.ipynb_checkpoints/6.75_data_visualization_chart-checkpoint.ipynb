{
 "cells": [
  {
   "cell_type": "markdown",
   "id": "215fa9a7-694e-47cb-97d3-3d8094d698e5",
   "metadata": {},
   "source": [
    "# **6.75_data_visualization_chart**"
   ]
  },
  {
   "cell_type": "markdown",
   "id": "4e6bff90-9c03-4971-8745-76d15a177bca",
   "metadata": {},
   "source": [
    "可视化的作用不仅在于最后步骤。在数据分析前，图表能在我们自行探索数据的时候，帮助发现隐藏的关系、趋势、影响，高效找到下一步的分析方向。甚至在数据评估与清理步骤，可视化也能帮助我们直观发现异常数据。因此，数据可视化是一个万金油，它不仅是数据分析全流程中的一个步骤，更是一种方式，可以任何步骤里使用。"
   ]
  },
  {
   "cell_type": "markdown",
   "id": "e286ac92-2667-4709-ab84-db8bc947190d",
   "metadata": {},
   "source": [
    "如果我们的数据包含一个数值变量，即一维数据，可以绘制直方图、密度图、箱型图、小提琴图"
   ]
  },
  {
   "cell_type": "markdown",
   "id": "e699b0ad-0b25-4a8d-ad83-2bf4734c26a4",
   "metadata": {},
   "source": [
    "### 一、直方图"
   ]
  },
  {
   "cell_type": "markdown",
   "id": "8eb58329-c2b2-4f1e-9ec1-13a9d62e67c9",
   "metadata": {},
   "source": [
    "1. 特点\n",
    "\n",
    "    展示数据的频率分布\n",
    "\n",
    "2. 表示\n",
    "\n",
    "   横轴表示某数据范围，而纵轴表示个数"
   ]
  },
  {
   "cell_type": "markdown",
   "id": "d0b89c87-c55f-44e5-b39c-f45fc258a62a",
   "metadata": {},
   "source": [
    "### 二、密度图 "
   ]
  },
  {
   "cell_type": "markdown",
   "id": "932e8357-b375-461c-9999-db3fdf596aa2",
   "metadata": {},
   "source": [
    "1. 特点\n",
    "\n",
    "   同样用来表示数据的分布，更容易看出分布形状\n",
    "\n",
    "2. 不同\n",
    "\n",
    "   不同于直方图用一个个条柱表示频率，密度图会用一条平滑的曲线\n",
    "\n",
    "   纵轴表示的是概率密度，纵轴的最大值不会超过1"
   ]
  },
  {
   "cell_type": "markdown",
   "id": "8fdb6866-4cab-48bf-98ed-9e1c026ac78f",
   "metadata": {},
   "source": [
    "### 三、箱型图"
   ]
  },
  {
   "cell_type": "markdown",
   "id": "b295cd77-022a-4224-b347-1ce29f8fd80a",
   "metadata": {},
   "source": [
    "1. 特点\n",
    "\n",
    "   看出中位数、上下四分位数、四分位距大小、分布是否对称、是否紧密，以及有没有异常值\n",
    "\n",
    "2. 表示\n",
    "\n",
    "   纵轴表示数据值；箱子的边界分别是第一和第三四分位数，所以箱子的长度就是四分位距；而箱子中间那条线是中位数；箱子上下的横线分别是上界和下界；上界和下界外的点是异常值。\n",
    "\n",
    "3. 上界&下界\n",
    "\n",
    "   上界 = (数据最大值 or 第三四分位数 + 1.5倍四分位距)，其中的最小值\n",
    "\n",
    "   下界 = (数据最小值 or 第一四分位数 - 1.5倍四分位距)，其中的最大值\n",
    "\n",
    "     如果有数据的值，(大于第三四分位数 + 1.5倍四分位距 or 小于第一四分位数 - 1.5倍四分位距)，会被用单独的点表示出来，被算作异常值"
   ]
  },
  {
   "cell_type": "markdown",
   "id": "f093db28-7003-484c-a4b4-cd5c94baa3ce",
   "metadata": {},
   "source": [
    "### 四、小提琴图"
   ]
  },
  {
   "cell_type": "markdown",
   "id": "91f0da6d-4738-4b5a-9e41-642fd582bb2e",
   "metadata": {},
   "source": [
    "1. 特点\n",
    "\n",
    "   能同时展现箱型图和密度图的信息\n",
    "\n",
    "2. 表示\n",
    "\n",
    "   中间的小圆点表示中位数；黑色条的边界和箱型图的箱子一样，分别是第一和第三四分位数；而小提琴的长度，表示95%置信区间；小提琴的体型，对应了密度图，越胖的地方那个值频率越高。"
   ]
  }
 ],
 "metadata": {
  "kernelspec": {
   "display_name": "Python 3 (ipykernel)",
   "language": "python",
   "name": "python3"
  },
  "language_info": {
   "codemirror_mode": {
    "name": "ipython",
    "version": 3
   },
   "file_extension": ".py",
   "mimetype": "text/x-python",
   "name": "python",
   "nbconvert_exporter": "python",
   "pygments_lexer": "ipython3",
   "version": "3.11.1"
  }
 },
 "nbformat": 4,
 "nbformat_minor": 5
}
