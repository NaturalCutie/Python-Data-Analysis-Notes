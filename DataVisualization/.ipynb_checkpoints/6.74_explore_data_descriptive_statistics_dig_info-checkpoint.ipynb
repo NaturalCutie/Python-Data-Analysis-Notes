{
 "cells": [
  {
   "cell_type": "markdown",
   "id": "bda3c8f3-9f3c-48bc-84bc-aea5a0ca22d9",
   "metadata": {},
   "source": [
    "6.74_explore_data_descriptive_statistics_dig_info"
   ]
  },
  {
   "cell_type": "markdown",
   "id": "edabe97f-c09e-4ecf-a52f-0968ef315601",
   "metadata": {},
   "source": [
    "这一节，我们会学习如何用Python，对数值数据进行描述统计学分析。\n",
    "\n",
    "描述统计学的分析对象，很多时候是一位数据，像Python的列表，NumPy的一维数组，Pandas的Series，DataFrame的某列。"
   ]
  },
  {
   "cell_type": "code",
   "execution_count": 1,
   "id": "bae704bf-52b9-4b81-980f-9adb1c383840",
   "metadata": {},
   "outputs": [],
   "source": [
    "import pandas as pd\n",
    "import numpy as np"
   ]
  },
  {
   "cell_type": "code",
   "execution_count": 4,
   "id": "25da210a-cd44-4a15-84b7-928ca597b57a",
   "metadata": {},
   "outputs": [
    {
     "data": {
      "text/html": [
       "<div>\n",
       "<style scoped>\n",
       "    .dataframe tbody tr th:only-of-type {\n",
       "        vertical-align: middle;\n",
       "    }\n",
       "\n",
       "    .dataframe tbody tr th {\n",
       "        vertical-align: top;\n",
       "    }\n",
       "\n",
       "    .dataframe thead th {\n",
       "        text-align: right;\n",
       "    }\n",
       "</style>\n",
       "<table border=\"1\" class=\"dataframe\">\n",
       "  <thead>\n",
       "    <tr style=\"text-align: right;\">\n",
       "      <th></th>\n",
       "      <th>姓名</th>\n",
       "      <th>体温</th>\n",
       "    </tr>\n",
       "  </thead>\n",
       "  <tbody>\n",
       "    <tr>\n",
       "      <th>0</th>\n",
       "      <td>Tom</td>\n",
       "      <td>37.8</td>\n",
       "    </tr>\n",
       "    <tr>\n",
       "      <th>1</th>\n",
       "      <td>Jerry</td>\n",
       "      <td>36.8</td>\n",
       "    </tr>\n",
       "    <tr>\n",
       "      <th>2</th>\n",
       "      <td>Lucy</td>\n",
       "      <td>37.0</td>\n",
       "    </tr>\n",
       "    <tr>\n",
       "      <th>3</th>\n",
       "      <td>Emma</td>\n",
       "      <td>37.2</td>\n",
       "    </tr>\n",
       "    <tr>\n",
       "      <th>4</th>\n",
       "      <td>John</td>\n",
       "      <td>36.6</td>\n",
       "    </tr>\n",
       "    <tr>\n",
       "      <th>5</th>\n",
       "      <td>Alice</td>\n",
       "      <td>37.0</td>\n",
       "    </tr>\n",
       "    <tr>\n",
       "      <th>6</th>\n",
       "      <td>Bob</td>\n",
       "      <td>37.0</td>\n",
       "    </tr>\n",
       "    <tr>\n",
       "      <th>7</th>\n",
       "      <td>David</td>\n",
       "      <td>36.1</td>\n",
       "    </tr>\n",
       "    <tr>\n",
       "      <th>8</th>\n",
       "      <td>Sam</td>\n",
       "      <td>37.5</td>\n",
       "    </tr>\n",
       "    <tr>\n",
       "      <th>9</th>\n",
       "      <td>Alex</td>\n",
       "      <td>37.3</td>\n",
       "    </tr>\n",
       "    <tr>\n",
       "      <th>10</th>\n",
       "      <td>Lisa</td>\n",
       "      <td>36.7</td>\n",
       "    </tr>\n",
       "    <tr>\n",
       "      <th>11</th>\n",
       "      <td>Frank</td>\n",
       "      <td>36.9</td>\n",
       "    </tr>\n",
       "    <tr>\n",
       "      <th>12</th>\n",
       "      <td>Grace</td>\n",
       "      <td>37.3</td>\n",
       "    </tr>\n",
       "    <tr>\n",
       "      <th>13</th>\n",
       "      <td>Mary</td>\n",
       "      <td>36.9</td>\n",
       "    </tr>\n",
       "    <tr>\n",
       "      <th>14</th>\n",
       "      <td>Ben</td>\n",
       "      <td>36.9</td>\n",
       "    </tr>\n",
       "    <tr>\n",
       "      <th>15</th>\n",
       "      <td>Kate</td>\n",
       "      <td>36.3</td>\n",
       "    </tr>\n",
       "    <tr>\n",
       "      <th>16</th>\n",
       "      <td>Oliver</td>\n",
       "      <td>37.3</td>\n",
       "    </tr>\n",
       "    <tr>\n",
       "      <th>17</th>\n",
       "      <td>Sophie</td>\n",
       "      <td>37.1</td>\n",
       "    </tr>\n",
       "    <tr>\n",
       "      <th>18</th>\n",
       "      <td>Ella</td>\n",
       "      <td>37.1</td>\n",
       "    </tr>\n",
       "    <tr>\n",
       "      <th>19</th>\n",
       "      <td>Hannah</td>\n",
       "      <td>36.2</td>\n",
       "    </tr>\n",
       "    <tr>\n",
       "      <th>20</th>\n",
       "      <td>James</td>\n",
       "      <td>37.8</td>\n",
       "    </tr>\n",
       "    <tr>\n",
       "      <th>21</th>\n",
       "      <td>Leo</td>\n",
       "      <td>37.1</td>\n",
       "    </tr>\n",
       "    <tr>\n",
       "      <th>22</th>\n",
       "      <td>Luke</td>\n",
       "      <td>36.8</td>\n",
       "    </tr>\n",
       "    <tr>\n",
       "      <th>23</th>\n",
       "      <td>Max</td>\n",
       "      <td>38.0</td>\n",
       "    </tr>\n",
       "    <tr>\n",
       "      <th>24</th>\n",
       "      <td>Mia</td>\n",
       "      <td>37.0</td>\n",
       "    </tr>\n",
       "    <tr>\n",
       "      <th>25</th>\n",
       "      <td>Noah</td>\n",
       "      <td>36.3</td>\n",
       "    </tr>\n",
       "    <tr>\n",
       "      <th>26</th>\n",
       "      <td>Peter</td>\n",
       "      <td>36.8</td>\n",
       "    </tr>\n",
       "    <tr>\n",
       "      <th>27</th>\n",
       "      <td>Sarah</td>\n",
       "      <td>39.2</td>\n",
       "    </tr>\n",
       "    <tr>\n",
       "      <th>28</th>\n",
       "      <td>Tim</td>\n",
       "      <td>38.6</td>\n",
       "    </tr>\n",
       "  </tbody>\n",
       "</table>\n",
       "</div>"
      ],
      "text/plain": [
       "        姓名    体温\n",
       "0      Tom  37.8\n",
       "1    Jerry  36.8\n",
       "2     Lucy  37.0\n",
       "3     Emma  37.2\n",
       "4     John  36.6\n",
       "5    Alice  37.0\n",
       "6      Bob  37.0\n",
       "7    David  36.1\n",
       "8      Sam  37.5\n",
       "9     Alex  37.3\n",
       "10    Lisa  36.7\n",
       "11   Frank  36.9\n",
       "12   Grace  37.3\n",
       "13    Mary  36.9\n",
       "14     Ben  36.9\n",
       "15    Kate  36.3\n",
       "16  Oliver  37.3\n",
       "17  Sophie  37.1\n",
       "18    Ella  37.1\n",
       "19  Hannah  36.2\n",
       "20   James  37.8\n",
       "21     Leo  37.1\n",
       "22    Luke  36.8\n",
       "23     Max  38.0\n",
       "24     Mia  37.0\n",
       "25    Noah  36.3\n",
       "26   Peter  36.8\n",
       "27   Sarah  39.2\n",
       "28     Tim  38.6"
      ]
     },
     "execution_count": 4,
     "metadata": {},
     "output_type": "execute_result"
    }
   ],
   "source": [
    "# 全班某天测量的体温数据\n",
    "df = pd.read_csv('temperature.csv')\n",
    "df"
   ]
  },
  {
   "cell_type": "markdown",
   "id": "742b4741-1504-4d36-b86a-f3a6927509d5",
   "metadata": {},
   "source": [
    "### 一、计算集中趋势指标"
   ]
  },
  {
   "cell_type": "markdown",
   "id": "260858da-b2b6-418b-9ce5-7c36396c82ce",
   "metadata": {},
   "source": [
    "1. 平均数\n",
    "\n",
    "   调用Series类的mean方法"
   ]
  },
  {
   "cell_type": "code",
   "execution_count": 5,
   "id": "c493063c-ffcd-45e8-9882-09f3e6330874",
   "metadata": {},
   "outputs": [
    {
     "data": {
      "text/plain": [
       "37.12413793103448"
      ]
     },
     "execution_count": 5,
     "metadata": {},
     "output_type": "execute_result"
    }
   ],
   "source": [
    "df.体温.mean()"
   ]
  },
  {
   "cell_type": "markdown",
   "id": "6da8ffc2-ef0b-4342-9e2f-1dd06748473e",
   "metadata": {},
   "source": [
    "说明这个班的体温大概集中在37.1度"
   ]
  },
  {
   "cell_type": "markdown",
   "id": "ce0d87b9-134d-4f81-8859-19006a0b7853",
   "metadata": {},
   "source": [
    "2. 调用Series类的median方法"
   ]
  },
  {
   "cell_type": "code",
   "execution_count": 6,
   "id": "e80dd803-3568-400a-b900-e6ecc547ac00",
   "metadata": {},
   "outputs": [
    {
     "data": {
      "text/plain": [
       "37.0"
      ]
     },
     "execution_count": 6,
     "metadata": {},
     "output_type": "execute_result"
    }
   ],
   "source": [
    "df['体温'].median()"
   ]
  },
  {
   "cell_type": "markdown",
   "id": "8995e626-caea-450c-86d8-8ae2111993dd",
   "metadata": {},
   "source": [
    "数据中有两个人体温显著更高，拉高了平均值，中位数不太会收到异常值的影响"
   ]
  },
  {
   "cell_type": "markdown",
   "id": "72151b4b-c359-4f0f-b3e7-dcc8169ece59",
   "metadata": {},
   "source": [
    "3. 众数\n",
    "\n",
    "   调用Series类的mode方法\n",
    "\n",
    "   **mode方法返回的不是一个数字，而是一个Series，因为众数可能有多个，所以用Series去囊括多个数字结果**"
   ]
  },
  {
   "cell_type": "code",
   "execution_count": 7,
   "id": "092bbfc0-9964-421d-af2b-29915fb4d7ba",
   "metadata": {},
   "outputs": [
    {
     "data": {
      "text/plain": [
       "0    37.0\n",
       "Name: 体温, dtype: float64"
      ]
     },
     "execution_count": 7,
     "metadata": {},
     "output_type": "execute_result"
    }
   ],
   "source": [
    "df.体温.mode()"
   ]
  },
  {
   "cell_type": "markdown",
   "id": "8335ce00-f2e9-41d2-867c-46b252351337",
   "metadata": {},
   "source": [
    "说明办理人的体温倾向于37度"
   ]
  },
  {
   "cell_type": "markdown",
   "id": "d555eca8-7d65-464f-b9c9-83237563737a",
   "metadata": {},
   "source": [
    "### 二、计算离散趋势指标"
   ]
  },
  {
   "cell_type": "markdown",
   "id": "cc688e7b-cd2e-4824-9932-475c961d6359",
   "metadata": {},
   "source": [
    "1. 极差\n",
    "\n",
    "   - 可以用Series的max和min函数去做减法\n",
    "  \n",
    "   - 用NumPy数组的ptp方法，会返回极差结果，需要先用NumPy库的array方法将Pandas的Series转换成NumPy数组"
   ]
  },
  {
   "cell_type": "code",
   "execution_count": 9,
   "id": "c482aa62-1a49-4e47-8034-8d7924faeb99",
   "metadata": {},
   "outputs": [
    {
     "data": {
      "text/plain": [
       "3.1000000000000014"
      ]
     },
     "execution_count": 9,
     "metadata": {},
     "output_type": "execute_result"
    }
   ],
   "source": [
    "df.体温.max() - df.体温.min()"
   ]
  },
  {
   "cell_type": "code",
   "execution_count": 10,
   "id": "5e565135-6a35-4cbd-8b50-978719b73308",
   "metadata": {},
   "outputs": [
    {
     "data": {
      "text/plain": [
       "3.1000000000000014"
      ]
     },
     "execution_count": 10,
     "metadata": {},
     "output_type": "execute_result"
    }
   ],
   "source": [
    "np.array(df.体温).ptp()"
   ]
  },
  {
   "cell_type": "markdown",
   "id": "0e99a089-bb24-4dfc-8215-3725ae57a10a",
   "metadata": {},
   "source": [
    "**浮点数精度误差**\n",
    "\n",
    "**以上计算结果多了0.0000000000000014，这个误差源自浮点数的精度问题，是二进制计算和转换造成的**"
   ]
  },
  {
   "cell_type": "markdown",
   "id": "af659986-ce87-4f67-a221-9ba0c2692c39",
   "metadata": {},
   "source": [
    "2. 方差/标准差\n",
    "\n",
    "   - 方差：调用Series的var方法\n",
    "  \n",
    "   - 标准差：调用Series的std方法 "
   ]
  },
  {
   "cell_type": "code",
   "execution_count": 11,
   "id": "33ed6209-8624-4182-b095-81eb6c45b273",
   "metadata": {},
   "outputs": [
    {
     "data": {
      "text/plain": [
       "0.4518965517241383"
      ]
     },
     "execution_count": 11,
     "metadata": {},
     "output_type": "execute_result"
    }
   ],
   "source": [
    "df.体温.var()"
   ]
  },
  {
   "cell_type": "code",
   "execution_count": 12,
   "id": "088954ac-b453-4f94-bde3-3197c9119d5f",
   "metadata": {},
   "outputs": [
    {
     "data": {
      "text/plain": [
       "0.6722325131412035"
      ]
     },
     "execution_count": 12,
     "metadata": {},
     "output_type": "execute_result"
    }
   ],
   "source": [
    "df.体温.std()"
   ]
  },
  {
   "cell_type": "markdown",
   "id": "c891cb50-4972-40f8-8349-3993c9edaf93",
   "metadata": {},
   "source": [
    "3. 四分位距\n",
    "\n",
    "   Series的quantile方法，可以用来计算任意百分位数，比如传入10%，就能得到刚好大于数据里10%数值的那个数字\n",
    "\n",
    "   计算四分位距，用75%分位数减去25%分位数\n",
    "   "
   ]
  },
  {
   "cell_type": "code",
   "execution_count": 13,
   "id": "5cef8f53-7cff-4fdf-9d5b-77ba93427a80",
   "metadata": {},
   "outputs": [
    {
     "data": {
      "text/plain": [
       "0.5"
      ]
     },
     "execution_count": 13,
     "metadata": {},
     "output_type": "execute_result"
    }
   ],
   "source": [
    "df.体温.quantile(0.75) - df.体温.quantile(0.25)"
   ]
  },
  {
   "cell_type": "markdown",
   "id": "03d1280f-e6c9-4fae-a569-095f2cf35fad",
   "metadata": {},
   "source": [
    "### 三、分布形状"
   ]
  },
  {
   "cell_type": "markdown",
   "id": "3fb061a3-72cb-4a83-98c9-b4fef45bcc24",
   "metadata": {},
   "source": [
    "如果我们把各个数值出现的次数，绘制成直方图，就能看见数据的分布模式\n",
    "\n",
    "调用Series的plot方法，可选参数`kind = 'hist'`，表示直方图"
   ]
  },
  {
   "cell_type": "code",
   "execution_count": 17,
   "id": "82090cb4-e09e-48e3-9801-d0c886ee2e68",
   "metadata": {},
   "outputs": [
    {
     "data": {
      "text/plain": [
       "<Axes: ylabel='Frequency'>"
      ]
     },
     "execution_count": 17,
     "metadata": {},
     "output_type": "execute_result"
    },
    {
     "data": {
      "image/png": "[encoded data removed]",
      "text/plain": [
       "<Figure size 640x480 with 1 Axes>"
      ]
     },
     "metadata": {},
     "output_type": "display_data"
    }
   ],
   "source": [
    "df['体温'].plot(kind='hist')"
   ]
  },
  {
   "cell_type": "markdown",
   "id": "76a278c7-5229-46a6-8654-bce314e95581",
   "metadata": {},
   "source": [
    "现在只能很勉强的看出分布形状，当数据观察值很少的时候，分布形状不会特别明显，而且很容易受到异常值的影响；但数据观察值数量越大，越容易看出分布形状"
   ]
  }
 ],
 "metadata": {
  "kernelspec": {
   "display_name": "Python 3 (ipykernel)",
   "language": "python",
   "name": "python3"
  },
  "language_info": {
   "codemirror_mode": {
    "name": "ipython",
    "version": 3
   },
   "file_extension": ".py",
   "mimetype": "text/x-python",
   "name": "python",
   "nbconvert_exporter": "python",
   "pygments_lexer": "ipython3",
   "version": "3.11.1"
  }
 },
 "nbformat": 4,
 "nbformat_minor": 5
}
