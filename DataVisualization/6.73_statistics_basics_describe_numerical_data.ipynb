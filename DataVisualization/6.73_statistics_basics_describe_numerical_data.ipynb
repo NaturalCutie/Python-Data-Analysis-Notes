{
 "cells": [
  {
   "cell_type": "markdown",
   "id": "4fcee408-d223-4ef9-a221-7b51e9ab3481",
   "metadata": {},
   "source": [
    "# **6.73_statistics_basics_describe_numerical_data**"
   ]
  },
  {
   "cell_type": "markdown",
   "id": "1d061f6d-6d40-4122-85b3-3945c4f5dea2",
   "metadata": {},
   "source": [
    "### 分析维度 "
   ]
  },
  {
   "cell_type": "markdown",
   "id": "e2558d97-21bd-421a-9ec1-96cbe86d4230",
   "metadata": {},
   "source": [
    "### 一、集中趋势指标"
   ]
  },
  {
   "cell_type": "markdown",
   "id": "87929fa6-644b-42f6-861b-f333a99cdebb",
   "metadata": {},
   "source": [
    "1. 平均数\n",
    "\n",
    "    表示数据相对集中较多的中心位置，平均数很容易受到极端值的影响\n",
    "\n",
    "2. 中位数\n",
    "\n",
    "    表示数据的中间位置，中位数不容易受到极端值的影响，有时会和平均数一起纳入统计\n",
    "\n",
    "3. 众数\n",
    "\n",
    "   表示数据最普遍的倾向"
   ]
  },
  {
   "cell_type": "markdown",
   "id": "5f6837c3-ad04-4b5a-be35-5e60431a44df",
   "metadata": {},
   "source": [
    "### 二、离散趋势指标"
   ]
  },
  {
   "cell_type": "markdown",
   "id": "082676bc-6943-45d7-bd22-f37b6edbde9d",
   "metadata": {},
   "source": [
    "1. 极差\n",
    "\n",
    "    表示数据波动的范围\n",
    "\n",
    "2. 方差/标准差\n",
    "\n",
    "    方差和标准差可以互相转换\n",
    "\n",
    "   平均数是用来描述集中趋势的，所以数值和平均数的差距，就是在描述偏离中心值的离散趋势\n",
    "\n",
    "   之所以要对各个数据和平均数的差进行平方，是因为我们只在乎值和平均数的距离，并不在乎这个距离是正距离还是负距离\n",
    "\n",
    "3. 四分位距\n",
    "\n",
    "   四分位距=第三四分位数-第一四分位数\n",
    "\n",
    "   表示中间一半数值的离散程度，越大说明数据越分散"
   ]
  },
  {
   "cell_type": "markdown",
   "id": "b4a3aa0d-881f-476f-b3f3-8791be9af497",
   "metadata": {},
   "source": [
    "### 三、分布形状指标"
   ]
  },
  {
   "cell_type": "markdown",
   "id": "c8366ffb-a0d6-44e5-8ca2-576ca030634d",
   "metadata": {},
   "source": [
    "1. 直方图\n",
    "\n",
    "    直方图常被用于发现数据的分布情况，包括偏态、峰度、异常值等信息\n",
    "\n",
    "   将数据按照一定的区间范围进行分组，计算每个区间内的数据数量，然后用矩形条表示每个区间内数据的数量\n",
    "\n",
    "2. 正态分布\n",
    "\n",
    "3. 偏态分布\n",
    "\n",
    "   - 正偏态/右偏态\n",
    "\n",
    "        长尾巴在右边，说明大部分数值比平均值更低，比如：平均月薪，被高工资拉高了平均值\n",
    "\n",
    "   - 负偏态/左偏态\n",
    "  \n",
    "         长尾巴在左边，说明大部分数值比平均值更高。"
   ]
  },
  {
   "cell_type": "code",
   "execution_count": null,
   "id": "dc6cef85-c48e-4e96-9dd9-c243ed8c3d45",
   "metadata": {},
   "outputs": [],
   "source": []
  }
 ],
 "metadata": {
  "kernelspec": {
   "display_name": "Python 3 (ipykernel)",
   "language": "python",
   "name": "python3"
  },
  "language_info": {
   "codemirror_mode": {
    "name": "ipython",
    "version": 3
   },
   "file_extension": ".py",
   "mimetype": "text/x-python",
   "name": "python",
   "nbconvert_exporter": "python",
   "pygments_lexer": "ipython3",
   "version": "3.11.1"
  }
 },
 "nbformat": 4,
 "nbformat_minor": 5
}
