{
 "cells": [
  {
   "cell_type": "code",
   "execution_count": 1,
   "id": "3fcedbc2",
   "metadata": {},
   "outputs": [],
   "source": [
    "import pandas as pd"
   ]
  },
  {
   "cell_type": "markdown",
   "id": "ac3f848e",
   "metadata": {},
   "source": [
    "**复习任务：将所有以“任务X”开头的单元格补全**"
   ]
  },
  {
   "cell_type": "markdown",
   "id": "5c02e943",
   "metadata": {},
   "source": [
    "## 对索引和列名重命名（使用字典）"
   ]
  },
  {
   "cell_type": "code",
   "execution_count": 2,
   "id": "b953f6f3",
   "metadata": {},
   "outputs": [],
   "source": [
    "# 读取示例数据\n",
    "df1 = pd.read_csv(\"example1.csv\", index_col=0)"
   ]
  },
  {
   "cell_type": "code",
   "execution_count": 3,
   "id": "b392e526",
   "metadata": {},
   "outputs": [
    {
     "data": {
      "text/html": [
       "<div>\n",
       "<style scoped>\n",
       "    .dataframe tbody tr th:only-of-type {\n",
       "        vertical-align: middle;\n",
       "    }\n",
       "\n",
       "    .dataframe tbody tr th {\n",
       "        vertical-align: top;\n",
       "    }\n",
       "\n",
       "    .dataframe thead th {\n",
       "        text-align: right;\n",
       "    }\n",
       "</style>\n",
       "<table border=\"1\" class=\"dataframe\">\n",
       "  <thead>\n",
       "    <tr style=\"text-align: right;\">\n",
       "      <th></th>\n",
       "      <th>客户_姓名</th>\n",
       "      <th>客户 性别</th>\n",
       "      <th>age</th>\n",
       "      <th>邮箱</th>\n",
       "    </tr>\n",
       "  </thead>\n",
       "  <tbody>\n",
       "    <tr>\n",
       "      <th>1</th>\n",
       "      <td>李十</td>\n",
       "      <td>女</td>\n",
       "      <td>58</td>\n",
       "      <td>yVaQXekW@example.com</td>\n",
       "    </tr>\n",
       "    <tr>\n",
       "      <th>2_</th>\n",
       "      <td>冯三</td>\n",
       "      <td>男</td>\n",
       "      <td>27</td>\n",
       "      <td>LctXbrEM@example.com</td>\n",
       "    </tr>\n",
       "    <tr>\n",
       "      <th>3</th>\n",
       "      <td>吴十</td>\n",
       "      <td>男</td>\n",
       "      <td>32</td>\n",
       "      <td>UyTYBzUZ@example.com</td>\n",
       "    </tr>\n",
       "    <tr>\n",
       "      <th>4</th>\n",
       "      <td>王十</td>\n",
       "      <td>女</td>\n",
       "      <td>58</td>\n",
       "      <td>KCixgciF@example.com</td>\n",
       "    </tr>\n",
       "    <tr>\n",
       "      <th>_5</th>\n",
       "      <td>钱十</td>\n",
       "      <td>女</td>\n",
       "      <td>27</td>\n",
       "      <td>nqRBXOtA@example.com</td>\n",
       "    </tr>\n",
       "    <tr>\n",
       "      <th>6*</th>\n",
       "      <td>赵八</td>\n",
       "      <td>女</td>\n",
       "      <td>51</td>\n",
       "      <td>GyKwILAL@example.com</td>\n",
       "    </tr>\n",
       "  </tbody>\n",
       "</table>\n",
       "</div>"
      ],
      "text/plain": [
       "   客户_姓名 客户 性别  age                    邮箱\n",
       "1     李十     女   58  yVaQXekW@example.com\n",
       "2_    冯三     男   27  LctXbrEM@example.com\n",
       "3     吴十     男   32  UyTYBzUZ@example.com\n",
       "4     王十     女   58  KCixgciF@example.com\n",
       "_5    钱十     女   27  nqRBXOtA@example.com\n",
       "6*    赵八     女   51  GyKwILAL@example.com"
      ]
     },
     "execution_count": 3,
     "metadata": {},
     "output_type": "execute_result"
    }
   ],
   "source": [
    "df1"
   ]
  },
  {
   "cell_type": "code",
   "execution_count": 4,
   "id": "7b40e237",
   "metadata": {},
   "outputs": [],
   "source": [
    "# 任务一：\n",
    "# 把 df1 的索引进行重命名，具体为\"2_\"转换为\"2\", \"_5\"转换为\"5\", \"6*\"转换为\"6\"，其余不变\n",
    "\n"
   ]
  },
  {
   "cell_type": "code",
   "execution_count": 5,
   "id": "ba7d11d9",
   "metadata": {},
   "outputs": [],
   "source": [
    "# 任务二：\n",
    "# 把 df1 的列名进行重命名，具体为\"客户_姓名\"转换为\"客户姓名\", \"客户 性别\"转换为\"客户性别\", \"age\"转换为\"客户年龄\"，\n",
    "\n"
   ]
  },
  {
   "cell_type": "code",
   "execution_count": 6,
   "id": "fb40167c",
   "metadata": {},
   "outputs": [
    {
     "data": {
      "text/html": [
       "<div>\n",
       "<style scoped>\n",
       "    .dataframe tbody tr th:only-of-type {\n",
       "        vertical-align: middle;\n",
       "    }\n",
       "\n",
       "    .dataframe tbody tr th {\n",
       "        vertical-align: top;\n",
       "    }\n",
       "\n",
       "    .dataframe thead th {\n",
       "        text-align: right;\n",
       "    }\n",
       "</style>\n",
       "<table border=\"1\" class=\"dataframe\">\n",
       "  <thead>\n",
       "    <tr style=\"text-align: right;\">\n",
       "      <th></th>\n",
       "      <th>客户_姓名</th>\n",
       "      <th>客户 性别</th>\n",
       "      <th>age</th>\n",
       "      <th>邮箱</th>\n",
       "    </tr>\n",
       "  </thead>\n",
       "  <tbody>\n",
       "    <tr>\n",
       "      <th>1</th>\n",
       "      <td>李十</td>\n",
       "      <td>女</td>\n",
       "      <td>58</td>\n",
       "      <td>yVaQXekW@example.com</td>\n",
       "    </tr>\n",
       "    <tr>\n",
       "      <th>2_</th>\n",
       "      <td>冯三</td>\n",
       "      <td>男</td>\n",
       "      <td>27</td>\n",
       "      <td>LctXbrEM@example.com</td>\n",
       "    </tr>\n",
       "    <tr>\n",
       "      <th>3</th>\n",
       "      <td>吴十</td>\n",
       "      <td>男</td>\n",
       "      <td>32</td>\n",
       "      <td>UyTYBzUZ@example.com</td>\n",
       "    </tr>\n",
       "    <tr>\n",
       "      <th>4</th>\n",
       "      <td>王十</td>\n",
       "      <td>女</td>\n",
       "      <td>58</td>\n",
       "      <td>KCixgciF@example.com</td>\n",
       "    </tr>\n",
       "    <tr>\n",
       "      <th>_5</th>\n",
       "      <td>钱十</td>\n",
       "      <td>女</td>\n",
       "      <td>27</td>\n",
       "      <td>nqRBXOtA@example.com</td>\n",
       "    </tr>\n",
       "    <tr>\n",
       "      <th>6*</th>\n",
       "      <td>赵八</td>\n",
       "      <td>女</td>\n",
       "      <td>51</td>\n",
       "      <td>GyKwILAL@example.com</td>\n",
       "    </tr>\n",
       "  </tbody>\n",
       "</table>\n",
       "</div>"
      ],
      "text/plain": [
       "   客户_姓名 客户 性别  age                    邮箱\n",
       "1     李十     女   58  yVaQXekW@example.com\n",
       "2_    冯三     男   27  LctXbrEM@example.com\n",
       "3     吴十     男   32  UyTYBzUZ@example.com\n",
       "4     王十     女   58  KCixgciF@example.com\n",
       "_5    钱十     女   27  nqRBXOtA@example.com\n",
       "6*    赵八     女   51  GyKwILAL@example.com"
      ]
     },
     "execution_count": 6,
     "metadata": {},
     "output_type": "execute_result"
    }
   ],
   "source": [
    "# 此时 df1 的索引和列名应该已经被更新\n",
    "df1"
   ]
  },
  {
   "cell_type": "markdown",
   "id": "53933d2c",
   "metadata": {},
   "source": [
    "## 对索引和列名重命名（使用方法/函数）"
   ]
  },
  {
   "cell_type": "code",
   "execution_count": 7,
   "id": "81f56f1a",
   "metadata": {},
   "outputs": [
    {
     "data": {
      "text/html": [
       "<div>\n",
       "<style scoped>\n",
       "    .dataframe tbody tr th:only-of-type {\n",
       "        vertical-align: middle;\n",
       "    }\n",
       "\n",
       "    .dataframe tbody tr th {\n",
       "        vertical-align: top;\n",
       "    }\n",
       "\n",
       "    .dataframe thead th {\n",
       "        text-align: right;\n",
       "    }\n",
       "</style>\n",
       "<table border=\"1\" class=\"dataframe\">\n",
       "  <thead>\n",
       "    <tr style=\"text-align: right;\">\n",
       "      <th></th>\n",
       "      <th>Date</th>\n",
       "      <th>Amount</th>\n",
       "      <th>Salesperson</th>\n",
       "      <th>Location</th>\n",
       "    </tr>\n",
       "  </thead>\n",
       "  <tbody>\n",
       "    <tr>\n",
       "      <th>0</th>\n",
       "      <td>2022-01-01</td>\n",
       "      <td>1000</td>\n",
       "      <td>Alice</td>\n",
       "      <td>New York</td>\n",
       "    </tr>\n",
       "    <tr>\n",
       "      <th>1</th>\n",
       "      <td>2022-01-02</td>\n",
       "      <td>1500</td>\n",
       "      <td>Bob</td>\n",
       "      <td>San Francisco</td>\n",
       "    </tr>\n",
       "    <tr>\n",
       "      <th>2</th>\n",
       "      <td>2022-01-03</td>\n",
       "      <td>800</td>\n",
       "      <td>Charlie</td>\n",
       "      <td>New York</td>\n",
       "    </tr>\n",
       "    <tr>\n",
       "      <th>3</th>\n",
       "      <td>2022-01-04</td>\n",
       "      <td>1200</td>\n",
       "      <td>David</td>\n",
       "      <td>San Francisco</td>\n",
       "    </tr>\n",
       "  </tbody>\n",
       "</table>\n",
       "</div>"
      ],
      "text/plain": [
       "         Date  Amount Salesperson       Location\n",
       "0  2022-01-01    1000       Alice       New York\n",
       "1  2022-01-02    1500         Bob  San Francisco\n",
       "2  2022-01-03     800     Charlie       New York\n",
       "3  2022-01-04    1200       David  San Francisco"
      ]
     },
     "execution_count": 7,
     "metadata": {},
     "output_type": "execute_result"
    }
   ],
   "source": [
    "# 读取示例数据\n",
    "df2 = pd.read_csv(\"example2.csv\")\n",
    "df2"
   ]
  },
  {
   "cell_type": "code",
   "execution_count": 8,
   "id": "5eedf458",
   "metadata": {},
   "outputs": [],
   "source": [
    "# 任务三：把 df2 的列名全部转换为大写后进行输出（不需要改变 df2）\n",
    "\n"
   ]
  },
  {
   "cell_type": "markdown",
   "id": "8e90ec54",
   "metadata": {},
   "source": [
    "## 把某列设为索引"
   ]
  },
  {
   "cell_type": "code",
   "execution_count": 9,
   "id": "96b57bbd",
   "metadata": {},
   "outputs": [],
   "source": [
    "# 任务四：把 df2 的 Salesperson 列作为索引，然后把返回的新 DataFrame 赋值给 df3 后进行输出（不需要改变 df2）\n",
    "\n"
   ]
  },
  {
   "cell_type": "markdown",
   "id": "14cf96ba",
   "metadata": {},
   "source": [
    "## 重设索引"
   ]
  },
  {
   "cell_type": "code",
   "execution_count": 10,
   "id": "3791aab9",
   "metadata": {},
   "outputs": [],
   "source": [
    "# 任务五：把 df3 的索引重设为默认的位置索引后进行输出（不需要改变 df3）\n",
    "\n"
   ]
  },
  {
   "cell_type": "markdown",
   "id": "455552b4",
   "metadata": {},
   "source": [
    "## 对索引和列名重新排序"
   ]
  },
  {
   "cell_type": "code",
   "execution_count": 11,
   "id": "3575fe25",
   "metadata": {},
   "outputs": [
    {
     "data": {
      "text/html": [
       "<div>\n",
       "<style scoped>\n",
       "    .dataframe tbody tr th:only-of-type {\n",
       "        vertical-align: middle;\n",
       "    }\n",
       "\n",
       "    .dataframe tbody tr th {\n",
       "        vertical-align: top;\n",
       "    }\n",
       "\n",
       "    .dataframe thead th {\n",
       "        text-align: right;\n",
       "    }\n",
       "</style>\n",
       "<table border=\"1\" class=\"dataframe\">\n",
       "  <thead>\n",
       "    <tr style=\"text-align: right;\">\n",
       "      <th></th>\n",
       "      <th>客户姓名</th>\n",
       "      <th>客户性别</th>\n",
       "      <th>客户年龄</th>\n",
       "      <th>客户邮箱</th>\n",
       "    </tr>\n",
       "  </thead>\n",
       "  <tbody>\n",
       "    <tr>\n",
       "      <th>a</th>\n",
       "      <td>李十</td>\n",
       "      <td>女</td>\n",
       "      <td>58</td>\n",
       "      <td>yVaQXekW@example.com</td>\n",
       "    </tr>\n",
       "    <tr>\n",
       "      <th>c</th>\n",
       "      <td>冯三</td>\n",
       "      <td>男</td>\n",
       "      <td>27</td>\n",
       "      <td>LctXbrEM@example.com</td>\n",
       "    </tr>\n",
       "    <tr>\n",
       "      <th>b</th>\n",
       "      <td>吴十</td>\n",
       "      <td>男</td>\n",
       "      <td>32</td>\n",
       "      <td>UyTYBzUZ@example.com</td>\n",
       "    </tr>\n",
       "    <tr>\n",
       "      <th>e</th>\n",
       "      <td>王十</td>\n",
       "      <td>女</td>\n",
       "      <td>58</td>\n",
       "      <td>KCixgciF@example.com</td>\n",
       "    </tr>\n",
       "    <tr>\n",
       "      <th>d</th>\n",
       "      <td>钱十</td>\n",
       "      <td>女</td>\n",
       "      <td>27</td>\n",
       "      <td>nqRBXOtA@example.com</td>\n",
       "    </tr>\n",
       "    <tr>\n",
       "      <th>f</th>\n",
       "      <td>赵八</td>\n",
       "      <td>女</td>\n",
       "      <td>51</td>\n",
       "      <td>GyKwILAL@example.com</td>\n",
       "    </tr>\n",
       "  </tbody>\n",
       "</table>\n",
       "</div>"
      ],
      "text/plain": [
       "  客户姓名 客户性别  客户年龄                  客户邮箱\n",
       "a   李十    女    58  yVaQXekW@example.com\n",
       "c   冯三    男    27  LctXbrEM@example.com\n",
       "b   吴十    男    32  UyTYBzUZ@example.com\n",
       "e   王十    女    58  KCixgciF@example.com\n",
       "d   钱十    女    27  nqRBXOtA@example.com\n",
       "f   赵八    女    51  GyKwILAL@example.com"
      ]
     },
     "execution_count": 11,
     "metadata": {},
     "output_type": "execute_result"
    }
   ],
   "source": [
    "# 读取示例数据\n",
    "df4 = pd.read_csv(\"example3.csv\", index_col=0)\n",
    "df4"
   ]
  },
  {
   "cell_type": "code",
   "execution_count": 12,
   "id": "487b2224",
   "metadata": {},
   "outputs": [],
   "source": [
    "# 任务六：把 df4 的索引重新排序后进行输出（不需要改变 df4）\n",
    "\n",
    "\n"
   ]
  },
  {
   "cell_type": "code",
   "execution_count": null,
   "id": "e883cdf1",
   "metadata": {},
   "outputs": [],
   "source": []
  }
 ],
 "metadata": {
  "kernelspec": {
   "display_name": "Python 3",
   "language": "python",
   "name": "python3"
  },
  "language_info": {
   "codemirror_mode": {
    "name": "ipython",
    "version": 3
   },
   "file_extension": ".py",
   "mimetype": "text/x-python",
   "name": "python",
   "nbconvert_exporter": "python",
   "pygments_lexer": "ipython3",
   "version": "3.8.1"
  }
 },
 "nbformat": 4,
 "nbformat_minor": 5
}
