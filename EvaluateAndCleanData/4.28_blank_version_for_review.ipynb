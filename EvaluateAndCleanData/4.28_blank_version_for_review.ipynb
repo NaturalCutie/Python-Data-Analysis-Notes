{
 "cells": [
  {
   "cell_type": "code",
   "execution_count": 1,
   "id": "f95858e8",
   "metadata": {},
   "outputs": [],
   "source": [
    "import pandas as pd"
   ]
  },
  {
   "cell_type": "markdown",
   "id": "ac3f848e",
   "metadata": {},
   "source": [
    "**复习任务：将所有以“任务X”开头的单元格补全**"
   ]
  },
  {
   "cell_type": "markdown",
   "id": "0aa2de41",
   "metadata": {},
   "source": [
    "## 对数据进行转置"
   ]
  },
  {
   "cell_type": "code",
   "execution_count": 2,
   "id": "111eecd6",
   "metadata": {},
   "outputs": [
    {
     "data": {
      "text/html": [
       "<div>\n",
       "<style scoped>\n",
       "    .dataframe tbody tr th:only-of-type {\n",
       "        vertical-align: middle;\n",
       "    }\n",
       "\n",
       "    .dataframe tbody tr th {\n",
       "        vertical-align: top;\n",
       "    }\n",
       "\n",
       "    .dataframe thead th {\n",
       "        text-align: right;\n",
       "    }\n",
       "</style>\n",
       "<table border=\"1\" class=\"dataframe\">\n",
       "  <thead>\n",
       "    <tr style=\"text-align: right;\">\n",
       "      <th></th>\n",
       "      <th>0</th>\n",
       "      <th>1</th>\n",
       "      <th>2</th>\n",
       "    </tr>\n",
       "  </thead>\n",
       "  <tbody>\n",
       "    <tr>\n",
       "      <th>姓名</th>\n",
       "      <td>张三</td>\n",
       "      <td>李四</td>\n",
       "      <td>王五</td>\n",
       "    </tr>\n",
       "    <tr>\n",
       "      <th>年龄</th>\n",
       "      <td>30</td>\n",
       "      <td>25</td>\n",
       "      <td>28</td>\n",
       "    </tr>\n",
       "    <tr>\n",
       "      <th>地址</th>\n",
       "      <td>北京</td>\n",
       "      <td>上海</td>\n",
       "      <td>广州</td>\n",
       "    </tr>\n",
       "  </tbody>\n",
       "</table>\n",
       "</div>"
      ],
      "text/plain": [
       "     0   1   2\n",
       "姓名  张三  李四  王五\n",
       "年龄  30  25  28\n",
       "地址  北京  上海  广州"
      ]
     },
     "execution_count": 2,
     "metadata": {},
     "output_type": "execute_result"
    }
   ],
   "source": [
    "# 读取示例数据\n",
    "df1 = pd.read_csv(\"example4.csv\", index_col=0)\n",
    "df1"
   ]
  },
  {
   "cell_type": "code",
   "execution_count": 3,
   "id": "3c8c1ec2",
   "metadata": {},
   "outputs": [],
   "source": [
    "# 任务一：\n",
    "# 对df1进行操作，使df1符合“每列是一个变量、每行是一个观察值”\n",
    "\n",
    "\n"
   ]
  },
  {
   "cell_type": "markdown",
   "id": "d8f6a24e",
   "metadata": {},
   "source": [
    "## 对列进行拆分"
   ]
  },
  {
   "cell_type": "code",
   "execution_count": 4,
   "id": "4de44676",
   "metadata": {},
   "outputs": [
    {
     "data": {
      "text/html": [
       "<div>\n",
       "<style scoped>\n",
       "    .dataframe tbody tr th:only-of-type {\n",
       "        vertical-align: middle;\n",
       "    }\n",
       "\n",
       "    .dataframe tbody tr th {\n",
       "        vertical-align: top;\n",
       "    }\n",
       "\n",
       "    .dataframe thead th {\n",
       "        text-align: right;\n",
       "    }\n",
       "</style>\n",
       "<table border=\"1\" class=\"dataframe\">\n",
       "  <thead>\n",
       "    <tr style=\"text-align: right;\">\n",
       "      <th></th>\n",
       "      <th>城市</th>\n",
       "      <th>人口密度</th>\n",
       "    </tr>\n",
       "  </thead>\n",
       "  <tbody>\n",
       "    <tr>\n",
       "      <th>0</th>\n",
       "      <td>城市A</td>\n",
       "      <td>28.53万人/0.87平方公里</td>\n",
       "    </tr>\n",
       "    <tr>\n",
       "      <th>1</th>\n",
       "      <td>城市B</td>\n",
       "      <td>37.83万人/2.19平方公里</td>\n",
       "    </tr>\n",
       "    <tr>\n",
       "      <th>2</th>\n",
       "      <td>城市C</td>\n",
       "      <td>15.3万人/1.57平方公里</td>\n",
       "    </tr>\n",
       "  </tbody>\n",
       "</table>\n",
       "</div>"
      ],
      "text/plain": [
       "    城市              人口密度\n",
       "0  城市A  28.53万人/0.87平方公里\n",
       "1  城市B  37.83万人/2.19平方公里\n",
       "2  城市C   15.3万人/1.57平方公里"
      ]
     },
     "execution_count": 4,
     "metadata": {},
     "output_type": "execute_result"
    }
   ],
   "source": [
    "# 读取示例数据\n",
    "df2 = pd.read_csv(\"example5.csv\")\n",
    "df2"
   ]
  },
  {
   "cell_type": "code",
   "execution_count": 5,
   "id": "d21266ae",
   "metadata": {},
   "outputs": [],
   "source": [
    "# 任务二：\n",
    "# 把df2的人口密度列进行拆分，使得最终df2包含“城市”、“人口”、“面积”三列\n",
    "\n",
    "\n"
   ]
  },
  {
   "cell_type": "markdown",
   "id": "bf823f35",
   "metadata": {},
   "source": [
    "## 把不同列合并成一列"
   ]
  },
  {
   "cell_type": "code",
   "execution_count": 6,
   "id": "18e8c426",
   "metadata": {},
   "outputs": [
    {
     "data": {
      "text/html": [
       "<div>\n",
       "<style scoped>\n",
       "    .dataframe tbody tr th:only-of-type {\n",
       "        vertical-align: middle;\n",
       "    }\n",
       "\n",
       "    .dataframe tbody tr th {\n",
       "        vertical-align: top;\n",
       "    }\n",
       "\n",
       "    .dataframe thead th {\n",
       "        text-align: right;\n",
       "    }\n",
       "</style>\n",
       "<table border=\"1\" class=\"dataframe\">\n",
       "  <thead>\n",
       "    <tr style=\"text-align: right;\">\n",
       "      <th></th>\n",
       "      <th>姓</th>\n",
       "      <th>名</th>\n",
       "      <th>年龄</th>\n",
       "    </tr>\n",
       "  </thead>\n",
       "  <tbody>\n",
       "    <tr>\n",
       "      <th>0</th>\n",
       "      <td>张</td>\n",
       "      <td>三</td>\n",
       "      <td>30</td>\n",
       "    </tr>\n",
       "    <tr>\n",
       "      <th>1</th>\n",
       "      <td>李</td>\n",
       "      <td>四</td>\n",
       "      <td>25</td>\n",
       "    </tr>\n",
       "    <tr>\n",
       "      <th>2</th>\n",
       "      <td>王</td>\n",
       "      <td>五</td>\n",
       "      <td>35</td>\n",
       "    </tr>\n",
       "  </tbody>\n",
       "</table>\n",
       "</div>"
      ],
      "text/plain": [
       "   姓  名  年龄\n",
       "0  张  三  30\n",
       "1  李  四  25\n",
       "2  王  五  35"
      ]
     },
     "execution_count": 6,
     "metadata": {},
     "output_type": "execute_result"
    }
   ],
   "source": [
    "df3 = pd.DataFrame({'姓': ['张', '李', '王'], '名': ['三', '四', '五'], '年龄': [30, 25, 35]})\n",
    "df3"
   ]
  },
  {
   "cell_type": "code",
   "execution_count": 7,
   "id": "bbc80fe2",
   "metadata": {},
   "outputs": [],
   "source": [
    "# 任务三：\n",
    "# 把df3的姓和名两列进行合并，得到“姓名”列，并且使得最终df3包含“年龄”、“姓名”两列\n",
    "\n",
    "\n"
   ]
  },
  {
   "cell_type": "markdown",
   "id": "b86076da",
   "metadata": {},
   "source": [
    "## 把宽数据转换成长数据"
   ]
  },
  {
   "cell_type": "code",
   "execution_count": 8,
   "id": "4d09e2fc",
   "metadata": {},
   "outputs": [
    {
     "data": {
      "text/html": [
       "<div>\n",
       "<style scoped>\n",
       "    .dataframe tbody tr th:only-of-type {\n",
       "        vertical-align: middle;\n",
       "    }\n",
       "\n",
       "    .dataframe tbody tr th {\n",
       "        vertical-align: top;\n",
       "    }\n",
       "\n",
       "    .dataframe thead th {\n",
       "        text-align: right;\n",
       "    }\n",
       "</style>\n",
       "<table border=\"1\" class=\"dataframe\">\n",
       "  <thead>\n",
       "    <tr style=\"text-align: right;\">\n",
       "      <th></th>\n",
       "      <th>国家代码</th>\n",
       "      <th>年份</th>\n",
       "      <th>男性年龄组（0-4岁）</th>\n",
       "      <th>男性年龄组（5-14岁）</th>\n",
       "      <th>男性年龄组（15-24岁）</th>\n",
       "      <th>女性年龄组（0-4岁）</th>\n",
       "      <th>女性年龄组（5-14岁）</th>\n",
       "      <th>女性年龄组（15-24岁）</th>\n",
       "    </tr>\n",
       "  </thead>\n",
       "  <tbody>\n",
       "    <tr>\n",
       "      <th>0</th>\n",
       "      <td>CN</td>\n",
       "      <td>2019</td>\n",
       "      <td>100</td>\n",
       "      <td>200</td>\n",
       "      <td>500</td>\n",
       "      <td>80</td>\n",
       "      <td>150</td>\n",
       "      <td>400</td>\n",
       "    </tr>\n",
       "    <tr>\n",
       "      <th>1</th>\n",
       "      <td>US</td>\n",
       "      <td>2019</td>\n",
       "      <td>50</td>\n",
       "      <td>150</td>\n",
       "      <td>300</td>\n",
       "      <td>40</td>\n",
       "      <td>100</td>\n",
       "      <td>200</td>\n",
       "    </tr>\n",
       "    <tr>\n",
       "      <th>2</th>\n",
       "      <td>JP</td>\n",
       "      <td>2019</td>\n",
       "      <td>30</td>\n",
       "      <td>120</td>\n",
       "      <td>250</td>\n",
       "      <td>20</td>\n",
       "      <td>80</td>\n",
       "      <td>150</td>\n",
       "    </tr>\n",
       "    <tr>\n",
       "      <th>3</th>\n",
       "      <td>IN</td>\n",
       "      <td>2019</td>\n",
       "      <td>80</td>\n",
       "      <td>180</td>\n",
       "      <td>400</td>\n",
       "      <td>60</td>\n",
       "      <td>120</td>\n",
       "      <td>300</td>\n",
       "    </tr>\n",
       "  </tbody>\n",
       "</table>\n",
       "</div>"
      ],
      "text/plain": [
       "  国家代码    年份  男性年龄组（0-4岁）  男性年龄组（5-14岁）  男性年龄组（15-24岁）  女性年龄组（0-4岁）   \n",
       "0   CN  2019          100           200            500           80  \\\n",
       "1   US  2019           50           150            300           40   \n",
       "2   JP  2019           30           120            250           20   \n",
       "3   IN  2019           80           180            400           60   \n",
       "\n",
       "   女性年龄组（5-14岁）  女性年龄组（15-24岁）  \n",
       "0           150            400  \n",
       "1           100            200  \n",
       "2            80            150  \n",
       "3           120            300  "
      ]
     },
     "execution_count": 8,
     "metadata": {},
     "output_type": "execute_result"
    }
   ],
   "source": [
    "# 读取示例数据\n",
    "df4 = pd.read_csv(\"example6.csv\")\n",
    "df4"
   ]
  },
  {
   "cell_type": "code",
   "execution_count": 9,
   "id": "4250d3b1",
   "metadata": {},
   "outputs": [],
   "source": [
    "# 任务四：\n",
    "# 把df4转换为长数据后进行输出，输出结果包含“国家代码”、“年份”、“年龄组”、“肺结核病例数”四列（不需要改变 df4）\n",
    "\n",
    "\n"
   ]
  },
  {
   "cell_type": "markdown",
   "id": "0723283c",
   "metadata": {},
   "source": [
    "## 对行进行拆分"
   ]
  },
  {
   "cell_type": "code",
   "execution_count": 10,
   "id": "a24ef788",
   "metadata": {},
   "outputs": [
    {
     "data": {
      "text/html": [
       "<div>\n",
       "<style scoped>\n",
       "    .dataframe tbody tr th:only-of-type {\n",
       "        vertical-align: middle;\n",
       "    }\n",
       "\n",
       "    .dataframe tbody tr th {\n",
       "        vertical-align: top;\n",
       "    }\n",
       "\n",
       "    .dataframe thead th {\n",
       "        text-align: right;\n",
       "    }\n",
       "</style>\n",
       "<table border=\"1\" class=\"dataframe\">\n",
       "  <thead>\n",
       "    <tr style=\"text-align: right;\">\n",
       "      <th></th>\n",
       "      <th>学生姓名</th>\n",
       "      <th>学号</th>\n",
       "      <th>课程列表</th>\n",
       "    </tr>\n",
       "  </thead>\n",
       "  <tbody>\n",
       "    <tr>\n",
       "      <th>0</th>\n",
       "      <td>张三</td>\n",
       "      <td>1</td>\n",
       "      <td>['数学', '物理']</td>\n",
       "    </tr>\n",
       "    <tr>\n",
       "      <th>1</th>\n",
       "      <td>李四</td>\n",
       "      <td>2</td>\n",
       "      <td>['英语', '化学', '历史']</td>\n",
       "    </tr>\n",
       "    <tr>\n",
       "      <th>2</th>\n",
       "      <td>王五</td>\n",
       "      <td>3</td>\n",
       "      <td>['语文', '数学', '英语', '政治']</td>\n",
       "    </tr>\n",
       "    <tr>\n",
       "      <th>3</th>\n",
       "      <td>赵六</td>\n",
       "      <td>4</td>\n",
       "      <td>['物理', '生物']</td>\n",
       "    </tr>\n",
       "  </tbody>\n",
       "</table>\n",
       "</div>"
      ],
      "text/plain": [
       "  学生姓名  学号                      课程列表\n",
       "0   张三   1              ['数学', '物理']\n",
       "1   李四   2        ['英语', '化学', '历史']\n",
       "2   王五   3  ['语文', '数学', '英语', '政治']\n",
       "3   赵六   4              ['物理', '生物']"
      ]
     },
     "execution_count": 10,
     "metadata": {},
     "output_type": "execute_result"
    }
   ],
   "source": [
    "# 读取示例数据\n",
    "df5 = pd.read_csv(\"example7.csv\")\n",
    "df5"
   ]
  },
  {
   "cell_type": "code",
   "execution_count": 11,
   "id": "d5175c77",
   "metadata": {},
   "outputs": [],
   "source": [
    "# 任务五：\n",
    "# 把df5“课程列表”里面的各个元素分别拆分到每行后进行输出（不需要改变 df5）\n",
    "\n",
    "\n"
   ]
  },
  {
   "cell_type": "markdown",
   "id": "234ed06e",
   "metadata": {},
   "source": [
    "## 对行或列进行删除"
   ]
  },
  {
   "cell_type": "code",
   "execution_count": 12,
   "id": "65bbe08f",
   "metadata": {},
   "outputs": [
    {
     "data": {
      "text/html": [
       "<div>\n",
       "<style scoped>\n",
       "    .dataframe tbody tr th:only-of-type {\n",
       "        vertical-align: middle;\n",
       "    }\n",
       "\n",
       "    .dataframe tbody tr th {\n",
       "        vertical-align: top;\n",
       "    }\n",
       "\n",
       "    .dataframe thead th {\n",
       "        text-align: right;\n",
       "    }\n",
       "</style>\n",
       "<table border=\"1\" class=\"dataframe\">\n",
       "  <thead>\n",
       "    <tr style=\"text-align: right;\">\n",
       "      <th></th>\n",
       "      <th>姓名</th>\n",
       "      <th>考试1</th>\n",
       "      <th>考试2</th>\n",
       "      <th>考试3</th>\n",
       "    </tr>\n",
       "  </thead>\n",
       "  <tbody>\n",
       "    <tr>\n",
       "      <th>0</th>\n",
       "      <td>小陈</td>\n",
       "      <td>85</td>\n",
       "      <td>95</td>\n",
       "      <td>92</td>\n",
       "    </tr>\n",
       "    <tr>\n",
       "      <th>1</th>\n",
       "      <td>小李</td>\n",
       "      <td>91</td>\n",
       "      <td>92</td>\n",
       "      <td>94</td>\n",
       "    </tr>\n",
       "    <tr>\n",
       "      <th>2</th>\n",
       "      <td>小王</td>\n",
       "      <td>86</td>\n",
       "      <td>81</td>\n",
       "      <td>89</td>\n",
       "    </tr>\n",
       "    <tr>\n",
       "      <th>3</th>\n",
       "      <td>小张</td>\n",
       "      <td>79</td>\n",
       "      <td>89</td>\n",
       "      <td>95</td>\n",
       "    </tr>\n",
       "    <tr>\n",
       "      <th>4</th>\n",
       "      <td>小赵</td>\n",
       "      <td>96</td>\n",
       "      <td>91</td>\n",
       "      <td>91</td>\n",
       "    </tr>\n",
       "    <tr>\n",
       "      <th>5</th>\n",
       "      <td>小周</td>\n",
       "      <td>81</td>\n",
       "      <td>89</td>\n",
       "      <td>92</td>\n",
       "    </tr>\n",
       "  </tbody>\n",
       "</table>\n",
       "</div>"
      ],
      "text/plain": [
       "   姓名  考试1  考试2  考试3\n",
       "0  小陈   85   95   92\n",
       "1  小李   91   92   94\n",
       "2  小王   86   81   89\n",
       "3  小张   79   89   95\n",
       "4  小赵   96   91   91\n",
       "5  小周   81   89   92"
      ]
     },
     "execution_count": 12,
     "metadata": {},
     "output_type": "execute_result"
    }
   ],
   "source": [
    "# 读取示例数据\n",
    "df6 = pd.read_csv(\"example8.csv\")\n",
    "df6"
   ]
  },
  {
   "cell_type": "code",
   "execution_count": 13,
   "id": "2d45bd75",
   "metadata": {},
   "outputs": [],
   "source": [
    "# 任务六：\n",
    "# 把df6删除“考试2”和“考试3”后的结果进行输出（不需要改变 df6）\n",
    "\n",
    "\n"
   ]
  },
  {
   "cell_type": "code",
   "execution_count": 14,
   "id": "63cb9918",
   "metadata": {},
   "outputs": [],
   "source": [
    "# 任务七：\n",
    "# 把df6索引为2和4的行进行删除（需要改变 df6）\n",
    "\n",
    "\n"
   ]
  }
 ],
 "metadata": {
  "kernelspec": {
   "display_name": "Python 3",
   "language": "python",
   "name": "python3"
  },
  "language_info": {
   "codemirror_mode": {
    "name": "ipython",
    "version": 3
   },
   "file_extension": ".py",
   "mimetype": "text/x-python",
   "name": "python",
   "nbconvert_exporter": "python",
   "pygments_lexer": "ipython3",
   "version": "3.8.1"
  }
 },
 "nbformat": 4,
 "nbformat_minor": 5
}
