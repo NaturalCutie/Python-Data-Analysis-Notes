{
 "cells": [
  {
   "cell_type": "code",
   "execution_count": 1,
   "id": "271aead2",
   "metadata": {},
   "outputs": [],
   "source": [
    "import pandas as pd\n",
    "import numpy as np"
   ]
  },
  {
   "cell_type": "markdown",
   "id": "ac3f848e",
   "metadata": {},
   "source": [
    "**复习任务：将所有以“任务X”开头的单元格补全**"
   ]
  },
  {
   "cell_type": "markdown",
   "id": "4c193667",
   "metadata": {},
   "source": [
    "## 对整列缺失值进行填充"
   ]
  },
  {
   "cell_type": "code",
   "execution_count": 2,
   "id": "d8fd9a9b",
   "metadata": {},
   "outputs": [],
   "source": [
    "# 创建示例 DataFrame\n",
    "df1 = pd.DataFrame({\n",
    "    '日期': ['2005-01-01', '2005-01-02', '2005-01-03', '2005-01-03'],\n",
    "    '销售额': [1000, 1500, 800, 1200],\n",
    "    '销售人员': ['李华', '王磊', '刘娜', '张洋'],\n",
    "    '地址': ['苏州', '郑州', '南京', '西安']\n",
    "})\n",
    "df1 = df1.rename(index={\n",
    "    0: '001',\n",
    "    1: '002',\n",
    "    2: '003',\n",
    "    3: '004'\n",
    "})\n",
    "df1['国家'] = np.nan"
   ]
  },
  {
   "cell_type": "code",
   "execution_count": 3,
   "id": "41338a44",
   "metadata": {},
   "outputs": [
    {
     "data": {
      "text/html": [
       "<div>\n",
       "<style scoped>\n",
       "    .dataframe tbody tr th:only-of-type {\n",
       "        vertical-align: middle;\n",
       "    }\n",
       "\n",
       "    .dataframe tbody tr th {\n",
       "        vertical-align: top;\n",
       "    }\n",
       "\n",
       "    .dataframe thead th {\n",
       "        text-align: right;\n",
       "    }\n",
       "</style>\n",
       "<table border=\"1\" class=\"dataframe\">\n",
       "  <thead>\n",
       "    <tr style=\"text-align: right;\">\n",
       "      <th></th>\n",
       "      <th>日期</th>\n",
       "      <th>销售额</th>\n",
       "      <th>销售人员</th>\n",
       "      <th>地址</th>\n",
       "      <th>国家</th>\n",
       "    </tr>\n",
       "  </thead>\n",
       "  <tbody>\n",
       "    <tr>\n",
       "      <th>001</th>\n",
       "      <td>2005-01-01</td>\n",
       "      <td>1000</td>\n",
       "      <td>李华</td>\n",
       "      <td>苏州</td>\n",
       "      <td>NaN</td>\n",
       "    </tr>\n",
       "    <tr>\n",
       "      <th>002</th>\n",
       "      <td>2005-01-02</td>\n",
       "      <td>1500</td>\n",
       "      <td>王磊</td>\n",
       "      <td>郑州</td>\n",
       "      <td>NaN</td>\n",
       "    </tr>\n",
       "    <tr>\n",
       "      <th>003</th>\n",
       "      <td>2005-01-03</td>\n",
       "      <td>800</td>\n",
       "      <td>刘娜</td>\n",
       "      <td>南京</td>\n",
       "      <td>NaN</td>\n",
       "    </tr>\n",
       "    <tr>\n",
       "      <th>004</th>\n",
       "      <td>2005-01-03</td>\n",
       "      <td>1200</td>\n",
       "      <td>张洋</td>\n",
       "      <td>西安</td>\n",
       "      <td>NaN</td>\n",
       "    </tr>\n",
       "  </tbody>\n",
       "</table>\n",
       "</div>"
      ],
      "text/plain": [
       "             日期   销售额 销售人员  地址  国家\n",
       "001  2005-01-01  1000   李华  苏州 NaN\n",
       "002  2005-01-02  1500   王磊  郑州 NaN\n",
       "003  2005-01-03   800   刘娜  南京 NaN\n",
       "004  2005-01-03  1200   张洋  西安 NaN"
      ]
     },
     "execution_count": 3,
     "metadata": {},
     "output_type": "execute_result"
    }
   ],
   "source": [
    "df1"
   ]
  },
  {
   "cell_type": "code",
   "execution_count": 4,
   "id": "4327cd71",
   "metadata": {},
   "outputs": [],
   "source": [
    "# 任务1：\n",
    "# 把df1“国家”列的缺失值全部替换成“中国”，并输出d1，验证改变生效\n",
    "\n",
    "\n"
   ]
  },
  {
   "cell_type": "markdown",
   "id": "2612c6c7",
   "metadata": {},
   "source": [
    "## 对某个缺失值进行填充"
   ]
  },
  {
   "cell_type": "code",
   "execution_count": 5,
   "id": "795fb80d",
   "metadata": {},
   "outputs": [],
   "source": [
    "# 创建示例 DataFrame\n",
    "df2 = pd.DataFrame({\n",
    "    '日期': ['2005-01-01', '2005-01-02', '2005-01-03', '2005-01-03'],\n",
    "    '销售额': [1000, 1500, np.nan, 1200],\n",
    "    '销售人员': ['李华', '王磊', '刘娜', '张洋'],\n",
    "    '地址': ['苏州', '郑州', '南京', '西安']\n",
    "})\n",
    "df2 = df2.rename(index={\n",
    "    0: '001',\n",
    "    1: '002',\n",
    "    2: '003',\n",
    "    3: '004'\n",
    "})"
   ]
  },
  {
   "cell_type": "code",
   "execution_count": 6,
   "id": "1a91fcb0",
   "metadata": {},
   "outputs": [
    {
     "data": {
      "text/html": [
       "<div>\n",
       "<style scoped>\n",
       "    .dataframe tbody tr th:only-of-type {\n",
       "        vertical-align: middle;\n",
       "    }\n",
       "\n",
       "    .dataframe tbody tr th {\n",
       "        vertical-align: top;\n",
       "    }\n",
       "\n",
       "    .dataframe thead th {\n",
       "        text-align: right;\n",
       "    }\n",
       "</style>\n",
       "<table border=\"1\" class=\"dataframe\">\n",
       "  <thead>\n",
       "    <tr style=\"text-align: right;\">\n",
       "      <th></th>\n",
       "      <th>日期</th>\n",
       "      <th>销售额</th>\n",
       "      <th>销售人员</th>\n",
       "      <th>地址</th>\n",
       "    </tr>\n",
       "  </thead>\n",
       "  <tbody>\n",
       "    <tr>\n",
       "      <th>001</th>\n",
       "      <td>2005-01-01</td>\n",
       "      <td>1000.0</td>\n",
       "      <td>李华</td>\n",
       "      <td>苏州</td>\n",
       "    </tr>\n",
       "    <tr>\n",
       "      <th>002</th>\n",
       "      <td>2005-01-02</td>\n",
       "      <td>1500.0</td>\n",
       "      <td>王磊</td>\n",
       "      <td>郑州</td>\n",
       "    </tr>\n",
       "    <tr>\n",
       "      <th>003</th>\n",
       "      <td>2005-01-03</td>\n",
       "      <td>NaN</td>\n",
       "      <td>刘娜</td>\n",
       "      <td>南京</td>\n",
       "    </tr>\n",
       "    <tr>\n",
       "      <th>004</th>\n",
       "      <td>2005-01-03</td>\n",
       "      <td>1200.0</td>\n",
       "      <td>张洋</td>\n",
       "      <td>西安</td>\n",
       "    </tr>\n",
       "  </tbody>\n",
       "</table>\n",
       "</div>"
      ],
      "text/plain": [
       "             日期     销售额 销售人员  地址\n",
       "001  2005-01-01  1000.0   李华  苏州\n",
       "002  2005-01-02  1500.0   王磊  郑州\n",
       "003  2005-01-03     NaN   刘娜  南京\n",
       "004  2005-01-03  1200.0   张洋  西安"
      ]
     },
     "execution_count": 6,
     "metadata": {},
     "output_type": "execute_result"
    }
   ],
   "source": [
    "df2"
   ]
  },
  {
   "cell_type": "code",
   "execution_count": 7,
   "id": "c1cab947",
   "metadata": {},
   "outputs": [],
   "source": [
    "# 任务2：\n",
    "# 把df2里唯一的缺失值填充为800，并输出d2，验证改变生效\n",
    "\n",
    "\n"
   ]
  },
  {
   "cell_type": "markdown",
   "id": "53fc2cd5",
   "metadata": {},
   "source": [
    "## 对部分缺失值进行填充"
   ]
  },
  {
   "cell_type": "code",
   "execution_count": 8,
   "id": "323c1524",
   "metadata": {},
   "outputs": [],
   "source": [
    "# 创建示例 DataFrame\n",
    "df3 = pd.DataFrame({\n",
    "    '日期': ['2005-01-01', '2005-01-02', np.nan, np.nan],\n",
    "    '销售额': [1000, 1500, 800, 1200],\n",
    "    '销售人员': ['李华', '王磊', '刘娜', '张洋'],\n",
    "    '地址': ['苏州', '郑州', '南京', '西安']\n",
    "})\n",
    "df3 = df3.rename(index={\n",
    "    0: '001',\n",
    "    1: '002',\n",
    "    2: '003',\n",
    "    3: '004'\n",
    "})"
   ]
  },
  {
   "cell_type": "code",
   "execution_count": 9,
   "id": "ffd32624",
   "metadata": {},
   "outputs": [
    {
     "data": {
      "text/html": [
       "<div>\n",
       "<style scoped>\n",
       "    .dataframe tbody tr th:only-of-type {\n",
       "        vertical-align: middle;\n",
       "    }\n",
       "\n",
       "    .dataframe tbody tr th {\n",
       "        vertical-align: top;\n",
       "    }\n",
       "\n",
       "    .dataframe thead th {\n",
       "        text-align: right;\n",
       "    }\n",
       "</style>\n",
       "<table border=\"1\" class=\"dataframe\">\n",
       "  <thead>\n",
       "    <tr style=\"text-align: right;\">\n",
       "      <th></th>\n",
       "      <th>日期</th>\n",
       "      <th>销售额</th>\n",
       "      <th>销售人员</th>\n",
       "      <th>地址</th>\n",
       "    </tr>\n",
       "  </thead>\n",
       "  <tbody>\n",
       "    <tr>\n",
       "      <th>001</th>\n",
       "      <td>2005-01-01</td>\n",
       "      <td>1000</td>\n",
       "      <td>李华</td>\n",
       "      <td>苏州</td>\n",
       "    </tr>\n",
       "    <tr>\n",
       "      <th>002</th>\n",
       "      <td>2005-01-02</td>\n",
       "      <td>1500</td>\n",
       "      <td>王磊</td>\n",
       "      <td>郑州</td>\n",
       "    </tr>\n",
       "    <tr>\n",
       "      <th>003</th>\n",
       "      <td>NaN</td>\n",
       "      <td>800</td>\n",
       "      <td>刘娜</td>\n",
       "      <td>南京</td>\n",
       "    </tr>\n",
       "    <tr>\n",
       "      <th>004</th>\n",
       "      <td>NaN</td>\n",
       "      <td>1200</td>\n",
       "      <td>张洋</td>\n",
       "      <td>西安</td>\n",
       "    </tr>\n",
       "  </tbody>\n",
       "</table>\n",
       "</div>"
      ],
      "text/plain": [
       "             日期   销售额 销售人员  地址\n",
       "001  2005-01-01  1000   李华  苏州\n",
       "002  2005-01-02  1500   王磊  郑州\n",
       "003         NaN   800   刘娜  南京\n",
       "004         NaN  1200   张洋  西安"
      ]
     },
     "execution_count": 9,
     "metadata": {},
     "output_type": "execute_result"
    }
   ],
   "source": [
    "df3"
   ]
  },
  {
   "cell_type": "code",
   "execution_count": 10,
   "id": "08c9f668",
   "metadata": {},
   "outputs": [],
   "source": [
    "# 任务3：\n",
    "# 把df3里缺失的日期都填充为“2005-01-03”，并输出d3，验证改变生效\n",
    "\n",
    "\n"
   ]
  },
  {
   "cell_type": "markdown",
   "id": "37753ac1",
   "metadata": {},
   "source": [
    "## 自动找到缺失值进行填充"
   ]
  },
  {
   "cell_type": "code",
   "execution_count": 11,
   "id": "57ff8fce",
   "metadata": {},
   "outputs": [
    {
     "data": {
      "text/html": [
       "<div>\n",
       "<style scoped>\n",
       "    .dataframe tbody tr th:only-of-type {\n",
       "        vertical-align: middle;\n",
       "    }\n",
       "\n",
       "    .dataframe tbody tr th {\n",
       "        vertical-align: top;\n",
       "    }\n",
       "\n",
       "    .dataframe thead th {\n",
       "        text-align: right;\n",
       "    }\n",
       "</style>\n",
       "<table border=\"1\" class=\"dataframe\">\n",
       "  <thead>\n",
       "    <tr style=\"text-align: right;\">\n",
       "      <th></th>\n",
       "      <th>A</th>\n",
       "      <th>B</th>\n",
       "      <th>C</th>\n",
       "    </tr>\n",
       "  </thead>\n",
       "  <tbody>\n",
       "    <tr>\n",
       "      <th>0</th>\n",
       "      <td>1.0</td>\n",
       "      <td>5.0</td>\n",
       "      <td>8</td>\n",
       "    </tr>\n",
       "    <tr>\n",
       "      <th>1</th>\n",
       "      <td>2.0</td>\n",
       "      <td>NaN</td>\n",
       "      <td>9</td>\n",
       "    </tr>\n",
       "    <tr>\n",
       "      <th>2</th>\n",
       "      <td>NaN</td>\n",
       "      <td>7.0</td>\n",
       "      <td>10</td>\n",
       "    </tr>\n",
       "    <tr>\n",
       "      <th>3</th>\n",
       "      <td>4.0</td>\n",
       "      <td>NaN</td>\n",
       "      <td>11</td>\n",
       "    </tr>\n",
       "  </tbody>\n",
       "</table>\n",
       "</div>"
      ],
      "text/plain": [
       "     A    B   C\n",
       "0  1.0  5.0   8\n",
       "1  2.0  NaN   9\n",
       "2  NaN  7.0  10\n",
       "3  4.0  NaN  11"
      ]
     },
     "execution_count": 11,
     "metadata": {},
     "output_type": "execute_result"
    }
   ],
   "source": [
    "# 创建示例 DataFrame\n",
    "df4 = pd.DataFrame({'A': [1, 2, np.nan, 4],\n",
    "                   'B': [5, np.nan, 7, np.nan],\n",
    "                   'C': [8, 9, 10, 11]})\n",
    "df4"
   ]
  },
  {
   "cell_type": "code",
   "execution_count": 12,
   "id": "a505aea6",
   "metadata": {},
   "outputs": [],
   "source": [
    "# 任务4：\n",
    "# 输出把df4的“B”列里的空缺值，全部用0填充后的Series结果\n",
    "\n",
    "\n"
   ]
  },
  {
   "cell_type": "code",
   "execution_count": 13,
   "id": "2cd1fb59",
   "metadata": {},
   "outputs": [],
   "source": [
    "# 任务5：\n",
    "# 输出把df4的“B”列里的空缺值，全部用“B”列平均值填充后的Series结果\n",
    "\n",
    "\n"
   ]
  },
  {
   "cell_type": "code",
   "execution_count": 14,
   "id": "b37860ef",
   "metadata": {},
   "outputs": [],
   "source": [
    "# 任务6：\n",
    "# 输出把df4里的空缺值，全部用0填充后的结果（不改变df4本身）\n",
    "\n",
    "\n"
   ]
  },
  {
   "cell_type": "code",
   "execution_count": 15,
   "id": "f4f71b8b",
   "metadata": {},
   "outputs": [],
   "source": [
    "# 任务7：\n",
    "# 输出把df4里的“A”列空缺值用0填充、“B”列空缺值用10填充、“C”列空缺值用20填充后的结果（不改变df4本身）\n",
    "\n",
    "\n"
   ]
  },
  {
   "cell_type": "code",
   "execution_count": 16,
   "id": "8df257cf",
   "metadata": {},
   "outputs": [],
   "source": [
    "# 任务8：\n",
    "# 把df4里的空缺值，全部用0填充（需要改变df4本身）\n",
    "\n",
    "\n"
   ]
  },
  {
   "cell_type": "markdown",
   "id": "339582be",
   "metadata": {},
   "source": [
    "## 删除存在缺失值的行/列"
   ]
  },
  {
   "cell_type": "code",
   "execution_count": 17,
   "id": "7e2e0183",
   "metadata": {},
   "outputs": [
    {
     "data": {
      "text/html": [
       "<div>\n",
       "<style scoped>\n",
       "    .dataframe tbody tr th:only-of-type {\n",
       "        vertical-align: middle;\n",
       "    }\n",
       "\n",
       "    .dataframe tbody tr th {\n",
       "        vertical-align: top;\n",
       "    }\n",
       "\n",
       "    .dataframe thead th {\n",
       "        text-align: right;\n",
       "    }\n",
       "</style>\n",
       "<table border=\"1\" class=\"dataframe\">\n",
       "  <thead>\n",
       "    <tr style=\"text-align: right;\">\n",
       "      <th></th>\n",
       "      <th>姓名</th>\n",
       "      <th>年龄</th>\n",
       "      <th>工资</th>\n",
       "      <th>性别</th>\n",
       "    </tr>\n",
       "  </thead>\n",
       "  <tbody>\n",
       "    <tr>\n",
       "      <th>0</th>\n",
       "      <td>John</td>\n",
       "      <td>25.0</td>\n",
       "      <td>50000.0</td>\n",
       "      <td>M</td>\n",
       "    </tr>\n",
       "    <tr>\n",
       "      <th>1</th>\n",
       "      <td>Alice</td>\n",
       "      <td>30.0</td>\n",
       "      <td>NaN</td>\n",
       "      <td>F</td>\n",
       "    </tr>\n",
       "    <tr>\n",
       "      <th>2</th>\n",
       "      <td>Bob</td>\n",
       "      <td>NaN</td>\n",
       "      <td>70000.0</td>\n",
       "      <td>M</td>\n",
       "    </tr>\n",
       "    <tr>\n",
       "      <th>3</th>\n",
       "      <td>Mary</td>\n",
       "      <td>40.0</td>\n",
       "      <td>60000.0</td>\n",
       "      <td>F</td>\n",
       "    </tr>\n",
       "  </tbody>\n",
       "</table>\n",
       "</div>"
      ],
      "text/plain": [
       "      姓名    年龄       工资 性别\n",
       "0   John  25.0  50000.0  M\n",
       "1  Alice  30.0      NaN  F\n",
       "2    Bob   NaN  70000.0  M\n",
       "3   Mary  40.0  60000.0  F"
      ]
     },
     "execution_count": 17,
     "metadata": {},
     "output_type": "execute_result"
    }
   ],
   "source": [
    "# 创建示例 DataFrame\n",
    "df5 = pd.DataFrame({\n",
    "    '姓名': ['John', 'Alice', 'Bob', 'Mary'],\n",
    "    '年龄': [25, 30, np.nan, 40],\n",
    "    '工资': [50000, np.nan, 70000, 60000],\n",
    "    '性别': ['M', 'F', 'M', 'F']\n",
    "})\n",
    "df5"
   ]
  },
  {
   "cell_type": "code",
   "execution_count": 18,
   "id": "01573dc7",
   "metadata": {},
   "outputs": [],
   "source": [
    "# 任务9：\n",
    "# 输出把df5里带空缺值的行删除后的结果（不改变df5本身）\n",
    "\n",
    "\n"
   ]
  },
  {
   "cell_type": "code",
   "execution_count": 19,
   "id": "6a6579b7",
   "metadata": {},
   "outputs": [],
   "source": [
    "# 任务10：\n",
    "# 输出把df5里“工资”变量空缺的行删除后的结果（不改变df5本身）\n",
    "\n",
    "\n"
   ]
  },
  {
   "cell_type": "code",
   "execution_count": 20,
   "id": "bc9c8c59",
   "metadata": {},
   "outputs": [],
   "source": [
    "# 任务11：\n",
    "# 输出把df5里带空缺值的列删除后的结果（不改变df5本身）\n",
    "\n",
    "\n"
   ]
  },
  {
   "cell_type": "code",
   "execution_count": 21,
   "id": "97362a38",
   "metadata": {},
   "outputs": [],
   "source": [
    "# 任务12：\n",
    "# 输出把df5索引为1、2的行范围里，带空缺值的列删除后的结果（不改变df5本身）\n",
    "\n",
    "\n"
   ]
  },
  {
   "cell_type": "markdown",
   "id": "05c95d43",
   "metadata": {},
   "source": [
    "## 删除重复数据"
   ]
  },
  {
   "cell_type": "code",
   "execution_count": 22,
   "id": "27c1d290",
   "metadata": {},
   "outputs": [
    {
     "data": {
      "text/html": [
       "<div>\n",
       "<style scoped>\n",
       "    .dataframe tbody tr th:only-of-type {\n",
       "        vertical-align: middle;\n",
       "    }\n",
       "\n",
       "    .dataframe tbody tr th {\n",
       "        vertical-align: top;\n",
       "    }\n",
       "\n",
       "    .dataframe thead th {\n",
       "        text-align: right;\n",
       "    }\n",
       "</style>\n",
       "<table border=\"1\" class=\"dataframe\">\n",
       "  <thead>\n",
       "    <tr style=\"text-align: right;\">\n",
       "      <th></th>\n",
       "      <th>姓名</th>\n",
       "      <th>年龄</th>\n",
       "      <th>性别</th>\n",
       "    </tr>\n",
       "  </thead>\n",
       "  <tbody>\n",
       "    <tr>\n",
       "      <th>0</th>\n",
       "      <td>John</td>\n",
       "      <td>25</td>\n",
       "      <td>M</td>\n",
       "    </tr>\n",
       "    <tr>\n",
       "      <th>1</th>\n",
       "      <td>Alice</td>\n",
       "      <td>30</td>\n",
       "      <td>F</td>\n",
       "    </tr>\n",
       "    <tr>\n",
       "      <th>2</th>\n",
       "      <td>Bob</td>\n",
       "      <td>35</td>\n",
       "      <td>M</td>\n",
       "    </tr>\n",
       "    <tr>\n",
       "      <th>3</th>\n",
       "      <td>Alice</td>\n",
       "      <td>30</td>\n",
       "      <td>F</td>\n",
       "    </tr>\n",
       "    <tr>\n",
       "      <th>4</th>\n",
       "      <td>John</td>\n",
       "      <td>40</td>\n",
       "      <td>M</td>\n",
       "    </tr>\n",
       "  </tbody>\n",
       "</table>\n",
       "</div>"
      ],
      "text/plain": [
       "      姓名  年龄 性别\n",
       "0   John  25  M\n",
       "1  Alice  30  F\n",
       "2    Bob  35  M\n",
       "3  Alice  30  F\n",
       "4   John  40  M"
      ]
     },
     "execution_count": 22,
     "metadata": {},
     "output_type": "execute_result"
    }
   ],
   "source": [
    "df6 = pd.DataFrame({\n",
    "    '姓名': ['John', 'Alice', 'Bob', 'Alice', 'John'],\n",
    "    '年龄': [25, 30, 35, 30, 40],\n",
    "    '性别': ['M', 'F', 'M', 'F', 'M']\n",
    "})\n",
    "df6"
   ]
  },
  {
   "cell_type": "code",
   "execution_count": 23,
   "id": "72eddd3c",
   "metadata": {},
   "outputs": [],
   "source": [
    "# 任务13：\n",
    "# 输出把df6里重复的行删除后的结果（不改变df6本身）\n",
    "\n",
    "\n"
   ]
  },
  {
   "cell_type": "code",
   "execution_count": 24,
   "id": "9f240cda",
   "metadata": {},
   "outputs": [],
   "source": [
    "# 任务14：\n",
    "# 输出把df6“姓名”列里重复的值删除后的Series结果\n",
    "\n",
    "\n"
   ]
  },
  {
   "cell_type": "code",
   "execution_count": 25,
   "id": "761add38",
   "metadata": {},
   "outputs": [],
   "source": [
    "# 任务15：\n",
    "# 输出把df6里“姓名”和“性别”变量同时重复的行删除后的结果（不改变df6本身）\n",
    "\n",
    "\n"
   ]
  },
  {
   "cell_type": "code",
   "execution_count": 26,
   "id": "f6dc0006",
   "metadata": {},
   "outputs": [],
   "source": [
    "# 任务16：\n",
    "# 输出把df6里“姓名”和“性别”变量同时重复的行删除后的结果，并且删除重复时保留最后出现的行（不改变df6本身）\n",
    "\n",
    "\n"
   ]
  },
  {
   "cell_type": "code",
   "execution_count": 27,
   "id": "940327ff",
   "metadata": {},
   "outputs": [],
   "source": [
    "# 任务17\n",
    "# 把df6里重复的行删除（改变df6本身）\n",
    "\n",
    "\n"
   ]
  },
  {
   "cell_type": "markdown",
   "id": "7fc2187d",
   "metadata": {},
   "source": [
    "## 对值进行替换"
   ]
  },
  {
   "cell_type": "code",
   "execution_count": 28,
   "id": "4a87ccbc",
   "metadata": {},
   "outputs": [
    {
     "data": {
      "text/html": [
       "<div>\n",
       "<style scoped>\n",
       "    .dataframe tbody tr th:only-of-type {\n",
       "        vertical-align: middle;\n",
       "    }\n",
       "\n",
       "    .dataframe tbody tr th {\n",
       "        vertical-align: top;\n",
       "    }\n",
       "\n",
       "    .dataframe thead th {\n",
       "        text-align: right;\n",
       "    }\n",
       "</style>\n",
       "<table border=\"1\" class=\"dataframe\">\n",
       "  <thead>\n",
       "    <tr style=\"text-align: right;\">\n",
       "      <th></th>\n",
       "      <th>姓名</th>\n",
       "      <th>家乡</th>\n",
       "      <th>学校</th>\n",
       "    </tr>\n",
       "  </thead>\n",
       "  <tbody>\n",
       "    <tr>\n",
       "      <th>0</th>\n",
       "      <td>小明</td>\n",
       "      <td>北京</td>\n",
       "      <td>北京大学</td>\n",
       "    </tr>\n",
       "    <tr>\n",
       "      <th>1</th>\n",
       "      <td>小红</td>\n",
       "      <td>上海</td>\n",
       "      <td>清华大学</td>\n",
       "    </tr>\n",
       "    <tr>\n",
       "      <th>2</th>\n",
       "      <td>小张</td>\n",
       "      <td>广州</td>\n",
       "      <td>华南理工</td>\n",
       "    </tr>\n",
       "    <tr>\n",
       "      <th>3</th>\n",
       "      <td>小李</td>\n",
       "      <td>深圳</td>\n",
       "      <td>清华</td>\n",
       "    </tr>\n",
       "  </tbody>\n",
       "</table>\n",
       "</div>"
      ],
      "text/plain": [
       "   姓名  家乡    学校\n",
       "0  小明  北京  北京大学\n",
       "1  小红  上海  清华大学\n",
       "2  小张  广州  华南理工\n",
       "3  小李  深圳    清华"
      ]
     },
     "execution_count": 28,
     "metadata": {},
     "output_type": "execute_result"
    }
   ],
   "source": [
    "data = {'姓名': ['小明', '小红', '小张', '小李'],\n",
    "        '家乡': ['北京', '上海', '广州', '深圳'],\n",
    "        '学校': ['北京大学', '清华大学', '华南理工', '清华']}\n",
    "df7 = pd.DataFrame(data)\n",
    "df7"
   ]
  },
  {
   "cell_type": "code",
   "execution_count": 29,
   "id": "7f14ce39",
   "metadata": {},
   "outputs": [],
   "source": [
    "# 任务18\n",
    "# 输出把df7“学校”列里的“清华”替换成“清华大学”后的结果Series\n",
    "\n",
    "\n"
   ]
  },
  {
   "cell_type": "code",
   "execution_count": 30,
   "id": "54726477",
   "metadata": {},
   "outputs": [],
   "source": [
    "# 任务19\n",
    "# 输出把df7里所有“清华”替换成“清华大学”后的结果（不改变df7本身）\n",
    "\n",
    "\n"
   ]
  },
  {
   "cell_type": "code",
   "execution_count": 31,
   "id": "894c9fad",
   "metadata": {},
   "outputs": [],
   "source": [
    "# 任务20\n",
    "# 输出把df7里所有“清华”、\"五道口职业技术学院\"、\"Tsinghua University\"替换成“清华大学”后的结果（不改变df7本身）\n",
    "\n",
    "\n"
   ]
  },
  {
   "cell_type": "code",
   "execution_count": 32,
   "id": "e6bc3754",
   "metadata": {},
   "outputs": [],
   "source": [
    "# 任务21\n",
    "# 输出对df7进行以下值替换后的结果（不改变df7本身）\n",
    "# '华南理工' -> '华南理工大学'\n",
    "# '清华' -> '清华大学'\n",
    "# '北大' -> '北京大学'\n",
    "# '中大' -> '中山大学'\n",
    "\n",
    "\n"
   ]
  },
  {
   "cell_type": "markdown",
   "id": "b72b63f0",
   "metadata": {},
   "source": [
    "## 对值的类型进行转换"
   ]
  },
  {
   "cell_type": "code",
   "execution_count": 33,
   "id": "ee9e7bbe",
   "metadata": {},
   "outputs": [
    {
     "data": {
      "text/plain": [
       "0    1\n",
       "1    2\n",
       "2    3\n",
       "dtype: int64"
      ]
     },
     "execution_count": 33,
     "metadata": {},
     "output_type": "execute_result"
    }
   ],
   "source": [
    "s1 = pd.Series([1, 2, 3])\n",
    "s1"
   ]
  },
  {
   "cell_type": "code",
   "execution_count": 34,
   "id": "b7264e9b",
   "metadata": {},
   "outputs": [],
   "source": [
    "# 任务22\n",
    "# 输出把s1里的元素转换为浮点数类型后的结果（不改变s1本身）\n",
    "\n",
    "\n"
   ]
  },
  {
   "cell_type": "code",
   "execution_count": 35,
   "id": "6adbb639",
   "metadata": {},
   "outputs": [],
   "source": [
    "# 任务23\n",
    "# 输出把s1里的元素转换为字符串类型后的结果（不改变s1本身）\n",
    "\n",
    "\n"
   ]
  },
  {
   "cell_type": "code",
   "execution_count": 36,
   "id": "57a44377",
   "metadata": {
    "scrolled": true
   },
   "outputs": [
    {
     "data": {
      "text/plain": [
       "0    红色\n",
       "1    红色\n",
       "2    橙色\n",
       "3    蓝色\n",
       "dtype: object"
      ]
     },
     "execution_count": 36,
     "metadata": {},
     "output_type": "execute_result"
    }
   ],
   "source": [
    "s2 = pd.Series([\"红色\", \"红色\", \"橙色\", \"蓝色\"])\n",
    "s2"
   ]
  },
  {
   "cell_type": "code",
   "execution_count": 37,
   "id": "a95fda66",
   "metadata": {},
   "outputs": [],
   "source": [
    "# 任务24\n",
    "# 输出把s2里的元素转换为category类型后的结果（不改变s1本身）\n",
    "\n",
    "\n"
   ]
  }
 ],
 "metadata": {
  "kernelspec": {
   "display_name": "Python 3",
   "language": "python",
   "name": "python3"
  },
  "language_info": {
   "codemirror_mode": {
    "name": "ipython",
    "version": 3
   },
   "file_extension": ".py",
   "mimetype": "text/x-python",
   "name": "python",
   "nbconvert_exporter": "python",
   "pygments_lexer": "ipython3",
   "version": "3.8.1"
  }
 },
 "nbformat": 4,
 "nbformat_minor": 5
}
