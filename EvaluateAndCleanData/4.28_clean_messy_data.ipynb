{
 "cells": [
  {
   "cell_type": "markdown",
   "id": "cd439956-9e45-47b2-8ba4-0267fb704724",
   "metadata": {},
   "source": [
    "# **4.28_clean_messy_data**"
   ]
  },
  {
   "cell_type": "code",
   "execution_count": 1,
   "id": "a844ae53-c7db-4a34-bb2d-661f6ddc5c21",
   "metadata": {},
   "outputs": [],
   "source": [
    "import pandas as pd"
   ]
  },
  {
   "cell_type": "markdown",
   "id": "ca04b6e2-2348-4d9d-9bfe-d1bc67ebc99d",
   "metadata": {},
   "source": [
    "整洁数据，根据埃德加科德的第三范式，包括以下三个特点：\n",
    "\n",
    "   1)每列是一个变量\n",
    "\n",
    "   2)每行是一个观察值\n",
    "\n",
    "   3)每个单元格是一个值\n",
    "\n",
    "   任何不符合以上三个特点的数据都是乱数据。"
   ]
  },
  {
   "cell_type": "markdown",
   "id": "2e9b566a-1752-4b07-b913-e04680bb5160",
   "metadata": {},
   "source": [
    "### 一、对数据进行转置"
   ]
  },
  {
   "cell_type": "markdown",
   "id": "a5961aaa-692b-4b85-bc59-10e61abf0d14",
   "metadata": {},
   "source": [
    "当数据的列和行是反的，也就是每列是观察值，每行是变量，需要对数据进行转置\n",
    "\n",
    "DataFrame的T属性，能返回一个行和列调换后的DataFrame"
   ]
  },
  {
   "cell_type": "code",
   "execution_count": 2,
   "id": "055f6cfc-613b-4abf-bada-5a8d4d5d5050",
   "metadata": {
    "scrolled": true
   },
   "outputs": [
    {
     "data": {
      "text/html": [
       "<div>\n",
       "<style scoped>\n",
       "    .dataframe tbody tr th:only-of-type {\n",
       "        vertical-align: middle;\n",
       "    }\n",
       "\n",
       "    .dataframe tbody tr th {\n",
       "        vertical-align: top;\n",
       "    }\n",
       "\n",
       "    .dataframe thead th {\n",
       "        text-align: right;\n",
       "    }\n",
       "</style>\n",
       "<table border=\"1\" class=\"dataframe\">\n",
       "  <thead>\n",
       "    <tr style=\"text-align: right;\">\n",
       "      <th></th>\n",
       "      <th>0</th>\n",
       "      <th>1</th>\n",
       "      <th>2</th>\n",
       "    </tr>\n",
       "  </thead>\n",
       "  <tbody>\n",
       "    <tr>\n",
       "      <th>姓名</th>\n",
       "      <td>张三</td>\n",
       "      <td>李四</td>\n",
       "      <td>王五</td>\n",
       "    </tr>\n",
       "    <tr>\n",
       "      <th>年龄</th>\n",
       "      <td>30</td>\n",
       "      <td>25</td>\n",
       "      <td>28</td>\n",
       "    </tr>\n",
       "    <tr>\n",
       "      <th>地址</th>\n",
       "      <td>北京</td>\n",
       "      <td>上海</td>\n",
       "      <td>广州</td>\n",
       "    </tr>\n",
       "  </tbody>\n",
       "</table>\n",
       "</div>"
      ],
      "text/plain": [
       "     0   1   2\n",
       "姓名  张三  李四  王五\n",
       "年龄  30  25  28\n",
       "地址  北京  上海  广州"
      ]
     },
     "execution_count": 2,
     "metadata": {},
     "output_type": "execute_result"
    }
   ],
   "source": [
    "df1 = pd.read_csv('example4.csv', index_col=0)\n",
    "df1"
   ]
  },
  {
   "cell_type": "code",
   "execution_count": 3,
   "id": "c5411edc-472c-4240-8fae-60712d28dd7d",
   "metadata": {
    "scrolled": true
   },
   "outputs": [
    {
     "data": {
      "text/html": [
       "<div>\n",
       "<style scoped>\n",
       "    .dataframe tbody tr th:only-of-type {\n",
       "        vertical-align: middle;\n",
       "    }\n",
       "\n",
       "    .dataframe tbody tr th {\n",
       "        vertical-align: top;\n",
       "    }\n",
       "\n",
       "    .dataframe thead th {\n",
       "        text-align: right;\n",
       "    }\n",
       "</style>\n",
       "<table border=\"1\" class=\"dataframe\">\n",
       "  <thead>\n",
       "    <tr style=\"text-align: right;\">\n",
       "      <th></th>\n",
       "      <th>姓名</th>\n",
       "      <th>年龄</th>\n",
       "      <th>地址</th>\n",
       "    </tr>\n",
       "  </thead>\n",
       "  <tbody>\n",
       "    <tr>\n",
       "      <th>0</th>\n",
       "      <td>张三</td>\n",
       "      <td>30</td>\n",
       "      <td>北京</td>\n",
       "    </tr>\n",
       "    <tr>\n",
       "      <th>1</th>\n",
       "      <td>李四</td>\n",
       "      <td>25</td>\n",
       "      <td>上海</td>\n",
       "    </tr>\n",
       "    <tr>\n",
       "      <th>2</th>\n",
       "      <td>王五</td>\n",
       "      <td>28</td>\n",
       "      <td>广州</td>\n",
       "    </tr>\n",
       "  </tbody>\n",
       "</table>\n",
       "</div>"
      ],
      "text/plain": [
       "   姓名  年龄  地址\n",
       "0  张三  30  北京\n",
       "1  李四  25  上海\n",
       "2  王五  28  广州"
      ]
     },
     "execution_count": 3,
     "metadata": {},
     "output_type": "execute_result"
    }
   ],
   "source": [
    "df1 = df1.T\n",
    "df1"
   ]
  },
  {
   "cell_type": "markdown",
   "id": "893007b4-2ab7-4f59-9a84-1f3f29f67c29",
   "metadata": {},
   "source": [
    "### 二、对列进行拆分"
   ]
  },
  {
   "cell_type": "markdown",
   "id": "f2f72372-c42c-4700-9c57-bd5a6e396a3e",
   "metadata": {},
   "source": [
    "当一列有多个变量时，把一列拆分成多列"
   ]
  },
  {
   "cell_type": "code",
   "execution_count": 4,
   "id": "34f850e7-fae8-479e-bf3c-d22af5d4afc2",
   "metadata": {},
   "outputs": [
    {
     "data": {
      "text/html": [
       "<div>\n",
       "<style scoped>\n",
       "    .dataframe tbody tr th:only-of-type {\n",
       "        vertical-align: middle;\n",
       "    }\n",
       "\n",
       "    .dataframe tbody tr th {\n",
       "        vertical-align: top;\n",
       "    }\n",
       "\n",
       "    .dataframe thead th {\n",
       "        text-align: right;\n",
       "    }\n",
       "</style>\n",
       "<table border=\"1\" class=\"dataframe\">\n",
       "  <thead>\n",
       "    <tr style=\"text-align: right;\">\n",
       "      <th></th>\n",
       "      <th>城市</th>\n",
       "      <th>人口密度</th>\n",
       "    </tr>\n",
       "  </thead>\n",
       "  <tbody>\n",
       "    <tr>\n",
       "      <th>0</th>\n",
       "      <td>城市A</td>\n",
       "      <td>28.53万人/0.87平方公里</td>\n",
       "    </tr>\n",
       "    <tr>\n",
       "      <th>1</th>\n",
       "      <td>城市B</td>\n",
       "      <td>37.83万人/2.19平方公里</td>\n",
       "    </tr>\n",
       "    <tr>\n",
       "      <th>2</th>\n",
       "      <td>城市C</td>\n",
       "      <td>15.3万人/1.57平方公里</td>\n",
       "    </tr>\n",
       "  </tbody>\n",
       "</table>\n",
       "</div>"
      ],
      "text/plain": [
       "    城市              人口密度\n",
       "0  城市A  28.53万人/0.87平方公里\n",
       "1  城市B  37.83万人/2.19平方公里\n",
       "2  城市C   15.3万人/1.57平方公里"
      ]
     },
     "execution_count": 4,
     "metadata": {},
     "output_type": "execute_result"
    }
   ],
   "source": [
    "df2 = pd.read_csv(\"example5.csv\")\n",
    "df2"
   ]
  },
  {
   "cell_type": "markdown",
   "id": "e79337d8-24ea-4066-a259-48fc82d4edeb",
   "metadata": {},
   "source": [
    "#### (一)、拆分列"
   ]
  },
  {
   "cell_type": "markdown",
   "id": "c66c2a8e-c214-47df-b545-16ceb8b67a80",
   "metadata": {},
   "source": [
    "1. 针对Python字符串\n",
    "\n",
    "   split方法，参数可以指定分隔符，就会得到拆分后字符串所组成的列表"
   ]
  },
  {
   "cell_type": "code",
   "execution_count": 5,
   "id": "f77999aa-b8cd-49b0-8c03-d19fa13b5b77",
   "metadata": {},
   "outputs": [
    {
     "data": {
      "text/plain": [
       "['28.53万人', '0.87平方公里']"
      ]
     },
     "execution_count": 5,
     "metadata": {},
     "output_type": "execute_result"
    }
   ],
   "source": [
    "\"28.53万人/0.87平方公里\".split(\"/\")"
   ]
  },
  {
   "cell_type": "markdown",
   "id": "9b8136d8-9ac0-499d-99df-406160e9d3e0",
   "metadata": {},
   "source": [
    "2. 针对Series\n",
    "\n",
    "   str.split方法，参数可以指定分隔符，拆分字符串，调用后返回一个新的Series，每一个元素是一个列表。\n",
    "\n",
    "    但这没有达到拆分列的效果，因为Series只能表示DataFrame的一列，而我们希望拆分成多列。"
   ]
  },
  {
   "cell_type": "code",
   "execution_count": 6,
   "id": "464f8ee8-d9ff-438c-86b8-5211d485e0d4",
   "metadata": {},
   "outputs": [
    {
     "data": {
      "text/plain": [
       "0    [28.53万人, 0.87平方公里]\n",
       "1    [37.83万人, 2.19平方公里]\n",
       "2     [15.3万人, 1.57平方公里]\n",
       "Name: 人口密度, dtype: object"
      ]
     },
     "execution_count": 6,
     "metadata": {},
     "output_type": "execute_result"
    }
   ],
   "source": [
    "df2['人口密度'].str.split('/')"
   ]
  },
  {
   "cell_type": "markdown",
   "id": "967e74f8-5754-4ba6-9e77-4dc59501fe1a",
   "metadata": {},
   "source": [
    "3. 拆分列(其实也是针对Series)\n",
    "\n",
    "   str.split方法，额外指定一个可选参数expand=True，表示把分隔后的结果分别用单独的Series表示，这样输出结果就会变成一个包含多列的DataFrame"
   ]
  },
  {
   "cell_type": "code",
   "execution_count": 7,
   "id": "e8eeedee-d628-4ead-b564-4d69d52f153b",
   "metadata": {},
   "outputs": [
    {
     "data": {
      "text/html": [
       "<div>\n",
       "<style scoped>\n",
       "    .dataframe tbody tr th:only-of-type {\n",
       "        vertical-align: middle;\n",
       "    }\n",
       "\n",
       "    .dataframe tbody tr th {\n",
       "        vertical-align: top;\n",
       "    }\n",
       "\n",
       "    .dataframe thead th {\n",
       "        text-align: right;\n",
       "    }\n",
       "</style>\n",
       "<table border=\"1\" class=\"dataframe\">\n",
       "  <thead>\n",
       "    <tr style=\"text-align: right;\">\n",
       "      <th></th>\n",
       "      <th>0</th>\n",
       "      <th>1</th>\n",
       "    </tr>\n",
       "  </thead>\n",
       "  <tbody>\n",
       "    <tr>\n",
       "      <th>0</th>\n",
       "      <td>28.53万人</td>\n",
       "      <td>0.87平方公里</td>\n",
       "    </tr>\n",
       "    <tr>\n",
       "      <th>1</th>\n",
       "      <td>37.83万人</td>\n",
       "      <td>2.19平方公里</td>\n",
       "    </tr>\n",
       "    <tr>\n",
       "      <th>2</th>\n",
       "      <td>15.3万人</td>\n",
       "      <td>1.57平方公里</td>\n",
       "    </tr>\n",
       "  </tbody>\n",
       "</table>\n",
       "</div>"
      ],
      "text/plain": [
       "         0         1\n",
       "0  28.53万人  0.87平方公里\n",
       "1  37.83万人  2.19平方公里\n",
       "2   15.3万人  1.57平方公里"
      ]
     },
     "execution_count": 7,
     "metadata": {},
     "output_type": "execute_result"
    }
   ],
   "source": [
    "df2['人口密度'].str.split('/', expand=True)"
   ]
  },
  {
   "cell_type": "markdown",
   "id": "2dbb1850-97f2-4451-9d11-85a47bc07ae9",
   "metadata": {},
   "source": [
    "#### (二)、把新生成的DataFrame添加进原先的DataFrame"
   ]
  },
  {
   "cell_type": "markdown",
   "id": "5c1cd91f-dea0-4620-a99b-5926c04bb0f5",
   "metadata": {},
   "source": [
    "其实就是添加多列\n",
    "\n",
    "在DataFrame后面方括号里放入列表，列表里放入多个列名，赋值给要加入的新列所组成的DataFrame"
   ]
  },
  {
   "cell_type": "code",
   "execution_count": 8,
   "id": "9432136b-c6e2-44a6-8c76-ae2ad2c0da03",
   "metadata": {},
   "outputs": [
    {
     "data": {
      "text/html": [
       "<div>\n",
       "<style scoped>\n",
       "    .dataframe tbody tr th:only-of-type {\n",
       "        vertical-align: middle;\n",
       "    }\n",
       "\n",
       "    .dataframe tbody tr th {\n",
       "        vertical-align: top;\n",
       "    }\n",
       "\n",
       "    .dataframe thead th {\n",
       "        text-align: right;\n",
       "    }\n",
       "</style>\n",
       "<table border=\"1\" class=\"dataframe\">\n",
       "  <thead>\n",
       "    <tr style=\"text-align: right;\">\n",
       "      <th></th>\n",
       "      <th>城市</th>\n",
       "      <th>人口密度</th>\n",
       "      <th>人口</th>\n",
       "      <th>面积</th>\n",
       "    </tr>\n",
       "  </thead>\n",
       "  <tbody>\n",
       "    <tr>\n",
       "      <th>0</th>\n",
       "      <td>城市A</td>\n",
       "      <td>28.53万人/0.87平方公里</td>\n",
       "      <td>28.53万人</td>\n",
       "      <td>0.87平方公里</td>\n",
       "    </tr>\n",
       "    <tr>\n",
       "      <th>1</th>\n",
       "      <td>城市B</td>\n",
       "      <td>37.83万人/2.19平方公里</td>\n",
       "      <td>37.83万人</td>\n",
       "      <td>2.19平方公里</td>\n",
       "    </tr>\n",
       "    <tr>\n",
       "      <th>2</th>\n",
       "      <td>城市C</td>\n",
       "      <td>15.3万人/1.57平方公里</td>\n",
       "      <td>15.3万人</td>\n",
       "      <td>1.57平方公里</td>\n",
       "    </tr>\n",
       "  </tbody>\n",
       "</table>\n",
       "</div>"
      ],
      "text/plain": [
       "    城市              人口密度       人口        面积\n",
       "0  城市A  28.53万人/0.87平方公里  28.53万人  0.87平方公里\n",
       "1  城市B  37.83万人/2.19平方公里  37.83万人  2.19平方公里\n",
       "2  城市C   15.3万人/1.57平方公里   15.3万人  1.57平方公里"
      ]
     },
     "execution_count": 8,
     "metadata": {},
     "output_type": "execute_result"
    }
   ],
   "source": [
    "df2[['人口', '面积']] = df2['人口密度'].str.split('/', expand=True)\n",
    "df2"
   ]
  },
  {
   "cell_type": "markdown",
   "id": "b7021ce0-eff2-46c7-a785-c9607f36a2d3",
   "metadata": {},
   "source": [
    "#### (三)、删除拆分前的列"
   ]
  },
  {
   "cell_type": "markdown",
   "id": "39c13c27-d1c4-4293-88fc-cf7f6e6602a8",
   "metadata": {},
   "source": [
    "drop方法，指定axis=1"
   ]
  },
  {
   "cell_type": "code",
   "execution_count": 9,
   "id": "3b671af3-f542-411c-8a64-34029930ff18",
   "metadata": {},
   "outputs": [
    {
     "data": {
      "text/html": [
       "<div>\n",
       "<style scoped>\n",
       "    .dataframe tbody tr th:only-of-type {\n",
       "        vertical-align: middle;\n",
       "    }\n",
       "\n",
       "    .dataframe tbody tr th {\n",
       "        vertical-align: top;\n",
       "    }\n",
       "\n",
       "    .dataframe thead th {\n",
       "        text-align: right;\n",
       "    }\n",
       "</style>\n",
       "<table border=\"1\" class=\"dataframe\">\n",
       "  <thead>\n",
       "    <tr style=\"text-align: right;\">\n",
       "      <th></th>\n",
       "      <th>城市</th>\n",
       "      <th>人口</th>\n",
       "      <th>面积</th>\n",
       "    </tr>\n",
       "  </thead>\n",
       "  <tbody>\n",
       "    <tr>\n",
       "      <th>0</th>\n",
       "      <td>城市A</td>\n",
       "      <td>28.53万人</td>\n",
       "      <td>0.87平方公里</td>\n",
       "    </tr>\n",
       "    <tr>\n",
       "      <th>1</th>\n",
       "      <td>城市B</td>\n",
       "      <td>37.83万人</td>\n",
       "      <td>2.19平方公里</td>\n",
       "    </tr>\n",
       "    <tr>\n",
       "      <th>2</th>\n",
       "      <td>城市C</td>\n",
       "      <td>15.3万人</td>\n",
       "      <td>1.57平方公里</td>\n",
       "    </tr>\n",
       "  </tbody>\n",
       "</table>\n",
       "</div>"
      ],
      "text/plain": [
       "    城市       人口        面积\n",
       "0  城市A  28.53万人  0.87平方公里\n",
       "1  城市B  37.83万人  2.19平方公里\n",
       "2  城市C   15.3万人  1.57平方公里"
      ]
     },
     "execution_count": 9,
     "metadata": {},
     "output_type": "execute_result"
    }
   ],
   "source": [
    "df2 = df2.drop('人口密度', axis=1)\n",
    "df2"
   ]
  },
  {
   "cell_type": "markdown",
   "id": "75559c12-5b1e-48e5-a180-b293dcefa0bc",
   "metadata": {},
   "source": [
    "### 三、把不同列合并成一列"
   ]
  },
  {
   "cell_type": "code",
   "execution_count": 10,
   "id": "b2ef00af-fbe4-4ad7-9561-b897c65adbcf",
   "metadata": {},
   "outputs": [
    {
     "data": {
      "text/html": [
       "<div>\n",
       "<style scoped>\n",
       "    .dataframe tbody tr th:only-of-type {\n",
       "        vertical-align: middle;\n",
       "    }\n",
       "\n",
       "    .dataframe tbody tr th {\n",
       "        vertical-align: top;\n",
       "    }\n",
       "\n",
       "    .dataframe thead th {\n",
       "        text-align: right;\n",
       "    }\n",
       "</style>\n",
       "<table border=\"1\" class=\"dataframe\">\n",
       "  <thead>\n",
       "    <tr style=\"text-align: right;\">\n",
       "      <th></th>\n",
       "      <th>姓</th>\n",
       "      <th>名</th>\n",
       "      <th>年龄</th>\n",
       "    </tr>\n",
       "  </thead>\n",
       "  <tbody>\n",
       "    <tr>\n",
       "      <th>0</th>\n",
       "      <td>张</td>\n",
       "      <td>三</td>\n",
       "      <td>30</td>\n",
       "    </tr>\n",
       "    <tr>\n",
       "      <th>1</th>\n",
       "      <td>李</td>\n",
       "      <td>四</td>\n",
       "      <td>25</td>\n",
       "    </tr>\n",
       "    <tr>\n",
       "      <th>2</th>\n",
       "      <td>王</td>\n",
       "      <td>五</td>\n",
       "      <td>35</td>\n",
       "    </tr>\n",
       "  </tbody>\n",
       "</table>\n",
       "</div>"
      ],
      "text/plain": [
       "   姓  名  年龄\n",
       "0  张  三  30\n",
       "1  李  四  25\n",
       "2  王  五  35"
      ]
     },
     "execution_count": 10,
     "metadata": {},
     "output_type": "execute_result"
    }
   ],
   "source": [
    "df3 = pd.DataFrame({'姓': ['张', '李', '王'], '名': ['三', '四', '五'], '年龄': [30, 25, 35]})\n",
    "df3"
   ]
  },
  {
   "cell_type": "markdown",
   "id": "70655589-4e45-4673-a526-0d8c1fd89f8a",
   "metadata": {},
   "source": [
    "1. 拼接字符串\n",
    "\n",
    "    str.cat方法，参数传入拼接的Series，可以拼接2个Series。\n",
    "\n",
    "    可以传入可选参数sep，来指定拼接时的分隔符\n",
    "\n",
    "2. 添加列\n",
    "\n",
    "3. 删除拼接前的列"
   ]
  },
  {
   "cell_type": "code",
   "execution_count": 11,
   "id": "c2282140-c7e8-4e08-9ee8-7e262d9e21fe",
   "metadata": {},
   "outputs": [
    {
     "data": {
      "text/plain": [
       "0    张三\n",
       "1    李四\n",
       "2    王五\n",
       "Name: 姓, dtype: object"
      ]
     },
     "execution_count": 11,
     "metadata": {},
     "output_type": "execute_result"
    }
   ],
   "source": [
    "df3.姓.str.cat(df3.名)"
   ]
  },
  {
   "cell_type": "code",
   "execution_count": 12,
   "id": "c9e9d8aa-17b8-4fba-b782-024f81ba2333",
   "metadata": {},
   "outputs": [
    {
     "data": {
      "text/plain": [
       "0    张-三\n",
       "1    李-四\n",
       "2    王-五\n",
       "Name: 姓, dtype: object"
      ]
     },
     "execution_count": 12,
     "metadata": {},
     "output_type": "execute_result"
    }
   ],
   "source": [
    "df3['姓'].str.cat(df3['名'], sep='-')"
   ]
  },
  {
   "cell_type": "code",
   "execution_count": 13,
   "id": "1e3be464-39c8-4b76-9db0-ef62e374f3e4",
   "metadata": {},
   "outputs": [
    {
     "data": {
      "text/html": [
       "<div>\n",
       "<style scoped>\n",
       "    .dataframe tbody tr th:only-of-type {\n",
       "        vertical-align: middle;\n",
       "    }\n",
       "\n",
       "    .dataframe tbody tr th {\n",
       "        vertical-align: top;\n",
       "    }\n",
       "\n",
       "    .dataframe thead th {\n",
       "        text-align: right;\n",
       "    }\n",
       "</style>\n",
       "<table border=\"1\" class=\"dataframe\">\n",
       "  <thead>\n",
       "    <tr style=\"text-align: right;\">\n",
       "      <th></th>\n",
       "      <th>年龄</th>\n",
       "      <th>姓名</th>\n",
       "    </tr>\n",
       "  </thead>\n",
       "  <tbody>\n",
       "    <tr>\n",
       "      <th>0</th>\n",
       "      <td>30</td>\n",
       "      <td>张三</td>\n",
       "    </tr>\n",
       "    <tr>\n",
       "      <th>1</th>\n",
       "      <td>25</td>\n",
       "      <td>李四</td>\n",
       "    </tr>\n",
       "    <tr>\n",
       "      <th>2</th>\n",
       "      <td>35</td>\n",
       "      <td>王五</td>\n",
       "    </tr>\n",
       "  </tbody>\n",
       "</table>\n",
       "</div>"
      ],
      "text/plain": [
       "   年龄  姓名\n",
       "0  30  张三\n",
       "1  25  李四\n",
       "2  35  王五"
      ]
     },
     "execution_count": 13,
     "metadata": {},
     "output_type": "execute_result"
    }
   ],
   "source": [
    "df3['姓名'] = df3.姓.str.cat(df3.名)\n",
    "df3 = df3.drop(['姓', '名'], axis=1)\n",
    "df3"
   ]
  },
  {
   "cell_type": "markdown",
   "id": "0313088b-e094-4cc1-b886-aba8bcdc25ce",
   "metadata": {},
   "source": [
    "### 四、把宽数据转换成长数据"
   ]
  },
  {
   "cell_type": "code",
   "execution_count": 14,
   "id": "f9c0c309-6166-4e14-b13e-819c4e2ec8a2",
   "metadata": {},
   "outputs": [
    {
     "data": {
      "text/html": [
       "<div>\n",
       "<style scoped>\n",
       "    .dataframe tbody tr th:only-of-type {\n",
       "        vertical-align: middle;\n",
       "    }\n",
       "\n",
       "    .dataframe tbody tr th {\n",
       "        vertical-align: top;\n",
       "    }\n",
       "\n",
       "    .dataframe thead th {\n",
       "        text-align: right;\n",
       "    }\n",
       "</style>\n",
       "<table border=\"1\" class=\"dataframe\">\n",
       "  <thead>\n",
       "    <tr style=\"text-align: right;\">\n",
       "      <th></th>\n",
       "      <th>国家代码</th>\n",
       "      <th>年份</th>\n",
       "      <th>男性年龄组（0-4岁）</th>\n",
       "      <th>男性年龄组（5-14岁）</th>\n",
       "      <th>男性年龄组（15-24岁）</th>\n",
       "      <th>女性年龄组（0-4岁）</th>\n",
       "      <th>女性年龄组（5-14岁）</th>\n",
       "      <th>女性年龄组（15-24岁）</th>\n",
       "    </tr>\n",
       "  </thead>\n",
       "  <tbody>\n",
       "    <tr>\n",
       "      <th>0</th>\n",
       "      <td>CN</td>\n",
       "      <td>2019</td>\n",
       "      <td>100</td>\n",
       "      <td>200</td>\n",
       "      <td>500</td>\n",
       "      <td>80</td>\n",
       "      <td>150</td>\n",
       "      <td>400</td>\n",
       "    </tr>\n",
       "    <tr>\n",
       "      <th>1</th>\n",
       "      <td>US</td>\n",
       "      <td>2019</td>\n",
       "      <td>50</td>\n",
       "      <td>150</td>\n",
       "      <td>300</td>\n",
       "      <td>40</td>\n",
       "      <td>100</td>\n",
       "      <td>200</td>\n",
       "    </tr>\n",
       "    <tr>\n",
       "      <th>2</th>\n",
       "      <td>JP</td>\n",
       "      <td>2019</td>\n",
       "      <td>30</td>\n",
       "      <td>120</td>\n",
       "      <td>250</td>\n",
       "      <td>20</td>\n",
       "      <td>80</td>\n",
       "      <td>150</td>\n",
       "    </tr>\n",
       "    <tr>\n",
       "      <th>3</th>\n",
       "      <td>IN</td>\n",
       "      <td>2019</td>\n",
       "      <td>80</td>\n",
       "      <td>180</td>\n",
       "      <td>400</td>\n",
       "      <td>60</td>\n",
       "      <td>120</td>\n",
       "      <td>300</td>\n",
       "    </tr>\n",
       "  </tbody>\n",
       "</table>\n",
       "</div>"
      ],
      "text/plain": [
       "  国家代码    年份  男性年龄组（0-4岁）  男性年龄组（5-14岁）  男性年龄组（15-24岁）  女性年龄组（0-4岁）  \\\n",
       "0   CN  2019          100           200            500           80   \n",
       "1   US  2019           50           150            300           40   \n",
       "2   JP  2019           30           120            250           20   \n",
       "3   IN  2019           80           180            400           60   \n",
       "\n",
       "   女性年龄组（5-14岁）  女性年龄组（15-24岁）  \n",
       "0           150            400  \n",
       "1           100            200  \n",
       "2            80            150  \n",
       "3           120            300  "
      ]
     },
     "execution_count": 14,
     "metadata": {},
     "output_type": "execute_result"
    }
   ],
   "source": [
    "df4 = pd.read_csv('example6.csv')\n",
    "df4"
   ]
  },
  {
   "cell_type": "markdown",
   "id": "cd24fce5-cfc7-4fe7-bcb4-f752ba02036f",
   "metadata": {},
   "source": [
    "即重塑列，具体来说是在把一部分列名的值，转换为变量的值\n",
    "\n",
    "pd.melt方法，可以帮我们进行这方面的转换。\n",
    "\n",
    "第一个参数传入要转换的DataFrame\n",
    "\n",
    "可选参数id_vars传入一个列表，里面放入想保持原样的列，那么除了id_vars列表里面之外的列，都会被视为要进行转换的列\n",
    "\n",
    "可选参数var_name，要被赋值为在转换后的DataFrame中，包含原本列名值的新列列名\n",
    "\n",
    "可选参数value_name，要被赋值为在转换后的DataFrame中，包含原本变量值的新列列名\n",
    "\n",
    "运行后，就会返回一个从原本宽数据转换成长数据的DataFrame"
   ]
  },
  {
   "cell_type": "code",
   "execution_count": 15,
   "id": "14b6d2a3-a50d-4b6d-bc50-290791cc14f2",
   "metadata": {},
   "outputs": [
    {
     "data": {
      "text/html": [
       "<div>\n",
       "<style scoped>\n",
       "    .dataframe tbody tr th:only-of-type {\n",
       "        vertical-align: middle;\n",
       "    }\n",
       "\n",
       "    .dataframe tbody tr th {\n",
       "        vertical-align: top;\n",
       "    }\n",
       "\n",
       "    .dataframe thead th {\n",
       "        text-align: right;\n",
       "    }\n",
       "</style>\n",
       "<table border=\"1\" class=\"dataframe\">\n",
       "  <thead>\n",
       "    <tr style=\"text-align: right;\">\n",
       "      <th></th>\n",
       "      <th>国家代码</th>\n",
       "      <th>年份</th>\n",
       "      <th>年龄组</th>\n",
       "      <th>肺结核病例数</th>\n",
       "    </tr>\n",
       "  </thead>\n",
       "  <tbody>\n",
       "    <tr>\n",
       "      <th>0</th>\n",
       "      <td>CN</td>\n",
       "      <td>2019</td>\n",
       "      <td>男性年龄组（0-4岁）</td>\n",
       "      <td>100</td>\n",
       "    </tr>\n",
       "    <tr>\n",
       "      <th>1</th>\n",
       "      <td>US</td>\n",
       "      <td>2019</td>\n",
       "      <td>男性年龄组（0-4岁）</td>\n",
       "      <td>50</td>\n",
       "    </tr>\n",
       "    <tr>\n",
       "      <th>2</th>\n",
       "      <td>JP</td>\n",
       "      <td>2019</td>\n",
       "      <td>男性年龄组（0-4岁）</td>\n",
       "      <td>30</td>\n",
       "    </tr>\n",
       "    <tr>\n",
       "      <th>3</th>\n",
       "      <td>IN</td>\n",
       "      <td>2019</td>\n",
       "      <td>男性年龄组（0-4岁）</td>\n",
       "      <td>80</td>\n",
       "    </tr>\n",
       "    <tr>\n",
       "      <th>4</th>\n",
       "      <td>CN</td>\n",
       "      <td>2019</td>\n",
       "      <td>男性年龄组（5-14岁）</td>\n",
       "      <td>200</td>\n",
       "    </tr>\n",
       "    <tr>\n",
       "      <th>5</th>\n",
       "      <td>US</td>\n",
       "      <td>2019</td>\n",
       "      <td>男性年龄组（5-14岁）</td>\n",
       "      <td>150</td>\n",
       "    </tr>\n",
       "    <tr>\n",
       "      <th>6</th>\n",
       "      <td>JP</td>\n",
       "      <td>2019</td>\n",
       "      <td>男性年龄组（5-14岁）</td>\n",
       "      <td>120</td>\n",
       "    </tr>\n",
       "    <tr>\n",
       "      <th>7</th>\n",
       "      <td>IN</td>\n",
       "      <td>2019</td>\n",
       "      <td>男性年龄组（5-14岁）</td>\n",
       "      <td>180</td>\n",
       "    </tr>\n",
       "    <tr>\n",
       "      <th>8</th>\n",
       "      <td>CN</td>\n",
       "      <td>2019</td>\n",
       "      <td>男性年龄组（15-24岁）</td>\n",
       "      <td>500</td>\n",
       "    </tr>\n",
       "    <tr>\n",
       "      <th>9</th>\n",
       "      <td>US</td>\n",
       "      <td>2019</td>\n",
       "      <td>男性年龄组（15-24岁）</td>\n",
       "      <td>300</td>\n",
       "    </tr>\n",
       "    <tr>\n",
       "      <th>10</th>\n",
       "      <td>JP</td>\n",
       "      <td>2019</td>\n",
       "      <td>男性年龄组（15-24岁）</td>\n",
       "      <td>250</td>\n",
       "    </tr>\n",
       "    <tr>\n",
       "      <th>11</th>\n",
       "      <td>IN</td>\n",
       "      <td>2019</td>\n",
       "      <td>男性年龄组（15-24岁）</td>\n",
       "      <td>400</td>\n",
       "    </tr>\n",
       "    <tr>\n",
       "      <th>12</th>\n",
       "      <td>CN</td>\n",
       "      <td>2019</td>\n",
       "      <td>女性年龄组（0-4岁）</td>\n",
       "      <td>80</td>\n",
       "    </tr>\n",
       "    <tr>\n",
       "      <th>13</th>\n",
       "      <td>US</td>\n",
       "      <td>2019</td>\n",
       "      <td>女性年龄组（0-4岁）</td>\n",
       "      <td>40</td>\n",
       "    </tr>\n",
       "    <tr>\n",
       "      <th>14</th>\n",
       "      <td>JP</td>\n",
       "      <td>2019</td>\n",
       "      <td>女性年龄组（0-4岁）</td>\n",
       "      <td>20</td>\n",
       "    </tr>\n",
       "    <tr>\n",
       "      <th>15</th>\n",
       "      <td>IN</td>\n",
       "      <td>2019</td>\n",
       "      <td>女性年龄组（0-4岁）</td>\n",
       "      <td>60</td>\n",
       "    </tr>\n",
       "    <tr>\n",
       "      <th>16</th>\n",
       "      <td>CN</td>\n",
       "      <td>2019</td>\n",
       "      <td>女性年龄组（5-14岁）</td>\n",
       "      <td>150</td>\n",
       "    </tr>\n",
       "    <tr>\n",
       "      <th>17</th>\n",
       "      <td>US</td>\n",
       "      <td>2019</td>\n",
       "      <td>女性年龄组（5-14岁）</td>\n",
       "      <td>100</td>\n",
       "    </tr>\n",
       "    <tr>\n",
       "      <th>18</th>\n",
       "      <td>JP</td>\n",
       "      <td>2019</td>\n",
       "      <td>女性年龄组（5-14岁）</td>\n",
       "      <td>80</td>\n",
       "    </tr>\n",
       "    <tr>\n",
       "      <th>19</th>\n",
       "      <td>IN</td>\n",
       "      <td>2019</td>\n",
       "      <td>女性年龄组（5-14岁）</td>\n",
       "      <td>120</td>\n",
       "    </tr>\n",
       "    <tr>\n",
       "      <th>20</th>\n",
       "      <td>CN</td>\n",
       "      <td>2019</td>\n",
       "      <td>女性年龄组（15-24岁）</td>\n",
       "      <td>400</td>\n",
       "    </tr>\n",
       "    <tr>\n",
       "      <th>21</th>\n",
       "      <td>US</td>\n",
       "      <td>2019</td>\n",
       "      <td>女性年龄组（15-24岁）</td>\n",
       "      <td>200</td>\n",
       "    </tr>\n",
       "    <tr>\n",
       "      <th>22</th>\n",
       "      <td>JP</td>\n",
       "      <td>2019</td>\n",
       "      <td>女性年龄组（15-24岁）</td>\n",
       "      <td>150</td>\n",
       "    </tr>\n",
       "    <tr>\n",
       "      <th>23</th>\n",
       "      <td>IN</td>\n",
       "      <td>2019</td>\n",
       "      <td>女性年龄组（15-24岁）</td>\n",
       "      <td>300</td>\n",
       "    </tr>\n",
       "  </tbody>\n",
       "</table>\n",
       "</div>"
      ],
      "text/plain": [
       "   国家代码    年份            年龄组  肺结核病例数\n",
       "0    CN  2019    男性年龄组（0-4岁）     100\n",
       "1    US  2019    男性年龄组（0-4岁）      50\n",
       "2    JP  2019    男性年龄组（0-4岁）      30\n",
       "3    IN  2019    男性年龄组（0-4岁）      80\n",
       "4    CN  2019   男性年龄组（5-14岁）     200\n",
       "5    US  2019   男性年龄组（5-14岁）     150\n",
       "6    JP  2019   男性年龄组（5-14岁）     120\n",
       "7    IN  2019   男性年龄组（5-14岁）     180\n",
       "8    CN  2019  男性年龄组（15-24岁）     500\n",
       "9    US  2019  男性年龄组（15-24岁）     300\n",
       "10   JP  2019  男性年龄组（15-24岁）     250\n",
       "11   IN  2019  男性年龄组（15-24岁）     400\n",
       "12   CN  2019    女性年龄组（0-4岁）      80\n",
       "13   US  2019    女性年龄组（0-4岁）      40\n",
       "14   JP  2019    女性年龄组（0-4岁）      20\n",
       "15   IN  2019    女性年龄组（0-4岁）      60\n",
       "16   CN  2019   女性年龄组（5-14岁）     150\n",
       "17   US  2019   女性年龄组（5-14岁）     100\n",
       "18   JP  2019   女性年龄组（5-14岁）      80\n",
       "19   IN  2019   女性年龄组（5-14岁）     120\n",
       "20   CN  2019  女性年龄组（15-24岁）     400\n",
       "21   US  2019  女性年龄组（15-24岁）     200\n",
       "22   JP  2019  女性年龄组（15-24岁）     150\n",
       "23   IN  2019  女性年龄组（15-24岁）     300"
      ]
     },
     "execution_count": 15,
     "metadata": {},
     "output_type": "execute_result"
    }
   ],
   "source": [
    "df4 = pd.melt(df4, \n",
    "             id_vars=['国家代码', '年份'], \n",
    "             var_name='年龄组', \n",
    "             value_name='肺结核病例数')\n",
    "df4"
   ]
  },
  {
   "cell_type": "markdown",
   "id": "6be8e830-8c94-4ce7-b22a-7d71c2680257",
   "metadata": {},
   "source": [
    "### 五、对行进行拆分"
   ]
  },
  {
   "cell_type": "code",
   "execution_count": 16,
   "id": "9a08d86e-c4e9-44a2-89e3-8bfeb6cd92d8",
   "metadata": {
    "scrolled": true
   },
   "outputs": [
    {
     "data": {
      "text/html": [
       "<div>\n",
       "<style scoped>\n",
       "    .dataframe tbody tr th:only-of-type {\n",
       "        vertical-align: middle;\n",
       "    }\n",
       "\n",
       "    .dataframe tbody tr th {\n",
       "        vertical-align: top;\n",
       "    }\n",
       "\n",
       "    .dataframe thead th {\n",
       "        text-align: right;\n",
       "    }\n",
       "</style>\n",
       "<table border=\"1\" class=\"dataframe\">\n",
       "  <thead>\n",
       "    <tr style=\"text-align: right;\">\n",
       "      <th></th>\n",
       "      <th>学生姓名</th>\n",
       "      <th>学号</th>\n",
       "      <th>课程列表</th>\n",
       "    </tr>\n",
       "  </thead>\n",
       "  <tbody>\n",
       "    <tr>\n",
       "      <th>0</th>\n",
       "      <td>张三</td>\n",
       "      <td>1</td>\n",
       "      <td>['数学', '物理']</td>\n",
       "    </tr>\n",
       "    <tr>\n",
       "      <th>1</th>\n",
       "      <td>李四</td>\n",
       "      <td>2</td>\n",
       "      <td>['英语', '化学', '历史']</td>\n",
       "    </tr>\n",
       "    <tr>\n",
       "      <th>2</th>\n",
       "      <td>王五</td>\n",
       "      <td>3</td>\n",
       "      <td>['语文', '数学', '英语', '政治']</td>\n",
       "    </tr>\n",
       "    <tr>\n",
       "      <th>3</th>\n",
       "      <td>赵六</td>\n",
       "      <td>4</td>\n",
       "      <td>['物理', '生物']</td>\n",
       "    </tr>\n",
       "  </tbody>\n",
       "</table>\n",
       "</div>"
      ],
      "text/plain": [
       "  学生姓名  学号                      课程列表\n",
       "0   张三   1              ['数学', '物理']\n",
       "1   李四   2        ['英语', '化学', '历史']\n",
       "2   王五   3  ['语文', '数学', '英语', '政治']\n",
       "3   赵六   4              ['物理', '生物']"
      ]
     },
     "execution_count": 16,
     "metadata": {},
     "output_type": "execute_result"
    }
   ],
   "source": [
    "df5 = pd.read_csv(\"example7.csv\")\n",
    "df5"
   ]
  },
  {
   "cell_type": "code",
   "execution_count": 17,
   "id": "532de859-1703-4b63-9dfd-e9df339d8fb0",
   "metadata": {},
   "outputs": [
    {
     "data": {
      "text/html": [
       "<div>\n",
       "<style scoped>\n",
       "    .dataframe tbody tr th:only-of-type {\n",
       "        vertical-align: middle;\n",
       "    }\n",
       "\n",
       "    .dataframe tbody tr th {\n",
       "        vertical-align: top;\n",
       "    }\n",
       "\n",
       "    .dataframe thead th {\n",
       "        text-align: right;\n",
       "    }\n",
       "</style>\n",
       "<table border=\"1\" class=\"dataframe\">\n",
       "  <thead>\n",
       "    <tr style=\"text-align: right;\">\n",
       "      <th></th>\n",
       "      <th>学生姓名</th>\n",
       "      <th>学号</th>\n",
       "      <th>课程列表</th>\n",
       "    </tr>\n",
       "  </thead>\n",
       "  <tbody>\n",
       "    <tr>\n",
       "      <th>0</th>\n",
       "      <td>张三</td>\n",
       "      <td>1</td>\n",
       "      <td>[数学, 物理]</td>\n",
       "    </tr>\n",
       "    <tr>\n",
       "      <th>1</th>\n",
       "      <td>李四</td>\n",
       "      <td>2</td>\n",
       "      <td>[英语, 化学, 历史]</td>\n",
       "    </tr>\n",
       "    <tr>\n",
       "      <th>2</th>\n",
       "      <td>王五</td>\n",
       "      <td>3</td>\n",
       "      <td>[语文, 数学, 英语, 政治]</td>\n",
       "    </tr>\n",
       "    <tr>\n",
       "      <th>3</th>\n",
       "      <td>赵六</td>\n",
       "      <td>4</td>\n",
       "      <td>[物理, 生物]</td>\n",
       "    </tr>\n",
       "  </tbody>\n",
       "</table>\n",
       "</div>"
      ],
      "text/plain": [
       "  学生姓名  学号              课程列表\n",
       "0   张三   1          [数学, 物理]\n",
       "1   李四   2      [英语, 化学, 历史]\n",
       "2   王五   3  [语文, 数学, 英语, 政治]\n",
       "3   赵六   4          [物理, 生物]"
      ]
     },
     "execution_count": 17,
     "metadata": {},
     "output_type": "execute_result"
    }
   ],
   "source": [
    "# 虽然上面的课程列表变量看起来像是列表，但实际上是字符串\n",
    "# 比如第一行里的课程列表实际为字符串\"['数学', '物理']\"，而不是列表['数学', '物理']\n",
    "# 所以我们需要先将字符串形式的列表转换为实际的列表对象，这样explode才能对列表进行拆分\n",
    "import json\n",
    "df5['课程列表'] = df5['课程列表'].apply(lambda x: json.loads(x.replace(\"'\", \"\\\"\")))\n",
    "df5"
   ]
  },
  {
   "cell_type": "markdown",
   "id": "3ab6e3f9-5c54-4561-85cf-aab648e79291",
   "metadata": {},
   "source": [
    "当某列的值都是列表，而不是一个个独立的值\n",
    "\n",
    "df.explode方法，传入需要拆分的变量名，就会返回一个把该列列表中每一个元素，转换为单独一行的新DataFrame\n",
    "\n",
    "这个方法很实用，当每个单元格是一个值而不是列表时，更好进行统计"
   ]
  },
  {
   "cell_type": "code",
   "execution_count": 18,
   "id": "c08e3ad5-487a-4a0d-bceb-0a15036c230b",
   "metadata": {},
   "outputs": [
    {
     "data": {
      "text/html": [
       "<div>\n",
       "<style scoped>\n",
       "    .dataframe tbody tr th:only-of-type {\n",
       "        vertical-align: middle;\n",
       "    }\n",
       "\n",
       "    .dataframe tbody tr th {\n",
       "        vertical-align: top;\n",
       "    }\n",
       "\n",
       "    .dataframe thead th {\n",
       "        text-align: right;\n",
       "    }\n",
       "</style>\n",
       "<table border=\"1\" class=\"dataframe\">\n",
       "  <thead>\n",
       "    <tr style=\"text-align: right;\">\n",
       "      <th></th>\n",
       "      <th>学生姓名</th>\n",
       "      <th>学号</th>\n",
       "      <th>课程列表</th>\n",
       "    </tr>\n",
       "  </thead>\n",
       "  <tbody>\n",
       "    <tr>\n",
       "      <th>0</th>\n",
       "      <td>张三</td>\n",
       "      <td>1</td>\n",
       "      <td>数学</td>\n",
       "    </tr>\n",
       "    <tr>\n",
       "      <th>0</th>\n",
       "      <td>张三</td>\n",
       "      <td>1</td>\n",
       "      <td>物理</td>\n",
       "    </tr>\n",
       "    <tr>\n",
       "      <th>1</th>\n",
       "      <td>李四</td>\n",
       "      <td>2</td>\n",
       "      <td>英语</td>\n",
       "    </tr>\n",
       "    <tr>\n",
       "      <th>1</th>\n",
       "      <td>李四</td>\n",
       "      <td>2</td>\n",
       "      <td>化学</td>\n",
       "    </tr>\n",
       "    <tr>\n",
       "      <th>1</th>\n",
       "      <td>李四</td>\n",
       "      <td>2</td>\n",
       "      <td>历史</td>\n",
       "    </tr>\n",
       "    <tr>\n",
       "      <th>2</th>\n",
       "      <td>王五</td>\n",
       "      <td>3</td>\n",
       "      <td>语文</td>\n",
       "    </tr>\n",
       "    <tr>\n",
       "      <th>2</th>\n",
       "      <td>王五</td>\n",
       "      <td>3</td>\n",
       "      <td>数学</td>\n",
       "    </tr>\n",
       "    <tr>\n",
       "      <th>2</th>\n",
       "      <td>王五</td>\n",
       "      <td>3</td>\n",
       "      <td>英语</td>\n",
       "    </tr>\n",
       "    <tr>\n",
       "      <th>2</th>\n",
       "      <td>王五</td>\n",
       "      <td>3</td>\n",
       "      <td>政治</td>\n",
       "    </tr>\n",
       "    <tr>\n",
       "      <th>3</th>\n",
       "      <td>赵六</td>\n",
       "      <td>4</td>\n",
       "      <td>物理</td>\n",
       "    </tr>\n",
       "    <tr>\n",
       "      <th>3</th>\n",
       "      <td>赵六</td>\n",
       "      <td>4</td>\n",
       "      <td>生物</td>\n",
       "    </tr>\n",
       "  </tbody>\n",
       "</table>\n",
       "</div>"
      ],
      "text/plain": [
       "  学生姓名  学号 课程列表\n",
       "0   张三   1   数学\n",
       "0   张三   1   物理\n",
       "1   李四   2   英语\n",
       "1   李四   2   化学\n",
       "1   李四   2   历史\n",
       "2   王五   3   语文\n",
       "2   王五   3   数学\n",
       "2   王五   3   英语\n",
       "2   王五   3   政治\n",
       "3   赵六   4   物理\n",
       "3   赵六   4   生物"
      ]
     },
     "execution_count": 18,
     "metadata": {},
     "output_type": "execute_result"
    }
   ],
   "source": [
    "df5 = df5.explode('课程列表')\n",
    "df5"
   ]
  },
  {
   "cell_type": "markdown",
   "id": "3bbb74f8-33c5-41d2-97c7-ec4477ed9400",
   "metadata": {},
   "source": [
    "### 六、对行或列进行删除"
   ]
  },
  {
   "cell_type": "markdown",
   "id": "923b6e51-ae84-46bf-b316-718735e37e20",
   "metadata": {},
   "source": [
    "当我们想清理无效或无用的行或列\n",
    "\n",
    "drop方法"
   ]
  },
  {
   "cell_type": "markdown",
   "id": "979c5fca-4181-4553-a76a-2674cddfe269",
   "metadata": {},
   "source": [
    "**基本上，对DataFrame的操作方法，都是默认不改变原始DataFrame的，而是返回一个新的DataFrame**\n",
    "\n",
    "**要么就得进行重新赋值，要么指定可选参数inplace=True**"
   ]
  },
  {
   "cell_type": "code",
   "execution_count": null,
   "id": "9dc1b527-c6ea-42ea-9e72-11bb5728e7d8",
   "metadata": {},
   "outputs": [],
   "source": []
  }
 ],
 "metadata": {
  "kernelspec": {
   "display_name": "Python 3 (ipykernel)",
   "language": "python",
   "name": "python3"
  },
  "language_info": {
   "codemirror_mode": {
    "name": "ipython",
    "version": 3
   },
   "file_extension": ".py",
   "mimetype": "text/x-python",
   "name": "python",
   "nbconvert_exporter": "python",
   "pygments_lexer": "ipython3",
   "version": "3.11.1"
  }
 },
 "nbformat": 4,
 "nbformat_minor": 5
}
