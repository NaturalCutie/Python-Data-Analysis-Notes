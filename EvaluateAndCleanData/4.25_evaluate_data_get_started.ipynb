{
 "cells": [
  {
   "cell_type": "markdown",
   "id": "eb35036b-62a6-475b-9966-55157e5932d9",
   "metadata": {},
   "source": [
    "4.25_evaluate_data_get_started"
   ]
  },
  {
   "cell_type": "markdown",
   "id": "9d50fcb2-0a59-4ee6-a866-be3239b68494",
   "metadata": {},
   "source": [
    "数据的整洁度比干净度更好评估，因为结构性问题相比内容性问题，更直观和容易被发现"
   ]
  },
  {
   "cell_type": "markdown",
   "id": "0d55b522-bb24-4fff-a514-400bf9a110cd",
   "metadata": {},
   "source": [
    "### 一、评估数据整洁度"
   ]
  },
  {
   "cell_type": "markdown",
   "id": "b8eb0986-d4a0-44f3-8f6e-5efa71d4ea8f",
   "metadata": {},
   "source": [
    "通过DataFrame的概况信息，和实际数据，来评估数据的整洁度"
   ]
  },
  {
   "cell_type": "markdown",
   "id": "37bdea18-ff35-485f-bae0-fa1283cdd369",
   "metadata": {},
   "source": [
    "#### (一)、info方法列名"
   ]
  },
  {
   "cell_type": "markdown",
   "id": "5846d390-1547-4b52-8216-ee10e7f129aa",
   "metadata": {},
   "source": [
    "DataFrame的info方法，它能提供数据的概况信息，其中列名首先能透露一些关于结构的信息，\n",
    "\n",
    "比如：如果有列叫做'销售额_2010'，说明这列应该是同时包含了销售额和年份两个变量，不符合每列只能表示一个变量的整洁性规则"
   ]
  },
  {
   "cell_type": "markdown",
   "id": "380720e0-9cd5-4335-816a-8e980c56358f",
   "metadata": {},
   "source": [
    "#### (二)、head/tail/sample方法"
   ]
  },
  {
   "cell_type": "markdown",
   "id": "990318bb-a56f-4035-9e28-5e8393f78897",
   "metadata": {},
   "source": [
    "1. 通过head/tail/sample方法，来获取开头/结尾/随机N行\n",
    "\n",
    "    通过部分数据来评估，是否符合每列是一个变量，每行是一个观察值，每个单元格是一个值的规则。"
   ]
  },
  {
   "cell_type": "markdown",
   "id": "679a57fe-3752-4194-86c0-99fd072a4a8a",
   "metadata": {},
   "source": [
    "2. 在输出部分行检查结构时，如果DataFrame由于列数太多，或者值太长，而展示不全的话，可以通过set_option函数，调整列数或值长度展示的上限"
   ]
  },
  {
   "cell_type": "markdown",
   "id": "2b1966aa-9327-4e9e-9b5f-66edda8886c4",
   "metadata": {},
   "source": [
    "### 二、评估数据的干净度"
   ]
  },
  {
   "cell_type": "code",
   "execution_count": 2,
   "id": "d22e5b51-3a64-429a-9793-0597c488aba8",
   "metadata": {},
   "outputs": [
    {
     "data": {
      "text/html": [
       "<div>\n",
       "<style scoped>\n",
       "    .dataframe tbody tr th:only-of-type {\n",
       "        vertical-align: middle;\n",
       "    }\n",
       "\n",
       "    .dataframe tbody tr th {\n",
       "        vertical-align: top;\n",
       "    }\n",
       "\n",
       "    .dataframe thead th {\n",
       "        text-align: right;\n",
       "    }\n",
       "</style>\n",
       "<table border=\"1\" class=\"dataframe\">\n",
       "  <thead>\n",
       "    <tr style=\"text-align: right;\">\n",
       "      <th></th>\n",
       "      <th>姓名</th>\n",
       "      <th>考试1</th>\n",
       "      <th>考试2</th>\n",
       "      <th>考试3</th>\n",
       "    </tr>\n",
       "  </thead>\n",
       "  <tbody>\n",
       "    <tr>\n",
       "      <th>001</th>\n",
       "      <td>小陈</td>\n",
       "      <td>85</td>\n",
       "      <td>95</td>\n",
       "      <td>92</td>\n",
       "    </tr>\n",
       "    <tr>\n",
       "      <th>002</th>\n",
       "      <td>小李</td>\n",
       "      <td>91</td>\n",
       "      <td>92</td>\n",
       "      <td>94</td>\n",
       "    </tr>\n",
       "    <tr>\n",
       "      <th>003</th>\n",
       "      <td>小王</td>\n",
       "      <td>86</td>\n",
       "      <td>81</td>\n",
       "      <td>NaN</td>\n",
       "    </tr>\n",
       "    <tr>\n",
       "      <th>004</th>\n",
       "      <td>小张</td>\n",
       "      <td>79</td>\n",
       "      <td>89</td>\n",
       "      <td>95</td>\n",
       "    </tr>\n",
       "    <tr>\n",
       "      <th>005</th>\n",
       "      <td>小赵</td>\n",
       "      <td>96</td>\n",
       "      <td>91</td>\n",
       "      <td>91</td>\n",
       "    </tr>\n",
       "    <tr>\n",
       "      <th>006</th>\n",
       "      <td>小周</td>\n",
       "      <td>81</td>\n",
       "      <td>NaN</td>\n",
       "      <td>92</td>\n",
       "    </tr>\n",
       "  </tbody>\n",
       "</table>\n",
       "</div>"
      ],
      "text/plain": [
       "     姓名 考试1  考试2  考试3\n",
       "001  小陈  85   95   92\n",
       "002  小李  91   92   94\n",
       "003  小王  86   81  NaN\n",
       "004  小张  79   89   95\n",
       "005  小赵  96   91   91\n",
       "006  小周  81  NaN   92"
      ]
     },
     "execution_count": 2,
     "metadata": {},
     "output_type": "execute_result"
    }
   ],
   "source": [
    "import pandas as pd\n",
    "import numpy as np\n",
    "scores = pd.DataFrame({\"001\": {\"姓名\": \"小陈\", \"考试1\": 85, \"考试2\": 95, \"考试3\": 92},  \"002\": {\"姓名\": \"小李\", \"考试1\": 91, \"考试2\": 92, \"考试3\": 94},  \"003\": {\"姓名\": \"小王\", \"考试1\": 86, \"考试2\": 81, \"考试3\": np.nan},  \"004\": {\"姓名\": \"小张\", \"考试1\": 79, \"考试2\": 89, \"考试3\": 95},  \"005\": {\"姓名\": \"小赵\", \"考试1\": 96, \"考试2\": 91, \"考试3\": 91},  \"006\": {\"姓名\": \"小周\", \"考试1\": 81, \"考试2\": np.nan, \"考试3\": 92} }).T\n",
    "scores"
   ]
  },
  {
   "cell_type": "markdown",
   "id": "be299621-9ba8-4121-a141-d343f757166a",
   "metadata": {},
   "source": [
    "#### (一)、评估丢失数据"
   ]
  },
  {
   "cell_type": "markdown",
   "id": "b5380a63-1135-48f6-a7ed-093b97540a0a",
   "metadata": {},
   "source": [
    "1. info方法\n",
    "\n",
    "    将行的数量，与每列非空缺值的数量进行对比，就能知道这列是否存在空缺值。\n",
    "\n",
    "2. isnull方法\n",
    "\n",
    "   Series和DataFrame都有一个方法叫isnull，作用是检查值是否为空缺值\n",
    "\n",
    "   1)Series\n",
    "\n",
    "   用在Series上，它会返回一个布尔值组成的Series，告诉我们原Series里的各个值是否为空缺值，是的话就是True，不是就是False"
   ]
  },
  {
   "cell_type": "code",
   "execution_count": 4,
   "id": "ebb13f02-9ff6-42b1-8e7f-93a49a9a3a1b",
   "metadata": {},
   "outputs": [
    {
     "data": {
      "text/plain": [
       "001     95\n",
       "002     92\n",
       "003     81\n",
       "004     89\n",
       "005     91\n",
       "006    NaN\n",
       "Name: 考试2, dtype: object"
      ]
     },
     "execution_count": 4,
     "metadata": {},
     "output_type": "execute_result"
    }
   ],
   "source": [
    "scores.考试2"
   ]
  },
  {
   "cell_type": "code",
   "execution_count": 5,
   "id": "4102ee43-f449-4b57-b838-2f921c3152d7",
   "metadata": {},
   "outputs": [
    {
     "data": {
      "text/plain": [
       "001    False\n",
       "002    False\n",
       "003    False\n",
       "004    False\n",
       "005    False\n",
       "006     True\n",
       "Name: 考试2, dtype: bool"
      ]
     },
     "execution_count": 5,
     "metadata": {},
     "output_type": "execute_result"
    }
   ],
   "source": [
    "scores.考试2.isnull()"
   ]
  },
  {
   "cell_type": "markdown",
   "id": "697432db-4f58-4606-b5a6-8c455c4f9079",
   "metadata": {},
   "source": [
    "    2)DataFrame\n",
    "\n",
    "      用在DataFrame上，会返回一个布尔值组成的DataFrame，告诉我们原DataFrame里各个值是否为空缺值。"
   ]
  },
  {
   "cell_type": "code",
   "execution_count": 7,
   "id": "76cc782f-31b7-41ee-9f6f-67d7f7cc9856",
   "metadata": {},
   "outputs": [
    {
     "data": {
      "text/html": [
       "<div>\n",
       "<style scoped>\n",
       "    .dataframe tbody tr th:only-of-type {\n",
       "        vertical-align: middle;\n",
       "    }\n",
       "\n",
       "    .dataframe tbody tr th {\n",
       "        vertical-align: top;\n",
       "    }\n",
       "\n",
       "    .dataframe thead th {\n",
       "        text-align: right;\n",
       "    }\n",
       "</style>\n",
       "<table border=\"1\" class=\"dataframe\">\n",
       "  <thead>\n",
       "    <tr style=\"text-align: right;\">\n",
       "      <th></th>\n",
       "      <th>姓名</th>\n",
       "      <th>考试1</th>\n",
       "      <th>考试2</th>\n",
       "      <th>考试3</th>\n",
       "    </tr>\n",
       "  </thead>\n",
       "  <tbody>\n",
       "    <tr>\n",
       "      <th>001</th>\n",
       "      <td>小陈</td>\n",
       "      <td>85</td>\n",
       "      <td>95</td>\n",
       "      <td>92</td>\n",
       "    </tr>\n",
       "    <tr>\n",
       "      <th>002</th>\n",
       "      <td>小李</td>\n",
       "      <td>91</td>\n",
       "      <td>92</td>\n",
       "      <td>94</td>\n",
       "    </tr>\n",
       "    <tr>\n",
       "      <th>003</th>\n",
       "      <td>小王</td>\n",
       "      <td>86</td>\n",
       "      <td>81</td>\n",
       "      <td>NaN</td>\n",
       "    </tr>\n",
       "    <tr>\n",
       "      <th>004</th>\n",
       "      <td>小张</td>\n",
       "      <td>79</td>\n",
       "      <td>89</td>\n",
       "      <td>95</td>\n",
       "    </tr>\n",
       "    <tr>\n",
       "      <th>005</th>\n",
       "      <td>小赵</td>\n",
       "      <td>96</td>\n",
       "      <td>91</td>\n",
       "      <td>91</td>\n",
       "    </tr>\n",
       "    <tr>\n",
       "      <th>006</th>\n",
       "      <td>小周</td>\n",
       "      <td>81</td>\n",
       "      <td>NaN</td>\n",
       "      <td>92</td>\n",
       "    </tr>\n",
       "  </tbody>\n",
       "</table>\n",
       "</div>"
      ],
      "text/plain": [
       "     姓名 考试1  考试2  考试3\n",
       "001  小陈  85   95   92\n",
       "002  小李  91   92   94\n",
       "003  小王  86   81  NaN\n",
       "004  小张  79   89   95\n",
       "005  小赵  96   91   91\n",
       "006  小周  81  NaN   92"
      ]
     },
     "execution_count": 7,
     "metadata": {},
     "output_type": "execute_result"
    }
   ],
   "source": [
    "scores"
   ]
  },
  {
   "cell_type": "code",
   "execution_count": 6,
   "id": "c3bae947-e940-4d1d-8a72-cca63bea147e",
   "metadata": {
    "scrolled": true
   },
   "outputs": [
    {
     "data": {
      "text/html": [
       "<div>\n",
       "<style scoped>\n",
       "    .dataframe tbody tr th:only-of-type {\n",
       "        vertical-align: middle;\n",
       "    }\n",
       "\n",
       "    .dataframe tbody tr th {\n",
       "        vertical-align: top;\n",
       "    }\n",
       "\n",
       "    .dataframe thead th {\n",
       "        text-align: right;\n",
       "    }\n",
       "</style>\n",
       "<table border=\"1\" class=\"dataframe\">\n",
       "  <thead>\n",
       "    <tr style=\"text-align: right;\">\n",
       "      <th></th>\n",
       "      <th>姓名</th>\n",
       "      <th>考试1</th>\n",
       "      <th>考试2</th>\n",
       "      <th>考试3</th>\n",
       "    </tr>\n",
       "  </thead>\n",
       "  <tbody>\n",
       "    <tr>\n",
       "      <th>001</th>\n",
       "      <td>False</td>\n",
       "      <td>False</td>\n",
       "      <td>False</td>\n",
       "      <td>False</td>\n",
       "    </tr>\n",
       "    <tr>\n",
       "      <th>002</th>\n",
       "      <td>False</td>\n",
       "      <td>False</td>\n",
       "      <td>False</td>\n",
       "      <td>False</td>\n",
       "    </tr>\n",
       "    <tr>\n",
       "      <th>003</th>\n",
       "      <td>False</td>\n",
       "      <td>False</td>\n",
       "      <td>False</td>\n",
       "      <td>True</td>\n",
       "    </tr>\n",
       "    <tr>\n",
       "      <th>004</th>\n",
       "      <td>False</td>\n",
       "      <td>False</td>\n",
       "      <td>False</td>\n",
       "      <td>False</td>\n",
       "    </tr>\n",
       "    <tr>\n",
       "      <th>005</th>\n",
       "      <td>False</td>\n",
       "      <td>False</td>\n",
       "      <td>False</td>\n",
       "      <td>False</td>\n",
       "    </tr>\n",
       "    <tr>\n",
       "      <th>006</th>\n",
       "      <td>False</td>\n",
       "      <td>False</td>\n",
       "      <td>True</td>\n",
       "      <td>False</td>\n",
       "    </tr>\n",
       "  </tbody>\n",
       "</table>\n",
       "</div>"
      ],
      "text/plain": [
       "        姓名    考试1    考试2    考试3\n",
       "001  False  False  False  False\n",
       "002  False  False  False  False\n",
       "003  False  False  False   True\n",
       "004  False  False  False  False\n",
       "005  False  False  False  False\n",
       "006  False  False   True  False"
      ]
     },
     "execution_count": 6,
     "metadata": {},
     "output_type": "execute_result"
    }
   ],
   "source": [
    "scores.isnull()"
   ]
  },
  {
   "cell_type": "markdown",
   "id": "9609e7f7-57cb-47ff-92e2-fbc407745049",
   "metadata": {},
   "source": [
    "**直接对DataFrame调用isnull方法，并不能直观的评估丢失数据**"
   ]
  },
  {
   "cell_type": "markdown",
   "id": "1fac3f37-e891-4e6f-a888-49f0a782bcc8",
   "metadata": {},
   "source": [
    "    3)提取丢失数据的行\n",
    "\n",
    "      之前学的，根据条件筛选DataFrame中的行的原理是：DataFrame的列是Series类型，而Series和条件结合起来，会返回一个布尔值组成的Series,它的长度和DataFrame的行数相对应。DataFrame会用布尔值的Series进行索引，保留True所对应的索引的行。\n",
    "\n",
    "      而在这里，对DataFrame的列调用isnull方法，也会返回一个布尔值组成的Series。将其放在方括号里，DataFrame会用布尔值的Series进行索引，保留True所对应的索引的行，即提取出那列丢失数据的行。"
   ]
  },
  {
   "cell_type": "code",
   "execution_count": 3,
   "id": "55a6ca13-7630-4f1f-a8ac-5880e1a21310",
   "metadata": {},
   "outputs": [
    {
     "data": {
      "text/html": [
       "<div>\n",
       "<style scoped>\n",
       "    .dataframe tbody tr th:only-of-type {\n",
       "        vertical-align: middle;\n",
       "    }\n",
       "\n",
       "    .dataframe tbody tr th {\n",
       "        vertical-align: top;\n",
       "    }\n",
       "\n",
       "    .dataframe thead th {\n",
       "        text-align: right;\n",
       "    }\n",
       "</style>\n",
       "<table border=\"1\" class=\"dataframe\">\n",
       "  <thead>\n",
       "    <tr style=\"text-align: right;\">\n",
       "      <th></th>\n",
       "      <th>姓名</th>\n",
       "      <th>考试1</th>\n",
       "      <th>考试2</th>\n",
       "      <th>考试3</th>\n",
       "    </tr>\n",
       "  </thead>\n",
       "  <tbody>\n",
       "    <tr>\n",
       "      <th>003</th>\n",
       "      <td>小王</td>\n",
       "      <td>86</td>\n",
       "      <td>81</td>\n",
       "      <td>NaN</td>\n",
       "    </tr>\n",
       "  </tbody>\n",
       "</table>\n",
       "</div>"
      ],
      "text/plain": [
       "     姓名 考试1 考试2  考试3\n",
       "003  小王  86  81  NaN"
      ]
     },
     "execution_count": 3,
     "metadata": {},
     "output_type": "execute_result"
    }
   ],
   "source": [
    "scores[scores[\"考试3\"].isnull()]"
   ]
  },
  {
   "cell_type": "markdown",
   "id": "11a4372e-8d68-4a16-9069-9f5619ca9c14",
   "metadata": {},
   "source": [
    "3. 连续调用isnull方法和sum方法\n",
    "\n",
    "   由于True和False布尔值，用在数学计算里，会被分别视为数字1和数字0，所以再调用求和方法，就是在算True的数量"
   ]
  },
  {
   "cell_type": "code",
   "execution_count": 10,
   "id": "07ccec66-b30d-4082-a1e5-650bfe22be91",
   "metadata": {},
   "outputs": [
    {
     "data": {
      "text/plain": [
       "6"
      ]
     },
     "execution_count": 10,
     "metadata": {},
     "output_type": "execute_result"
    }
   ],
   "source": [
    "True + 5"
   ]
  },
  {
   "cell_type": "code",
   "execution_count": 11,
   "id": "4cf75e56-0a47-4483-b146-5cefc63141d1",
   "metadata": {},
   "outputs": [
    {
     "data": {
      "text/plain": [
       "5"
      ]
     },
     "execution_count": 11,
     "metadata": {},
     "output_type": "execute_result"
    }
   ],
   "source": [
    "False + 5"
   ]
  },
  {
   "cell_type": "markdown",
   "id": "2f01a8e5-1a81-4af3-9405-bd5ed3fbc0c7",
   "metadata": {},
   "source": [
    "    1)Series\n",
    "\n",
    "      计算空缺值的数量"
   ]
  },
  {
   "cell_type": "code",
   "execution_count": 8,
   "id": "376dc7c6-1800-435f-9884-eedb70349452",
   "metadata": {},
   "outputs": [
    {
     "data": {
      "text/plain": [
       "1"
      ]
     },
     "execution_count": 8,
     "metadata": {},
     "output_type": "execute_result"
    }
   ],
   "source": [
    "scores['考试2'].isnull().sum()"
   ]
  },
  {
   "cell_type": "markdown",
   "id": "bfbe6f37-7dd3-427b-a312-ac16a50586ac",
   "metadata": {},
   "source": [
    "    2)DataFrame\n",
    "\n",
    "     由于sum方法默认沿着纵向操作，会返回一个列名作为标签索引的Series；又由于DataFrame的列就是Series，所以返回的Series的值，就是各个列里空缺值的数量"
   ]
  },
  {
   "cell_type": "markdown",
   "id": "486be917-452c-4bc4-9e4b-666c206e63a1",
   "metadata": {},
   "source": [
    "      a.计算某列空缺值的个数"
   ]
  },
  {
   "cell_type": "code",
   "execution_count": 13,
   "id": "b99f6e9e-8790-4430-b718-ce3bec9fd55f",
   "metadata": {},
   "outputs": [
    {
     "data": {
      "text/plain": [
       "1"
      ]
     },
     "execution_count": 13,
     "metadata": {},
     "output_type": "execute_result"
    }
   ],
   "source": [
    "scores.考试3.isnull().sum()"
   ]
  },
  {
   "cell_type": "markdown",
   "id": "1828b4bc-79d6-4b7c-8e1f-5e6cd3fe5a0d",
   "metadata": {},
   "source": [
    "      b.计算每列空缺值的个数"
   ]
  },
  {
   "cell_type": "code",
   "execution_count": 15,
   "id": "de44188d-8a14-4966-93a6-d9c7660ed4ee",
   "metadata": {},
   "outputs": [
    {
     "data": {
      "text/plain": [
       "姓名     0\n",
       "考试1    0\n",
       "考试2    1\n",
       "考试3    1\n",
       "dtype: int64"
      ]
     },
     "execution_count": 15,
     "metadata": {},
     "output_type": "execute_result"
    }
   ],
   "source": [
    "scores.isnull().sum()"
   ]
  },
  {
   "cell_type": "markdown",
   "id": "a29d8a81-ab08-4516-9fd2-2ec2a4a3c1d4",
   "metadata": {},
   "source": [
    "#### (二)、评估重复数据 "
   ]
  },
  {
   "cell_type": "markdown",
   "id": "00c7142c-8a46-4998-a538-15083e80ac08",
   "metadata": {},
   "source": [
    "Series和DataFrame都有一个方法叫duplicated，作用是检查值或行是否存在重复"
   ]
  },
  {
   "cell_type": "code",
   "execution_count": 16,
   "id": "f1a0dd4a-2082-409d-bad9-955b745ba61e",
   "metadata": {},
   "outputs": [
    {
     "data": {
      "text/html": [
       "<div>\n",
       "<style scoped>\n",
       "    .dataframe tbody tr th:only-of-type {\n",
       "        vertical-align: middle;\n",
       "    }\n",
       "\n",
       "    .dataframe tbody tr th {\n",
       "        vertical-align: top;\n",
       "    }\n",
       "\n",
       "    .dataframe thead th {\n",
       "        text-align: right;\n",
       "    }\n",
       "</style>\n",
       "<table border=\"1\" class=\"dataframe\">\n",
       "  <thead>\n",
       "    <tr style=\"text-align: right;\">\n",
       "      <th></th>\n",
       "      <th>学号</th>\n",
       "      <th>姓名</th>\n",
       "      <th>性别</th>\n",
       "      <th>身高</th>\n",
       "    </tr>\n",
       "  </thead>\n",
       "  <tbody>\n",
       "    <tr>\n",
       "      <th>0</th>\n",
       "      <td>001</td>\n",
       "      <td>小陈</td>\n",
       "      <td>女</td>\n",
       "      <td>172.5</td>\n",
       "    </tr>\n",
       "    <tr>\n",
       "      <th>1</th>\n",
       "      <td>002</td>\n",
       "      <td>小李</td>\n",
       "      <td>女</td>\n",
       "      <td>168.0</td>\n",
       "    </tr>\n",
       "    <tr>\n",
       "      <th>2</th>\n",
       "      <td>003</td>\n",
       "      <td>小王</td>\n",
       "      <td>男</td>\n",
       "      <td>178.2</td>\n",
       "    </tr>\n",
       "    <tr>\n",
       "      <th>3</th>\n",
       "      <td>002</td>\n",
       "      <td>小张</td>\n",
       "      <td>男</td>\n",
       "      <td>181.3</td>\n",
       "    </tr>\n",
       "    <tr>\n",
       "      <th>4</th>\n",
       "      <td>005</td>\n",
       "      <td>小赵</td>\n",
       "      <td>女</td>\n",
       "      <td>161.7</td>\n",
       "    </tr>\n",
       "    <tr>\n",
       "      <th>5</th>\n",
       "      <td>002</td>\n",
       "      <td>小李</td>\n",
       "      <td>女</td>\n",
       "      <td>168.0</td>\n",
       "    </tr>\n",
       "    <tr>\n",
       "      <th>6</th>\n",
       "      <td>006</td>\n",
       "      <td>小周</td>\n",
       "      <td>女</td>\n",
       "      <td>158.5</td>\n",
       "    </tr>\n",
       "  </tbody>\n",
       "</table>\n",
       "</div>"
      ],
      "text/plain": [
       "    学号  姓名 性别     身高\n",
       "0  001  小陈  女  172.5\n",
       "1  002  小李  女  168.0\n",
       "2  003  小王  男  178.2\n",
       "3  002  小张  男  181.3\n",
       "4  005  小赵  女  161.7\n",
       "5  002  小李  女  168.0\n",
       "6  006  小周  女  158.5"
      ]
     },
     "execution_count": 16,
     "metadata": {},
     "output_type": "execute_result"
    }
   ],
   "source": [
    "name = pd.Series([\"小陈\", \"小李\", \"小王\", \"小张\", \"小赵\", \"小李\", \"小周\"])\n",
    "gender = pd.Series([\"女\", \"女\", \"男\", \"男\", \"女\", \"女\", \"女\"])\n",
    "height = pd.Series([172.5, 168.0, 178.2, 181.3, 161.7, 168.0, 158.5])\n",
    "student_number = pd.Series([\"001\", \"002\", \"003\", \"002\", \"005\", \"002\", \"006\"])\n",
    "students = pd.DataFrame({\"学号\": student_number, \"姓名\": name, \"性别\": gender, \"身高\": height})\n",
    "students"
   ]
  },
  {
   "cell_type": "markdown",
   "id": "deec6095-b6cb-4deb-94ce-3ef8cd1418d9",
   "metadata": {},
   "source": [
    "1. Series\n",
    "\n",
    "   会返回布尔值组成的Series，表明当前值是否在前面存在过，某个值第一次出现时是False，说明前面不存在重发；但当它第二次、第三次出现时是True，说明这个属于重复值"
   ]
  },
  {
   "cell_type": "code",
   "execution_count": 17,
   "id": "f10e244d-eca7-4f56-ac65-6d201f8e88fa",
   "metadata": {},
   "outputs": [
    {
     "data": {
      "text/plain": [
       "0    001\n",
       "1    002\n",
       "2    003\n",
       "3    002\n",
       "4    005\n",
       "5    002\n",
       "6    006\n",
       "Name: 学号, dtype: object"
      ]
     },
     "execution_count": 17,
     "metadata": {},
     "output_type": "execute_result"
    }
   ],
   "source": [
    "students.学号"
   ]
  },
  {
   "cell_type": "code",
   "execution_count": 18,
   "id": "3b9c497e-30af-4dea-9d2a-4ca398ec0341",
   "metadata": {},
   "outputs": [
    {
     "data": {
      "text/plain": [
       "0    False\n",
       "1    False\n",
       "2    False\n",
       "3     True\n",
       "4    False\n",
       "5     True\n",
       "6    False\n",
       "Name: 学号, dtype: bool"
      ]
     },
     "execution_count": 18,
     "metadata": {},
     "output_type": "execute_result"
    }
   ],
   "source": [
    "students.学号.duplicated()"
   ]
  },
  {
   "cell_type": "markdown",
   "id": "b28c2626-171c-4022-b485-24d18761457b",
   "metadata": {},
   "source": [
    "2. DataFrame\n",
    "\n",
    "    会返回布尔值组成的Series\n",
    "\n",
    "   1)查看所有属性是否存在重复\n",
    "\n",
    "      默认查看所有属性是否存在重复，当这一行里所有值和前面某行完全一样时，才会是True"
   ]
  },
  {
   "cell_type": "code",
   "execution_count": 19,
   "id": "71228fe3-1f85-49a6-9f14-600548cf30df",
   "metadata": {},
   "outputs": [
    {
     "data": {
      "text/plain": [
       "0    False\n",
       "1    False\n",
       "2    False\n",
       "3    False\n",
       "4    False\n",
       "5     True\n",
       "6    False\n",
       "dtype: bool"
      ]
     },
     "execution_count": 19,
     "metadata": {},
     "output_type": "execute_result"
    }
   ],
   "source": [
    "students.duplicated()"
   ]
  },
  {
   "cell_type": "markdown",
   "id": "3daadffa-24f4-471a-b57a-f6e74539d96a",
   "metadata": {},
   "source": [
    "    2)查看任意属性是否存在重复\n",
    "\n",
    "     给duplicated传入可选参数subset，赋值给一个列表，里面放上我们想查看是否存在重复的任意属性。当这些属性同时出现重复的时候，才会是True"
   ]
  },
  {
   "cell_type": "code",
   "execution_count": 20,
   "id": "a67cfc09-d031-45fa-a272-6bb93c627a96",
   "metadata": {},
   "outputs": [
    {
     "data": {
      "text/plain": [
       "0    False\n",
       "1    False\n",
       "2    False\n",
       "3    False\n",
       "4    False\n",
       "5     True\n",
       "6    False\n",
       "dtype: bool"
      ]
     },
     "execution_count": 20,
     "metadata": {},
     "output_type": "execute_result"
    }
   ],
   "source": [
    "students.duplicated(subset=['学号', '性别'])"
   ]
  },
  {
   "cell_type": "markdown",
   "id": "9e1b3c44-8a4c-4ab1-90e4-0f6eda94cc44",
   "metadata": {},
   "source": [
    "    3)提取重复数据的行\n",
    "\n",
    "      原理是根据条件筛选DataFrame中的行。\n",
    "\n",
    "      在这里，对DataFrame调用duplicated方法时，会返回一个布尔值组成的Series。将其放在方括号里，DataFrame会用布尔值的Series进行索引，保留True所对应的索引的行，即提取出包含重复数据的行。"
   ]
  },
  {
   "cell_type": "markdown",
   "id": "90120ad5-8d24-4d50-99dc-6dccc1819f73",
   "metadata": {},
   "source": [
    "**对于长数据，评估重复数据，无法直接查看，只能提取重复数据的行**"
   ]
  },
  {
   "cell_type": "code",
   "execution_count": 21,
   "id": "9f7e542c-baa6-431d-aa96-fe070b631615",
   "metadata": {},
   "outputs": [
    {
     "data": {
      "text/html": [
       "<div>\n",
       "<style scoped>\n",
       "    .dataframe tbody tr th:only-of-type {\n",
       "        vertical-align: middle;\n",
       "    }\n",
       "\n",
       "    .dataframe tbody tr th {\n",
       "        vertical-align: top;\n",
       "    }\n",
       "\n",
       "    .dataframe thead th {\n",
       "        text-align: right;\n",
       "    }\n",
       "</style>\n",
       "<table border=\"1\" class=\"dataframe\">\n",
       "  <thead>\n",
       "    <tr style=\"text-align: right;\">\n",
       "      <th></th>\n",
       "      <th>学号</th>\n",
       "      <th>姓名</th>\n",
       "      <th>性别</th>\n",
       "      <th>身高</th>\n",
       "    </tr>\n",
       "  </thead>\n",
       "  <tbody>\n",
       "    <tr>\n",
       "      <th>5</th>\n",
       "      <td>002</td>\n",
       "      <td>小李</td>\n",
       "      <td>女</td>\n",
       "      <td>168.0</td>\n",
       "    </tr>\n",
       "  </tbody>\n",
       "</table>\n",
       "</div>"
      ],
      "text/plain": [
       "    学号  姓名 性别     身高\n",
       "5  002  小李  女  168.0"
      ]
     },
     "execution_count": 21,
     "metadata": {},
     "output_type": "execute_result"
    }
   ],
   "source": [
    "students[students.duplicated(subset=['学号', '性别'])]"
   ]
  },
  {
   "cell_type": "markdown",
   "id": "c782d60b-5ecb-4fcb-a464-98631431b63e",
   "metadata": {},
   "source": [
    "#### (三)、评估不一致数据"
   ]
  },
  {
   "cell_type": "markdown",
   "id": "eedb541b-2e98-4ce0-9ad6-f75cbe955d2b",
   "metadata": {},
   "source": [
    "Series的value_counts方法\n",
    "\n",
    "会返回Series里各个值的个数。\n",
    "\n",
    "我们可以用value_counts，看到DataFrame某列下面所有值的种类，以及各个种类出现的次数，帮我们确定有没有不同值在表示同一目标的情况。"
   ]
  },
  {
   "cell_type": "code",
   "execution_count": 23,
   "id": "d178ea82-a51f-4689-b637-09abb8864ece",
   "metadata": {},
   "outputs": [
    {
     "data": {
      "text/html": [
       "<div>\n",
       "<style scoped>\n",
       "    .dataframe tbody tr th:only-of-type {\n",
       "        vertical-align: middle;\n",
       "    }\n",
       "\n",
       "    .dataframe tbody tr th {\n",
       "        vertical-align: top;\n",
       "    }\n",
       "\n",
       "    .dataframe thead th {\n",
       "        text-align: right;\n",
       "    }\n",
       "</style>\n",
       "<table border=\"1\" class=\"dataframe\">\n",
       "  <thead>\n",
       "    <tr style=\"text-align: right;\">\n",
       "      <th></th>\n",
       "      <th>学号</th>\n",
       "      <th>姓名</th>\n",
       "      <th>性别</th>\n",
       "      <th>班级</th>\n",
       "    </tr>\n",
       "  </thead>\n",
       "  <tbody>\n",
       "    <tr>\n",
       "      <th>0</th>\n",
       "      <td>001</td>\n",
       "      <td>小陈</td>\n",
       "      <td>女</td>\n",
       "      <td>1 班</td>\n",
       "    </tr>\n",
       "    <tr>\n",
       "      <th>1</th>\n",
       "      <td>002</td>\n",
       "      <td>小李</td>\n",
       "      <td>女</td>\n",
       "      <td>1班</td>\n",
       "    </tr>\n",
       "    <tr>\n",
       "      <th>2</th>\n",
       "      <td>002</td>\n",
       "      <td>小李</td>\n",
       "      <td>女</td>\n",
       "      <td>1 班</td>\n",
       "    </tr>\n",
       "    <tr>\n",
       "      <th>3</th>\n",
       "      <td>003</td>\n",
       "      <td>小王</td>\n",
       "      <td>男</td>\n",
       "      <td>一班</td>\n",
       "    </tr>\n",
       "    <tr>\n",
       "      <th>4</th>\n",
       "      <td>004</td>\n",
       "      <td>小张</td>\n",
       "      <td>男</td>\n",
       "      <td>二班</td>\n",
       "    </tr>\n",
       "    <tr>\n",
       "      <th>5</th>\n",
       "      <td>005</td>\n",
       "      <td>小赵</td>\n",
       "      <td>女</td>\n",
       "      <td>2 班</td>\n",
       "    </tr>\n",
       "    <tr>\n",
       "      <th>6</th>\n",
       "      <td>006</td>\n",
       "      <td>小周</td>\n",
       "      <td>女</td>\n",
       "      <td>2 班</td>\n",
       "    </tr>\n",
       "  </tbody>\n",
       "</table>\n",
       "</div>"
      ],
      "text/plain": [
       "    学号  姓名 性别   班级\n",
       "0  001  小陈  女  1 班\n",
       "1  002  小李  女   1班\n",
       "2  002  小李  女  1 班\n",
       "3  003  小王  男   一班\n",
       "4  004  小张  男   二班\n",
       "5  005  小赵  女  2 班\n",
       "6  006  小周  女  2 班"
      ]
     },
     "execution_count": 23,
     "metadata": {},
     "output_type": "execute_result"
    }
   ],
   "source": [
    "name = pd.Series([\"小陈\", \"小李\", \"小李\", \"小王\", \"小张\", \"小赵\", \"小周\"])\n",
    "gender = pd.Series([\"女\", \"女\", \"女\", \"男\", \"男\", \"女\", \"女\"])\n",
    "class_number = pd.Series([\"1 班\", \"1班\", \"1 班\", \"一班\", \"二班\", \"2 班\", \"2 班\"])\n",
    "student_number = pd.Series([\"001\", \"002\", \"002\", \"003\", \"004\", \"005\", \"006\"])\n",
    "students2 = pd.DataFrame({\"学号\": student_number, \"姓名\": name, \"性别\": gender, \"班级\": class_number})\n",
    "students2"
   ]
  },
  {
   "cell_type": "code",
   "execution_count": 25,
   "id": "8d824c4b-09c7-40c9-b002-536400e06de1",
   "metadata": {},
   "outputs": [
    {
     "data": {
      "text/plain": [
       "0    1 班\n",
       "1     1班\n",
       "2    1 班\n",
       "3     一班\n",
       "4     二班\n",
       "5    2 班\n",
       "6    2 班\n",
       "Name: 班级, dtype: object"
      ]
     },
     "execution_count": 25,
     "metadata": {},
     "output_type": "execute_result"
    }
   ],
   "source": [
    "students2['班级']"
   ]
  },
  {
   "cell_type": "code",
   "execution_count": 26,
   "id": "902274d3-8e1e-4250-b611-d4c7cc9bf2b8",
   "metadata": {},
   "outputs": [
    {
     "data": {
      "text/plain": [
       "1 班    2\n",
       "2 班    2\n",
       "1班     1\n",
       "一班     1\n",
       "二班     1\n",
       "Name: 班级, dtype: int64"
      ]
     },
     "execution_count": 26,
     "metadata": {},
     "output_type": "execute_result"
    }
   ],
   "source": [
    "students2['班级'].value_counts()"
   ]
  },
  {
   "cell_type": "markdown",
   "id": "11e7fd21-079c-4159-8a78-726e8d29f549",
   "metadata": {},
   "source": [
    "#### (四)、评估无效/错误数据"
   ]
  },
  {
   "cell_type": "markdown",
   "id": "ee8a8e84-306c-419d-a4f8-4c7f6c47f65a",
   "metadata": {},
   "source": [
    "评估无效/错误数据的评估难度很大，比如拿到一个陌生数据集的时候，无法知道上面的地址是不是有效的，某个人的身高是不是准确的，这些都超出了我们能够评估的范围。\n",
    "\n",
    "但对于特别离谱的数据，还是可以通过某些方法，结合常识，来检查是否存在无效数据"
   ]
  },
  {
   "cell_type": "code",
   "execution_count": 27,
   "id": "8214cef4-b99b-4b37-881e-caa9842dcb5f",
   "metadata": {},
   "outputs": [
    {
     "data": {
      "text/html": [
       "<div>\n",
       "<style scoped>\n",
       "    .dataframe tbody tr th:only-of-type {\n",
       "        vertical-align: middle;\n",
       "    }\n",
       "\n",
       "    .dataframe tbody tr th {\n",
       "        vertical-align: top;\n",
       "    }\n",
       "\n",
       "    .dataframe thead th {\n",
       "        text-align: right;\n",
       "    }\n",
       "</style>\n",
       "<table border=\"1\" class=\"dataframe\">\n",
       "  <thead>\n",
       "    <tr style=\"text-align: right;\">\n",
       "      <th></th>\n",
       "      <th>姓名</th>\n",
       "      <th>性别</th>\n",
       "      <th>身高</th>\n",
       "    </tr>\n",
       "  </thead>\n",
       "  <tbody>\n",
       "    <tr>\n",
       "      <th>0</th>\n",
       "      <td>小陈</td>\n",
       "      <td>女</td>\n",
       "      <td>172.5</td>\n",
       "    </tr>\n",
       "    <tr>\n",
       "      <th>1</th>\n",
       "      <td>小李</td>\n",
       "      <td>女</td>\n",
       "      <td>168.0</td>\n",
       "    </tr>\n",
       "    <tr>\n",
       "      <th>2</th>\n",
       "      <td>小李</td>\n",
       "      <td>女</td>\n",
       "      <td>1168.0</td>\n",
       "    </tr>\n",
       "    <tr>\n",
       "      <th>3</th>\n",
       "      <td>小王</td>\n",
       "      <td>男</td>\n",
       "      <td>178.2</td>\n",
       "    </tr>\n",
       "    <tr>\n",
       "      <th>4</th>\n",
       "      <td>小张</td>\n",
       "      <td>男</td>\n",
       "      <td>181.3</td>\n",
       "    </tr>\n",
       "    <tr>\n",
       "      <th>5</th>\n",
       "      <td>小赵</td>\n",
       "      <td>女</td>\n",
       "      <td>-161.7</td>\n",
       "    </tr>\n",
       "    <tr>\n",
       "      <th>6</th>\n",
       "      <td>小周</td>\n",
       "      <td>女</td>\n",
       "      <td>158.5</td>\n",
       "    </tr>\n",
       "  </tbody>\n",
       "</table>\n",
       "</div>"
      ],
      "text/plain": [
       "   姓名 性别      身高\n",
       "0  小陈  女   172.5\n",
       "1  小李  女   168.0\n",
       "2  小李  女  1168.0\n",
       "3  小王  男   178.2\n",
       "4  小张  男   181.3\n",
       "5  小赵  女  -161.7\n",
       "6  小周  女   158.5"
      ]
     },
     "execution_count": 27,
     "metadata": {},
     "output_type": "execute_result"
    }
   ],
   "source": [
    "name = pd.Series([\"小陈\", \"小李\", \"小李\", \"小王\", \"小张\", \"小赵\", \"小周\"])\n",
    "gender = pd.Series([\"女\", \"女\", \"女\", \"男\", \"男\", \"女\", \"女\"])\n",
    "height = pd.Series([172.5, 168.0, 1168.0, 178.2, 181.3, -161.7, 158.5])\n",
    "students3 = pd.DataFrame({\"姓名\": name, \"性别\": gender, \"身高\": height})\n",
    "students3"
   ]
  },
  {
   "cell_type": "markdown",
   "id": "d9c4d5b1-3592-4aac-b532-04234695b2f0",
   "metadata": {},
   "source": [
    "1. Series的sort_values方法\n",
    "\n",
    "   可以对某列的值进行排序，能帮我们发现异常的小值或异常的大值"
   ]
  },
  {
   "cell_type": "code",
   "execution_count": 28,
   "id": "559af811-b692-4d09-ba4a-fedc6e31e357",
   "metadata": {},
   "outputs": [
    {
     "data": {
      "text/plain": [
       "5    -161.7\n",
       "6     158.5\n",
       "1     168.0\n",
       "0     172.5\n",
       "3     178.2\n",
       "4     181.3\n",
       "2    1168.0\n",
       "Name: 身高, dtype: float64"
      ]
     },
     "execution_count": 28,
     "metadata": {},
     "output_type": "execute_result"
    }
   ],
   "source": [
    "students3.身高.sort_values()"
   ]
  },
  {
   "cell_type": "markdown",
   "id": "d606fb36-f779-4db2-b6a7-87a2e5c3850b",
   "metadata": {},
   "source": [
    "2. describe方法\n",
    "\n",
    "   会展示数字列的最小值、最大值等，可以帮我们确实是否有异常数据的存在"
   ]
  },
  {
   "cell_type": "code",
   "execution_count": 29,
   "id": "d0bd8291-e4e4-4ba4-956b-1c4637b862e9",
   "metadata": {},
   "outputs": [
    {
     "data": {
      "text/html": [
       "<div>\n",
       "<style scoped>\n",
       "    .dataframe tbody tr th:only-of-type {\n",
       "        vertical-align: middle;\n",
       "    }\n",
       "\n",
       "    .dataframe tbody tr th {\n",
       "        vertical-align: top;\n",
       "    }\n",
       "\n",
       "    .dataframe thead th {\n",
       "        text-align: right;\n",
       "    }\n",
       "</style>\n",
       "<table border=\"1\" class=\"dataframe\">\n",
       "  <thead>\n",
       "    <tr style=\"text-align: right;\">\n",
       "      <th></th>\n",
       "      <th>身高</th>\n",
       "    </tr>\n",
       "  </thead>\n",
       "  <tbody>\n",
       "    <tr>\n",
       "      <th>count</th>\n",
       "      <td>7.000000</td>\n",
       "    </tr>\n",
       "    <tr>\n",
       "      <th>mean</th>\n",
       "      <td>266.400000</td>\n",
       "    </tr>\n",
       "    <tr>\n",
       "      <th>std</th>\n",
       "      <td>416.596447</td>\n",
       "    </tr>\n",
       "    <tr>\n",
       "      <th>min</th>\n",
       "      <td>-161.700000</td>\n",
       "    </tr>\n",
       "    <tr>\n",
       "      <th>25%</th>\n",
       "      <td>163.250000</td>\n",
       "    </tr>\n",
       "    <tr>\n",
       "      <th>50%</th>\n",
       "      <td>172.500000</td>\n",
       "    </tr>\n",
       "    <tr>\n",
       "      <th>75%</th>\n",
       "      <td>179.750000</td>\n",
       "    </tr>\n",
       "    <tr>\n",
       "      <th>max</th>\n",
       "      <td>1168.000000</td>\n",
       "    </tr>\n",
       "  </tbody>\n",
       "</table>\n",
       "</div>"
      ],
      "text/plain": [
       "                身高\n",
       "count     7.000000\n",
       "mean    266.400000\n",
       "std     416.596447\n",
       "min    -161.700000\n",
       "25%     163.250000\n",
       "50%     172.500000\n",
       "75%     179.750000\n",
       "max    1168.000000"
      ]
     },
     "execution_count": 29,
     "metadata": {},
     "output_type": "execute_result"
    }
   ],
   "source": [
    "students3.describe()"
   ]
  },
  {
   "cell_type": "markdown",
   "id": "10b958b9-4aad-465f-b11c-2755d5e5e05b",
   "metadata": {},
   "source": [
    "**除了这些之外，数据还可能存在其它类型的问题，或者需要其它方法才能评估**"
   ]
  },
  {
   "cell_type": "code",
   "execution_count": null,
   "id": "36f84648-c10c-4b9c-8170-414e0e046b19",
   "metadata": {},
   "outputs": [],
   "source": []
  }
 ],
 "metadata": {
  "kernelspec": {
   "display_name": "Python 3 (ipykernel)",
   "language": "python",
   "name": "python3"
  },
  "language_info": {
   "codemirror_mode": {
    "name": "ipython",
    "version": 3
   },
   "file_extension": ".py",
   "mimetype": "text/x-python",
   "name": "python",
   "nbconvert_exporter": "python",
   "pygments_lexer": "ipython3",
   "version": "3.11.1"
  }
 },
 "nbformat": 4,
 "nbformat_minor": 5
}
