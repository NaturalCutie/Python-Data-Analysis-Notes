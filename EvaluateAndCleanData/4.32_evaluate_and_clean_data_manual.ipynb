{
 "cells": [
  {
   "cell_type": "markdown",
   "id": "af1e6e10-dda1-4d2d-bef5-2ec2451367d0",
   "metadata": {},
   "source": [
    "## **4.32_evaluate_and_clean_data_manual**"
   ]
  },
  {
   "cell_type": "markdown",
   "id": "2d7f3e94-8880-46af-a6ef-0ff502a6c58f",
   "metadata": {},
   "source": [
    "**数据评估和清洗整体流程**\n",
    "\n",
    "**下载数据；读取数据；评估数据；根据对数据的评估，指定清洗的步骤；清洗数据；每清洗一步，就再次查看清洗后的数据，来确保问题已经解决；保存清洗后的数据**"
   ]
  },
  {
   "cell_type": "markdown",
   "id": "22172899-90e8-4015-88b9-659266e77aa7",
   "metadata": {},
   "source": [
    "在Jupyter Notebook里进行数据清晰，并以报告的形式呈现内容。\n",
    "\n",
    "运用标题，使内容结构清晰；运用Markdown对代码进行注释，方便读者理解；并且运用Markdown，总结评估结论，使内容逻辑清晰。"
   ]
  },
  {
   "cell_type": "markdown",
   "id": "89962c84-8ec3-48fc-ab33-c3c7289c15ed",
   "metadata": {},
   "source": [
    "### 下载数据"
   ]
  },
  {
   "cell_type": "markdown",
   "id": "8f022572-cf71-468b-b845-873cf10698f4",
   "metadata": {},
   "source": [
    "1. 每次清洗数据项目开始前，都新建一个新的文件夹，将数据文件和Jupyter Notebook放入。\n",
    "\n",
    "这样可以保持文件结构的整洁；数据文件和Jupyter Notebook放入同一文件夹，也方便读取"
   ]
  },
  {
   "cell_type": "markdown",
   "id": "f7404a26-5be5-476b-8a46-b5a186a6aa3e",
   "metadata": {},
   "source": [
    "2. 对于公开数据集，我们并不了解它的背景，在正式分析前，最好了解一下它的介绍，和数据每列的含义。"
   ]
  },
  {
   "cell_type": "markdown",
   "id": "52f043d3-0d17-4e2d-946c-10b4dfda6b26",
   "metadata": {},
   "source": [
    "### 读取数据"
   ]
  },
  {
   "cell_type": "markdown",
   "id": "58e21a0d-94ad-48cf-97e4-913139a901aa",
   "metadata": {},
   "source": [
    "### 评估数据 "
   ]
  },
  {
   "cell_type": "markdown",
   "id": "7abc72b1-b4ab-4852-ab31-34b9214f6223",
   "metadata": {},
   "source": [
    "#### 缺失数据"
   ]
  },
  {
   "cell_type": "markdown",
   "id": "84216bbc-e311-4b87-aeff-b0f31999c078",
   "metadata": {},
   "source": [
    "发现缺失数据后，需要深入探索缺失数据：应把该变量存在缺失的观察值，筛选出来，进一步观察数据特征，(提出猜测，验证猜测)"
   ]
  },
  {
   "cell_type": "markdown",
   "id": "9f3b31dc-5e98-456a-b669-394a1641bb8b",
   "metadata": {},
   "source": [
    "#### 重复数据"
   ]
  },
  {
   "cell_type": "markdown",
   "id": "cf191806-15ab-4467-b600-079ae2d89e03",
   "metadata": {},
   "source": [
    "首先判断哪些变量不应该重复，再去评估数据。\n",
    "\n",
    "**唯一标识符不一定不能重复，具体数据具体分析**"
   ]
  },
  {
   "cell_type": "markdown",
   "id": "7909658a-f063-4f6d-9c50-645b24d0d697",
   "metadata": {},
   "source": [
    "#### 不一致数据"
   ]
  },
  {
   "cell_type": "markdown",
   "id": "95304790-aeb9-4b8f-87b0-0fc1dc84fe52",
   "metadata": {},
   "source": [
    "先观察哪个变量可以判断是否存在不一致数据，再去评估数据。"
   ]
  },
  {
   "cell_type": "markdown",
   "id": "9a125a24-7c19-484b-a40f-54f5f421a4cb",
   "metadata": {},
   "source": [
    "#### 无效/错误数据"
   ]
  },
  {
   "cell_type": "markdown",
   "id": "5dfeeca3-0cbc-45f3-b1cf-8dff8bbe0eef",
   "metadata": {},
   "source": [
    "先观察哪个变量可以判断是否存在不一致数据。\n",
    "\n",
    "然后通过某些方法，结合常识，评估无效/错误数据。\n",
    "\n",
    "最后，与缺失数据一样，发现无效/错误数据后，需要深入探索无效/错误数据：应把该变量无效/错误的观察值，筛选出来，进一步观察数据特征，(提出猜测，验证猜测)"
   ]
  },
  {
   "cell_type": "markdown",
   "id": "897f5dbc-ecb7-4298-99ad-fcc6e0db1a2c",
   "metadata": {},
   "source": [
    "## 根据对数据的评估，指定清洗的步骤"
   ]
  },
  {
   "cell_type": "markdown",
   "id": "7cac8fe0-db8f-467c-ab01-cb2bfdab5a9f",
   "metadata": {},
   "source": [
    "### 清洗数据"
   ]
  },
  {
   "cell_type": "markdown",
   "id": "45d9c2ae-2499-4228-b685-ed305ec96246",
   "metadata": {},
   "source": [
    "1. 在清洗前，先创建一个新变量，用于储存清洗过程中的数据。\n",
    "\n",
    "    这样原始的数据和经过清理的数据，分别储存在两个变量中"
   ]
  },
  {
   "cell_type": "markdown",
   "id": "7fcfddf4-0207-43e9-ae16-0aa46f6d32fb",
   "metadata": {},
   "source": [
    "2. 清洗数据过程中，遇到现学处理方法无法很好清理数据的情况，可以查询官方文档或查询搜索引擎。"
   ]
  },
  {
   "cell_type": "markdown",
   "id": "49eaad51-36b0-4eee-8459-ce1dc409cdb1",
   "metadata": {},
   "source": [
    "### 每清洗一步，就再次查看清洗后的数据，来确保问题已经解决"
   ]
  },
  {
   "cell_type": "markdown",
   "id": "18ce1f2e-0c01-4246-ba8a-c3846ebf86aa",
   "metadata": {},
   "source": [
    "### 保存清洗后的数据"
   ]
  },
  {
   "cell_type": "markdown",
   "id": "35e746a3-31b7-476e-badf-e4e30e019a0f",
   "metadata": {},
   "source": [
    "新的CSV文件名，可以是在原始CSV文件名后面，添加'_cleaned'。"
   ]
  }
 ],
 "metadata": {
  "kernelspec": {
   "display_name": "Python 3 (ipykernel)",
   "language": "python",
   "name": "python3"
  },
  "language_info": {
   "codemirror_mode": {
    "name": "ipython",
    "version": 3
   },
   "file_extension": ".py",
   "mimetype": "text/x-python",
   "name": "python",
   "nbconvert_exporter": "python",
   "pygments_lexer": "ipython3",
   "version": "3.11.1"
  }
 },
 "nbformat": 4,
 "nbformat_minor": 5
}
