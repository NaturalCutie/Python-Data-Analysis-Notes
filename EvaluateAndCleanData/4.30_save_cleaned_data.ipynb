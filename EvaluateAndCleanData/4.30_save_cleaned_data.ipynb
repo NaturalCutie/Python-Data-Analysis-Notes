{
 "cells": [
  {
   "cell_type": "markdown",
   "id": "410798f2-3a29-4616-88c0-e49fd08d2781",
   "metadata": {},
   "source": [
    "# **4.30_save_cleaned_data**"
   ]
  },
  {
   "cell_type": "markdown",
   "id": "fd1c3c24-02c9-4cb3-8ec3-3a1036c6d0f9",
   "metadata": {},
   "source": [
    "当我们完成数据清洗后，可以把干净整洁的版本先保存一下，假如会进行多次数据分析，可以有效节约下一次分析的时间，因为不需要再重复评估和清洗步骤了\n",
    "\n",
    "保存数据，本质上就是把DataFrame，写入到一个新建的空白文件里"
   ]
  },
  {
   "cell_type": "markdown",
   "id": "95b42b88-46ad-4c0f-a7b4-3a4ff745cbb3",
   "metadata": {},
   "source": [
    "### 写入CSV文件"
   ]
  },
  {
   "cell_type": "markdown",
   "id": "f10b297a-a467-4967-8642-0c73d1fed217",
   "metadata": {},
   "source": [
    "DataFrame的to_csv方法，参数传入文件路径，调用后就能把DataFrame转换成CSV格式，并且保存在路径对应的文件里面\n",
    "\n",
    "**如果那个文件本身不存在，新文件会自动帮我们创建出来；但如果路径对应的文件已经存在，方法运行后，就会把原始内容给覆盖掉**\n",
    "\n",
    "to_csv方法，会默认吧DataFrame的列名和索引都写入到文件里"
   ]
  },
  {
   "cell_type": "code",
   "execution_count": 1,
   "id": "1b59eb63-d6aa-42c5-b308-2f33493ebb3f",
   "metadata": {
    "scrolled": true
   },
   "outputs": [
    {
     "data": {
      "text/html": [
       "<div>\n",
       "<style scoped>\n",
       "    .dataframe tbody tr th:only-of-type {\n",
       "        vertical-align: middle;\n",
       "    }\n",
       "\n",
       "    .dataframe tbody tr th {\n",
       "        vertical-align: top;\n",
       "    }\n",
       "\n",
       "    .dataframe thead th {\n",
       "        text-align: right;\n",
       "    }\n",
       "</style>\n",
       "<table border=\"1\" class=\"dataframe\">\n",
       "  <thead>\n",
       "    <tr style=\"text-align: right;\">\n",
       "      <th></th>\n",
       "      <th>日期</th>\n",
       "      <th>销售额</th>\n",
       "      <th>销售人员</th>\n",
       "      <th>城市</th>\n",
       "    </tr>\n",
       "  </thead>\n",
       "  <tbody>\n",
       "    <tr>\n",
       "      <th>38H9</th>\n",
       "      <td>2022-01-01</td>\n",
       "      <td>1000</td>\n",
       "      <td>Alice</td>\n",
       "      <td>New York</td>\n",
       "    </tr>\n",
       "    <tr>\n",
       "      <th>W9F1</th>\n",
       "      <td>2022-01-02</td>\n",
       "      <td>1500</td>\n",
       "      <td>Bob</td>\n",
       "      <td>San Francisco</td>\n",
       "    </tr>\n",
       "    <tr>\n",
       "      <th>KD82</th>\n",
       "      <td>2022-01-03</td>\n",
       "      <td>800</td>\n",
       "      <td>Charlie</td>\n",
       "      <td>New York</td>\n",
       "    </tr>\n",
       "    <tr>\n",
       "      <th>004U</th>\n",
       "      <td>2022-01-04</td>\n",
       "      <td>1200</td>\n",
       "      <td>David</td>\n",
       "      <td>San Francisco</td>\n",
       "    </tr>\n",
       "  </tbody>\n",
       "</table>\n",
       "</div>"
      ],
      "text/plain": [
       "              日期   销售额     销售人员             城市\n",
       "38H9  2022-01-01  1000    Alice       New York\n",
       "W9F1  2022-01-02  1500      Bob  San Francisco\n",
       "KD82  2022-01-03   800  Charlie       New York\n",
       "004U  2022-01-04  1200    David  San Francisco"
      ]
     },
     "execution_count": 1,
     "metadata": {},
     "output_type": "execute_result"
    }
   ],
   "source": [
    "import pandas as pd\n",
    "import numpy as np\n",
    "\n",
    "# 创建示例 DataFrame\n",
    "df1 = pd.DataFrame({\n",
    "    '日期': ['2022-01-01', '2022-01-02', '2022-01-03', '2022-01-04'],\n",
    "    '销售额': [1000, 1500, 800, 1200],\n",
    "    '销售人员': ['Alice', 'Bob', 'Charlie', 'David'],\n",
    "    '城市': ['New York', 'San Francisco', 'New York', 'San Francisco']\n",
    "})\n",
    "df1 = df1.rename(index={\n",
    "    0: '38H9',\n",
    "    1: 'W9F1',\n",
    "    2: 'KD82',\n",
    "    3: '004U'\n",
    "})\n",
    "df1"
   ]
  },
  {
   "cell_type": "code",
   "execution_count": 2,
   "id": "f4b9384d-07df-496f-ad41-f7d8c1bf6f04",
   "metadata": {},
   "outputs": [
    {
     "data": {
      "text/html": [
       "<div>\n",
       "<style scoped>\n",
       "    .dataframe tbody tr th:only-of-type {\n",
       "        vertical-align: middle;\n",
       "    }\n",
       "\n",
       "    .dataframe tbody tr th {\n",
       "        vertical-align: top;\n",
       "    }\n",
       "\n",
       "    .dataframe thead th {\n",
       "        text-align: right;\n",
       "    }\n",
       "</style>\n",
       "<table border=\"1\" class=\"dataframe\">\n",
       "  <thead>\n",
       "    <tr style=\"text-align: right;\">\n",
       "      <th></th>\n",
       "      <th>Unnamed: 0</th>\n",
       "      <th>日期</th>\n",
       "      <th>销售额</th>\n",
       "      <th>销售人员</th>\n",
       "      <th>城市</th>\n",
       "    </tr>\n",
       "  </thead>\n",
       "  <tbody>\n",
       "    <tr>\n",
       "      <th>0</th>\n",
       "      <td>38H9</td>\n",
       "      <td>2022-01-01</td>\n",
       "      <td>1000</td>\n",
       "      <td>Alice</td>\n",
       "      <td>New York</td>\n",
       "    </tr>\n",
       "    <tr>\n",
       "      <th>1</th>\n",
       "      <td>W9F1</td>\n",
       "      <td>2022-01-02</td>\n",
       "      <td>1500</td>\n",
       "      <td>Bob</td>\n",
       "      <td>San Francisco</td>\n",
       "    </tr>\n",
       "    <tr>\n",
       "      <th>2</th>\n",
       "      <td>KD82</td>\n",
       "      <td>2022-01-03</td>\n",
       "      <td>800</td>\n",
       "      <td>Charlie</td>\n",
       "      <td>New York</td>\n",
       "    </tr>\n",
       "    <tr>\n",
       "      <th>3</th>\n",
       "      <td>004U</td>\n",
       "      <td>2022-01-04</td>\n",
       "      <td>1200</td>\n",
       "      <td>David</td>\n",
       "      <td>San Francisco</td>\n",
       "    </tr>\n",
       "  </tbody>\n",
       "</table>\n",
       "</div>"
      ],
      "text/plain": [
       "  Unnamed: 0          日期   销售额     销售人员             城市\n",
       "0       38H9  2022-01-01  1000    Alice       New York\n",
       "1       W9F1  2022-01-02  1500      Bob  San Francisco\n",
       "2       KD82  2022-01-03   800  Charlie       New York\n",
       "3       004U  2022-01-04  1200    David  San Francisco"
      ]
     },
     "execution_count": 2,
     "metadata": {},
     "output_type": "execute_result"
    }
   ],
   "source": [
    "df1.to_csv('cleaned_sales_data.csv')\n",
    "cleaned_df = pd.read_csv('cleaned_sales_data.csv')\n",
    "cleaned_df"
   ]
  },
  {
   "cell_type": "markdown",
   "id": "812bc70a-56cc-4590-86c9-378b0f9d3867",
   "metadata": {},
   "source": [
    "以上运行结果是因为，to_csv方法会默认帮我们把索引进行保存，但读取的时候，read_csv不知道那是索引，所以它们又被当成了第一列数据，而且因为这列上面没有名字，列名变成Unnamed: 0，表示那是没有名字的第一列。"
   ]
  },
  {
   "cell_type": "markdown",
   "id": "7f05e77d-2970-4aae-a2d3-38f485ae46b3",
   "metadata": {},
   "source": [
    "调整方法\n",
    "\n",
    "1. 默认to_csv和read_csv后\n",
    "\n",
    "   先调用4.27所学的rename方法，给列换一个有意义的名字"
   ]
  },
  {
   "cell_type": "code",
   "execution_count": 3,
   "id": "2c878a94-88fc-4d81-8179-36a99ce3eb5c",
   "metadata": {},
   "outputs": [
    {
     "data": {
      "text/html": [
       "<div>\n",
       "<style scoped>\n",
       "    .dataframe tbody tr th:only-of-type {\n",
       "        vertical-align: middle;\n",
       "    }\n",
       "\n",
       "    .dataframe tbody tr th {\n",
       "        vertical-align: top;\n",
       "    }\n",
       "\n",
       "    .dataframe thead th {\n",
       "        text-align: right;\n",
       "    }\n",
       "</style>\n",
       "<table border=\"1\" class=\"dataframe\">\n",
       "  <thead>\n",
       "    <tr style=\"text-align: right;\">\n",
       "      <th></th>\n",
       "      <th>销售ID</th>\n",
       "      <th>日期</th>\n",
       "      <th>销售额</th>\n",
       "      <th>销售人员</th>\n",
       "      <th>城市</th>\n",
       "    </tr>\n",
       "  </thead>\n",
       "  <tbody>\n",
       "    <tr>\n",
       "      <th>0</th>\n",
       "      <td>38H9</td>\n",
       "      <td>2022-01-01</td>\n",
       "      <td>1000</td>\n",
       "      <td>Alice</td>\n",
       "      <td>New York</td>\n",
       "    </tr>\n",
       "    <tr>\n",
       "      <th>1</th>\n",
       "      <td>W9F1</td>\n",
       "      <td>2022-01-02</td>\n",
       "      <td>1500</td>\n",
       "      <td>Bob</td>\n",
       "      <td>San Francisco</td>\n",
       "    </tr>\n",
       "    <tr>\n",
       "      <th>2</th>\n",
       "      <td>KD82</td>\n",
       "      <td>2022-01-03</td>\n",
       "      <td>800</td>\n",
       "      <td>Charlie</td>\n",
       "      <td>New York</td>\n",
       "    </tr>\n",
       "    <tr>\n",
       "      <th>3</th>\n",
       "      <td>004U</td>\n",
       "      <td>2022-01-04</td>\n",
       "      <td>1200</td>\n",
       "      <td>David</td>\n",
       "      <td>San Francisco</td>\n",
       "    </tr>\n",
       "  </tbody>\n",
       "</table>\n",
       "</div>"
      ],
      "text/plain": [
       "   销售ID          日期   销售额     销售人员             城市\n",
       "0  38H9  2022-01-01  1000    Alice       New York\n",
       "1  W9F1  2022-01-02  1500      Bob  San Francisco\n",
       "2  KD82  2022-01-03   800  Charlie       New York\n",
       "3  004U  2022-01-04  1200    David  San Francisco"
      ]
     },
     "execution_count": 3,
     "metadata": {},
     "output_type": "execute_result"
    }
   ],
   "source": [
    "cleaned_df.rename(columns={'Unnamed: 0': '销售ID'}, inplace=True)\n",
    "cleaned_df"
   ]
  },
  {
   "cell_type": "markdown",
   "id": "760087f3-a0b1-4ee6-89af-44ede1e241e4",
   "metadata": {},
   "source": [
    "然后调用4.27所学的set_index方法，吧那一列设置为DataFrame的索引"
   ]
  },
  {
   "cell_type": "code",
   "execution_count": 4,
   "id": "27a7e56d-56af-4726-b9cb-8e75c91a4274",
   "metadata": {},
   "outputs": [
    {
     "data": {
      "text/html": [
       "<div>\n",
       "<style scoped>\n",
       "    .dataframe tbody tr th:only-of-type {\n",
       "        vertical-align: middle;\n",
       "    }\n",
       "\n",
       "    .dataframe tbody tr th {\n",
       "        vertical-align: top;\n",
       "    }\n",
       "\n",
       "    .dataframe thead th {\n",
       "        text-align: right;\n",
       "    }\n",
       "</style>\n",
       "<table border=\"1\" class=\"dataframe\">\n",
       "  <thead>\n",
       "    <tr style=\"text-align: right;\">\n",
       "      <th></th>\n",
       "      <th>日期</th>\n",
       "      <th>销售额</th>\n",
       "      <th>销售人员</th>\n",
       "      <th>城市</th>\n",
       "    </tr>\n",
       "    <tr>\n",
       "      <th>销售ID</th>\n",
       "      <th></th>\n",
       "      <th></th>\n",
       "      <th></th>\n",
       "      <th></th>\n",
       "    </tr>\n",
       "  </thead>\n",
       "  <tbody>\n",
       "    <tr>\n",
       "      <th>38H9</th>\n",
       "      <td>2022-01-01</td>\n",
       "      <td>1000</td>\n",
       "      <td>Alice</td>\n",
       "      <td>New York</td>\n",
       "    </tr>\n",
       "    <tr>\n",
       "      <th>W9F1</th>\n",
       "      <td>2022-01-02</td>\n",
       "      <td>1500</td>\n",
       "      <td>Bob</td>\n",
       "      <td>San Francisco</td>\n",
       "    </tr>\n",
       "    <tr>\n",
       "      <th>KD82</th>\n",
       "      <td>2022-01-03</td>\n",
       "      <td>800</td>\n",
       "      <td>Charlie</td>\n",
       "      <td>New York</td>\n",
       "    </tr>\n",
       "    <tr>\n",
       "      <th>004U</th>\n",
       "      <td>2022-01-04</td>\n",
       "      <td>1200</td>\n",
       "      <td>David</td>\n",
       "      <td>San Francisco</td>\n",
       "    </tr>\n",
       "  </tbody>\n",
       "</table>\n",
       "</div>"
      ],
      "text/plain": [
       "              日期   销售额     销售人员             城市\n",
       "销售ID                                          \n",
       "38H9  2022-01-01  1000    Alice       New York\n",
       "W9F1  2022-01-02  1500      Bob  San Francisco\n",
       "KD82  2022-01-03   800  Charlie       New York\n",
       "004U  2022-01-04  1200    David  San Francisco"
      ]
     },
     "execution_count": 4,
     "metadata": {},
     "output_type": "execute_result"
    }
   ],
   "source": [
    "cleaned_df.set_index('销售ID', inplace=True)\n",
    "cleaned_df"
   ]
  },
  {
   "cell_type": "markdown",
   "id": "d96f83d2-a3cd-4b70-ba2a-e72c6296d735",
   "metadata": {},
   "source": [
    "2. 写入CSV文件时，不保存DataFrame的索引\n",
    "\n",
    "   to_csv方法，放入可选参数index=False，写入时会自动忽略索引\n",
    "\n",
    "   **如果DataFrame的索引，只是位置索引，一般我们不会专门写入，也就是说会指定index=False；但如果是有关键信息的标签索引，就写入到CSV文件里**"
   ]
  },
  {
   "cell_type": "code",
   "execution_count": 5,
   "id": "3ed43d8f-b88d-4991-a594-bcbea83bb6e3",
   "metadata": {},
   "outputs": [
    {
     "data": {
      "text/html": [
       "<div>\n",
       "<style scoped>\n",
       "    .dataframe tbody tr th:only-of-type {\n",
       "        vertical-align: middle;\n",
       "    }\n",
       "\n",
       "    .dataframe tbody tr th {\n",
       "        vertical-align: top;\n",
       "    }\n",
       "\n",
       "    .dataframe thead th {\n",
       "        text-align: right;\n",
       "    }\n",
       "</style>\n",
       "<table border=\"1\" class=\"dataframe\">\n",
       "  <thead>\n",
       "    <tr style=\"text-align: right;\">\n",
       "      <th></th>\n",
       "      <th>日期</th>\n",
       "      <th>销售额</th>\n",
       "      <th>销售人员</th>\n",
       "      <th>城市</th>\n",
       "    </tr>\n",
       "  </thead>\n",
       "  <tbody>\n",
       "    <tr>\n",
       "      <th>0</th>\n",
       "      <td>2022-01-01</td>\n",
       "      <td>1000</td>\n",
       "      <td>Alice</td>\n",
       "      <td>New York</td>\n",
       "    </tr>\n",
       "    <tr>\n",
       "      <th>1</th>\n",
       "      <td>2022-01-02</td>\n",
       "      <td>1500</td>\n",
       "      <td>Bob</td>\n",
       "      <td>San Francisco</td>\n",
       "    </tr>\n",
       "    <tr>\n",
       "      <th>2</th>\n",
       "      <td>2022-01-03</td>\n",
       "      <td>800</td>\n",
       "      <td>Charlie</td>\n",
       "      <td>New York</td>\n",
       "    </tr>\n",
       "    <tr>\n",
       "      <th>3</th>\n",
       "      <td>2022-01-04</td>\n",
       "      <td>1200</td>\n",
       "      <td>David</td>\n",
       "      <td>San Francisco</td>\n",
       "    </tr>\n",
       "  </tbody>\n",
       "</table>\n",
       "</div>"
      ],
      "text/plain": [
       "           日期   销售额     销售人员             城市\n",
       "0  2022-01-01  1000    Alice       New York\n",
       "1  2022-01-02  1500      Bob  San Francisco\n",
       "2  2022-01-03   800  Charlie       New York\n",
       "3  2022-01-04  1200    David  San Francisco"
      ]
     },
     "execution_count": 5,
     "metadata": {},
     "output_type": "execute_result"
    }
   ],
   "source": [
    "df1.to_csv('cleaned_sales_data2.csv', index=False)\n",
    "cleaned_df_without_index = pd.read_csv('cleaned_sales_data2.csv')\n",
    "cleaned_df_without_index"
   ]
  },
  {
   "cell_type": "markdown",
   "id": "a359c5aa-fb79-4f77-af3c-e9cf35a50d7d",
   "metadata": {},
   "source": [
    "3. 读取CSV文件时，放入可选参数index_col=0，表示把CSV第一列数据作为索引"
   ]
  },
  {
   "cell_type": "code",
   "execution_count": 7,
   "id": "415a02b9-7354-495a-9cb5-1145e580a093",
   "metadata": {},
   "outputs": [
    {
     "data": {
      "text/html": [
       "<div>\n",
       "<style scoped>\n",
       "    .dataframe tbody tr th:only-of-type {\n",
       "        vertical-align: middle;\n",
       "    }\n",
       "\n",
       "    .dataframe tbody tr th {\n",
       "        vertical-align: top;\n",
       "    }\n",
       "\n",
       "    .dataframe thead th {\n",
       "        text-align: right;\n",
       "    }\n",
       "</style>\n",
       "<table border=\"1\" class=\"dataframe\">\n",
       "  <thead>\n",
       "    <tr style=\"text-align: right;\">\n",
       "      <th></th>\n",
       "      <th>日期</th>\n",
       "      <th>销售额</th>\n",
       "      <th>销售人员</th>\n",
       "      <th>城市</th>\n",
       "    </tr>\n",
       "  </thead>\n",
       "  <tbody>\n",
       "    <tr>\n",
       "      <th>38H9</th>\n",
       "      <td>2022-01-01</td>\n",
       "      <td>1000</td>\n",
       "      <td>Alice</td>\n",
       "      <td>New York</td>\n",
       "    </tr>\n",
       "    <tr>\n",
       "      <th>W9F1</th>\n",
       "      <td>2022-01-02</td>\n",
       "      <td>1500</td>\n",
       "      <td>Bob</td>\n",
       "      <td>San Francisco</td>\n",
       "    </tr>\n",
       "    <tr>\n",
       "      <th>KD82</th>\n",
       "      <td>2022-01-03</td>\n",
       "      <td>800</td>\n",
       "      <td>Charlie</td>\n",
       "      <td>New York</td>\n",
       "    </tr>\n",
       "    <tr>\n",
       "      <th>004U</th>\n",
       "      <td>2022-01-04</td>\n",
       "      <td>1200</td>\n",
       "      <td>David</td>\n",
       "      <td>San Francisco</td>\n",
       "    </tr>\n",
       "  </tbody>\n",
       "</table>\n",
       "</div>"
      ],
      "text/plain": [
       "              日期   销售额     销售人员             城市\n",
       "38H9  2022-01-01  1000    Alice       New York\n",
       "W9F1  2022-01-02  1500      Bob  San Francisco\n",
       "KD82  2022-01-03   800  Charlie       New York\n",
       "004U  2022-01-04  1200    David  San Francisco"
      ]
     },
     "execution_count": 7,
     "metadata": {},
     "output_type": "execute_result"
    }
   ],
   "source": [
    "cleaned_df2 = pd.read_csv('cleaned_sales_data.csv', index_col=0)\n",
    "cleaned_df2"
   ]
  },
  {
   "cell_type": "code",
   "execution_count": null,
   "id": "3aeb180c-19c3-4fd5-98b9-1a2278dbb070",
   "metadata": {},
   "outputs": [],
   "source": []
  }
 ],
 "metadata": {
  "kernelspec": {
   "display_name": "Python 3 (ipykernel)",
   "language": "python",
   "name": "python3"
  },
  "language_info": {
   "codemirror_mode": {
    "name": "ipython",
    "version": 3
   },
   "file_extension": ".py",
   "mimetype": "text/x-python",
   "name": "python",
   "nbconvert_exporter": "python",
   "pygments_lexer": "ipython3",
   "version": "3.11.1"
  }
 },
 "nbformat": 4,
 "nbformat_minor": 5
}
