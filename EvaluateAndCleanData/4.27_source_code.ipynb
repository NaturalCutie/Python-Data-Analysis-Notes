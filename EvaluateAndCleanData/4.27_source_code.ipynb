{
 "cells": [
  {
   "cell_type": "code",
   "execution_count": 1,
   "id": "3fcedbc2",
   "metadata": {},
   "outputs": [],
   "source": [
    "import pandas as pd"
   ]
  },
  {
   "cell_type": "markdown",
   "id": "5c02e943",
   "metadata": {},
   "source": [
    "## 对索引和列名重命名（使用字典）"
   ]
  },
  {
   "cell_type": "code",
   "execution_count": 2,
   "id": "b953f6f3",
   "metadata": {},
   "outputs": [],
   "source": [
    "# 读取示例数据\n",
    "df1 = pd.read_csv(\"example1.csv\", index_col=0)"
   ]
  },
  {
   "cell_type": "code",
   "execution_count": 3,
   "id": "b392e526",
   "metadata": {},
   "outputs": [
    {
     "data": {
      "text/html": [
       "<div>\n",
       "<style scoped>\n",
       "    .dataframe tbody tr th:only-of-type {\n",
       "        vertical-align: middle;\n",
       "    }\n",
       "\n",
       "    .dataframe tbody tr th {\n",
       "        vertical-align: top;\n",
       "    }\n",
       "\n",
       "    .dataframe thead th {\n",
       "        text-align: right;\n",
       "    }\n",
       "</style>\n",
       "<table border=\"1\" class=\"dataframe\">\n",
       "  <thead>\n",
       "    <tr style=\"text-align: right;\">\n",
       "      <th></th>\n",
       "      <th>客户_姓名</th>\n",
       "      <th>客户 性别</th>\n",
       "      <th>age</th>\n",
       "      <th>邮箱</th>\n",
       "    </tr>\n",
       "  </thead>\n",
       "  <tbody>\n",
       "    <tr>\n",
       "      <th>1</th>\n",
       "      <td>李十</td>\n",
       "      <td>女</td>\n",
       "      <td>58</td>\n",
       "      <td>yVaQXekW@example.com</td>\n",
       "    </tr>\n",
       "    <tr>\n",
       "      <th>2_</th>\n",
       "      <td>冯三</td>\n",
       "      <td>男</td>\n",
       "      <td>27</td>\n",
       "      <td>LctXbrEM@example.com</td>\n",
       "    </tr>\n",
       "    <tr>\n",
       "      <th>3</th>\n",
       "      <td>吴十</td>\n",
       "      <td>男</td>\n",
       "      <td>32</td>\n",
       "      <td>UyTYBzUZ@example.com</td>\n",
       "    </tr>\n",
       "    <tr>\n",
       "      <th>4</th>\n",
       "      <td>王十</td>\n",
       "      <td>女</td>\n",
       "      <td>58</td>\n",
       "      <td>KCixgciF@example.com</td>\n",
       "    </tr>\n",
       "    <tr>\n",
       "      <th>_5</th>\n",
       "      <td>钱十</td>\n",
       "      <td>女</td>\n",
       "      <td>27</td>\n",
       "      <td>nqRBXOtA@example.com</td>\n",
       "    </tr>\n",
       "    <tr>\n",
       "      <th>6*</th>\n",
       "      <td>赵八</td>\n",
       "      <td>女</td>\n",
       "      <td>51</td>\n",
       "      <td>GyKwILAL@example.com</td>\n",
       "    </tr>\n",
       "  </tbody>\n",
       "</table>\n",
       "</div>"
      ],
      "text/plain": [
       "   客户_姓名 客户 性别  age                    邮箱\n",
       "1     李十     女   58  yVaQXekW@example.com\n",
       "2_    冯三     男   27  LctXbrEM@example.com\n",
       "3     吴十     男   32  UyTYBzUZ@example.com\n",
       "4     王十     女   58  KCixgciF@example.com\n",
       "_5    钱十     女   27  nqRBXOtA@example.com\n",
       "6*    赵八     女   51  GyKwILAL@example.com"
      ]
     },
     "execution_count": 3,
     "metadata": {},
     "output_type": "execute_result"
    }
   ],
   "source": [
    "df1"
   ]
  },
  {
   "cell_type": "code",
   "execution_count": 4,
   "id": "315fdf33",
   "metadata": {},
   "outputs": [
    {
     "data": {
      "text/html": [
       "<div>\n",
       "<style scoped>\n",
       "    .dataframe tbody tr th:only-of-type {\n",
       "        vertical-align: middle;\n",
       "    }\n",
       "\n",
       "    .dataframe tbody tr th {\n",
       "        vertical-align: top;\n",
       "    }\n",
       "\n",
       "    .dataframe thead th {\n",
       "        text-align: right;\n",
       "    }\n",
       "</style>\n",
       "<table border=\"1\" class=\"dataframe\">\n",
       "  <thead>\n",
       "    <tr style=\"text-align: right;\">\n",
       "      <th></th>\n",
       "      <th>客户_姓名</th>\n",
       "      <th>客户 性别</th>\n",
       "      <th>age</th>\n",
       "      <th>邮箱</th>\n",
       "    </tr>\n",
       "  </thead>\n",
       "  <tbody>\n",
       "    <tr>\n",
       "      <th>1</th>\n",
       "      <td>李十</td>\n",
       "      <td>女</td>\n",
       "      <td>58</td>\n",
       "      <td>yVaQXekW@example.com</td>\n",
       "    </tr>\n",
       "    <tr>\n",
       "      <th>2</th>\n",
       "      <td>冯三</td>\n",
       "      <td>男</td>\n",
       "      <td>27</td>\n",
       "      <td>LctXbrEM@example.com</td>\n",
       "    </tr>\n",
       "    <tr>\n",
       "      <th>3</th>\n",
       "      <td>吴十</td>\n",
       "      <td>男</td>\n",
       "      <td>32</td>\n",
       "      <td>UyTYBzUZ@example.com</td>\n",
       "    </tr>\n",
       "    <tr>\n",
       "      <th>4</th>\n",
       "      <td>王十</td>\n",
       "      <td>女</td>\n",
       "      <td>58</td>\n",
       "      <td>KCixgciF@example.com</td>\n",
       "    </tr>\n",
       "    <tr>\n",
       "      <th>5</th>\n",
       "      <td>钱十</td>\n",
       "      <td>女</td>\n",
       "      <td>27</td>\n",
       "      <td>nqRBXOtA@example.com</td>\n",
       "    </tr>\n",
       "    <tr>\n",
       "      <th>6</th>\n",
       "      <td>赵八</td>\n",
       "      <td>女</td>\n",
       "      <td>51</td>\n",
       "      <td>GyKwILAL@example.com</td>\n",
       "    </tr>\n",
       "  </tbody>\n",
       "</table>\n",
       "</div>"
      ],
      "text/plain": [
       "  客户_姓名 客户 性别  age                    邮箱\n",
       "1    李十     女   58  yVaQXekW@example.com\n",
       "2    冯三     男   27  LctXbrEM@example.com\n",
       "3    吴十     男   32  UyTYBzUZ@example.com\n",
       "4    王十     女   58  KCixgciF@example.com\n",
       "5    钱十     女   27  nqRBXOtA@example.com\n",
       "6    赵八     女   51  GyKwILAL@example.com"
      ]
     },
     "execution_count": 4,
     "metadata": {},
     "output_type": "execute_result"
    }
   ],
   "source": [
    "df1.rename(index={\"2_\":\"2\", \"_5\":\"5\", \"6*\":\"6\"})"
   ]
  },
  {
   "cell_type": "code",
   "execution_count": 5,
   "id": "cb5916f6",
   "metadata": {},
   "outputs": [
    {
     "data": {
      "text/html": [
       "<div>\n",
       "<style scoped>\n",
       "    .dataframe tbody tr th:only-of-type {\n",
       "        vertical-align: middle;\n",
       "    }\n",
       "\n",
       "    .dataframe tbody tr th {\n",
       "        vertical-align: top;\n",
       "    }\n",
       "\n",
       "    .dataframe thead th {\n",
       "        text-align: right;\n",
       "    }\n",
       "</style>\n",
       "<table border=\"1\" class=\"dataframe\">\n",
       "  <thead>\n",
       "    <tr style=\"text-align: right;\">\n",
       "      <th></th>\n",
       "      <th>客户姓名</th>\n",
       "      <th>客户性别</th>\n",
       "      <th>客户年龄</th>\n",
       "      <th>客户邮箱</th>\n",
       "    </tr>\n",
       "  </thead>\n",
       "  <tbody>\n",
       "    <tr>\n",
       "      <th>1</th>\n",
       "      <td>李十</td>\n",
       "      <td>女</td>\n",
       "      <td>58</td>\n",
       "      <td>yVaQXekW@example.com</td>\n",
       "    </tr>\n",
       "    <tr>\n",
       "      <th>2_</th>\n",
       "      <td>冯三</td>\n",
       "      <td>男</td>\n",
       "      <td>27</td>\n",
       "      <td>LctXbrEM@example.com</td>\n",
       "    </tr>\n",
       "    <tr>\n",
       "      <th>3</th>\n",
       "      <td>吴十</td>\n",
       "      <td>男</td>\n",
       "      <td>32</td>\n",
       "      <td>UyTYBzUZ@example.com</td>\n",
       "    </tr>\n",
       "    <tr>\n",
       "      <th>4</th>\n",
       "      <td>王十</td>\n",
       "      <td>女</td>\n",
       "      <td>58</td>\n",
       "      <td>KCixgciF@example.com</td>\n",
       "    </tr>\n",
       "    <tr>\n",
       "      <th>_5</th>\n",
       "      <td>钱十</td>\n",
       "      <td>女</td>\n",
       "      <td>27</td>\n",
       "      <td>nqRBXOtA@example.com</td>\n",
       "    </tr>\n",
       "    <tr>\n",
       "      <th>6*</th>\n",
       "      <td>赵八</td>\n",
       "      <td>女</td>\n",
       "      <td>51</td>\n",
       "      <td>GyKwILAL@example.com</td>\n",
       "    </tr>\n",
       "  </tbody>\n",
       "</table>\n",
       "</div>"
      ],
      "text/plain": [
       "   客户姓名 客户性别  客户年龄                  客户邮箱\n",
       "1    李十    女    58  yVaQXekW@example.com\n",
       "2_   冯三    男    27  LctXbrEM@example.com\n",
       "3    吴十    男    32  UyTYBzUZ@example.com\n",
       "4    王十    女    58  KCixgciF@example.com\n",
       "_5   钱十    女    27  nqRBXOtA@example.com\n",
       "6*   赵八    女    51  GyKwILAL@example.com"
      ]
     },
     "execution_count": 5,
     "metadata": {},
     "output_type": "execute_result"
    }
   ],
   "source": [
    "df1.rename(columns={\"客户_姓名\":\"客户姓名\", \"客户 性别\":\"客户性别\", \"age\":\"客户年龄\", \"邮箱\":\"客户邮箱\"})"
   ]
  },
  {
   "cell_type": "code",
   "execution_count": 6,
   "id": "eea6c70c",
   "metadata": {},
   "outputs": [
    {
     "data": {
      "text/html": [
       "<div>\n",
       "<style scoped>\n",
       "    .dataframe tbody tr th:only-of-type {\n",
       "        vertical-align: middle;\n",
       "    }\n",
       "\n",
       "    .dataframe tbody tr th {\n",
       "        vertical-align: top;\n",
       "    }\n",
       "\n",
       "    .dataframe thead th {\n",
       "        text-align: right;\n",
       "    }\n",
       "</style>\n",
       "<table border=\"1\" class=\"dataframe\">\n",
       "  <thead>\n",
       "    <tr style=\"text-align: right;\">\n",
       "      <th></th>\n",
       "      <th>客户_姓名</th>\n",
       "      <th>客户 性别</th>\n",
       "      <th>age</th>\n",
       "      <th>邮箱</th>\n",
       "    </tr>\n",
       "  </thead>\n",
       "  <tbody>\n",
       "    <tr>\n",
       "      <th>1</th>\n",
       "      <td>李十</td>\n",
       "      <td>女</td>\n",
       "      <td>58</td>\n",
       "      <td>yVaQXekW@example.com</td>\n",
       "    </tr>\n",
       "    <tr>\n",
       "      <th>2_</th>\n",
       "      <td>冯三</td>\n",
       "      <td>男</td>\n",
       "      <td>27</td>\n",
       "      <td>LctXbrEM@example.com</td>\n",
       "    </tr>\n",
       "    <tr>\n",
       "      <th>3</th>\n",
       "      <td>吴十</td>\n",
       "      <td>男</td>\n",
       "      <td>32</td>\n",
       "      <td>UyTYBzUZ@example.com</td>\n",
       "    </tr>\n",
       "    <tr>\n",
       "      <th>4</th>\n",
       "      <td>王十</td>\n",
       "      <td>女</td>\n",
       "      <td>58</td>\n",
       "      <td>KCixgciF@example.com</td>\n",
       "    </tr>\n",
       "    <tr>\n",
       "      <th>_5</th>\n",
       "      <td>钱十</td>\n",
       "      <td>女</td>\n",
       "      <td>27</td>\n",
       "      <td>nqRBXOtA@example.com</td>\n",
       "    </tr>\n",
       "    <tr>\n",
       "      <th>6*</th>\n",
       "      <td>赵八</td>\n",
       "      <td>女</td>\n",
       "      <td>51</td>\n",
       "      <td>GyKwILAL@example.com</td>\n",
       "    </tr>\n",
       "  </tbody>\n",
       "</table>\n",
       "</div>"
      ],
      "text/plain": [
       "   客户_姓名 客户 性别  age                    邮箱\n",
       "1     李十     女   58  yVaQXekW@example.com\n",
       "2_    冯三     男   27  LctXbrEM@example.com\n",
       "3     吴十     男   32  UyTYBzUZ@example.com\n",
       "4     王十     女   58  KCixgciF@example.com\n",
       "_5    钱十     女   27  nqRBXOtA@example.com\n",
       "6*    赵八     女   51  GyKwILAL@example.com"
      ]
     },
     "execution_count": 6,
     "metadata": {},
     "output_type": "execute_result"
    }
   ],
   "source": [
    "# 原始 DataFrame 没有被改变\n",
    "df1"
   ]
  },
  {
   "cell_type": "code",
   "execution_count": 7,
   "id": "e23c482a",
   "metadata": {},
   "outputs": [
    {
     "data": {
      "text/html": [
       "<div>\n",
       "<style scoped>\n",
       "    .dataframe tbody tr th:only-of-type {\n",
       "        vertical-align: middle;\n",
       "    }\n",
       "\n",
       "    .dataframe tbody tr th {\n",
       "        vertical-align: top;\n",
       "    }\n",
       "\n",
       "    .dataframe thead th {\n",
       "        text-align: right;\n",
       "    }\n",
       "</style>\n",
       "<table border=\"1\" class=\"dataframe\">\n",
       "  <thead>\n",
       "    <tr style=\"text-align: right;\">\n",
       "      <th></th>\n",
       "      <th>客户_姓名</th>\n",
       "      <th>客户 性别</th>\n",
       "      <th>age</th>\n",
       "      <th>邮箱</th>\n",
       "    </tr>\n",
       "  </thead>\n",
       "  <tbody>\n",
       "    <tr>\n",
       "      <th>1</th>\n",
       "      <td>李十</td>\n",
       "      <td>女</td>\n",
       "      <td>58</td>\n",
       "      <td>yVaQXekW@example.com</td>\n",
       "    </tr>\n",
       "    <tr>\n",
       "      <th>2</th>\n",
       "      <td>冯三</td>\n",
       "      <td>男</td>\n",
       "      <td>27</td>\n",
       "      <td>LctXbrEM@example.com</td>\n",
       "    </tr>\n",
       "    <tr>\n",
       "      <th>3</th>\n",
       "      <td>吴十</td>\n",
       "      <td>男</td>\n",
       "      <td>32</td>\n",
       "      <td>UyTYBzUZ@example.com</td>\n",
       "    </tr>\n",
       "    <tr>\n",
       "      <th>4</th>\n",
       "      <td>王十</td>\n",
       "      <td>女</td>\n",
       "      <td>58</td>\n",
       "      <td>KCixgciF@example.com</td>\n",
       "    </tr>\n",
       "    <tr>\n",
       "      <th>5</th>\n",
       "      <td>钱十</td>\n",
       "      <td>女</td>\n",
       "      <td>27</td>\n",
       "      <td>nqRBXOtA@example.com</td>\n",
       "    </tr>\n",
       "    <tr>\n",
       "      <th>6</th>\n",
       "      <td>赵八</td>\n",
       "      <td>女</td>\n",
       "      <td>51</td>\n",
       "      <td>GyKwILAL@example.com</td>\n",
       "    </tr>\n",
       "  </tbody>\n",
       "</table>\n",
       "</div>"
      ],
      "text/plain": [
       "  客户_姓名 客户 性别  age                    邮箱\n",
       "1    李十     女   58  yVaQXekW@example.com\n",
       "2    冯三     男   27  LctXbrEM@example.com\n",
       "3    吴十     男   32  UyTYBzUZ@example.com\n",
       "4    王十     女   58  KCixgciF@example.com\n",
       "5    钱十     女   27  nqRBXOtA@example.com\n",
       "6    赵八     女   51  GyKwILAL@example.com"
      ]
     },
     "execution_count": 7,
     "metadata": {},
     "output_type": "execute_result"
    }
   ],
   "source": [
    "df1 = df1.rename(index={\"2_\":\"2\", \"_5\":\"5\", \"6*\":\"6\"})\n",
    "# df1变成重命名后的\n",
    "df1"
   ]
  },
  {
   "cell_type": "code",
   "execution_count": 8,
   "id": "a2bfda1d",
   "metadata": {},
   "outputs": [
    {
     "data": {
      "text/html": [
       "<div>\n",
       "<style scoped>\n",
       "    .dataframe tbody tr th:only-of-type {\n",
       "        vertical-align: middle;\n",
       "    }\n",
       "\n",
       "    .dataframe tbody tr th {\n",
       "        vertical-align: top;\n",
       "    }\n",
       "\n",
       "    .dataframe thead th {\n",
       "        text-align: right;\n",
       "    }\n",
       "</style>\n",
       "<table border=\"1\" class=\"dataframe\">\n",
       "  <thead>\n",
       "    <tr style=\"text-align: right;\">\n",
       "      <th></th>\n",
       "      <th>客户姓名</th>\n",
       "      <th>客户性别</th>\n",
       "      <th>客户年龄</th>\n",
       "      <th>客户邮箱</th>\n",
       "    </tr>\n",
       "  </thead>\n",
       "  <tbody>\n",
       "    <tr>\n",
       "      <th>1</th>\n",
       "      <td>李十</td>\n",
       "      <td>女</td>\n",
       "      <td>58</td>\n",
       "      <td>yVaQXekW@example.com</td>\n",
       "    </tr>\n",
       "    <tr>\n",
       "      <th>2</th>\n",
       "      <td>冯三</td>\n",
       "      <td>男</td>\n",
       "      <td>27</td>\n",
       "      <td>LctXbrEM@example.com</td>\n",
       "    </tr>\n",
       "    <tr>\n",
       "      <th>3</th>\n",
       "      <td>吴十</td>\n",
       "      <td>男</td>\n",
       "      <td>32</td>\n",
       "      <td>UyTYBzUZ@example.com</td>\n",
       "    </tr>\n",
       "    <tr>\n",
       "      <th>4</th>\n",
       "      <td>王十</td>\n",
       "      <td>女</td>\n",
       "      <td>58</td>\n",
       "      <td>KCixgciF@example.com</td>\n",
       "    </tr>\n",
       "    <tr>\n",
       "      <th>5</th>\n",
       "      <td>钱十</td>\n",
       "      <td>女</td>\n",
       "      <td>27</td>\n",
       "      <td>nqRBXOtA@example.com</td>\n",
       "    </tr>\n",
       "    <tr>\n",
       "      <th>6</th>\n",
       "      <td>赵八</td>\n",
       "      <td>女</td>\n",
       "      <td>51</td>\n",
       "      <td>GyKwILAL@example.com</td>\n",
       "    </tr>\n",
       "  </tbody>\n",
       "</table>\n",
       "</div>"
      ],
      "text/plain": [
       "  客户姓名 客户性别  客户年龄                  客户邮箱\n",
       "1   李十    女    58  yVaQXekW@example.com\n",
       "2   冯三    男    27  LctXbrEM@example.com\n",
       "3   吴十    男    32  UyTYBzUZ@example.com\n",
       "4   王十    女    58  KCixgciF@example.com\n",
       "5   钱十    女    27  nqRBXOtA@example.com\n",
       "6   赵八    女    51  GyKwILAL@example.com"
      ]
     },
     "execution_count": 8,
     "metadata": {},
     "output_type": "execute_result"
    }
   ],
   "source": [
    "df1.rename(columns={\"客户_姓名\":\"客户姓名\", \"客户 性别\":\"客户性别\", \n",
    "                    \"age\":\"客户年龄\", \"邮箱\":\"客户邮箱\"}, inplace=True)\n",
    "# df1变成重命名后的\n",
    "df1"
   ]
  },
  {
   "cell_type": "markdown",
   "id": "53933d2c",
   "metadata": {},
   "source": [
    "## 对索引和列名重命名（使用方法/函数）"
   ]
  },
  {
   "cell_type": "code",
   "execution_count": 9,
   "id": "e850052b",
   "metadata": {},
   "outputs": [
    {
     "data": {
      "text/plain": [
       "0    hello\n",
       "1     this\n",
       "2       is\n",
       "3      Lin\n",
       "dtype: object"
      ]
     },
     "execution_count": 9,
     "metadata": {},
     "output_type": "execute_result"
    }
   ],
   "source": [
    "s1 = pd.Series([\"hello\", \"this\", \"is\", \"Lin\"])\n",
    "s1"
   ]
  },
  {
   "cell_type": "code",
   "execution_count": 10,
   "id": "6f09cc04",
   "metadata": {},
   "outputs": [
    {
     "data": {
      "text/plain": [
       "0    hello\n",
       "1     this\n",
       "2       is\n",
       "3      Lin\n",
       "dtype: object"
      ]
     },
     "execution_count": 10,
     "metadata": {},
     "output_type": "execute_result"
    }
   ],
   "source": [
    "s1"
   ]
  },
  {
   "cell_type": "code",
   "execution_count": 11,
   "id": "22b9b45b",
   "metadata": {},
   "outputs": [
    {
     "data": {
      "text/plain": [
       "<pandas.core.strings.accessor.StringMethods at 0x7fe91d377040>"
      ]
     },
     "execution_count": 11,
     "metadata": {},
     "output_type": "execute_result"
    }
   ],
   "source": [
    "s1.str"
   ]
  },
  {
   "cell_type": "code",
   "execution_count": 12,
   "id": "06b0a5a4",
   "metadata": {},
   "outputs": [
    {
     "data": {
      "text/plain": [
       "0    HELLO\n",
       "1     THIS\n",
       "2       IS\n",
       "3      LIN\n",
       "dtype: object"
      ]
     },
     "execution_count": 12,
     "metadata": {},
     "output_type": "execute_result"
    }
   ],
   "source": [
    "s1.str.upper()"
   ]
  },
  {
   "cell_type": "code",
   "execution_count": 13,
   "id": "fb7c88d0",
   "metadata": {},
   "outputs": [
    {
     "data": {
      "text/plain": [
       "0    HELLO\n",
       "1     THIS\n",
       "2       IS\n",
       "3      LIN\n",
       "dtype: object"
      ]
     },
     "execution_count": 13,
     "metadata": {},
     "output_type": "execute_result"
    }
   ],
   "source": [
    "# 展示 str.upper 方法的用法\n",
    "s1.str.upper()"
   ]
  },
  {
   "cell_type": "code",
   "execution_count": 14,
   "id": "81f56f1a",
   "metadata": {},
   "outputs": [
    {
     "data": {
      "text/html": [
       "<div>\n",
       "<style scoped>\n",
       "    .dataframe tbody tr th:only-of-type {\n",
       "        vertical-align: middle;\n",
       "    }\n",
       "\n",
       "    .dataframe tbody tr th {\n",
       "        vertical-align: top;\n",
       "    }\n",
       "\n",
       "    .dataframe thead th {\n",
       "        text-align: right;\n",
       "    }\n",
       "</style>\n",
       "<table border=\"1\" class=\"dataframe\">\n",
       "  <thead>\n",
       "    <tr style=\"text-align: right;\">\n",
       "      <th></th>\n",
       "      <th>Date</th>\n",
       "      <th>Amount</th>\n",
       "      <th>Salesperson</th>\n",
       "      <th>Location</th>\n",
       "    </tr>\n",
       "  </thead>\n",
       "  <tbody>\n",
       "    <tr>\n",
       "      <th>0</th>\n",
       "      <td>2022-01-01</td>\n",
       "      <td>1000</td>\n",
       "      <td>Alice</td>\n",
       "      <td>New York</td>\n",
       "    </tr>\n",
       "    <tr>\n",
       "      <th>1</th>\n",
       "      <td>2022-01-02</td>\n",
       "      <td>1500</td>\n",
       "      <td>Bob</td>\n",
       "      <td>San Francisco</td>\n",
       "    </tr>\n",
       "    <tr>\n",
       "      <th>2</th>\n",
       "      <td>2022-01-03</td>\n",
       "      <td>800</td>\n",
       "      <td>Charlie</td>\n",
       "      <td>New York</td>\n",
       "    </tr>\n",
       "    <tr>\n",
       "      <th>3</th>\n",
       "      <td>2022-01-04</td>\n",
       "      <td>1200</td>\n",
       "      <td>David</td>\n",
       "      <td>San Francisco</td>\n",
       "    </tr>\n",
       "  </tbody>\n",
       "</table>\n",
       "</div>"
      ],
      "text/plain": [
       "         Date  Amount Salesperson       Location\n",
       "0  2022-01-01    1000       Alice       New York\n",
       "1  2022-01-02    1500         Bob  San Francisco\n",
       "2  2022-01-03     800     Charlie       New York\n",
       "3  2022-01-04    1200       David  San Francisco"
      ]
     },
     "execution_count": 14,
     "metadata": {},
     "output_type": "execute_result"
    }
   ],
   "source": [
    "# 读取示例数据\n",
    "df2 = pd.read_csv(\"example2.csv\")\n",
    "df2"
   ]
  },
  {
   "cell_type": "code",
   "execution_count": 15,
   "id": "5eedf458",
   "metadata": {},
   "outputs": [
    {
     "data": {
      "text/html": [
       "<div>\n",
       "<style scoped>\n",
       "    .dataframe tbody tr th:only-of-type {\n",
       "        vertical-align: middle;\n",
       "    }\n",
       "\n",
       "    .dataframe tbody tr th {\n",
       "        vertical-align: top;\n",
       "    }\n",
       "\n",
       "    .dataframe thead th {\n",
       "        text-align: right;\n",
       "    }\n",
       "</style>\n",
       "<table border=\"1\" class=\"dataframe\">\n",
       "  <thead>\n",
       "    <tr style=\"text-align: right;\">\n",
       "      <th></th>\n",
       "      <th>DATE</th>\n",
       "      <th>AMOUNT</th>\n",
       "      <th>SALESPERSON</th>\n",
       "      <th>LOCATION</th>\n",
       "    </tr>\n",
       "  </thead>\n",
       "  <tbody>\n",
       "    <tr>\n",
       "      <th>0</th>\n",
       "      <td>2022-01-01</td>\n",
       "      <td>1000</td>\n",
       "      <td>Alice</td>\n",
       "      <td>New York</td>\n",
       "    </tr>\n",
       "    <tr>\n",
       "      <th>1</th>\n",
       "      <td>2022-01-02</td>\n",
       "      <td>1500</td>\n",
       "      <td>Bob</td>\n",
       "      <td>San Francisco</td>\n",
       "    </tr>\n",
       "    <tr>\n",
       "      <th>2</th>\n",
       "      <td>2022-01-03</td>\n",
       "      <td>800</td>\n",
       "      <td>Charlie</td>\n",
       "      <td>New York</td>\n",
       "    </tr>\n",
       "    <tr>\n",
       "      <th>3</th>\n",
       "      <td>2022-01-04</td>\n",
       "      <td>1200</td>\n",
       "      <td>David</td>\n",
       "      <td>San Francisco</td>\n",
       "    </tr>\n",
       "  </tbody>\n",
       "</table>\n",
       "</div>"
      ],
      "text/plain": [
       "         DATE  AMOUNT SALESPERSON       LOCATION\n",
       "0  2022-01-01    1000       Alice       New York\n",
       "1  2022-01-02    1500         Bob  San Francisco\n",
       "2  2022-01-03     800     Charlie       New York\n",
       "3  2022-01-04    1200       David  San Francisco"
      ]
     },
     "execution_count": 15,
     "metadata": {},
     "output_type": "execute_result"
    }
   ],
   "source": [
    "df2.rename(columns=str.upper)"
   ]
  },
  {
   "cell_type": "markdown",
   "id": "8e90ec54",
   "metadata": {},
   "source": [
    "## 把某列设为索引"
   ]
  },
  {
   "cell_type": "code",
   "execution_count": 16,
   "id": "d90f4b6f",
   "metadata": {},
   "outputs": [
    {
     "data": {
      "text/html": [
       "<div>\n",
       "<style scoped>\n",
       "    .dataframe tbody tr th:only-of-type {\n",
       "        vertical-align: middle;\n",
       "    }\n",
       "\n",
       "    .dataframe tbody tr th {\n",
       "        vertical-align: top;\n",
       "    }\n",
       "\n",
       "    .dataframe thead th {\n",
       "        text-align: right;\n",
       "    }\n",
       "</style>\n",
       "<table border=\"1\" class=\"dataframe\">\n",
       "  <thead>\n",
       "    <tr style=\"text-align: right;\">\n",
       "      <th></th>\n",
       "      <th>Date</th>\n",
       "      <th>Amount</th>\n",
       "      <th>Salesperson</th>\n",
       "      <th>Location</th>\n",
       "    </tr>\n",
       "  </thead>\n",
       "  <tbody>\n",
       "    <tr>\n",
       "      <th>0</th>\n",
       "      <td>2022-01-01</td>\n",
       "      <td>1000</td>\n",
       "      <td>Alice</td>\n",
       "      <td>New York</td>\n",
       "    </tr>\n",
       "    <tr>\n",
       "      <th>1</th>\n",
       "      <td>2022-01-02</td>\n",
       "      <td>1500</td>\n",
       "      <td>Bob</td>\n",
       "      <td>San Francisco</td>\n",
       "    </tr>\n",
       "    <tr>\n",
       "      <th>2</th>\n",
       "      <td>2022-01-03</td>\n",
       "      <td>800</td>\n",
       "      <td>Charlie</td>\n",
       "      <td>New York</td>\n",
       "    </tr>\n",
       "    <tr>\n",
       "      <th>3</th>\n",
       "      <td>2022-01-04</td>\n",
       "      <td>1200</td>\n",
       "      <td>David</td>\n",
       "      <td>San Francisco</td>\n",
       "    </tr>\n",
       "  </tbody>\n",
       "</table>\n",
       "</div>"
      ],
      "text/plain": [
       "         Date  Amount Salesperson       Location\n",
       "0  2022-01-01    1000       Alice       New York\n",
       "1  2022-01-02    1500         Bob  San Francisco\n",
       "2  2022-01-03     800     Charlie       New York\n",
       "3  2022-01-04    1200       David  San Francisco"
      ]
     },
     "execution_count": 16,
     "metadata": {},
     "output_type": "execute_result"
    }
   ],
   "source": [
    "df2"
   ]
  },
  {
   "cell_type": "code",
   "execution_count": 17,
   "id": "96b57bbd",
   "metadata": {},
   "outputs": [
    {
     "data": {
      "text/html": [
       "<div>\n",
       "<style scoped>\n",
       "    .dataframe tbody tr th:only-of-type {\n",
       "        vertical-align: middle;\n",
       "    }\n",
       "\n",
       "    .dataframe tbody tr th {\n",
       "        vertical-align: top;\n",
       "    }\n",
       "\n",
       "    .dataframe thead th {\n",
       "        text-align: right;\n",
       "    }\n",
       "</style>\n",
       "<table border=\"1\" class=\"dataframe\">\n",
       "  <thead>\n",
       "    <tr style=\"text-align: right;\">\n",
       "      <th></th>\n",
       "      <th>Date</th>\n",
       "      <th>Amount</th>\n",
       "      <th>Location</th>\n",
       "    </tr>\n",
       "    <tr>\n",
       "      <th>Salesperson</th>\n",
       "      <th></th>\n",
       "      <th></th>\n",
       "      <th></th>\n",
       "    </tr>\n",
       "  </thead>\n",
       "  <tbody>\n",
       "    <tr>\n",
       "      <th>Alice</th>\n",
       "      <td>2022-01-01</td>\n",
       "      <td>1000</td>\n",
       "      <td>New York</td>\n",
       "    </tr>\n",
       "    <tr>\n",
       "      <th>Bob</th>\n",
       "      <td>2022-01-02</td>\n",
       "      <td>1500</td>\n",
       "      <td>San Francisco</td>\n",
       "    </tr>\n",
       "    <tr>\n",
       "      <th>Charlie</th>\n",
       "      <td>2022-01-03</td>\n",
       "      <td>800</td>\n",
       "      <td>New York</td>\n",
       "    </tr>\n",
       "    <tr>\n",
       "      <th>David</th>\n",
       "      <td>2022-01-04</td>\n",
       "      <td>1200</td>\n",
       "      <td>San Francisco</td>\n",
       "    </tr>\n",
       "  </tbody>\n",
       "</table>\n",
       "</div>"
      ],
      "text/plain": [
       "                   Date  Amount       Location\n",
       "Salesperson                                   \n",
       "Alice        2022-01-01    1000       New York\n",
       "Bob          2022-01-02    1500  San Francisco\n",
       "Charlie      2022-01-03     800       New York\n",
       "David        2022-01-04    1200  San Francisco"
      ]
     },
     "execution_count": 17,
     "metadata": {},
     "output_type": "execute_result"
    }
   ],
   "source": [
    "df3 = df2.set_index(\"Salesperson\")\n",
    "df3"
   ]
  },
  {
   "cell_type": "markdown",
   "id": "14cf96ba",
   "metadata": {},
   "source": [
    "## 重设索引"
   ]
  },
  {
   "cell_type": "code",
   "execution_count": 18,
   "id": "5e241ede",
   "metadata": {},
   "outputs": [
    {
     "data": {
      "text/html": [
       "<div>\n",
       "<style scoped>\n",
       "    .dataframe tbody tr th:only-of-type {\n",
       "        vertical-align: middle;\n",
       "    }\n",
       "\n",
       "    .dataframe tbody tr th {\n",
       "        vertical-align: top;\n",
       "    }\n",
       "\n",
       "    .dataframe thead th {\n",
       "        text-align: right;\n",
       "    }\n",
       "</style>\n",
       "<table border=\"1\" class=\"dataframe\">\n",
       "  <thead>\n",
       "    <tr style=\"text-align: right;\">\n",
       "      <th></th>\n",
       "      <th>Salesperson</th>\n",
       "      <th>Date</th>\n",
       "      <th>Amount</th>\n",
       "      <th>Location</th>\n",
       "    </tr>\n",
       "  </thead>\n",
       "  <tbody>\n",
       "    <tr>\n",
       "      <th>0</th>\n",
       "      <td>Alice</td>\n",
       "      <td>2022-01-01</td>\n",
       "      <td>1000</td>\n",
       "      <td>New York</td>\n",
       "    </tr>\n",
       "    <tr>\n",
       "      <th>1</th>\n",
       "      <td>Bob</td>\n",
       "      <td>2022-01-02</td>\n",
       "      <td>1500</td>\n",
       "      <td>San Francisco</td>\n",
       "    </tr>\n",
       "    <tr>\n",
       "      <th>2</th>\n",
       "      <td>Charlie</td>\n",
       "      <td>2022-01-03</td>\n",
       "      <td>800</td>\n",
       "      <td>New York</td>\n",
       "    </tr>\n",
       "    <tr>\n",
       "      <th>3</th>\n",
       "      <td>David</td>\n",
       "      <td>2022-01-04</td>\n",
       "      <td>1200</td>\n",
       "      <td>San Francisco</td>\n",
       "    </tr>\n",
       "  </tbody>\n",
       "</table>\n",
       "</div>"
      ],
      "text/plain": [
       "  Salesperson        Date  Amount       Location\n",
       "0       Alice  2022-01-01    1000       New York\n",
       "1         Bob  2022-01-02    1500  San Francisco\n",
       "2     Charlie  2022-01-03     800       New York\n",
       "3       David  2022-01-04    1200  San Francisco"
      ]
     },
     "execution_count": 18,
     "metadata": {},
     "output_type": "execute_result"
    }
   ],
   "source": [
    "df3.reset_index()"
   ]
  },
  {
   "cell_type": "markdown",
   "id": "455552b4",
   "metadata": {},
   "source": [
    "## 对索引和列名重新排序"
   ]
  },
  {
   "cell_type": "code",
   "execution_count": 19,
   "id": "3575fe25",
   "metadata": {},
   "outputs": [],
   "source": [
    "# 读取示例数据\n",
    "df4 = pd.read_csv(\"example3.csv\", index_col=0)"
   ]
  },
  {
   "cell_type": "code",
   "execution_count": 20,
   "id": "f7344fca",
   "metadata": {},
   "outputs": [
    {
     "data": {
      "text/html": [
       "<div>\n",
       "<style scoped>\n",
       "    .dataframe tbody tr th:only-of-type {\n",
       "        vertical-align: middle;\n",
       "    }\n",
       "\n",
       "    .dataframe tbody tr th {\n",
       "        vertical-align: top;\n",
       "    }\n",
       "\n",
       "    .dataframe thead th {\n",
       "        text-align: right;\n",
       "    }\n",
       "</style>\n",
       "<table border=\"1\" class=\"dataframe\">\n",
       "  <thead>\n",
       "    <tr style=\"text-align: right;\">\n",
       "      <th></th>\n",
       "      <th>客户姓名</th>\n",
       "      <th>客户性别</th>\n",
       "      <th>客户年龄</th>\n",
       "      <th>客户邮箱</th>\n",
       "    </tr>\n",
       "  </thead>\n",
       "  <tbody>\n",
       "    <tr>\n",
       "      <th>a</th>\n",
       "      <td>李十</td>\n",
       "      <td>女</td>\n",
       "      <td>58</td>\n",
       "      <td>yVaQXekW@example.com</td>\n",
       "    </tr>\n",
       "    <tr>\n",
       "      <th>c</th>\n",
       "      <td>冯三</td>\n",
       "      <td>男</td>\n",
       "      <td>27</td>\n",
       "      <td>LctXbrEM@example.com</td>\n",
       "    </tr>\n",
       "    <tr>\n",
       "      <th>b</th>\n",
       "      <td>吴十</td>\n",
       "      <td>男</td>\n",
       "      <td>32</td>\n",
       "      <td>UyTYBzUZ@example.com</td>\n",
       "    </tr>\n",
       "    <tr>\n",
       "      <th>e</th>\n",
       "      <td>王十</td>\n",
       "      <td>女</td>\n",
       "      <td>58</td>\n",
       "      <td>KCixgciF@example.com</td>\n",
       "    </tr>\n",
       "    <tr>\n",
       "      <th>d</th>\n",
       "      <td>钱十</td>\n",
       "      <td>女</td>\n",
       "      <td>27</td>\n",
       "      <td>nqRBXOtA@example.com</td>\n",
       "    </tr>\n",
       "    <tr>\n",
       "      <th>f</th>\n",
       "      <td>赵八</td>\n",
       "      <td>女</td>\n",
       "      <td>51</td>\n",
       "      <td>GyKwILAL@example.com</td>\n",
       "    </tr>\n",
       "  </tbody>\n",
       "</table>\n",
       "</div>"
      ],
      "text/plain": [
       "  客户姓名 客户性别  客户年龄                  客户邮箱\n",
       "a   李十    女    58  yVaQXekW@example.com\n",
       "c   冯三    男    27  LctXbrEM@example.com\n",
       "b   吴十    男    32  UyTYBzUZ@example.com\n",
       "e   王十    女    58  KCixgciF@example.com\n",
       "d   钱十    女    27  nqRBXOtA@example.com\n",
       "f   赵八    女    51  GyKwILAL@example.com"
      ]
     },
     "execution_count": 20,
     "metadata": {},
     "output_type": "execute_result"
    }
   ],
   "source": [
    "df4"
   ]
  },
  {
   "cell_type": "code",
   "execution_count": 21,
   "id": "487b2224",
   "metadata": {},
   "outputs": [
    {
     "data": {
      "text/html": [
       "<div>\n",
       "<style scoped>\n",
       "    .dataframe tbody tr th:only-of-type {\n",
       "        vertical-align: middle;\n",
       "    }\n",
       "\n",
       "    .dataframe tbody tr th {\n",
       "        vertical-align: top;\n",
       "    }\n",
       "\n",
       "    .dataframe thead th {\n",
       "        text-align: right;\n",
       "    }\n",
       "</style>\n",
       "<table border=\"1\" class=\"dataframe\">\n",
       "  <thead>\n",
       "    <tr style=\"text-align: right;\">\n",
       "      <th></th>\n",
       "      <th>客户姓名</th>\n",
       "      <th>客户性别</th>\n",
       "      <th>客户年龄</th>\n",
       "      <th>客户邮箱</th>\n",
       "    </tr>\n",
       "  </thead>\n",
       "  <tbody>\n",
       "    <tr>\n",
       "      <th>a</th>\n",
       "      <td>李十</td>\n",
       "      <td>女</td>\n",
       "      <td>58</td>\n",
       "      <td>yVaQXekW@example.com</td>\n",
       "    </tr>\n",
       "    <tr>\n",
       "      <th>b</th>\n",
       "      <td>吴十</td>\n",
       "      <td>男</td>\n",
       "      <td>32</td>\n",
       "      <td>UyTYBzUZ@example.com</td>\n",
       "    </tr>\n",
       "    <tr>\n",
       "      <th>c</th>\n",
       "      <td>冯三</td>\n",
       "      <td>男</td>\n",
       "      <td>27</td>\n",
       "      <td>LctXbrEM@example.com</td>\n",
       "    </tr>\n",
       "    <tr>\n",
       "      <th>d</th>\n",
       "      <td>钱十</td>\n",
       "      <td>女</td>\n",
       "      <td>27</td>\n",
       "      <td>nqRBXOtA@example.com</td>\n",
       "    </tr>\n",
       "    <tr>\n",
       "      <th>e</th>\n",
       "      <td>王十</td>\n",
       "      <td>女</td>\n",
       "      <td>58</td>\n",
       "      <td>KCixgciF@example.com</td>\n",
       "    </tr>\n",
       "    <tr>\n",
       "      <th>f</th>\n",
       "      <td>赵八</td>\n",
       "      <td>女</td>\n",
       "      <td>51</td>\n",
       "      <td>GyKwILAL@example.com</td>\n",
       "    </tr>\n",
       "  </tbody>\n",
       "</table>\n",
       "</div>"
      ],
      "text/plain": [
       "  客户姓名 客户性别  客户年龄                  客户邮箱\n",
       "a   李十    女    58  yVaQXekW@example.com\n",
       "b   吴十    男    32  UyTYBzUZ@example.com\n",
       "c   冯三    男    27  LctXbrEM@example.com\n",
       "d   钱十    女    27  nqRBXOtA@example.com\n",
       "e   王十    女    58  KCixgciF@example.com\n",
       "f   赵八    女    51  GyKwILAL@example.com"
      ]
     },
     "execution_count": 21,
     "metadata": {},
     "output_type": "execute_result"
    }
   ],
   "source": [
    "df4.sort_index()"
   ]
  },
  {
   "cell_type": "code",
   "execution_count": null,
   "id": "e883cdf1",
   "metadata": {},
   "outputs": [],
   "source": []
  }
 ],
 "metadata": {
  "kernelspec": {
   "display_name": "Python 3 (ipykernel)",
   "language": "python",
   "name": "python3"
  },
  "language_info": {
   "codemirror_mode": {
    "name": "ipython",
    "version": 3
   },
   "file_extension": ".py",
   "mimetype": "text/x-python",
   "name": "python",
   "nbconvert_exporter": "python",
   "pygments_lexer": "ipython3",
   "version": "3.11.1"
  }
 },
 "nbformat": 4,
 "nbformat_minor": 5
}
