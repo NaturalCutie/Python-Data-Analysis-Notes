{
 "cells": [
  {
   "cell_type": "markdown",
   "id": "6a11515c-659c-4607-86fc-879e0151b53f",
   "metadata": {},
   "source": [
    "# **4.26_clean_data**"
   ]
  },
  {
   "cell_type": "markdown",
   "id": "c43efa44-32e6-4fb9-92f5-608767243d15",
   "metadata": {},
   "source": [
    "在评估之后，下一步是根据评估结果，对数据进行清洗。\n",
    "\n",
    "这节先会对处理方式进行一个大致的了解。"
   ]
  },
  {
   "cell_type": "markdown",
   "id": "610c4ef3-a31a-47be-bbc0-bc522544ba4b",
   "metadata": {},
   "source": [
    "### 一、清洗数据之前"
   ]
  },
  {
   "cell_type": "markdown",
   "id": "f7f0bc61-2e37-402c-add7-1d2cd7fe2388",
   "metadata": {},
   "source": [
    "在清洗数据之前，我们要先看看索引或列名是否有意义。\n",
    "\n",
    "如果索引或列名都是乱七八糟的，应该对它们进行重命名，或重新排序，以便我们理解数据。"
   ]
  },
  {
   "cell_type": "markdown",
   "id": "ccdfd9d1-e308-4ca3-99db-d2a048f53e9f",
   "metadata": {},
   "source": [
    "### 二、结构性问题"
   ]
  },
  {
   "cell_type": "markdown",
   "id": "f0410bea-2c45-4b1b-b344-520a77a13344",
   "metadata": {},
   "source": [
    "清洗数据，我们一般会先解决结构性问题，再处理内容性问题。"
   ]
  },
  {
   "cell_type": "markdown",
   "id": "a8047e72-180a-427d-8723-00ae8189080b",
   "metadata": {},
   "source": [
    "1. 整洁数据，根据埃德加科德的第三范式，包括以下三个特点：\n",
    "\n",
    "   1)每列是一个变量\n",
    "\n",
    "   2)每行是一个观察值\n",
    "\n",
    "   3)每个单元格是一个值\n",
    "\n",
    "    任何不符合以上三个特点的数据都是乱数据。"
   ]
  },
  {
   "cell_type": "markdown",
   "id": "5b3e96fd-1ed0-4e50-9dd3-797147aadcd2",
   "metadata": {},
   "source": [
    "#### (一)、每列是观察值，每行是变量"
   ]
  },
  {
   "cell_type": "markdown",
   "id": "3240f577-065d-42e3-934b-e6c69192034c",
   "metadata": {},
   "source": [
    "对行和列进行转置"
   ]
  },
  {
   "cell_type": "markdown",
   "id": "bd8c8a96-3061-4c1a-b140-4363ccd819b5",
   "metadata": {},
   "source": [
    "#### (二)、每列包含多个变量"
   ]
  },
  {
   "cell_type": "markdown",
   "id": "c8b2c680-5dbb-474e-ada6-a62e362ae5dd",
   "metadata": {},
   "source": [
    "1. 对列进行拆分，把多的变量分到其它列去\n",
    "\n",
    "2. 有的时候光拆分还不够，还要进行重塑，确保每列只包含一种变量\n",
    "\n",
    "   比如：许多列同时包含两个或多个变量的时候"
   ]
  },
  {
   "cell_type": "markdown",
   "id": "e45cf832-ab0f-4364-8d5c-924bf1e4a8c5",
   "metadata": {},
   "source": [
    "#### (三)、每行包含多个观察值"
   ]
  },
  {
   "cell_type": "markdown",
   "id": "b66ba578-c94a-458f-b38a-e6ca16808dc5",
   "metadata": {},
   "source": [
    "1. 对行进行拆分，让每个观察值为独立的一行\n",
    "\n",
    "2. 有的时候光拆分还不够，还要进行重塑，确保每列只包含一种观察值\n",
    "\n",
    "   比如：许多行同时包含两个或多个观察值的时候"
   ]
  },
  {
   "cell_type": "markdown",
   "id": "b2f51b9c-0222-4490-8271-0b5f89143fdd",
   "metadata": {},
   "source": [
    "很多时候，清理前的数据是宽数据，清理后的数据是长数据。\n",
    "\n",
    "我们清理的目的，是为了后续能更高效地用程序处理数据，而不是更方便地让人类理解，所以清理前的宽数据更直观易懂也是正常的。"
   ]
  },
  {
   "cell_type": "markdown",
   "id": "2faff3cd-21d0-436c-bf73-830991d57298",
   "metadata": {},
   "source": [
    "### 三、内容性问题"
   ]
  },
  {
   "cell_type": "markdown",
   "id": "16025cea-4f0b-4fc9-ad14-8fc3876acb1f",
   "metadata": {},
   "source": [
    "在确保结构不存在问题后，我们再去深入到内容，处理脏数据。"
   ]
  },
  {
   "cell_type": "markdown",
   "id": "7d6a160b-f68e-43f4-bde3-d641c9f5766a",
   "metadata": {},
   "source": [
    "#### (一)、缺失数据"
   ]
  },
  {
   "cell_type": "markdown",
   "id": "2ec5d25e-05e2-41ac-92aa-922675262a0f",
   "metadata": {},
   "source": [
    "针对缺失数据，处理方式需要具体情况具体分析。\n",
    "\n",
    "1. 如果恰好知道空缺值的实际值，可以更新表格数据，人工把那个值填进去。\n",
    "\n",
    "2. 如果我们不知道空缺值的实际值，而缺失值并不影响此次分析，最直接的办法是不处理缺失值。\n",
    "  \n",
    "   Pandas在计算的时候，会自动忽略缺失值，所以很多时候放着不管不会造成什么问题。\n",
    "\n",
    "3. 如果是关键变量缺失，我们可以把变量为空缺的行删掉，只留下对分析结果有意义的数据。 \n",
    "\n",
    "4. 如果是关键变量缺失，我们也可以用填充值的方式去处理，比如说把平均数、中位数、众数等填充进去，来代替空缺值 "
   ]
  },
  {
   "cell_type": "markdown",
   "id": "ff438dea-8adf-46a4-97c3-7293c796be80",
   "metadata": {},
   "source": [
    "#### (二)、重复数据"
   ]
  },
  {
   "cell_type": "markdown",
   "id": "469e5a08-1a1c-4fd5-9d63-9a30318e7b5b",
   "metadata": {},
   "source": [
    "针对重复数据，我们的处理方式就很简单了。\n",
    "\n",
    "找到后删除即可，不删除的话，重复数据可能影响分析结论"
   ]
  },
  {
   "cell_type": "markdown",
   "id": "85de65b0-04f4-45a7-ae6d-a7fb8595c782",
   "metadata": {},
   "source": [
    "#### (三)、不一致数据"
   ]
  },
  {
   "cell_type": "markdown",
   "id": "7d3a928b-2231-4bf4-8a52-4d4eb3076fe8",
   "metadata": {},
   "source": [
    "针对不一致数据，我们的目标是对它们进行统一。针对同一含义，只保留一种表达方式，把其余的都进行替换"
   ]
  },
  {
   "cell_type": "markdown",
   "id": "18338f98-0c6a-4f29-b5a9-574bd7d9f068",
   "metadata": {},
   "source": [
    "#### (四)、无效/错误数据"
   ]
  },
  {
   "cell_type": "markdown",
   "id": "e01a5473-4c8e-443c-934c-b46654158bce",
   "metadata": {},
   "source": [
    "针对无效/错误数据，也有不同的清洗途径。\n",
    "\n",
    "比如删除/替换，否则留下无效/错误数据，也可能影响分析结论。比如说一个负数的身高记录值，可以严重拉低平均值的分析。\n",
    "\n",
    "1. 把那条记录值进行删除。\n",
    "  \n",
    "   因为Pandas会自动忽略空缺值，所以NaN值反而不影响平均值计算\n",
    "\n",
    "2. 替换成其他值。比如说平均数。 "
   ]
  },
  {
   "cell_type": "markdown",
   "id": "7246e2cd-06b8-48f5-bf16-4d3f23ea4da7",
   "metadata": {},
   "source": [
    "### 四、其他问题"
   ]
  },
  {
   "cell_type": "markdown",
   "id": "1ca2e2b4-1050-4f43-aed1-0e5d03e6aae8",
   "metadata": {},
   "source": [
    "除了数据本身的问题以外，我们清理数据时，有时候还要针对编程语言或库，做一些其他的处理，包括对数据类型进行转换。\n",
    "\n",
    "比如：把手机号从数字类型转换成字符串类型；把'是'和'否'转换成布尔值True和False，能让我们之后针对这个变量的分析更加方便，包括能更简洁地进行逻辑判断"
   ]
  },
  {
   "cell_type": "code",
   "execution_count": null,
   "id": "359afe8c-3a47-4831-ab89-d104130b8637",
   "metadata": {},
   "outputs": [],
   "source": []
  }
 ],
 "metadata": {
  "kernelspec": {
   "display_name": "Python 3 (ipykernel)",
   "language": "python",
   "name": "python3"
  },
  "language_info": {
   "codemirror_mode": {
    "name": "ipython",
    "version": 3
   },
   "file_extension": ".py",
   "mimetype": "text/x-python",
   "name": "python",
   "nbconvert_exporter": "python",
   "pygments_lexer": "ipython3",
   "version": "3.11.1"
  }
 },
 "nbformat": 4,
 "nbformat_minor": 5
}
