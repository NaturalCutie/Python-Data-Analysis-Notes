{
 "cells": [
  {
   "cell_type": "markdown",
   "id": "fb1985c7-bb60-41c0-913b-d51bce86d8b1",
   "metadata": {},
   "source": [
    "4.31_more_dataset_for_data_analysis"
   ]
  },
  {
   "cell_type": "markdown",
   "id": "5b838f53-b66c-4027-990d-051d3ca2d35d",
   "metadata": {},
   "source": [
    "可以配合更多数据集二次实战，获得更多练习机会\n",
    "\n",
    "1. 课程配套的更多数据集，在'练习数据集'文件夹下面。这些数据集的相关信息，都在'数据集简介.larkdocx'文件里面\n",
    "\n",
    "2. 提供更多数据集的数据社区，在'更多数据集的获取平台.larkdocx'文件里面"
   ]
  },
  {
   "cell_type": "code",
   "execution_count": null,
   "id": "5f6ef059-d4da-480c-8cd4-a5d1498eee98",
   "metadata": {},
   "outputs": [],
   "source": []
  }
 ],
 "metadata": {
  "kernelspec": {
   "display_name": "Python 3 (ipykernel)",
   "language": "python",
   "name": "python3"
  },
  "language_info": {
   "codemirror_mode": {
    "name": "ipython",
    "version": 3
   },
   "file_extension": ".py",
   "mimetype": "text/x-python",
   "name": "python",
   "nbconvert_exporter": "python",
   "pygments_lexer": "ipython3",
   "version": "3.11.1"
  }
 },
 "nbformat": 4,
 "nbformat_minor": 5
}
