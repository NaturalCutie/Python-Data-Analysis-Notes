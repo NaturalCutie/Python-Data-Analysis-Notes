{
 "cells": [
  {
   "cell_type": "markdown",
   "id": "7e42ca3d-3d78-4aa5-a080-e579cea4a33f",
   "metadata": {},
   "source": [
    "# **5.35_shape_data**"
   ]
  },
  {
   "cell_type": "code",
   "execution_count": 1,
   "id": "2dfd8485-7ef6-429f-94c0-9d32f373b3bd",
   "metadata": {},
   "outputs": [],
   "source": [
    "import pandas as pd\n",
    "import numpy as np"
   ]
  },
  {
   "cell_type": "markdown",
   "id": "91d38714-f472-471a-8fba-66b842d6829a",
   "metadata": {},
   "source": [
    "### 一、聚合函数"
   ]
  },
  {
   "cell_type": "markdown",
   "id": "1c6fc1d0-04a8-4eed-abb3-8c700d2e0ddd",
   "metadata": {},
   "source": [
    "定义好的聚合函数包括：\n",
    "\n",
    "1. count()，得到元素的数量\n",
    "\n",
    "2. first()，得到第一个元素\n",
    "\n",
    "3. last()，得到最后一个元素\n",
    "\n",
    "4. mean()，得到所有元素平均值\n",
    "\n",
    "5. median()，得到所有元素中位数\n",
    "\n",
    "6. min()，得到所有元素最小值\n",
    "\n",
    "7. max()，得到所有元素最大值\n",
    "\n",
    "8. std()，得到所有元素的标准差\n",
    "\n",
    "9. var()，得到所有元素的方差\n",
    "\n",
    "10. prod()，得到所有元素的积\n",
    "\n",
    "11. sum()，得到所有元素的和"
   ]
  },
  {
   "cell_type": "markdown",
   "id": "58a6a2a2-be60-41af-963b-bcb41e38df26",
   "metadata": {},
   "source": [
    "### 二、对DataFrame进行分组聚合运算"
   ]
  },
  {
   "cell_type": "markdown",
   "id": "52bbac53-6ce2-472e-9dd3-45a7e8487e86",
   "metadata": {},
   "source": [
    "#### (一)、根据单个变量进行分组聚合运算"
   ]
  },
  {
   "cell_type": "code",
   "execution_count": 3,
   "id": "b122ddc3-b0b3-464e-991a-1443f82534c8",
   "metadata": {},
   "outputs": [
    {
     "data": {
      "text/html": [
       "<div>\n",
       "<style scoped>\n",
       "    .dataframe tbody tr th:only-of-type {\n",
       "        vertical-align: middle;\n",
       "    }\n",
       "\n",
       "    .dataframe tbody tr th {\n",
       "        vertical-align: top;\n",
       "    }\n",
       "\n",
       "    .dataframe thead th {\n",
       "        text-align: right;\n",
       "    }\n",
       "</style>\n",
       "<table border=\"1\" class=\"dataframe\">\n",
       "  <thead>\n",
       "    <tr style=\"text-align: right;\">\n",
       "      <th></th>\n",
       "      <th>分店编号</th>\n",
       "      <th>时间段</th>\n",
       "      <th>商品类别</th>\n",
       "      <th>销售额</th>\n",
       "      <th>销售数量</th>\n",
       "    </tr>\n",
       "  </thead>\n",
       "  <tbody>\n",
       "    <tr>\n",
       "      <th>0</th>\n",
       "      <td>001</td>\n",
       "      <td>2022Q1</td>\n",
       "      <td>生鲜食品</td>\n",
       "      <td>1500</td>\n",
       "      <td>105</td>\n",
       "    </tr>\n",
       "    <tr>\n",
       "      <th>1</th>\n",
       "      <td>002</td>\n",
       "      <td>2022Q1</td>\n",
       "      <td>生鲜食品</td>\n",
       "      <td>2000</td>\n",
       "      <td>84</td>\n",
       "    </tr>\n",
       "    <tr>\n",
       "      <th>2</th>\n",
       "      <td>001</td>\n",
       "      <td>2022Q1</td>\n",
       "      <td>休闲食品</td>\n",
       "      <td>3000</td>\n",
       "      <td>171</td>\n",
       "    </tr>\n",
       "    <tr>\n",
       "      <th>3</th>\n",
       "      <td>002</td>\n",
       "      <td>2022Q1</td>\n",
       "      <td>休闲食品</td>\n",
       "      <td>2500</td>\n",
       "      <td>162</td>\n",
       "    </tr>\n",
       "    <tr>\n",
       "      <th>4</th>\n",
       "      <td>001</td>\n",
       "      <td>2022Q2</td>\n",
       "      <td>生鲜食品</td>\n",
       "      <td>1800</td>\n",
       "      <td>67</td>\n",
       "    </tr>\n",
       "    <tr>\n",
       "      <th>5</th>\n",
       "      <td>002</td>\n",
       "      <td>2022Q2</td>\n",
       "      <td>生鲜食品</td>\n",
       "      <td>2200</td>\n",
       "      <td>150</td>\n",
       "    </tr>\n",
       "    <tr>\n",
       "      <th>6</th>\n",
       "      <td>001</td>\n",
       "      <td>2022Q2</td>\n",
       "      <td>休闲食品</td>\n",
       "      <td>3200</td>\n",
       "      <td>99</td>\n",
       "    </tr>\n",
       "    <tr>\n",
       "      <th>7</th>\n",
       "      <td>002</td>\n",
       "      <td>2022Q2</td>\n",
       "      <td>休闲食品</td>\n",
       "      <td>2700</td>\n",
       "      <td>57</td>\n",
       "    </tr>\n",
       "  </tbody>\n",
       "</table>\n",
       "</div>"
      ],
      "text/plain": [
       "  分店编号     时间段  商品类别   销售额  销售数量\n",
       "0  001  2022Q1  生鲜食品  1500   105\n",
       "1  002  2022Q1  生鲜食品  2000    84\n",
       "2  001  2022Q1  休闲食品  3000   171\n",
       "3  002  2022Q1  休闲食品  2500   162\n",
       "4  001  2022Q2  生鲜食品  1800    67\n",
       "5  002  2022Q2  生鲜食品  2200   150\n",
       "6  001  2022Q2  休闲食品  3200    99\n",
       "7  002  2022Q2  休闲食品  2700    57"
      ]
     },
     "execution_count": 3,
     "metadata": {},
     "output_type": "execute_result"
    }
   ],
   "source": [
    "df = pd.DataFrame({\n",
    "    '分店编号': ['001', '002', '001', '002', '001', '002', '001', '002'],\n",
    "    '时间段': ['2022Q1', '2022Q1', '2022Q1', '2022Q1', '2022Q2', '2022Q2', '2022Q2', '2022Q2'],\n",
    "    '商品类别': ['生鲜食品', '生鲜食品', '休闲食品', '休闲食品', '生鲜食品', '生鲜食品', '休闲食品', '休闲食品'],\n",
    "    '销售额': [1500, 2000, 3000, 2500, 1800, 2200, 3200, 2700],\n",
    "    '销售数量': [105,  84, 171, 162,  67, 150,  99,  57]\n",
    "})\n",
    "df"
   ]
  },
  {
   "cell_type": "markdown",
   "id": "2bec64e4-0b21-44c0-af6c-5e7678a5124a",
   "metadata": {},
   "source": [
    "DataFrame的groupby方法\n",
    "\n",
    "1. 根据变量进行分组，得到一个叫做DataFrameGroupBy的实例\n",
    "\n",
    "    `df.groupby('变量')`\n",
    "\n",
    "2. 底层逻辑\n",
    "\n",
    "    groupby方法，会自动把变量值相同的行分组组合到一起，并返回一个叫做DataFrameGroupBy的实例。\n",
    "\n",
    "   分组组合，可以看成把变量值相同的许多数据组合进，以组为单位的单元格中，这时一个单元格里面有多个数据，并不是有效的表格数据，无法返回DataFrame。\n",
    "\n",
    "   因此，最后需要通过聚合函数，生成有效表格数据。\n",
    "\n",
    "3. 提取变量，对DataFrameGroupBy的实例，提取出要进行聚合运算的单列或多列\n",
    "\n",
    "   1)单列\n",
    "\n",
    "     `df.groupby('变量')['要进行聚合运算的单列']`\n",
    "\n",
    "   2)多列\n",
    "\n",
    "     在方括号里传入一个列表\n",
    "\n",
    "     `df.groupby('变量')[['变量1', '变量2']]`\n",
    "\n",
    "4. 进行聚合运算\n",
    "\n",
    "    `df.groupby('变量')['要进行聚合运算的单列'].聚合函数()`\n",
    "\n",
    "5. 结果\n",
    "\n",
    "   返回的结果的索引，是我们给groupby传入的变量名\n",
    "\n",
    "   返回的结果，是Series还是DataFrame，取决于聚合运算前提取出的变量是单个还是多个"
   ]
  },
  {
   "cell_type": "code",
   "execution_count": 4,
   "id": "69bd2ec2-a661-46d7-bed9-2d6d7bf4cd0c",
   "metadata": {},
   "outputs": [
    {
     "data": {
      "text/plain": [
       "<pandas.core.groupby.generic.DataFrameGroupBy object at 0x000001F57F84C390>"
      ]
     },
     "execution_count": 4,
     "metadata": {},
     "output_type": "execute_result"
    }
   ],
   "source": [
    "df.groupby('分店编号')"
   ]
  },
  {
   "cell_type": "code",
   "execution_count": 8,
   "id": "77851530-bc29-4482-8fb8-30f303ac8ac0",
   "metadata": {},
   "outputs": [
    {
     "data": {
      "text/plain": [
       "<pandas.core.groupby.generic.SeriesGroupBy object at 0x000001F57905BAD0>"
      ]
     },
     "execution_count": 8,
     "metadata": {},
     "output_type": "execute_result"
    }
   ],
   "source": [
    "df.groupby('分店编号')['销售额']"
   ]
  },
  {
   "cell_type": "code",
   "execution_count": 13,
   "id": "b8069545-a0c4-4dae-884c-f0a1520621a2",
   "metadata": {},
   "outputs": [
    {
     "data": {
      "text/plain": [
       "<pandas.core.groupby.generic.DataFrameGroupBy object at 0x000001F51882FC10>"
      ]
     },
     "execution_count": 13,
     "metadata": {},
     "output_type": "execute_result"
    }
   ],
   "source": [
    "df.groupby('分店编号')[['销售额', '销售数量']]"
   ]
  },
  {
   "cell_type": "code",
   "execution_count": 10,
   "id": "5241b517-b23c-4f78-b9d0-4e2c0b9dd45f",
   "metadata": {},
   "outputs": [
    {
     "data": {
      "text/plain": [
       "分店编号\n",
       "001    2375.0\n",
       "002    2350.0\n",
       "Name: 销售额, dtype: float64"
      ]
     },
     "execution_count": 10,
     "metadata": {},
     "output_type": "execute_result"
    }
   ],
   "source": [
    "df.groupby('分店编号')['销售额'].mean()"
   ]
  },
  {
   "cell_type": "code",
   "execution_count": 12,
   "id": "0331635c-7480-4645-815f-1568dc275d84",
   "metadata": {},
   "outputs": [
    {
     "data": {
      "text/html": [
       "<div>\n",
       "<style scoped>\n",
       "    .dataframe tbody tr th:only-of-type {\n",
       "        vertical-align: middle;\n",
       "    }\n",
       "\n",
       "    .dataframe tbody tr th {\n",
       "        vertical-align: top;\n",
       "    }\n",
       "\n",
       "    .dataframe thead th {\n",
       "        text-align: right;\n",
       "    }\n",
       "</style>\n",
       "<table border=\"1\" class=\"dataframe\">\n",
       "  <thead>\n",
       "    <tr style=\"text-align: right;\">\n",
       "      <th></th>\n",
       "      <th>销售额</th>\n",
       "      <th>销售数量</th>\n",
       "    </tr>\n",
       "    <tr>\n",
       "      <th>分店编号</th>\n",
       "      <th></th>\n",
       "      <th></th>\n",
       "    </tr>\n",
       "  </thead>\n",
       "  <tbody>\n",
       "    <tr>\n",
       "      <th>001</th>\n",
       "      <td>2375.0</td>\n",
       "      <td>110.50</td>\n",
       "    </tr>\n",
       "    <tr>\n",
       "      <th>002</th>\n",
       "      <td>2350.0</td>\n",
       "      <td>113.25</td>\n",
       "    </tr>\n",
       "  </tbody>\n",
       "</table>\n",
       "</div>"
      ],
      "text/plain": [
       "         销售额    销售数量\n",
       "分店编号                \n",
       "001   2375.0  110.50\n",
       "002   2350.0  113.25"
      ]
     },
     "execution_count": 12,
     "metadata": {},
     "output_type": "execute_result"
    }
   ],
   "source": [
    "df.groupby('分店编号')[['销售额', '销售数量']].mean()"
   ]
  },
  {
   "cell_type": "markdown",
   "id": "baf3881c-26fa-4877-8490-5a13065962f0",
   "metadata": {},
   "source": [
    "#### (二)、根据多个变量进行分组聚合运算"
   ]
  },
  {
   "cell_type": "markdown",
   "id": "259323d1-a7e3-49a4-abf2-a575ce6e64ce",
   "metadata": {},
   "source": [
    "给groupby方法传入一个列表，里面放上多个变量"
   ]
  },
  {
   "cell_type": "code",
   "execution_count": 15,
   "id": "1cdc3254-57a9-4d6c-ad52-6ee6e2215709",
   "metadata": {},
   "outputs": [
    {
     "data": {
      "text/html": [
       "<div>\n",
       "<style scoped>\n",
       "    .dataframe tbody tr th:only-of-type {\n",
       "        vertical-align: middle;\n",
       "    }\n",
       "\n",
       "    .dataframe tbody tr th {\n",
       "        vertical-align: top;\n",
       "    }\n",
       "\n",
       "    .dataframe thead th {\n",
       "        text-align: right;\n",
       "    }\n",
       "</style>\n",
       "<table border=\"1\" class=\"dataframe\">\n",
       "  <thead>\n",
       "    <tr style=\"text-align: right;\">\n",
       "      <th></th>\n",
       "      <th></th>\n",
       "      <th>销售额</th>\n",
       "      <th>销售数量</th>\n",
       "    </tr>\n",
       "    <tr>\n",
       "      <th>分店编号</th>\n",
       "      <th>时间段</th>\n",
       "      <th></th>\n",
       "      <th></th>\n",
       "    </tr>\n",
       "  </thead>\n",
       "  <tbody>\n",
       "    <tr>\n",
       "      <th rowspan=\"2\" valign=\"top\">001</th>\n",
       "      <th>2022Q1</th>\n",
       "      <td>2250.0</td>\n",
       "      <td>138.0</td>\n",
       "    </tr>\n",
       "    <tr>\n",
       "      <th>2022Q2</th>\n",
       "      <td>2500.0</td>\n",
       "      <td>83.0</td>\n",
       "    </tr>\n",
       "    <tr>\n",
       "      <th rowspan=\"2\" valign=\"top\">002</th>\n",
       "      <th>2022Q1</th>\n",
       "      <td>2250.0</td>\n",
       "      <td>123.0</td>\n",
       "    </tr>\n",
       "    <tr>\n",
       "      <th>2022Q2</th>\n",
       "      <td>2450.0</td>\n",
       "      <td>103.5</td>\n",
       "    </tr>\n",
       "  </tbody>\n",
       "</table>\n",
       "</div>"
      ],
      "text/plain": [
       "                销售额   销售数量\n",
       "分店编号 时间段                  \n",
       "001  2022Q1  2250.0  138.0\n",
       "     2022Q2  2500.0   83.0\n",
       "002  2022Q1  2250.0  123.0\n",
       "     2022Q2  2450.0  103.5"
      ]
     },
     "execution_count": 15,
     "metadata": {},
     "output_type": "execute_result"
    }
   ],
   "source": [
    "df.groupby(['分店编号', '时间段'])[['销售额', '销售数量']].mean()"
   ]
  },
  {
   "cell_type": "markdown",
   "id": "6a26c77f-34d0-4ca1-b803-f168e497aec0",
   "metadata": {},
   "source": [
    "#### (三)、自定义聚合函数"
   ]
  },
  {
   "cell_type": "markdown",
   "id": "c7b38f6a-1cde-40fa-ae39-ef6da48e9284",
   "metadata": {},
   "source": [
    "自定义聚合函数的要求是，它能把Series里一堆数字汇总成一个数字"
   ]
  },
  {
   "cell_type": "code",
   "execution_count": 16,
   "id": "3ff05f85-90fa-4c8c-a76b-70a6e8d85f34",
   "metadata": {},
   "outputs": [],
   "source": [
    "def max_plus_10(nums):\n",
    "    return nums.max() + 10"
   ]
  },
  {
   "cell_type": "markdown",
   "id": "a3f2c1b1-3a01-4ab8-81f7-a8cdd016a5d8",
   "metadata": {},
   "source": [
    "可以用apply方法，参数传入自定义聚合函数的函数名，详见2.17-二、"
   ]
  },
  {
   "cell_type": "code",
   "execution_count": 17,
   "id": "7d223c44-72d9-44a9-9bf4-c6490002b8d2",
   "metadata": {},
   "outputs": [
    {
     "data": {
      "text/html": [
       "<div>\n",
       "<style scoped>\n",
       "    .dataframe tbody tr th:only-of-type {\n",
       "        vertical-align: middle;\n",
       "    }\n",
       "\n",
       "    .dataframe tbody tr th {\n",
       "        vertical-align: top;\n",
       "    }\n",
       "\n",
       "    .dataframe thead th {\n",
       "        text-align: right;\n",
       "    }\n",
       "</style>\n",
       "<table border=\"1\" class=\"dataframe\">\n",
       "  <thead>\n",
       "    <tr style=\"text-align: right;\">\n",
       "      <th></th>\n",
       "      <th></th>\n",
       "      <th>销售额</th>\n",
       "      <th>销售数量</th>\n",
       "    </tr>\n",
       "    <tr>\n",
       "      <th>分店编号</th>\n",
       "      <th>时间段</th>\n",
       "      <th></th>\n",
       "      <th></th>\n",
       "    </tr>\n",
       "  </thead>\n",
       "  <tbody>\n",
       "    <tr>\n",
       "      <th rowspan=\"2\" valign=\"top\">001</th>\n",
       "      <th>2022Q1</th>\n",
       "      <td>3010</td>\n",
       "      <td>181</td>\n",
       "    </tr>\n",
       "    <tr>\n",
       "      <th>2022Q2</th>\n",
       "      <td>3210</td>\n",
       "      <td>109</td>\n",
       "    </tr>\n",
       "    <tr>\n",
       "      <th rowspan=\"2\" valign=\"top\">002</th>\n",
       "      <th>2022Q1</th>\n",
       "      <td>2510</td>\n",
       "      <td>172</td>\n",
       "    </tr>\n",
       "    <tr>\n",
       "      <th>2022Q2</th>\n",
       "      <td>2710</td>\n",
       "      <td>160</td>\n",
       "    </tr>\n",
       "  </tbody>\n",
       "</table>\n",
       "</div>"
      ],
      "text/plain": [
       "              销售额  销售数量\n",
       "分店编号 时间段               \n",
       "001  2022Q1  3010   181\n",
       "     2022Q2  3210   109\n",
       "002  2022Q1  2510   172\n",
       "     2022Q2  2710   160"
      ]
     },
     "execution_count": 17,
     "metadata": {},
     "output_type": "execute_result"
    }
   ],
   "source": [
    "df.groupby(['分店编号', '时间段'])[['销售额', '销售数量']].apply(max_plus_10)"
   ]
  },
  {
   "cell_type": "markdown",
   "id": "112e14dc-6bdf-410e-ba2b-ac2e898029b4",
   "metadata": {},
   "source": [
    "### 三、透视表"
   ]
  },
  {
   "cell_type": "markdown",
   "id": "22d49f94-d7db-4d1b-87af-7728d3f03cb5",
   "metadata": {},
   "source": [
    "Pandas的pivot_table函数\n",
    "\n",
    "1. 功能\n",
    "\n",
    "   基于原始数据对表进行重塑，让表变得更加直观，方便我们阅读和理解\n",
    "\n",
    "2. 语法\n",
    "  \n",
    "    `pd.pivot_table(DataFrame, index=['列名1', '列名2'], columns='列名3', values='列名4', aggfunc='函数名')`\n",
    "\n",
    "   把包含数据的DataFrame和想设定的索引、列、值以及聚合函数的函数名，都作为参数，传入pivot_table函数\n",
    "\n",
    "   需要两层索引，可以给`index`传入一个列表\n",
    "\n",
    "   **由于重塑得到的表格，每个单元格，相当于包含经索引和列分组后的数据，大多数情况下不是一个数据，所以需要聚合函数**\n",
    "\n",
    "   **不指定`aggfunc`时，默认是NumPy的`mean`函数**"
   ]
  },
  {
   "cell_type": "code",
   "execution_count": 18,
   "id": "a671636e-3386-46db-9014-db7b54a5ea8f",
   "metadata": {},
   "outputs": [
    {
     "data": {
      "text/html": [
       "<div>\n",
       "<style scoped>\n",
       "    .dataframe tbody tr th:only-of-type {\n",
       "        vertical-align: middle;\n",
       "    }\n",
       "\n",
       "    .dataframe tbody tr th {\n",
       "        vertical-align: top;\n",
       "    }\n",
       "\n",
       "    .dataframe thead th {\n",
       "        text-align: right;\n",
       "    }\n",
       "</style>\n",
       "<table border=\"1\" class=\"dataframe\">\n",
       "  <thead>\n",
       "    <tr style=\"text-align: right;\">\n",
       "      <th></th>\n",
       "      <th>分店编号</th>\n",
       "      <th>时间段</th>\n",
       "      <th>商品类别</th>\n",
       "      <th>销售额</th>\n",
       "      <th>销售数量</th>\n",
       "    </tr>\n",
       "  </thead>\n",
       "  <tbody>\n",
       "    <tr>\n",
       "      <th>0</th>\n",
       "      <td>001</td>\n",
       "      <td>2022Q1</td>\n",
       "      <td>生鲜食品</td>\n",
       "      <td>1500</td>\n",
       "      <td>105</td>\n",
       "    </tr>\n",
       "    <tr>\n",
       "      <th>1</th>\n",
       "      <td>002</td>\n",
       "      <td>2022Q1</td>\n",
       "      <td>生鲜食品</td>\n",
       "      <td>2000</td>\n",
       "      <td>84</td>\n",
       "    </tr>\n",
       "    <tr>\n",
       "      <th>2</th>\n",
       "      <td>001</td>\n",
       "      <td>2022Q1</td>\n",
       "      <td>休闲食品</td>\n",
       "      <td>3000</td>\n",
       "      <td>171</td>\n",
       "    </tr>\n",
       "    <tr>\n",
       "      <th>3</th>\n",
       "      <td>002</td>\n",
       "      <td>2022Q1</td>\n",
       "      <td>休闲食品</td>\n",
       "      <td>2500</td>\n",
       "      <td>162</td>\n",
       "    </tr>\n",
       "    <tr>\n",
       "      <th>4</th>\n",
       "      <td>001</td>\n",
       "      <td>2022Q2</td>\n",
       "      <td>生鲜食品</td>\n",
       "      <td>1800</td>\n",
       "      <td>67</td>\n",
       "    </tr>\n",
       "    <tr>\n",
       "      <th>5</th>\n",
       "      <td>002</td>\n",
       "      <td>2022Q2</td>\n",
       "      <td>生鲜食品</td>\n",
       "      <td>2200</td>\n",
       "      <td>150</td>\n",
       "    </tr>\n",
       "    <tr>\n",
       "      <th>6</th>\n",
       "      <td>001</td>\n",
       "      <td>2022Q2</td>\n",
       "      <td>休闲食品</td>\n",
       "      <td>3200</td>\n",
       "      <td>99</td>\n",
       "    </tr>\n",
       "    <tr>\n",
       "      <th>7</th>\n",
       "      <td>002</td>\n",
       "      <td>2022Q2</td>\n",
       "      <td>休闲食品</td>\n",
       "      <td>2700</td>\n",
       "      <td>57</td>\n",
       "    </tr>\n",
       "  </tbody>\n",
       "</table>\n",
       "</div>"
      ],
      "text/plain": [
       "  分店编号     时间段  商品类别   销售额  销售数量\n",
       "0  001  2022Q1  生鲜食品  1500   105\n",
       "1  002  2022Q1  生鲜食品  2000    84\n",
       "2  001  2022Q1  休闲食品  3000   171\n",
       "3  002  2022Q1  休闲食品  2500   162\n",
       "4  001  2022Q2  生鲜食品  1800    67\n",
       "5  002  2022Q2  生鲜食品  2200   150\n",
       "6  001  2022Q2  休闲食品  3200    99\n",
       "7  002  2022Q2  休闲食品  2700    57"
      ]
     },
     "execution_count": 18,
     "metadata": {},
     "output_type": "execute_result"
    }
   ],
   "source": [
    "df"
   ]
  },
  {
   "cell_type": "code",
   "execution_count": 29,
   "id": "172b36c1-6785-44b9-9e96-8713c94df587",
   "metadata": {
    "scrolled": true
   },
   "outputs": [
    {
     "data": {
      "text/html": [
       "<div>\n",
       "<style scoped>\n",
       "    .dataframe tbody tr th:only-of-type {\n",
       "        vertical-align: middle;\n",
       "    }\n",
       "\n",
       "    .dataframe tbody tr th {\n",
       "        vertical-align: top;\n",
       "    }\n",
       "\n",
       "    .dataframe thead th {\n",
       "        text-align: right;\n",
       "    }\n",
       "</style>\n",
       "<table border=\"1\" class=\"dataframe\">\n",
       "  <thead>\n",
       "    <tr style=\"text-align: right;\">\n",
       "      <th></th>\n",
       "      <th>商品类别</th>\n",
       "      <th>休闲食品</th>\n",
       "      <th>生鲜食品</th>\n",
       "    </tr>\n",
       "    <tr>\n",
       "      <th>分店编号</th>\n",
       "      <th>时间段</th>\n",
       "      <th></th>\n",
       "      <th></th>\n",
       "    </tr>\n",
       "  </thead>\n",
       "  <tbody>\n",
       "    <tr>\n",
       "      <th rowspan=\"2\" valign=\"top\">001</th>\n",
       "      <th>2022Q1</th>\n",
       "      <td>3000</td>\n",
       "      <td>1500</td>\n",
       "    </tr>\n",
       "    <tr>\n",
       "      <th>2022Q2</th>\n",
       "      <td>3200</td>\n",
       "      <td>1800</td>\n",
       "    </tr>\n",
       "    <tr>\n",
       "      <th rowspan=\"2\" valign=\"top\">002</th>\n",
       "      <th>2022Q1</th>\n",
       "      <td>2500</td>\n",
       "      <td>2000</td>\n",
       "    </tr>\n",
       "    <tr>\n",
       "      <th>2022Q2</th>\n",
       "      <td>2700</td>\n",
       "      <td>2200</td>\n",
       "    </tr>\n",
       "  </tbody>\n",
       "</table>\n",
       "</div>"
      ],
      "text/plain": [
       "商品类别         休闲食品  生鲜食品\n",
       "分店编号 时间段               \n",
       "001  2022Q1  3000  1500\n",
       "     2022Q2  3200  1800\n",
       "002  2022Q1  2500  2000\n",
       "     2022Q2  2700  2200"
      ]
     },
     "execution_count": 29,
     "metadata": {},
     "output_type": "execute_result"
    }
   ],
   "source": [
    "# 把df的分店编号和时间段作为索引，商品类别作为列，计算销售额的总和\n",
    "pd.pivot_table(df, index=['分店编号', '时间段'], columns='商品类别', values='销售额', aggfunc=np.sum)"
   ]
  },
  {
   "cell_type": "markdown",
   "id": "f792a603-0224-4b5e-8706-6181dc40a987",
   "metadata": {},
   "source": [
    "**由于Series底层实现就是NumPy的数组，所以针对数组的函数也可以用在Pandas的Series上**"
   ]
  },
  {
   "cell_type": "code",
   "execution_count": 30,
   "id": "f78493ca-6311-4d5a-a48d-0e9d02b45565",
   "metadata": {},
   "outputs": [
    {
     "data": {
      "text/html": [
       "<div>\n",
       "<style scoped>\n",
       "    .dataframe tbody tr th:only-of-type {\n",
       "        vertical-align: middle;\n",
       "    }\n",
       "\n",
       "    .dataframe tbody tr th {\n",
       "        vertical-align: top;\n",
       "    }\n",
       "\n",
       "    .dataframe thead th {\n",
       "        text-align: right;\n",
       "    }\n",
       "</style>\n",
       "<table border=\"1\" class=\"dataframe\">\n",
       "  <thead>\n",
       "    <tr style=\"text-align: right;\">\n",
       "      <th></th>\n",
       "      <th>商品类别</th>\n",
       "      <th>休闲食品</th>\n",
       "      <th>生鲜食品</th>\n",
       "    </tr>\n",
       "    <tr>\n",
       "      <th>分店编号</th>\n",
       "      <th>时间段</th>\n",
       "      <th></th>\n",
       "      <th></th>\n",
       "    </tr>\n",
       "  </thead>\n",
       "  <tbody>\n",
       "    <tr>\n",
       "      <th rowspan=\"2\" valign=\"top\">001</th>\n",
       "      <th>2022Q1</th>\n",
       "      <td>3000</td>\n",
       "      <td>1500</td>\n",
       "    </tr>\n",
       "    <tr>\n",
       "      <th>2022Q2</th>\n",
       "      <td>3200</td>\n",
       "      <td>1800</td>\n",
       "    </tr>\n",
       "    <tr>\n",
       "      <th rowspan=\"2\" valign=\"top\">002</th>\n",
       "      <th>2022Q1</th>\n",
       "      <td>2500</td>\n",
       "      <td>2000</td>\n",
       "    </tr>\n",
       "    <tr>\n",
       "      <th>2022Q2</th>\n",
       "      <td>2700</td>\n",
       "      <td>2200</td>\n",
       "    </tr>\n",
       "  </tbody>\n",
       "</table>\n",
       "</div>"
      ],
      "text/plain": [
       "商品类别         休闲食品  生鲜食品\n",
       "分店编号 时间段               \n",
       "001  2022Q1  3000  1500\n",
       "     2022Q2  3200  1800\n",
       "002  2022Q1  2500  2000\n",
       "     2022Q2  2700  2200"
      ]
     },
     "execution_count": 30,
     "metadata": {},
     "output_type": "execute_result"
    }
   ],
   "source": [
    "pd.pivot_table(df, index=['分店编号', '时间段'], columns='商品类别', values='销售额', aggfunc=sum)"
   ]
  },
  {
   "cell_type": "markdown",
   "id": "8d2ff174-d98b-4179-bb13-ab1fd105b9bf",
   "metadata": {},
   "source": [
    "**因为sum是Python内置函数，所以也不一定调用NumPy数据库**"
   ]
  },
  {
   "cell_type": "code",
   "execution_count": 25,
   "id": "78b4f0ce-8589-4de4-97fd-0409726808b3",
   "metadata": {},
   "outputs": [
    {
     "data": {
      "text/html": [
       "<div>\n",
       "<style scoped>\n",
       "    .dataframe tbody tr th:only-of-type {\n",
       "        vertical-align: middle;\n",
       "    }\n",
       "\n",
       "    .dataframe tbody tr th {\n",
       "        vertical-align: top;\n",
       "    }\n",
       "\n",
       "    .dataframe thead th {\n",
       "        text-align: right;\n",
       "    }\n",
       "</style>\n",
       "<table border=\"1\" class=\"dataframe\">\n",
       "  <thead>\n",
       "    <tr style=\"text-align: right;\">\n",
       "      <th></th>\n",
       "      <th>商品类别</th>\n",
       "      <th>休闲食品</th>\n",
       "      <th>生鲜食品</th>\n",
       "    </tr>\n",
       "    <tr>\n",
       "      <th>分店编号</th>\n",
       "      <th>时间段</th>\n",
       "      <th></th>\n",
       "      <th></th>\n",
       "    </tr>\n",
       "  </thead>\n",
       "  <tbody>\n",
       "    <tr>\n",
       "      <th rowspan=\"2\" valign=\"top\">001</th>\n",
       "      <th>2022Q1</th>\n",
       "      <td>3000</td>\n",
       "      <td>1500</td>\n",
       "    </tr>\n",
       "    <tr>\n",
       "      <th>2022Q2</th>\n",
       "      <td>3200</td>\n",
       "      <td>1800</td>\n",
       "    </tr>\n",
       "    <tr>\n",
       "      <th rowspan=\"2\" valign=\"top\">002</th>\n",
       "      <th>2022Q1</th>\n",
       "      <td>2500</td>\n",
       "      <td>2000</td>\n",
       "    </tr>\n",
       "    <tr>\n",
       "      <th>2022Q2</th>\n",
       "      <td>2700</td>\n",
       "      <td>2200</td>\n",
       "    </tr>\n",
       "  </tbody>\n",
       "</table>\n",
       "</div>"
      ],
      "text/plain": [
       "商品类别         休闲食品  生鲜食品\n",
       "分店编号 时间段               \n",
       "001  2022Q1  3000  1500\n",
       "     2022Q2  3200  1800\n",
       "002  2022Q1  2500  2000\n",
       "     2022Q2  2700  2200"
      ]
     },
     "execution_count": 25,
     "metadata": {},
     "output_type": "execute_result"
    }
   ],
   "source": [
    "# 把df的分店编号和时间段作为索引，商品类别作为列，计算销售额的平均值\n",
    "# 由于这里重塑的表格每个单元格只包含原来DataFrame的一个单元格的数据，所以求和和求平均的结果一致\n",
    "pd.pivot_table(df, index=['分店编号', '时间段'], columns='商品类别', values='销售额')"
   ]
  },
  {
   "cell_type": "code",
   "execution_count": 26,
   "id": "18e7c0c7-fa4d-4128-acb3-6d142bce1343",
   "metadata": {},
   "outputs": [
    {
     "data": {
      "text/html": [
       "<div>\n",
       "<style scoped>\n",
       "    .dataframe tbody tr th:only-of-type {\n",
       "        vertical-align: middle;\n",
       "    }\n",
       "\n",
       "    .dataframe tbody tr th {\n",
       "        vertical-align: top;\n",
       "    }\n",
       "\n",
       "    .dataframe thead th {\n",
       "        text-align: right;\n",
       "    }\n",
       "</style>\n",
       "<table border=\"1\" class=\"dataframe\">\n",
       "  <thead>\n",
       "    <tr style=\"text-align: right;\">\n",
       "      <th>分店编号</th>\n",
       "      <th>001</th>\n",
       "      <th>002</th>\n",
       "    </tr>\n",
       "    <tr>\n",
       "      <th>商品类别</th>\n",
       "      <th></th>\n",
       "      <th></th>\n",
       "    </tr>\n",
       "  </thead>\n",
       "  <tbody>\n",
       "    <tr>\n",
       "      <th>休闲食品</th>\n",
       "      <td>3100</td>\n",
       "      <td>2600</td>\n",
       "    </tr>\n",
       "    <tr>\n",
       "      <th>生鲜食品</th>\n",
       "      <td>1650</td>\n",
       "      <td>2100</td>\n",
       "    </tr>\n",
       "  </tbody>\n",
       "</table>\n",
       "</div>"
      ],
      "text/plain": [
       "分店编号   001   002\n",
       "商品类别            \n",
       "休闲食品  3100  2600\n",
       "生鲜食品  1650  2100"
      ]
     },
     "execution_count": 26,
     "metadata": {},
     "output_type": "execute_result"
    }
   ],
   "source": [
    "# 把df的商品类别作为索引，分店编号作为列，计算销售额的平均值\n",
    "pd.pivot_table(df, index='商品类别', columns='分店编号', values='销售额')"
   ]
  },
  {
   "cell_type": "code",
   "execution_count": 27,
   "id": "28b4f5e6-4764-4f4d-98ed-b20009337985",
   "metadata": {},
   "outputs": [
    {
     "data": {
      "text/html": [
       "<div>\n",
       "<style scoped>\n",
       "    .dataframe tbody tr th:only-of-type {\n",
       "        vertical-align: middle;\n",
       "    }\n",
       "\n",
       "    .dataframe tbody tr th {\n",
       "        vertical-align: top;\n",
       "    }\n",
       "\n",
       "    .dataframe thead th {\n",
       "        text-align: right;\n",
       "    }\n",
       "</style>\n",
       "<table border=\"1\" class=\"dataframe\">\n",
       "  <thead>\n",
       "    <tr style=\"text-align: right;\">\n",
       "      <th>分店编号</th>\n",
       "      <th>001</th>\n",
       "      <th>002</th>\n",
       "    </tr>\n",
       "    <tr>\n",
       "      <th>商品类别</th>\n",
       "      <th></th>\n",
       "      <th></th>\n",
       "    </tr>\n",
       "  </thead>\n",
       "  <tbody>\n",
       "    <tr>\n",
       "      <th>休闲食品</th>\n",
       "      <td>6200</td>\n",
       "      <td>5200</td>\n",
       "    </tr>\n",
       "    <tr>\n",
       "      <th>生鲜食品</th>\n",
       "      <td>3300</td>\n",
       "      <td>4200</td>\n",
       "    </tr>\n",
       "  </tbody>\n",
       "</table>\n",
       "</div>"
      ],
      "text/plain": [
       "分店编号   001   002\n",
       "商品类别            \n",
       "休闲食品  6200  5200\n",
       "生鲜食品  3300  4200"
      ]
     },
     "execution_count": 27,
     "metadata": {},
     "output_type": "execute_result"
    }
   ],
   "source": [
    "# 把df的商品类别作为索引，分店编号作为列，计算销售额的总和\n",
    "pd.pivot_table(df, index='商品类别', columns='分店编号', values='销售额', aggfunc=np.sum)"
   ]
  },
  {
   "cell_type": "markdown",
   "id": "a09c11d9-feb3-4bcb-b411-0cb20af99056",
   "metadata": {},
   "source": [
    "1. **groupby方法和pivot_table函数的相同之处：**\n",
    "\n",
    "   **都可以进行分组聚合运算**\n",
    "\n",
    "2. **groupby方法和pivot_table函数的不同之处：**\n",
    "\n",
    "    **pivot_table函数可以把变量作为索引分组，也可以把变量作为列进行分组；groupby方法把数据分组后，用于分组的变量只能作为索引**\n",
    "\n",
    "   **当主要目的是分组聚合运算时，groupby方法会更加常用，因为根据什么分组，提取什么变量，做什么聚合操作，这个逻辑更加直接**"
   ]
  },
  {
   "cell_type": "markdown",
   "id": "abb34488-bb5e-4c43-96eb-57f5931684ea",
   "metadata": {},
   "source": [
    "分组聚合操作是数据分析中的重要方法。\n",
    "\n",
    "针对某个数据集，假如想把地区作为切入点，看地区之间是否有差异，就可以对数据用地区变量进行分组，进行聚合分析"
   ]
  },
  {
   "cell_type": "code",
   "execution_count": null,
   "id": "80dee920-c10f-46f3-88cf-5ccddb2b3c55",
   "metadata": {},
   "outputs": [],
   "source": []
  }
 ],
 "metadata": {
  "kernelspec": {
   "display_name": "Python 3 (ipykernel)",
   "language": "python",
   "name": "python3"
  },
  "language_info": {
   "codemirror_mode": {
    "name": "ipython",
    "version": 3
   },
   "file_extension": ".py",
   "mimetype": "text/x-python",
   "name": "python",
   "nbconvert_exporter": "python",
   "pygments_lexer": "ipython3",
   "version": "3.11.1"
  }
 },
 "nbformat": 4,
 "nbformat_minor": 5
}
