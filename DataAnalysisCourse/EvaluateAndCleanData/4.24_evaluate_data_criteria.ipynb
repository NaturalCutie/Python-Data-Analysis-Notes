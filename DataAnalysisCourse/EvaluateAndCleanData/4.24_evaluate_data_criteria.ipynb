{
 "cells": [
  {
   "cell_type": "markdown",
   "id": "aa04a785-c042-41ca-bcdb-41818e22f59f",
   "metadata": {},
   "source": [
    "# **4.24_evaluate_data_criteria**"
   ]
  },
  {
   "cell_type": "markdown",
   "id": "253b81e8-5cd3-40e8-974c-91b917949044",
   "metadata": {},
   "source": [
    "评估数据时，我们主要看两方面：结构和内容"
   ]
  },
  {
   "cell_type": "markdown",
   "id": "dc9fe348-157e-4bc2-8425-692d3b2ab5f9",
   "metadata": {},
   "source": [
    "### 一、结构"
   ]
  },
  {
   "cell_type": "markdown",
   "id": "194a3554-7981-40fe-b464-b0de38a77b77",
   "metadata": {},
   "source": [
    "1. 结构方面需要清理的数据叫做乱数据；\n",
    "   \n",
    "   结构方面不需要清理的数据叫做整洁数据。\n",
    "\n",
    "2. 整洁数据，根据埃德加科德的第三范式，包括以下三个特点：\n",
    "\n",
    "   1)每列是一个变量\n",
    "\n",
    "   2)每行是一个观察值\n",
    "\n",
    "   3)每个单元格是一个值\n",
    "\n",
    "   任何不符合以上三个特点的数据都是乱数据。\n",
    "\n",
    "   不整洁的数据存在多种多样的例子：比如存在合并单元格的表格或者每列存在多个变量。\n",
    "\n",
    "   很多方便人类理解的数据，并不是整洁数据；而整洁数据有时不太直观。因为整洁数据并不是方便人类理解，而是让代码更加高效处理和达成分析目的的"
   ]
  },
  {
   "cell_type": "markdown",
   "id": "16f005da-dc74-4e92-8584-126b510cc5a9",
   "metadata": {},
   "source": [
    "### 二、内容"
   ]
  },
  {
   "cell_type": "markdown",
   "id": "389bc017-9f20-45de-b82e-e8debfb88c81",
   "metadata": {},
   "source": [
    "#### (一)、概念"
   ]
  },
  {
   "cell_type": "markdown",
   "id": "3194d0a7-a375-4968-b688-8de05f1570dd",
   "metadata": {},
   "source": [
    "内容方面需要清理的数据叫脏数据\n",
    "\n",
    "内容方面不需要清理的数据叫干净数据。"
   ]
  },
  {
   "cell_type": "markdown",
   "id": "98310fee-8b5b-47c0-b291-42f7658a608d",
   "metadata": {},
   "source": [
    "#### (二)、脏数据可能存在问题"
   ]
  },
  {
   "cell_type": "markdown",
   "id": "e6c744fb-8392-442a-9f63-36f485a7ee8a",
   "metadata": {},
   "source": [
    "1. 丢失数据\n",
    "\n",
    "   有些值为空缺。\n",
    "\n",
    "   空缺值的影响大小取决于具体情况，有些时候允许某些列的数据不全。\n",
    "\n",
    "   但我们仍然要进行评估，否则可能导致错误的分析，比如:如果我们没有考虑到有同学缺考，存在成绩缺失，直接用总分数除以总人头数求平均，就会导致计算结果被缺失值拉低。\n",
    "\n",
    "2. 重复数据\n",
    "\n",
    "   即数据中有些观察值重复出现。\n",
    "\n",
    "   有些值的重复不是问题，比如说班级里学生的性别。\n",
    "\n",
    "   但假如数据中作为唯一表示符的属性存在重复，或者数据中存在有数据实例所有属性值均相同的情况，就是有问题\n",
    "\n",
    "3. 不一致数据\n",
    "\n",
    "   即不同数据值实际含义相同，或不同数据值实际指代统一目标\n",
    "\n",
    "   比如：数字单位不一致、全称和简写混用、中文数字和阿拉伯数字混用等等\n",
    "\n",
    "4. 无效或错误数据\n",
    "\n",
    "   脱离现实规则的数据都是无效数据，比如：负数的身高\n",
    "\n",
    "   虽然符合规则但并不准确的数据是错误数据，比如：一个成年人的体重是3公斤"
   ]
  },
  {
   "cell_type": "code",
   "execution_count": null,
   "id": "f5091953-4ddf-40db-8ff6-6e3d62770ae3",
   "metadata": {},
   "outputs": [],
   "source": []
  }
 ],
 "metadata": {
  "kernelspec": {
   "display_name": "Python 3 (ipykernel)",
   "language": "python",
   "name": "python3"
  },
  "language_info": {
   "codemirror_mode": {
    "name": "ipython",
    "version": 3
   },
   "file_extension": ".py",
   "mimetype": "text/x-python",
   "name": "python",
   "nbconvert_exporter": "python",
   "pygments_lexer": "ipython3",
   "version": "3.11.1"
  }
 },
 "nbformat": 4,
 "nbformat_minor": 5
}
