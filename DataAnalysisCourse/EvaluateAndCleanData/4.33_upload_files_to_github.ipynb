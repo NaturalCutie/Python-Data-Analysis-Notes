{
 "cells": [
  {
   "cell_type": "markdown",
   "id": "bdee74ea-74a6-4255-9949-77287ea18275",
   "metadata": {},
   "source": [
    "4.33_upload_files_to_github"
   ]
  },
  {
   "cell_type": "markdown",
   "id": "4edcbebf-9c90-40ea-9c54-3523c4d9581d",
   "metadata": {},
   "source": [
    "Notebook文件格式不方便直接分享\n",
    "\n",
    "用文本编辑器打开，文本内容并不直观，也不可读。\n",
    "\n",
    "notebook文件需要用Jupyter Notebook或代码编辑器打开；或者把notebook上传到GitHub，然后分享项目链接，因为GitHub能直接渲染Notebook的内容并进行展示。"
   ]
  },
  {
   "cell_type": "markdown",
   "id": "072c6ce4-2596-4484-9e80-ab7e3d8232e2",
   "metadata": {},
   "source": [
    "### GitHub"
   ]
  },
  {
   "cell_type": "markdown",
   "id": "c03f70fe-73b8-4b0d-a451-c68cc9d754c5",
   "metadata": {},
   "source": [
    "GitHub是世界上最大的代码托管网站，和开源社区。可以在上面管理代码和追踪代码历史记录，也可以在上面搜索和查看无数其它开发者的项目代码"
   ]
  },
  {
   "cell_type": "markdown",
   "id": "40b46fba-2321-4393-95d7-f0a76113f9bc",
   "metadata": {},
   "source": [
    "#### (一)、创建代码仓库"
   ]
  },
  {
   "cell_type": "markdown",
   "id": "f0a4eedd-645a-47a5-bf8c-19be80cfc421",
   "metadata": {},
   "source": [
    "1. license\n",
    "\n",
    "   也就是软件许可证，是用来规定和限制用户，使用这个仓库里面的代码的权利的。\n",
    "\n",
    "   不同许可证的含义：https://choosealicense.com/"
   ]
  },
  {
   "cell_type": "markdown",
   "id": "c0beb078-f856-48be-bf81-358d6b266333",
   "metadata": {},
   "source": [
    "#### (二)、Git"
   ]
  },
  {
   "cell_type": "markdown",
   "id": "b42072d0-9ae3-4ecd-b259-3b2197511279",
   "metadata": {},
   "source": [
    "1. Git是GitHub背后的版本控制系统，git可以记录项目每次做了什么改动，是由谁改动的，也可以随时切换到之前某个版本的状态\n",
    "\n",
    "2. 学习Git命令：https://www.runoob.com/git/git-tutorial.html"
   ]
  },
  {
   "cell_type": "code",
   "execution_count": null,
   "id": "0ebe3915-4424-433b-8d10-38c4819d7864",
   "metadata": {},
   "outputs": [],
   "source": []
  }
 ],
 "metadata": {
  "kernelspec": {
   "display_name": "Python 3 (ipykernel)",
   "language": "python",
   "name": "python3"
  },
  "language_info": {
   "codemirror_mode": {
    "name": "ipython",
    "version": 3
   },
   "file_extension": ".py",
   "mimetype": "text/x-python",
   "name": "python",
   "nbconvert_exporter": "python",
   "pygments_lexer": "ipython3",
   "version": "3.11.1"
  }
 },
 "nbformat": 4,
 "nbformat_minor": 5
}
