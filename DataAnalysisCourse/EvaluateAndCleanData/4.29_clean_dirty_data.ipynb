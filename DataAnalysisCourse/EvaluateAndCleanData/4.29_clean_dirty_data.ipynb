{
 "cells": [
  {
   "cell_type": "markdown",
   "id": "9e86596f-44f4-4b36-81de-ad92b3ba678b",
   "metadata": {},
   "source": [
    "# **4.29_clean_dirty_data**"
   ]
  },
  {
   "cell_type": "code",
   "execution_count": 1,
   "id": "340fa6e1-9004-4479-83d6-83bb4ae83be8",
   "metadata": {},
   "outputs": [],
   "source": [
    "import pandas as pd\n",
    "import numpy as np"
   ]
  },
  {
   "cell_type": "markdown",
   "id": "0994c123-4489-4649-9455-f2798860c4e3",
   "metadata": {},
   "source": [
    "### 一、处理缺失数据"
   ]
  },
  {
   "cell_type": "markdown",
   "id": "14a4a39a-5523-427e-8944-f51407642290",
   "metadata": {},
   "source": [
    "#### (一)、对整列缺失值进行填充 "
   ]
  },
  {
   "cell_type": "code",
   "execution_count": 3,
   "id": "a08e9daa-03ae-4532-adce-b484ff447cec",
   "metadata": {},
   "outputs": [
    {
     "data": {
      "text/html": [
       "<div>\n",
       "<style scoped>\n",
       "    .dataframe tbody tr th:only-of-type {\n",
       "        vertical-align: middle;\n",
       "    }\n",
       "\n",
       "    .dataframe tbody tr th {\n",
       "        vertical-align: top;\n",
       "    }\n",
       "\n",
       "    .dataframe thead th {\n",
       "        text-align: right;\n",
       "    }\n",
       "</style>\n",
       "<table border=\"1\" class=\"dataframe\">\n",
       "  <thead>\n",
       "    <tr style=\"text-align: right;\">\n",
       "      <th></th>\n",
       "      <th>日期</th>\n",
       "      <th>销售额</th>\n",
       "      <th>销售人员</th>\n",
       "      <th>地址</th>\n",
       "      <th>国家</th>\n",
       "    </tr>\n",
       "  </thead>\n",
       "  <tbody>\n",
       "    <tr>\n",
       "      <th>001</th>\n",
       "      <td>2005-01-01</td>\n",
       "      <td>1000</td>\n",
       "      <td>李华</td>\n",
       "      <td>苏州</td>\n",
       "      <td>NaN</td>\n",
       "    </tr>\n",
       "    <tr>\n",
       "      <th>002</th>\n",
       "      <td>2005-01-02</td>\n",
       "      <td>1500</td>\n",
       "      <td>王磊</td>\n",
       "      <td>郑州</td>\n",
       "      <td>NaN</td>\n",
       "    </tr>\n",
       "    <tr>\n",
       "      <th>003</th>\n",
       "      <td>2005-01-03</td>\n",
       "      <td>800</td>\n",
       "      <td>刘娜</td>\n",
       "      <td>南京</td>\n",
       "      <td>NaN</td>\n",
       "    </tr>\n",
       "    <tr>\n",
       "      <th>004</th>\n",
       "      <td>2005-01-03</td>\n",
       "      <td>1200</td>\n",
       "      <td>张洋</td>\n",
       "      <td>西安</td>\n",
       "      <td>NaN</td>\n",
       "    </tr>\n",
       "  </tbody>\n",
       "</table>\n",
       "</div>"
      ],
      "text/plain": [
       "             日期   销售额 销售人员  地址  国家\n",
       "001  2005-01-01  1000   李华  苏州 NaN\n",
       "002  2005-01-02  1500   王磊  郑州 NaN\n",
       "003  2005-01-03   800   刘娜  南京 NaN\n",
       "004  2005-01-03  1200   张洋  西安 NaN"
      ]
     },
     "execution_count": 3,
     "metadata": {},
     "output_type": "execute_result"
    }
   ],
   "source": [
    "# 创建示例 DataFrame\n",
    "df1 = pd.DataFrame({\n",
    "    '日期': ['2005-01-01', '2005-01-02', '2005-01-03', '2005-01-03'],\n",
    "    '销售额': [1000, 1500, 800, 1200],\n",
    "    '销售人员': ['李华', '王磊', '刘娜', '张洋'],\n",
    "    '地址': ['苏州', '郑州', '南京', '西安']\n",
    "})\n",
    "df1 = df1.rename(index={\n",
    "    0: '001',\n",
    "    1: '002',\n",
    "    2: '003',\n",
    "    3: '004'\n",
    "})\n",
    "df1['国家'] = np.nan\n",
    "df1"
   ]
  },
  {
   "cell_type": "markdown",
   "id": "1aed5ab6-52b3-4044-bec3-90ed9e34f66e",
   "metadata": {},
   "source": [
    "1. 对全是缺失值的列填入统一值\n",
    "\n",
    "   可以通过针对列的赋值操作\n",
    "\n",
    "2. 对全是缺失值的列填入不同值\n",
    "\n",
    "   见更新DataFrame的一列值 2.15.一.1."
   ]
  },
  {
   "cell_type": "code",
   "execution_count": 4,
   "id": "818e715a-4fe7-465a-b5ee-8bd81f4d5d4a",
   "metadata": {},
   "outputs": [
    {
     "data": {
      "text/html": [
       "<div>\n",
       "<style scoped>\n",
       "    .dataframe tbody tr th:only-of-type {\n",
       "        vertical-align: middle;\n",
       "    }\n",
       "\n",
       "    .dataframe tbody tr th {\n",
       "        vertical-align: top;\n",
       "    }\n",
       "\n",
       "    .dataframe thead th {\n",
       "        text-align: right;\n",
       "    }\n",
       "</style>\n",
       "<table border=\"1\" class=\"dataframe\">\n",
       "  <thead>\n",
       "    <tr style=\"text-align: right;\">\n",
       "      <th></th>\n",
       "      <th>日期</th>\n",
       "      <th>销售额</th>\n",
       "      <th>销售人员</th>\n",
       "      <th>地址</th>\n",
       "      <th>国家</th>\n",
       "    </tr>\n",
       "  </thead>\n",
       "  <tbody>\n",
       "    <tr>\n",
       "      <th>001</th>\n",
       "      <td>2005-01-01</td>\n",
       "      <td>1000</td>\n",
       "      <td>李华</td>\n",
       "      <td>苏州</td>\n",
       "      <td>中国</td>\n",
       "    </tr>\n",
       "    <tr>\n",
       "      <th>002</th>\n",
       "      <td>2005-01-02</td>\n",
       "      <td>1500</td>\n",
       "      <td>王磊</td>\n",
       "      <td>郑州</td>\n",
       "      <td>中国</td>\n",
       "    </tr>\n",
       "    <tr>\n",
       "      <th>003</th>\n",
       "      <td>2005-01-03</td>\n",
       "      <td>800</td>\n",
       "      <td>刘娜</td>\n",
       "      <td>南京</td>\n",
       "      <td>中国</td>\n",
       "    </tr>\n",
       "    <tr>\n",
       "      <th>004</th>\n",
       "      <td>2005-01-03</td>\n",
       "      <td>1200</td>\n",
       "      <td>张洋</td>\n",
       "      <td>西安</td>\n",
       "      <td>中国</td>\n",
       "    </tr>\n",
       "  </tbody>\n",
       "</table>\n",
       "</div>"
      ],
      "text/plain": [
       "             日期   销售额 销售人员  地址  国家\n",
       "001  2005-01-01  1000   李华  苏州  中国\n",
       "002  2005-01-02  1500   王磊  郑州  中国\n",
       "003  2005-01-03   800   刘娜  南京  中国\n",
       "004  2005-01-03  1200   张洋  西安  中国"
      ]
     },
     "execution_count": 4,
     "metadata": {},
     "output_type": "execute_result"
    }
   ],
   "source": [
    "df1[\"国家\"] = \"中国\"\n",
    "df1"
   ]
  },
  {
   "cell_type": "markdown",
   "id": "96427f96-54b4-48e1-bcc2-a0922dac1c14",
   "metadata": {},
   "source": [
    "#### (二)、对整行缺失值进行填充 "
   ]
  },
  {
   "cell_type": "markdown",
   "id": "b9da8bbb-60b2-4b7b-8f4e-da325752d22b",
   "metadata": {},
   "source": [
    "1. 对全是缺失值的行填入统一值\n",
    "\n",
    "   可以通过针对行的赋值操作\n",
    "\n",
    "2. 对全是缺失值的行填入不同值\n",
    "\n",
    "   见更新DataFrame的一行值 2.15.一.2."
   ]
  },
  {
   "cell_type": "code",
   "execution_count": 5,
   "id": "4a4d3148-2901-4a9d-87ca-d1ecc4f1fc14",
   "metadata": {},
   "outputs": [
    {
     "data": {
      "text/html": [
       "<div>\n",
       "<style scoped>\n",
       "    .dataframe tbody tr th:only-of-type {\n",
       "        vertical-align: middle;\n",
       "    }\n",
       "\n",
       "    .dataframe tbody tr th {\n",
       "        vertical-align: top;\n",
       "    }\n",
       "\n",
       "    .dataframe thead th {\n",
       "        text-align: right;\n",
       "    }\n",
       "</style>\n",
       "<table border=\"1\" class=\"dataframe\">\n",
       "  <thead>\n",
       "    <tr style=\"text-align: right;\">\n",
       "      <th></th>\n",
       "      <th>日期</th>\n",
       "      <th>销售额</th>\n",
       "      <th>销售人员</th>\n",
       "      <th>地址</th>\n",
       "      <th>国家</th>\n",
       "    </tr>\n",
       "  </thead>\n",
       "  <tbody>\n",
       "    <tr>\n",
       "      <th>001</th>\n",
       "      <td>2005-01-01</td>\n",
       "      <td>1000.0</td>\n",
       "      <td>李华</td>\n",
       "      <td>苏州</td>\n",
       "      <td>中国</td>\n",
       "    </tr>\n",
       "    <tr>\n",
       "      <th>002</th>\n",
       "      <td>2005-01-02</td>\n",
       "      <td>1500.0</td>\n",
       "      <td>王磊</td>\n",
       "      <td>郑州</td>\n",
       "      <td>中国</td>\n",
       "    </tr>\n",
       "    <tr>\n",
       "      <th>003</th>\n",
       "      <td>2005-01-03</td>\n",
       "      <td>800.0</td>\n",
       "      <td>刘娜</td>\n",
       "      <td>南京</td>\n",
       "      <td>中国</td>\n",
       "    </tr>\n",
       "    <tr>\n",
       "      <th>004</th>\n",
       "      <td>NaN</td>\n",
       "      <td>NaN</td>\n",
       "      <td>NaN</td>\n",
       "      <td>NaN</td>\n",
       "      <td>NaN</td>\n",
       "    </tr>\n",
       "  </tbody>\n",
       "</table>\n",
       "</div>"
      ],
      "text/plain": [
       "             日期     销售额 销售人员   地址   国家\n",
       "001  2005-01-01  1000.0   李华   苏州   中国\n",
       "002  2005-01-02  1500.0   王磊   郑州   中国\n",
       "003  2005-01-03   800.0   刘娜   南京   中国\n",
       "004         NaN     NaN  NaN  NaN  NaN"
      ]
     },
     "execution_count": 5,
     "metadata": {},
     "output_type": "execute_result"
    }
   ],
   "source": [
    "df1.iloc[3] = np.nan\n",
    "df1"
   ]
  },
  {
   "cell_type": "code",
   "execution_count": 6,
   "id": "9a4bfec2-906a-4fb9-b800-1883fe0469ed",
   "metadata": {},
   "outputs": [
    {
     "data": {
      "text/html": [
       "<div>\n",
       "<style scoped>\n",
       "    .dataframe tbody tr th:only-of-type {\n",
       "        vertical-align: middle;\n",
       "    }\n",
       "\n",
       "    .dataframe tbody tr th {\n",
       "        vertical-align: top;\n",
       "    }\n",
       "\n",
       "    .dataframe thead th {\n",
       "        text-align: right;\n",
       "    }\n",
       "</style>\n",
       "<table border=\"1\" class=\"dataframe\">\n",
       "  <thead>\n",
       "    <tr style=\"text-align: right;\">\n",
       "      <th></th>\n",
       "      <th>日期</th>\n",
       "      <th>销售额</th>\n",
       "      <th>销售人员</th>\n",
       "      <th>地址</th>\n",
       "      <th>国家</th>\n",
       "    </tr>\n",
       "  </thead>\n",
       "  <tbody>\n",
       "    <tr>\n",
       "      <th>001</th>\n",
       "      <td>2005-01-01</td>\n",
       "      <td>1000.0</td>\n",
       "      <td>李华</td>\n",
       "      <td>苏州</td>\n",
       "      <td>中国</td>\n",
       "    </tr>\n",
       "    <tr>\n",
       "      <th>002</th>\n",
       "      <td>2005-01-02</td>\n",
       "      <td>1500.0</td>\n",
       "      <td>王磊</td>\n",
       "      <td>郑州</td>\n",
       "      <td>中国</td>\n",
       "    </tr>\n",
       "    <tr>\n",
       "      <th>003</th>\n",
       "      <td>2005-01-03</td>\n",
       "      <td>800.0</td>\n",
       "      <td>刘娜</td>\n",
       "      <td>南京</td>\n",
       "      <td>中国</td>\n",
       "    </tr>\n",
       "    <tr>\n",
       "      <th>004</th>\n",
       "      <td>test</td>\n",
       "      <td>test</td>\n",
       "      <td>test</td>\n",
       "      <td>test</td>\n",
       "      <td>test</td>\n",
       "    </tr>\n",
       "  </tbody>\n",
       "</table>\n",
       "</div>"
      ],
      "text/plain": [
       "             日期     销售额  销售人员    地址    国家\n",
       "001  2005-01-01  1000.0    李华    苏州    中国\n",
       "002  2005-01-02  1500.0    王磊    郑州    中国\n",
       "003  2005-01-03   800.0    刘娜    南京    中国\n",
       "004        test    test  test  test  test"
      ]
     },
     "execution_count": 6,
     "metadata": {},
     "output_type": "execute_result"
    }
   ],
   "source": [
    "df1.iloc[3] = \"test\"\n",
    "df1"
   ]
  },
  {
   "cell_type": "markdown",
   "id": "8764ed05-68a6-42b8-8da6-28f8cc45fb60",
   "metadata": {},
   "source": [
    "#### (三)、对某个缺失值进行填充"
   ]
  },
  {
   "cell_type": "code",
   "execution_count": 2,
   "id": "46c2b525-747c-4c09-94e6-2887ab81e8d2",
   "metadata": {},
   "outputs": [
    {
     "data": {
      "text/html": [
       "<div>\n",
       "<style scoped>\n",
       "    .dataframe tbody tr th:only-of-type {\n",
       "        vertical-align: middle;\n",
       "    }\n",
       "\n",
       "    .dataframe tbody tr th {\n",
       "        vertical-align: top;\n",
       "    }\n",
       "\n",
       "    .dataframe thead th {\n",
       "        text-align: right;\n",
       "    }\n",
       "</style>\n",
       "<table border=\"1\" class=\"dataframe\">\n",
       "  <thead>\n",
       "    <tr style=\"text-align: right;\">\n",
       "      <th></th>\n",
       "      <th>日期</th>\n",
       "      <th>销售额</th>\n",
       "      <th>销售人员</th>\n",
       "      <th>地址</th>\n",
       "    </tr>\n",
       "  </thead>\n",
       "  <tbody>\n",
       "    <tr>\n",
       "      <th>001</th>\n",
       "      <td>2005-01-01</td>\n",
       "      <td>1000.0</td>\n",
       "      <td>李华</td>\n",
       "      <td>苏州</td>\n",
       "    </tr>\n",
       "    <tr>\n",
       "      <th>002</th>\n",
       "      <td>2005-01-02</td>\n",
       "      <td>1500.0</td>\n",
       "      <td>王磊</td>\n",
       "      <td>郑州</td>\n",
       "    </tr>\n",
       "    <tr>\n",
       "      <th>003</th>\n",
       "      <td>2005-01-03</td>\n",
       "      <td>NaN</td>\n",
       "      <td>刘娜</td>\n",
       "      <td>南京</td>\n",
       "    </tr>\n",
       "    <tr>\n",
       "      <th>004</th>\n",
       "      <td>2005-01-03</td>\n",
       "      <td>1200.0</td>\n",
       "      <td>张洋</td>\n",
       "      <td>西安</td>\n",
       "    </tr>\n",
       "  </tbody>\n",
       "</table>\n",
       "</div>"
      ],
      "text/plain": [
       "             日期     销售额 销售人员  地址\n",
       "001  2005-01-01  1000.0   李华  苏州\n",
       "002  2005-01-02  1500.0   王磊  郑州\n",
       "003  2005-01-03     NaN   刘娜  南京\n",
       "004  2005-01-03  1200.0   张洋  西安"
      ]
     },
     "execution_count": 2,
     "metadata": {},
     "output_type": "execute_result"
    }
   ],
   "source": [
    "# 创建示例 DataFrame\n",
    "df2 = pd.DataFrame({\n",
    "    '日期': ['2005-01-01', '2005-01-02', '2005-01-03', '2005-01-03'],\n",
    "    '销售额': [1000, 1500, np.nan, 1200],\n",
    "    '销售人员': ['李华', '王磊', '刘娜', '张洋'],\n",
    "    '地址': ['苏州', '郑州', '南京', '西安']\n",
    "})\n",
    "df2 = df2.rename(index={\n",
    "    0: '001',\n",
    "    1: '002',\n",
    "    2: '003',\n",
    "    3: '004'\n",
    "})\n",
    "df2"
   ]
  },
  {
   "cell_type": "markdown",
   "id": "ae864e78-31fb-4530-8c50-60b11d21b556",
   "metadata": {},
   "source": [
    "可以先用loc或iloc先去定位到那个值，然后重新赋值\n",
    "\n",
    "用loc或iloc先去定位值，见2.13.四.(四)"
   ]
  },
  {
   "cell_type": "code",
   "execution_count": 4,
   "id": "fe402f77-68de-4946-bba0-297dcb59c114",
   "metadata": {},
   "outputs": [
    {
     "data": {
      "text/html": [
       "<div>\n",
       "<style scoped>\n",
       "    .dataframe tbody tr th:only-of-type {\n",
       "        vertical-align: middle;\n",
       "    }\n",
       "\n",
       "    .dataframe tbody tr th {\n",
       "        vertical-align: top;\n",
       "    }\n",
       "\n",
       "    .dataframe thead th {\n",
       "        text-align: right;\n",
       "    }\n",
       "</style>\n",
       "<table border=\"1\" class=\"dataframe\">\n",
       "  <thead>\n",
       "    <tr style=\"text-align: right;\">\n",
       "      <th></th>\n",
       "      <th>日期</th>\n",
       "      <th>销售额</th>\n",
       "      <th>销售人员</th>\n",
       "      <th>地址</th>\n",
       "    </tr>\n",
       "  </thead>\n",
       "  <tbody>\n",
       "    <tr>\n",
       "      <th>001</th>\n",
       "      <td>2005-01-01</td>\n",
       "      <td>1000.0</td>\n",
       "      <td>李华</td>\n",
       "      <td>苏州</td>\n",
       "    </tr>\n",
       "    <tr>\n",
       "      <th>002</th>\n",
       "      <td>2005-01-02</td>\n",
       "      <td>1500.0</td>\n",
       "      <td>王磊</td>\n",
       "      <td>郑州</td>\n",
       "    </tr>\n",
       "    <tr>\n",
       "      <th>003</th>\n",
       "      <td>2005-01-03</td>\n",
       "      <td>800.0</td>\n",
       "      <td>刘娜</td>\n",
       "      <td>南京</td>\n",
       "    </tr>\n",
       "    <tr>\n",
       "      <th>004</th>\n",
       "      <td>2005-01-03</td>\n",
       "      <td>1200.0</td>\n",
       "      <td>张洋</td>\n",
       "      <td>西安</td>\n",
       "    </tr>\n",
       "  </tbody>\n",
       "</table>\n",
       "</div>"
      ],
      "text/plain": [
       "             日期     销售额 销售人员  地址\n",
       "001  2005-01-01  1000.0   李华  苏州\n",
       "002  2005-01-02  1500.0   王磊  郑州\n",
       "003  2005-01-03   800.0   刘娜  南京\n",
       "004  2005-01-03  1200.0   张洋  西安"
      ]
     },
     "execution_count": 4,
     "metadata": {},
     "output_type": "execute_result"
    }
   ],
   "source": [
    "df2.loc['003', '销售额'] = 800\n",
    "df2"
   ]
  },
  {
   "cell_type": "markdown",
   "id": "459c9a4a-a042-4e47-afad-0a40f01e4619",
   "metadata": {},
   "source": [
    "#### (四)、对部分缺失值进行填充"
   ]
  },
  {
   "cell_type": "code",
   "execution_count": 5,
   "id": "eec2a5d0-eb7b-4993-985d-a36689b2dc3e",
   "metadata": {},
   "outputs": [
    {
     "data": {
      "text/html": [
       "<div>\n",
       "<style scoped>\n",
       "    .dataframe tbody tr th:only-of-type {\n",
       "        vertical-align: middle;\n",
       "    }\n",
       "\n",
       "    .dataframe tbody tr th {\n",
       "        vertical-align: top;\n",
       "    }\n",
       "\n",
       "    .dataframe thead th {\n",
       "        text-align: right;\n",
       "    }\n",
       "</style>\n",
       "<table border=\"1\" class=\"dataframe\">\n",
       "  <thead>\n",
       "    <tr style=\"text-align: right;\">\n",
       "      <th></th>\n",
       "      <th>日期</th>\n",
       "      <th>销售额</th>\n",
       "      <th>销售人员</th>\n",
       "      <th>地址</th>\n",
       "    </tr>\n",
       "  </thead>\n",
       "  <tbody>\n",
       "    <tr>\n",
       "      <th>001</th>\n",
       "      <td>2005-01-01</td>\n",
       "      <td>1000</td>\n",
       "      <td>李华</td>\n",
       "      <td>苏州</td>\n",
       "    </tr>\n",
       "    <tr>\n",
       "      <th>002</th>\n",
       "      <td>2005-01-02</td>\n",
       "      <td>1500</td>\n",
       "      <td>王磊</td>\n",
       "      <td>郑州</td>\n",
       "    </tr>\n",
       "    <tr>\n",
       "      <th>003</th>\n",
       "      <td>NaN</td>\n",
       "      <td>800</td>\n",
       "      <td>刘娜</td>\n",
       "      <td>南京</td>\n",
       "    </tr>\n",
       "    <tr>\n",
       "      <th>004</th>\n",
       "      <td>NaN</td>\n",
       "      <td>1200</td>\n",
       "      <td>张洋</td>\n",
       "      <td>西安</td>\n",
       "    </tr>\n",
       "  </tbody>\n",
       "</table>\n",
       "</div>"
      ],
      "text/plain": [
       "             日期   销售额 销售人员  地址\n",
       "001  2005-01-01  1000   李华  苏州\n",
       "002  2005-01-02  1500   王磊  郑州\n",
       "003         NaN   800   刘娜  南京\n",
       "004         NaN  1200   张洋  西安"
      ]
     },
     "execution_count": 5,
     "metadata": {},
     "output_type": "execute_result"
    }
   ],
   "source": [
    "df3 = pd.DataFrame({\n",
    "    '日期': ['2005-01-01', '2005-01-02', np.nan, np.nan],\n",
    "    '销售额': [1000, 1500, 800, 1200],\n",
    "    '销售人员': ['李华', '王磊', '刘娜', '张洋'],\n",
    "    '地址': ['苏州', '郑州', '南京', '西安']\n",
    "})\n",
    "df3 = df3.rename(index={\n",
    "    0: '001',\n",
    "    1: '002',\n",
    "    2: '003',\n",
    "    3: '004'\n",
    "})\n",
    "df3"
   ]
  },
  {
   "cell_type": "markdown",
   "id": "ca75a7fe-87ca-45f0-bc87-ede28750bf47",
   "metadata": {},
   "source": [
    "1. 填入统一值\n",
    "\n",
    "   如果要替换某一部分的值，也是一样的道理，能用loc或iloc提取出来的部分，都可以通过赋值来填充或替换值。"
   ]
  },
  {
   "cell_type": "code",
   "execution_count": 8,
   "id": "b8490d3d-2328-41af-a9c7-2626ee9fdae4",
   "metadata": {
    "scrolled": true
   },
   "outputs": [
    {
     "data": {
      "text/html": [
       "<div>\n",
       "<style scoped>\n",
       "    .dataframe tbody tr th:only-of-type {\n",
       "        vertical-align: middle;\n",
       "    }\n",
       "\n",
       "    .dataframe tbody tr th {\n",
       "        vertical-align: top;\n",
       "    }\n",
       "\n",
       "    .dataframe thead th {\n",
       "        text-align: right;\n",
       "    }\n",
       "</style>\n",
       "<table border=\"1\" class=\"dataframe\">\n",
       "  <thead>\n",
       "    <tr style=\"text-align: right;\">\n",
       "      <th></th>\n",
       "      <th>日期</th>\n",
       "      <th>销售额</th>\n",
       "      <th>销售人员</th>\n",
       "      <th>地址</th>\n",
       "    </tr>\n",
       "  </thead>\n",
       "  <tbody>\n",
       "    <tr>\n",
       "      <th>001</th>\n",
       "      <td>2005-01-01</td>\n",
       "      <td>1000</td>\n",
       "      <td>李华</td>\n",
       "      <td>苏州</td>\n",
       "    </tr>\n",
       "    <tr>\n",
       "      <th>002</th>\n",
       "      <td>2005-01-02</td>\n",
       "      <td>1500</td>\n",
       "      <td>王磊</td>\n",
       "      <td>郑州</td>\n",
       "    </tr>\n",
       "    <tr>\n",
       "      <th>003</th>\n",
       "      <td>2005-01-03</td>\n",
       "      <td>800</td>\n",
       "      <td>刘娜</td>\n",
       "      <td>南京</td>\n",
       "    </tr>\n",
       "    <tr>\n",
       "      <th>004</th>\n",
       "      <td>2005-01-03</td>\n",
       "      <td>1200</td>\n",
       "      <td>张洋</td>\n",
       "      <td>西安</td>\n",
       "    </tr>\n",
       "  </tbody>\n",
       "</table>\n",
       "</div>"
      ],
      "text/plain": [
       "             日期   销售额 销售人员  地址\n",
       "001  2005-01-01  1000   李华  苏州\n",
       "002  2005-01-02  1500   王磊  郑州\n",
       "003  2005-01-03   800   刘娜  南京\n",
       "004  2005-01-03  1200   张洋  西安"
      ]
     },
     "execution_count": 8,
     "metadata": {},
     "output_type": "execute_result"
    }
   ],
   "source": [
    "df3.loc['003': '004', '日期'] = '2005-01-03'\n",
    "df3"
   ]
  },
  {
   "cell_type": "markdown",
   "id": "012fb0e7-0059-45ed-9a94-cb795c3f1fe3",
   "metadata": {},
   "source": [
    "2. 分别填入值\n",
    "\n",
    "   如果要对部分缺失值，分别填入不同值，可以用元组或列表的形式来赋值\n",
    "\n",
    "   **缺失值的个数和元组或列表里元素的个数，要一致**"
   ]
  },
  {
   "cell_type": "code",
   "execution_count": 11,
   "id": "df1cf00b-758d-42bf-bc73-8f7da335ec96",
   "metadata": {},
   "outputs": [
    {
     "data": {
      "text/html": [
       "<div>\n",
       "<style scoped>\n",
       "    .dataframe tbody tr th:only-of-type {\n",
       "        vertical-align: middle;\n",
       "    }\n",
       "\n",
       "    .dataframe tbody tr th {\n",
       "        vertical-align: top;\n",
       "    }\n",
       "\n",
       "    .dataframe thead th {\n",
       "        text-align: right;\n",
       "    }\n",
       "</style>\n",
       "<table border=\"1\" class=\"dataframe\">\n",
       "  <thead>\n",
       "    <tr style=\"text-align: right;\">\n",
       "      <th></th>\n",
       "      <th>日期</th>\n",
       "      <th>销售额</th>\n",
       "      <th>销售人员</th>\n",
       "      <th>地址</th>\n",
       "    </tr>\n",
       "  </thead>\n",
       "  <tbody>\n",
       "    <tr>\n",
       "      <th>001</th>\n",
       "      <td>2005-01-01</td>\n",
       "      <td>1000</td>\n",
       "      <td>李华</td>\n",
       "      <td>苏州</td>\n",
       "    </tr>\n",
       "    <tr>\n",
       "      <th>002</th>\n",
       "      <td>2005-01-02</td>\n",
       "      <td>1500</td>\n",
       "      <td>王磊</td>\n",
       "      <td>郑州</td>\n",
       "    </tr>\n",
       "    <tr>\n",
       "      <th>003</th>\n",
       "      <td>2005-01-03</td>\n",
       "      <td>800</td>\n",
       "      <td>刘娜</td>\n",
       "      <td>南京</td>\n",
       "    </tr>\n",
       "    <tr>\n",
       "      <th>004</th>\n",
       "      <td>2023-9-15</td>\n",
       "      <td>1200</td>\n",
       "      <td>张洋</td>\n",
       "      <td>西安</td>\n",
       "    </tr>\n",
       "  </tbody>\n",
       "</table>\n",
       "</div>"
      ],
      "text/plain": [
       "             日期   销售额 销售人员  地址\n",
       "001  2005-01-01  1000   李华  苏州\n",
       "002  2005-01-02  1500   王磊  郑州\n",
       "003  2005-01-03   800   刘娜  南京\n",
       "004   2023-9-15  1200   张洋  西安"
      ]
     },
     "execution_count": 11,
     "metadata": {},
     "output_type": "execute_result"
    }
   ],
   "source": [
    "df3.loc['003': '004', '日期'] = ['2005-01-03', '2023-9-15']\n",
    "df3"
   ]
  },
  {
   "cell_type": "markdown",
   "id": "9c7d4d23-ae05-46b7-8c65-856e27262cf1",
   "metadata": {
    "jp-MarkdownHeadingCollapsed": true
   },
   "source": [
    "#### (五）、自动找到缺失值进行填充"
   ]
  },
  {
   "cell_type": "markdown",
   "id": "66cd6b69-009b-448a-b857-aad398fd712f",
   "metadata": {},
   "source": [
    "以上方法都需要我们自行定位缺失值的位置，但在数据量很大，缺失值很多的情况下，更需要程序能自动找到所有为NaN的值，然后根据我们的指示进行填充"
   ]
  },
  {
   "cell_type": "code",
   "execution_count": 13,
   "id": "26e755dd-6e28-4a70-8481-5ea305b20c73",
   "metadata": {},
   "outputs": [
    {
     "data": {
      "text/html": [
       "<div>\n",
       "<style scoped>\n",
       "    .dataframe tbody tr th:only-of-type {\n",
       "        vertical-align: middle;\n",
       "    }\n",
       "\n",
       "    .dataframe tbody tr th {\n",
       "        vertical-align: top;\n",
       "    }\n",
       "\n",
       "    .dataframe thead th {\n",
       "        text-align: right;\n",
       "    }\n",
       "</style>\n",
       "<table border=\"1\" class=\"dataframe\">\n",
       "  <thead>\n",
       "    <tr style=\"text-align: right;\">\n",
       "      <th></th>\n",
       "      <th>A</th>\n",
       "      <th>B</th>\n",
       "      <th>C</th>\n",
       "    </tr>\n",
       "  </thead>\n",
       "  <tbody>\n",
       "    <tr>\n",
       "      <th>0</th>\n",
       "      <td>1.0</td>\n",
       "      <td>5.0</td>\n",
       "      <td>8</td>\n",
       "    </tr>\n",
       "    <tr>\n",
       "      <th>1</th>\n",
       "      <td>2.0</td>\n",
       "      <td>NaN</td>\n",
       "      <td>9</td>\n",
       "    </tr>\n",
       "    <tr>\n",
       "      <th>2</th>\n",
       "      <td>NaN</td>\n",
       "      <td>7.0</td>\n",
       "      <td>10</td>\n",
       "    </tr>\n",
       "    <tr>\n",
       "      <th>3</th>\n",
       "      <td>4.0</td>\n",
       "      <td>NaN</td>\n",
       "      <td>11</td>\n",
       "    </tr>\n",
       "  </tbody>\n",
       "</table>\n",
       "</div>"
      ],
      "text/plain": [
       "     A    B   C\n",
       "0  1.0  5.0   8\n",
       "1  2.0  NaN   9\n",
       "2  NaN  7.0  10\n",
       "3  4.0  NaN  11"
      ]
     },
     "execution_count": 13,
     "metadata": {},
     "output_type": "execute_result"
    }
   ],
   "source": [
    "df4 = pd.DataFrame({'A': [1, 2, np.nan, 4],\n",
    "                   'B': [5, np.nan, 7, np.nan],\n",
    "                   'C': [8, 9, 10, 11]})\n",
    "df4"
   ]
  },
  {
   "cell_type": "markdown",
   "id": "7f3f9c9c-ab19-4d5e-aaf3-4afaffc1e411",
   "metadata": {},
   "source": [
    "1. Series有个叫fillna的方法，调用时列里面所有NaN值都会被替换成传入的参数，就不需要一个个去定位缺失值的位置了\n",
    "\n",
    "   1)对缺失值填入确定的值"
   ]
  },
  {
   "cell_type": "code",
   "execution_count": 14,
   "id": "2c0e6c4d-4509-43c7-953a-a2dea8843b6e",
   "metadata": {},
   "outputs": [
    {
     "data": {
      "text/plain": [
       "0    5.0\n",
       "1    0.0\n",
       "2    7.0\n",
       "3    0.0\n",
       "Name: B, dtype: float64"
      ]
     },
     "execution_count": 14,
     "metadata": {},
     "output_type": "execute_result"
    }
   ],
   "source": [
    "df4['B'].fillna(0)"
   ]
  },
  {
   "cell_type": "markdown",
   "id": "0cbb7aef-779f-4e80-8631-963c0c6761a9",
   "metadata": {},
   "source": [
    "    2）对缺失值填入某个计算结果\n",
    "    \n",
    "    fillna方法里，除了传入确定的参数，还可以替换成某个计算结果，如平均值"
   ]
  },
  {
   "cell_type": "code",
   "execution_count": 16,
   "id": "52026f0f-f870-44a6-b63d-06fefdc2afd2",
   "metadata": {},
   "outputs": [
    {
     "data": {
      "text/plain": [
       "0    5.0\n",
       "1    6.0\n",
       "2    7.0\n",
       "3    6.0\n",
       "Name: B, dtype: float64"
      ]
     },
     "execution_count": 16,
     "metadata": {},
     "output_type": "execute_result"
    }
   ],
   "source": [
    "df4['B'].fillna(df4['B'].mean())"
   ]
  },
  {
   "cell_type": "markdown",
   "id": "57499d3a-28fb-437e-adb6-f19734d2a4b1",
   "metadata": {},
   "source": [
    "2. DataFrame也有fillna方法，所以除了能填充某列的缺失值，还能直接对整个DataFrame里的缺失值进行填充。\n",
    "\n",
    "    1)对缺失值填入统一值\n",
    "\n",
    "   传入某个值后，返回的新DataFrame里，所有缺失值都会变成那个值"
   ]
  },
  {
   "cell_type": "code",
   "execution_count": 17,
   "id": "89aec93b-9947-480f-a463-7998a16b1642",
   "metadata": {},
   "outputs": [
    {
     "data": {
      "text/html": [
       "<div>\n",
       "<style scoped>\n",
       "    .dataframe tbody tr th:only-of-type {\n",
       "        vertical-align: middle;\n",
       "    }\n",
       "\n",
       "    .dataframe tbody tr th {\n",
       "        vertical-align: top;\n",
       "    }\n",
       "\n",
       "    .dataframe thead th {\n",
       "        text-align: right;\n",
       "    }\n",
       "</style>\n",
       "<table border=\"1\" class=\"dataframe\">\n",
       "  <thead>\n",
       "    <tr style=\"text-align: right;\">\n",
       "      <th></th>\n",
       "      <th>A</th>\n",
       "      <th>B</th>\n",
       "      <th>C</th>\n",
       "    </tr>\n",
       "  </thead>\n",
       "  <tbody>\n",
       "    <tr>\n",
       "      <th>0</th>\n",
       "      <td>1.0</td>\n",
       "      <td>5.0</td>\n",
       "      <td>8</td>\n",
       "    </tr>\n",
       "    <tr>\n",
       "      <th>1</th>\n",
       "      <td>2.0</td>\n",
       "      <td>0.0</td>\n",
       "      <td>9</td>\n",
       "    </tr>\n",
       "    <tr>\n",
       "      <th>2</th>\n",
       "      <td>0.0</td>\n",
       "      <td>7.0</td>\n",
       "      <td>10</td>\n",
       "    </tr>\n",
       "    <tr>\n",
       "      <th>3</th>\n",
       "      <td>4.0</td>\n",
       "      <td>0.0</td>\n",
       "      <td>11</td>\n",
       "    </tr>\n",
       "  </tbody>\n",
       "</table>\n",
       "</div>"
      ],
      "text/plain": [
       "     A    B   C\n",
       "0  1.0  5.0   8\n",
       "1  2.0  0.0   9\n",
       "2  0.0  7.0  10\n",
       "3  4.0  0.0  11"
      ]
     },
     "execution_count": 17,
     "metadata": {},
     "output_type": "execute_result"
    }
   ],
   "source": [
    "df4.fillna(0)"
   ]
  },
  {
   "cell_type": "markdown",
   "id": "027195d8-c95e-4c39-afed-096a070e9be0",
   "metadata": {},
   "source": [
    "    2）对缺失值按列填入不同值\n",
    "\n",
    "    还可以传入一个字典，键为列名，值为替换值，能实现把不同列里的空缺值，替换成不同值的效果。这个相比Series的fillna方法逐列操作要高效得多"
   ]
  },
  {
   "cell_type": "code",
   "execution_count": 18,
   "id": "9a7367d9-54b7-46f9-92ea-447cad3f20d6",
   "metadata": {},
   "outputs": [
    {
     "data": {
      "text/html": [
       "<div>\n",
       "<style scoped>\n",
       "    .dataframe tbody tr th:only-of-type {\n",
       "        vertical-align: middle;\n",
       "    }\n",
       "\n",
       "    .dataframe tbody tr th {\n",
       "        vertical-align: top;\n",
       "    }\n",
       "\n",
       "    .dataframe thead th {\n",
       "        text-align: right;\n",
       "    }\n",
       "</style>\n",
       "<table border=\"1\" class=\"dataframe\">\n",
       "  <thead>\n",
       "    <tr style=\"text-align: right;\">\n",
       "      <th></th>\n",
       "      <th>A</th>\n",
       "      <th>B</th>\n",
       "      <th>C</th>\n",
       "    </tr>\n",
       "  </thead>\n",
       "  <tbody>\n",
       "    <tr>\n",
       "      <th>0</th>\n",
       "      <td>1.0</td>\n",
       "      <td>5.0</td>\n",
       "      <td>8</td>\n",
       "    </tr>\n",
       "    <tr>\n",
       "      <th>1</th>\n",
       "      <td>2.0</td>\n",
       "      <td>10.0</td>\n",
       "      <td>9</td>\n",
       "    </tr>\n",
       "    <tr>\n",
       "      <th>2</th>\n",
       "      <td>0.0</td>\n",
       "      <td>7.0</td>\n",
       "      <td>10</td>\n",
       "    </tr>\n",
       "    <tr>\n",
       "      <th>3</th>\n",
       "      <td>4.0</td>\n",
       "      <td>10.0</td>\n",
       "      <td>11</td>\n",
       "    </tr>\n",
       "  </tbody>\n",
       "</table>\n",
       "</div>"
      ],
      "text/plain": [
       "     A     B   C\n",
       "0  1.0   5.0   8\n",
       "1  2.0  10.0   9\n",
       "2  0.0   7.0  10\n",
       "3  4.0  10.0  11"
      ]
     },
     "execution_count": 18,
     "metadata": {},
     "output_type": "execute_result"
    }
   ],
   "source": [
    "df4.fillna({'A': 0, 'B': 10, 'C': 20})"
   ]
  },
  {
   "cell_type": "markdown",
   "id": "1138ff8f-f3cd-418b-ae66-acbb253c56a2",
   "metadata": {},
   "source": [
    "**只返回替换好的新DataFrame**"
   ]
  },
  {
   "cell_type": "markdown",
   "id": "53766725-a3a9-4bb4-bcf0-24351269695f",
   "metadata": {
    "jp-MarkdownHeadingCollapsed": true
   },
   "source": [
    "#### (六)、删除存在缺失值的行"
   ]
  },
  {
   "cell_type": "markdown",
   "id": "fd489076-942e-4131-a464-53faa3418aa6",
   "metadata": {},
   "source": [
    "如果丢失的是对分析目标有关键意义的数据，同时又没有合适的值进行填充，这时我们或许需要抛弃存在空缺值的观察值，调用dropna方法，被用于删除有缺失值的数据"
   ]
  },
  {
   "cell_type": "code",
   "execution_count": 19,
   "id": "1859d208-30af-43b2-989f-94c3aa37510c",
   "metadata": {},
   "outputs": [
    {
     "data": {
      "text/html": [
       "<div>\n",
       "<style scoped>\n",
       "    .dataframe tbody tr th:only-of-type {\n",
       "        vertical-align: middle;\n",
       "    }\n",
       "\n",
       "    .dataframe tbody tr th {\n",
       "        vertical-align: top;\n",
       "    }\n",
       "\n",
       "    .dataframe thead th {\n",
       "        text-align: right;\n",
       "    }\n",
       "</style>\n",
       "<table border=\"1\" class=\"dataframe\">\n",
       "  <thead>\n",
       "    <tr style=\"text-align: right;\">\n",
       "      <th></th>\n",
       "      <th>姓名</th>\n",
       "      <th>年龄</th>\n",
       "      <th>工资</th>\n",
       "      <th>性别</th>\n",
       "    </tr>\n",
       "  </thead>\n",
       "  <tbody>\n",
       "    <tr>\n",
       "      <th>0</th>\n",
       "      <td>John</td>\n",
       "      <td>25.0</td>\n",
       "      <td>50000.0</td>\n",
       "      <td>M</td>\n",
       "    </tr>\n",
       "    <tr>\n",
       "      <th>1</th>\n",
       "      <td>Alice</td>\n",
       "      <td>30.0</td>\n",
       "      <td>NaN</td>\n",
       "      <td>F</td>\n",
       "    </tr>\n",
       "    <tr>\n",
       "      <th>2</th>\n",
       "      <td>Bob</td>\n",
       "      <td>NaN</td>\n",
       "      <td>70000.0</td>\n",
       "      <td>M</td>\n",
       "    </tr>\n",
       "    <tr>\n",
       "      <th>3</th>\n",
       "      <td>Mary</td>\n",
       "      <td>40.0</td>\n",
       "      <td>60000.0</td>\n",
       "      <td>F</td>\n",
       "    </tr>\n",
       "  </tbody>\n",
       "</table>\n",
       "</div>"
      ],
      "text/plain": [
       "      姓名    年龄       工资 性别\n",
       "0   John  25.0  50000.0  M\n",
       "1  Alice  30.0      NaN  F\n",
       "2    Bob   NaN  70000.0  M\n",
       "3   Mary  40.0  60000.0  F"
      ]
     },
     "execution_count": 19,
     "metadata": {},
     "output_type": "execute_result"
    }
   ],
   "source": [
    "df5 = pd.DataFrame({\n",
    "    '姓名': ['John', 'Alice', 'Bob', 'Mary'],\n",
    "    '年龄': [25, 30, np.nan, 40],\n",
    "    '工资': [50000, np.nan, 70000, 60000],\n",
    "    '性别': ['M', 'F', 'M', 'F']\n",
    "})\n",
    "df5"
   ]
  },
  {
   "cell_type": "markdown",
   "id": "8f50d2f0-23dc-48ed-8908-c94b6935e94e",
   "metadata": {},
   "source": [
    "1. 删除所有有缺失值的行\n",
    "\n",
    "   DataFrame在dropna方法直接调用时，会返回没有任何缺失值的行，所组成的新DataFrame。也就是说，只要某行任何一个值是空缺的，调用dropna后就见不到它了。"
   ]
  },
  {
   "cell_type": "code",
   "execution_count": 20,
   "id": "3afd6574-fa98-424e-bf98-5f4d51a6324c",
   "metadata": {},
   "outputs": [
    {
     "data": {
      "text/html": [
       "<div>\n",
       "<style scoped>\n",
       "    .dataframe tbody tr th:only-of-type {\n",
       "        vertical-align: middle;\n",
       "    }\n",
       "\n",
       "    .dataframe tbody tr th {\n",
       "        vertical-align: top;\n",
       "    }\n",
       "\n",
       "    .dataframe thead th {\n",
       "        text-align: right;\n",
       "    }\n",
       "</style>\n",
       "<table border=\"1\" class=\"dataframe\">\n",
       "  <thead>\n",
       "    <tr style=\"text-align: right;\">\n",
       "      <th></th>\n",
       "      <th>姓名</th>\n",
       "      <th>年龄</th>\n",
       "      <th>工资</th>\n",
       "      <th>性别</th>\n",
       "    </tr>\n",
       "  </thead>\n",
       "  <tbody>\n",
       "    <tr>\n",
       "      <th>0</th>\n",
       "      <td>John</td>\n",
       "      <td>25.0</td>\n",
       "      <td>50000.0</td>\n",
       "      <td>M</td>\n",
       "    </tr>\n",
       "    <tr>\n",
       "      <th>3</th>\n",
       "      <td>Mary</td>\n",
       "      <td>40.0</td>\n",
       "      <td>60000.0</td>\n",
       "      <td>F</td>\n",
       "    </tr>\n",
       "  </tbody>\n",
       "</table>\n",
       "</div>"
      ],
      "text/plain": [
       "     姓名    年龄       工资 性别\n",
       "0  John  25.0  50000.0  M\n",
       "3  Mary  40.0  60000.0  F"
      ]
     },
     "execution_count": 20,
     "metadata": {},
     "output_type": "execute_result"
    }
   ],
   "source": [
    "df5.dropna()"
   ]
  },
  {
   "cell_type": "markdown",
   "id": "f8102fb3-a960-4e10-b8e2-87e811bf8236",
   "metadata": {},
   "source": [
    "2. 删除关键值缺失的行\n",
    "\n",
    "   但我们一般清理数据的时候，更关注的是某些有关键信息的列，不太关键的变量，即使缺失也问题不大\n",
    "\n",
    "   那我们调用dropna方法时，可以传入一个可选参数subset=['关键值缺失的列的列名1'，...]。"
   ]
  },
  {
   "cell_type": "code",
   "execution_count": 21,
   "id": "0e56038c-dc6d-48f9-8c89-4880220b00e9",
   "metadata": {},
   "outputs": [
    {
     "data": {
      "text/html": [
       "<div>\n",
       "<style scoped>\n",
       "    .dataframe tbody tr th:only-of-type {\n",
       "        vertical-align: middle;\n",
       "    }\n",
       "\n",
       "    .dataframe tbody tr th {\n",
       "        vertical-align: top;\n",
       "    }\n",
       "\n",
       "    .dataframe thead th {\n",
       "        text-align: right;\n",
       "    }\n",
       "</style>\n",
       "<table border=\"1\" class=\"dataframe\">\n",
       "  <thead>\n",
       "    <tr style=\"text-align: right;\">\n",
       "      <th></th>\n",
       "      <th>姓名</th>\n",
       "      <th>年龄</th>\n",
       "      <th>工资</th>\n",
       "      <th>性别</th>\n",
       "    </tr>\n",
       "  </thead>\n",
       "  <tbody>\n",
       "    <tr>\n",
       "      <th>0</th>\n",
       "      <td>John</td>\n",
       "      <td>25.0</td>\n",
       "      <td>50000.0</td>\n",
       "      <td>M</td>\n",
       "    </tr>\n",
       "    <tr>\n",
       "      <th>2</th>\n",
       "      <td>Bob</td>\n",
       "      <td>NaN</td>\n",
       "      <td>70000.0</td>\n",
       "      <td>M</td>\n",
       "    </tr>\n",
       "    <tr>\n",
       "      <th>3</th>\n",
       "      <td>Mary</td>\n",
       "      <td>40.0</td>\n",
       "      <td>60000.0</td>\n",
       "      <td>F</td>\n",
       "    </tr>\n",
       "  </tbody>\n",
       "</table>\n",
       "</div>"
      ],
      "text/plain": [
       "     姓名    年龄       工资 性别\n",
       "0  John  25.0  50000.0  M\n",
       "2   Bob   NaN  70000.0  M\n",
       "3  Mary  40.0  60000.0  F"
      ]
     },
     "execution_count": 21,
     "metadata": {},
     "output_type": "execute_result"
    }
   ],
   "source": [
    "df5.dropna(subset=['工资'])"
   ]
  },
  {
   "cell_type": "markdown",
   "id": "f69ac6e3-1829-4ebc-8c41-2192bc122ffc",
   "metadata": {},
   "source": [
    "3. 删除有缺失值的列\n",
    "\n",
    "   指定axis=1"
   ]
  },
  {
   "cell_type": "code",
   "execution_count": 22,
   "id": "07bae75e-aa00-4d08-a0d5-7031539e2dee",
   "metadata": {},
   "outputs": [
    {
     "data": {
      "text/html": [
       "<div>\n",
       "<style scoped>\n",
       "    .dataframe tbody tr th:only-of-type {\n",
       "        vertical-align: middle;\n",
       "    }\n",
       "\n",
       "    .dataframe tbody tr th {\n",
       "        vertical-align: top;\n",
       "    }\n",
       "\n",
       "    .dataframe thead th {\n",
       "        text-align: right;\n",
       "    }\n",
       "</style>\n",
       "<table border=\"1\" class=\"dataframe\">\n",
       "  <thead>\n",
       "    <tr style=\"text-align: right;\">\n",
       "      <th></th>\n",
       "      <th>姓名</th>\n",
       "      <th>性别</th>\n",
       "    </tr>\n",
       "  </thead>\n",
       "  <tbody>\n",
       "    <tr>\n",
       "      <th>0</th>\n",
       "      <td>John</td>\n",
       "      <td>M</td>\n",
       "    </tr>\n",
       "    <tr>\n",
       "      <th>1</th>\n",
       "      <td>Alice</td>\n",
       "      <td>F</td>\n",
       "    </tr>\n",
       "    <tr>\n",
       "      <th>2</th>\n",
       "      <td>Bob</td>\n",
       "      <td>M</td>\n",
       "    </tr>\n",
       "    <tr>\n",
       "      <th>3</th>\n",
       "      <td>Mary</td>\n",
       "      <td>F</td>\n",
       "    </tr>\n",
       "  </tbody>\n",
       "</table>\n",
       "</div>"
      ],
      "text/plain": [
       "      姓名 性别\n",
       "0   John  M\n",
       "1  Alice  F\n",
       "2    Bob  M\n",
       "3   Mary  F"
      ]
     },
     "execution_count": 22,
     "metadata": {},
     "output_type": "execute_result"
    }
   ],
   "source": [
    "df5.dropna(axis=1)"
   ]
  },
  {
   "cell_type": "code",
   "execution_count": 23,
   "id": "ae7a2023-85b6-435b-b534-8753bf5a9168",
   "metadata": {},
   "outputs": [
    {
     "data": {
      "text/html": [
       "<div>\n",
       "<style scoped>\n",
       "    .dataframe tbody tr th:only-of-type {\n",
       "        vertical-align: middle;\n",
       "    }\n",
       "\n",
       "    .dataframe tbody tr th {\n",
       "        vertical-align: top;\n",
       "    }\n",
       "\n",
       "    .dataframe thead th {\n",
       "        text-align: right;\n",
       "    }\n",
       "</style>\n",
       "<table border=\"1\" class=\"dataframe\">\n",
       "  <thead>\n",
       "    <tr style=\"text-align: right;\">\n",
       "      <th></th>\n",
       "      <th>姓名</th>\n",
       "      <th>年龄</th>\n",
       "      <th>性别</th>\n",
       "    </tr>\n",
       "  </thead>\n",
       "  <tbody>\n",
       "    <tr>\n",
       "      <th>0</th>\n",
       "      <td>John</td>\n",
       "      <td>25.0</td>\n",
       "      <td>M</td>\n",
       "    </tr>\n",
       "    <tr>\n",
       "      <th>1</th>\n",
       "      <td>Alice</td>\n",
       "      <td>30.0</td>\n",
       "      <td>F</td>\n",
       "    </tr>\n",
       "    <tr>\n",
       "      <th>2</th>\n",
       "      <td>Bob</td>\n",
       "      <td>NaN</td>\n",
       "      <td>M</td>\n",
       "    </tr>\n",
       "    <tr>\n",
       "      <th>3</th>\n",
       "      <td>Mary</td>\n",
       "      <td>40.0</td>\n",
       "      <td>F</td>\n",
       "    </tr>\n",
       "  </tbody>\n",
       "</table>\n",
       "</div>"
      ],
      "text/plain": [
       "      姓名    年龄 性别\n",
       "0   John  25.0  M\n",
       "1  Alice  30.0  F\n",
       "2    Bob   NaN  M\n",
       "3   Mary  40.0  F"
      ]
     },
     "execution_count": 23,
     "metadata": {},
     "output_type": "execute_result"
    }
   ],
   "source": [
    "df5.dropna(axis=1, subset=[0, 1])"
   ]
  },
  {
   "cell_type": "markdown",
   "id": "5b4bbc77-f169-44b8-aef3-73dca7e38ace",
   "metadata": {
    "jp-MarkdownHeadingCollapsed": true
   },
   "source": [
    "### 二、删除重复数据"
   ]
  },
  {
   "cell_type": "code",
   "execution_count": 24,
   "id": "60b8f408-9614-47d3-a9d9-d83bcdb4c5d8",
   "metadata": {},
   "outputs": [
    {
     "data": {
      "text/html": [
       "<div>\n",
       "<style scoped>\n",
       "    .dataframe tbody tr th:only-of-type {\n",
       "        vertical-align: middle;\n",
       "    }\n",
       "\n",
       "    .dataframe tbody tr th {\n",
       "        vertical-align: top;\n",
       "    }\n",
       "\n",
       "    .dataframe thead th {\n",
       "        text-align: right;\n",
       "    }\n",
       "</style>\n",
       "<table border=\"1\" class=\"dataframe\">\n",
       "  <thead>\n",
       "    <tr style=\"text-align: right;\">\n",
       "      <th></th>\n",
       "      <th>姓名</th>\n",
       "      <th>年龄</th>\n",
       "      <th>性别</th>\n",
       "    </tr>\n",
       "  </thead>\n",
       "  <tbody>\n",
       "    <tr>\n",
       "      <th>0</th>\n",
       "      <td>John</td>\n",
       "      <td>25</td>\n",
       "      <td>M</td>\n",
       "    </tr>\n",
       "    <tr>\n",
       "      <th>1</th>\n",
       "      <td>Alice</td>\n",
       "      <td>30</td>\n",
       "      <td>F</td>\n",
       "    </tr>\n",
       "    <tr>\n",
       "      <th>2</th>\n",
       "      <td>Bob</td>\n",
       "      <td>35</td>\n",
       "      <td>M</td>\n",
       "    </tr>\n",
       "    <tr>\n",
       "      <th>3</th>\n",
       "      <td>Alice</td>\n",
       "      <td>30</td>\n",
       "      <td>F</td>\n",
       "    </tr>\n",
       "    <tr>\n",
       "      <th>4</th>\n",
       "      <td>John</td>\n",
       "      <td>40</td>\n",
       "      <td>M</td>\n",
       "    </tr>\n",
       "  </tbody>\n",
       "</table>\n",
       "</div>"
      ],
      "text/plain": [
       "      姓名  年龄 性别\n",
       "0   John  25  M\n",
       "1  Alice  30  F\n",
       "2    Bob  35  M\n",
       "3  Alice  30  F\n",
       "4   John  40  M"
      ]
     },
     "execution_count": 24,
     "metadata": {},
     "output_type": "execute_result"
    }
   ],
   "source": [
    "df6 = pd.DataFrame({\n",
    "    '姓名': ['John', 'Alice', 'Bob', 'Alice', 'John'],\n",
    "    '年龄': [25, 30, 35, 30, 40],\n",
    "    '性别': ['M', 'F', 'M', 'F', 'M']\n",
    "})\n",
    "df6"
   ]
  },
  {
   "cell_type": "markdown",
   "id": "621d9c0c-2f2b-4da4-b57d-42fe6cd33707",
   "metadata": {},
   "source": [
    "drop_duplicates方法，可以用于删除Series里的重复值，或是DataFrame里的重复行\n",
    "\n",
    "1. 删除所有变量的值都重复的行\n",
    "\n",
    "直接调用DataFrame的drop_duplicates时，只有当所有变量都一样的时候，才会被视为重复，也因此才会被删除掉。"
   ]
  },
  {
   "cell_type": "code",
   "execution_count": 25,
   "id": "8e4edb4f-5672-4538-8184-9f4b66a83b1c",
   "metadata": {},
   "outputs": [
    {
     "data": {
      "text/plain": [
       "0     John\n",
       "1    Alice\n",
       "2      Bob\n",
       "Name: 姓名, dtype: object"
      ]
     },
     "execution_count": 25,
     "metadata": {},
     "output_type": "execute_result"
    }
   ],
   "source": [
    "df6['姓名'].drop_duplicates()"
   ]
  },
  {
   "cell_type": "code",
   "execution_count": 26,
   "id": "24f1bbaf-6136-47a4-a2dd-14830cf3a515",
   "metadata": {},
   "outputs": [
    {
     "data": {
      "text/html": [
       "<div>\n",
       "<style scoped>\n",
       "    .dataframe tbody tr th:only-of-type {\n",
       "        vertical-align: middle;\n",
       "    }\n",
       "\n",
       "    .dataframe tbody tr th {\n",
       "        vertical-align: top;\n",
       "    }\n",
       "\n",
       "    .dataframe thead th {\n",
       "        text-align: right;\n",
       "    }\n",
       "</style>\n",
       "<table border=\"1\" class=\"dataframe\">\n",
       "  <thead>\n",
       "    <tr style=\"text-align: right;\">\n",
       "      <th></th>\n",
       "      <th>姓名</th>\n",
       "      <th>年龄</th>\n",
       "      <th>性别</th>\n",
       "    </tr>\n",
       "  </thead>\n",
       "  <tbody>\n",
       "    <tr>\n",
       "      <th>0</th>\n",
       "      <td>John</td>\n",
       "      <td>25</td>\n",
       "      <td>M</td>\n",
       "    </tr>\n",
       "    <tr>\n",
       "      <th>1</th>\n",
       "      <td>Alice</td>\n",
       "      <td>30</td>\n",
       "      <td>F</td>\n",
       "    </tr>\n",
       "    <tr>\n",
       "      <th>2</th>\n",
       "      <td>Bob</td>\n",
       "      <td>35</td>\n",
       "      <td>M</td>\n",
       "    </tr>\n",
       "    <tr>\n",
       "      <th>4</th>\n",
       "      <td>John</td>\n",
       "      <td>40</td>\n",
       "      <td>M</td>\n",
       "    </tr>\n",
       "  </tbody>\n",
       "</table>\n",
       "</div>"
      ],
      "text/plain": [
       "      姓名  年龄 性别\n",
       "0   John  25  M\n",
       "1  Alice  30  F\n",
       "2    Bob  35  M\n",
       "4   John  40  M"
      ]
     },
     "execution_count": 26,
     "metadata": {},
     "output_type": "execute_result"
    }
   ],
   "source": [
    "df6.drop_duplicates()"
   ]
  },
  {
   "cell_type": "markdown",
   "id": "4da8d8e7-6ca5-4718-9a03-30acb5ce9100",
   "metadata": {},
   "source": [
    "2. 删除特定变量的值重复的行\n",
    "\n",
    "   也可以用subset=['变量1', '变量2'...],只要这个列表里的变量同时重复，就会被删除"
   ]
  },
  {
   "cell_type": "code",
   "execution_count": 28,
   "id": "77fc2db2-a5f7-49fa-b366-a233fa3a6032",
   "metadata": {},
   "outputs": [
    {
     "data": {
      "text/html": [
       "<div>\n",
       "<style scoped>\n",
       "    .dataframe tbody tr th:only-of-type {\n",
       "        vertical-align: middle;\n",
       "    }\n",
       "\n",
       "    .dataframe tbody tr th {\n",
       "        vertical-align: top;\n",
       "    }\n",
       "\n",
       "    .dataframe thead th {\n",
       "        text-align: right;\n",
       "    }\n",
       "</style>\n",
       "<table border=\"1\" class=\"dataframe\">\n",
       "  <thead>\n",
       "    <tr style=\"text-align: right;\">\n",
       "      <th></th>\n",
       "      <th>姓名</th>\n",
       "      <th>年龄</th>\n",
       "      <th>性别</th>\n",
       "    </tr>\n",
       "  </thead>\n",
       "  <tbody>\n",
       "    <tr>\n",
       "      <th>0</th>\n",
       "      <td>John</td>\n",
       "      <td>25</td>\n",
       "      <td>M</td>\n",
       "    </tr>\n",
       "    <tr>\n",
       "      <th>1</th>\n",
       "      <td>Alice</td>\n",
       "      <td>30</td>\n",
       "      <td>F</td>\n",
       "    </tr>\n",
       "    <tr>\n",
       "      <th>2</th>\n",
       "      <td>Bob</td>\n",
       "      <td>35</td>\n",
       "      <td>M</td>\n",
       "    </tr>\n",
       "  </tbody>\n",
       "</table>\n",
       "</div>"
      ],
      "text/plain": [
       "      姓名  年龄 性别\n",
       "0   John  25  M\n",
       "1  Alice  30  F\n",
       "2    Bob  35  M"
      ]
     },
     "execution_count": 28,
     "metadata": {},
     "output_type": "execute_result"
    }
   ],
   "source": [
    "df6.drop_duplicates(subset=['姓名', '性别'])"
   ]
  },
  {
   "cell_type": "markdown",
   "id": "4279473d-ac21-40e7-a7d8-7a5a8afcb4bb",
   "metadata": {},
   "source": [
    "3. 可选参数keep\n",
    "\n",
    "   删除的时候，默认是删除第二次及之后出现的值。\n",
    "\n",
    "   但我们也可以把让可选参数keep='last'，这样会保留最后一个出现的值，删除掉之前出现的重复值"
   ]
  },
  {
   "cell_type": "code",
   "execution_count": 29,
   "id": "6770813f-7bbf-4903-b5f1-cc3094e3d055",
   "metadata": {},
   "outputs": [
    {
     "data": {
      "text/html": [
       "<div>\n",
       "<style scoped>\n",
       "    .dataframe tbody tr th:only-of-type {\n",
       "        vertical-align: middle;\n",
       "    }\n",
       "\n",
       "    .dataframe tbody tr th {\n",
       "        vertical-align: top;\n",
       "    }\n",
       "\n",
       "    .dataframe thead th {\n",
       "        text-align: right;\n",
       "    }\n",
       "</style>\n",
       "<table border=\"1\" class=\"dataframe\">\n",
       "  <thead>\n",
       "    <tr style=\"text-align: right;\">\n",
       "      <th></th>\n",
       "      <th>姓名</th>\n",
       "      <th>年龄</th>\n",
       "      <th>性别</th>\n",
       "    </tr>\n",
       "  </thead>\n",
       "  <tbody>\n",
       "    <tr>\n",
       "      <th>2</th>\n",
       "      <td>Bob</td>\n",
       "      <td>35</td>\n",
       "      <td>M</td>\n",
       "    </tr>\n",
       "    <tr>\n",
       "      <th>3</th>\n",
       "      <td>Alice</td>\n",
       "      <td>30</td>\n",
       "      <td>F</td>\n",
       "    </tr>\n",
       "    <tr>\n",
       "      <th>4</th>\n",
       "      <td>John</td>\n",
       "      <td>40</td>\n",
       "      <td>M</td>\n",
       "    </tr>\n",
       "  </tbody>\n",
       "</table>\n",
       "</div>"
      ],
      "text/plain": [
       "      姓名  年龄 性别\n",
       "2    Bob  35  M\n",
       "3  Alice  30  F\n",
       "4   John  40  M"
      ]
     },
     "execution_count": 29,
     "metadata": {},
     "output_type": "execute_result"
    }
   ],
   "source": [
    "df6.drop_duplicates(subset=['姓名', '性别'], keep='last')"
   ]
  },
  {
   "cell_type": "markdown",
   "id": "00204690-1854-4737-92cf-c5bd8866d6a3",
   "metadata": {
    "jp-MarkdownHeadingCollapsed": true
   },
   "source": [
    "### 三、处理不一致数据"
   ]
  },
  {
   "cell_type": "markdown",
   "id": "be570498-e1f8-4df5-a17b-2ea171d1b718",
   "metadata": {},
   "source": [
    "不一致数据是指，存在不同的值实际含义相同，或指代的是同一目标\n",
    "\n",
    "处理方法是，把数值都替换成统一的。"
   ]
  },
  {
   "cell_type": "code",
   "execution_count": 30,
   "id": "7377fc88-598c-4a57-a30b-5a696e4495f6",
   "metadata": {},
   "outputs": [
    {
     "data": {
      "text/html": [
       "<div>\n",
       "<style scoped>\n",
       "    .dataframe tbody tr th:only-of-type {\n",
       "        vertical-align: middle;\n",
       "    }\n",
       "\n",
       "    .dataframe tbody tr th {\n",
       "        vertical-align: top;\n",
       "    }\n",
       "\n",
       "    .dataframe thead th {\n",
       "        text-align: right;\n",
       "    }\n",
       "</style>\n",
       "<table border=\"1\" class=\"dataframe\">\n",
       "  <thead>\n",
       "    <tr style=\"text-align: right;\">\n",
       "      <th></th>\n",
       "      <th>姓名</th>\n",
       "      <th>家乡</th>\n",
       "      <th>学校</th>\n",
       "    </tr>\n",
       "  </thead>\n",
       "  <tbody>\n",
       "    <tr>\n",
       "      <th>0</th>\n",
       "      <td>小明</td>\n",
       "      <td>北京</td>\n",
       "      <td>北京大学</td>\n",
       "    </tr>\n",
       "    <tr>\n",
       "      <th>1</th>\n",
       "      <td>小红</td>\n",
       "      <td>上海</td>\n",
       "      <td>清华大学</td>\n",
       "    </tr>\n",
       "    <tr>\n",
       "      <th>2</th>\n",
       "      <td>小张</td>\n",
       "      <td>广州</td>\n",
       "      <td>华南理工</td>\n",
       "    </tr>\n",
       "    <tr>\n",
       "      <th>3</th>\n",
       "      <td>小李</td>\n",
       "      <td>深圳</td>\n",
       "      <td>清华</td>\n",
       "    </tr>\n",
       "  </tbody>\n",
       "</table>\n",
       "</div>"
      ],
      "text/plain": [
       "   姓名  家乡    学校\n",
       "0  小明  北京  北京大学\n",
       "1  小红  上海  清华大学\n",
       "2  小张  广州  华南理工\n",
       "3  小李  深圳    清华"
      ]
     },
     "execution_count": 30,
     "metadata": {},
     "output_type": "execute_result"
    }
   ],
   "source": [
    "data = {'姓名': ['小明', '小红', '小张', '小李'],\n",
    "        '家乡': ['北京', '上海', '广州', '深圳'],\n",
    "        '学校': ['北京大学', '清华大学', '华南理工', '清华']}\n",
    "df7 = pd.DataFrame(data)\n",
    "df7"
   ]
  },
  {
   "cell_type": "markdown",
   "id": "75e141b4-8d9f-4ce8-afc4-cf2bfe58d9be",
   "metadata": {},
   "source": [
    "#### (一)、replace方法用法"
   ]
  },
  {
   "cell_type": "markdown",
   "id": "45afcb21-9571-4101-8e3a-dc6763800add",
   "metadata": {},
   "source": [
    "可以用Series或DataFrame的replace方法，在Series和DataFrame上用法差不多\n",
    "\n",
    "1. replace方法参数是两个数字或字符串\n",
    "\n",
    "   表示想把前面值全部替换成后面值"
   ]
  },
  {
   "cell_type": "code",
   "execution_count": 31,
   "id": "b337da5f-37f7-4614-979e-1b829d8bc0be",
   "metadata": {},
   "outputs": [
    {
     "data": {
      "text/plain": [
       "0    北京大学\n",
       "1    清华大学\n",
       "2    华南理工\n",
       "3    清华大学\n",
       "Name: 学校, dtype: object"
      ]
     },
     "execution_count": 31,
     "metadata": {},
     "output_type": "execute_result"
    }
   ],
   "source": [
    "df7['学校'].replace('清华', '清华大学')"
   ]
  },
  {
   "cell_type": "code",
   "execution_count": 32,
   "id": "b33d301d-2767-4cff-b866-b2ada273349d",
   "metadata": {},
   "outputs": [
    {
     "data": {
      "text/html": [
       "<div>\n",
       "<style scoped>\n",
       "    .dataframe tbody tr th:only-of-type {\n",
       "        vertical-align: middle;\n",
       "    }\n",
       "\n",
       "    .dataframe tbody tr th {\n",
       "        vertical-align: top;\n",
       "    }\n",
       "\n",
       "    .dataframe thead th {\n",
       "        text-align: right;\n",
       "    }\n",
       "</style>\n",
       "<table border=\"1\" class=\"dataframe\">\n",
       "  <thead>\n",
       "    <tr style=\"text-align: right;\">\n",
       "      <th></th>\n",
       "      <th>姓名</th>\n",
       "      <th>家乡</th>\n",
       "      <th>学校</th>\n",
       "    </tr>\n",
       "  </thead>\n",
       "  <tbody>\n",
       "    <tr>\n",
       "      <th>0</th>\n",
       "      <td>小明</td>\n",
       "      <td>北京</td>\n",
       "      <td>北京大学</td>\n",
       "    </tr>\n",
       "    <tr>\n",
       "      <th>1</th>\n",
       "      <td>小红</td>\n",
       "      <td>上海</td>\n",
       "      <td>清华大学</td>\n",
       "    </tr>\n",
       "    <tr>\n",
       "      <th>2</th>\n",
       "      <td>小张</td>\n",
       "      <td>广州</td>\n",
       "      <td>华南理工</td>\n",
       "    </tr>\n",
       "    <tr>\n",
       "      <th>3</th>\n",
       "      <td>小李</td>\n",
       "      <td>深圳</td>\n",
       "      <td>清华大学</td>\n",
       "    </tr>\n",
       "  </tbody>\n",
       "</table>\n",
       "</div>"
      ],
      "text/plain": [
       "   姓名  家乡    学校\n",
       "0  小明  北京  北京大学\n",
       "1  小红  上海  清华大学\n",
       "2  小张  广州  华南理工\n",
       "3  小李  深圳  清华大学"
      ]
     },
     "execution_count": 32,
     "metadata": {},
     "output_type": "execute_result"
    }
   ],
   "source": [
    "df7.replace('清华', '清华大学')"
   ]
  },
  {
   "cell_type": "markdown",
   "id": "e5e629fb-29b9-4c34-ba1e-7a7e78476bf7",
   "metadata": {},
   "source": [
    "2. replace方法第一个参数是一个列表\n",
    "\n",
    "   那么列表里面所有值都会被替换成后面那个，这样就可以一次性，对多个不同指代词进行统一"
   ]
  },
  {
   "cell_type": "code",
   "execution_count": 33,
   "id": "ae5049c0-19de-4146-966b-d65ffc1ad404",
   "metadata": {},
   "outputs": [
    {
     "data": {
      "text/plain": [
       "0    北京大学\n",
       "1    清华大学\n",
       "2    华南理工\n",
       "3    清华大学\n",
       "Name: 学校, dtype: object"
      ]
     },
     "execution_count": 33,
     "metadata": {},
     "output_type": "execute_result"
    }
   ],
   "source": [
    "df7['学校'].replace(['清华', '五道口职业技术学院', 'Tsinghua University'],'清华大学')"
   ]
  },
  {
   "cell_type": "code",
   "execution_count": 34,
   "id": "745e84c8-875b-4715-9fe2-ab342429dfed",
   "metadata": {},
   "outputs": [
    {
     "data": {
      "text/html": [
       "<div>\n",
       "<style scoped>\n",
       "    .dataframe tbody tr th:only-of-type {\n",
       "        vertical-align: middle;\n",
       "    }\n",
       "\n",
       "    .dataframe tbody tr th {\n",
       "        vertical-align: top;\n",
       "    }\n",
       "\n",
       "    .dataframe thead th {\n",
       "        text-align: right;\n",
       "    }\n",
       "</style>\n",
       "<table border=\"1\" class=\"dataframe\">\n",
       "  <thead>\n",
       "    <tr style=\"text-align: right;\">\n",
       "      <th></th>\n",
       "      <th>姓名</th>\n",
       "      <th>家乡</th>\n",
       "      <th>学校</th>\n",
       "    </tr>\n",
       "  </thead>\n",
       "  <tbody>\n",
       "    <tr>\n",
       "      <th>0</th>\n",
       "      <td>小明</td>\n",
       "      <td>北京</td>\n",
       "      <td>北京大学</td>\n",
       "    </tr>\n",
       "    <tr>\n",
       "      <th>1</th>\n",
       "      <td>小红</td>\n",
       "      <td>上海</td>\n",
       "      <td>清华大学</td>\n",
       "    </tr>\n",
       "    <tr>\n",
       "      <th>2</th>\n",
       "      <td>小张</td>\n",
       "      <td>广州</td>\n",
       "      <td>华南理工</td>\n",
       "    </tr>\n",
       "    <tr>\n",
       "      <th>3</th>\n",
       "      <td>小李</td>\n",
       "      <td>深圳</td>\n",
       "      <td>清华大学</td>\n",
       "    </tr>\n",
       "  </tbody>\n",
       "</table>\n",
       "</div>"
      ],
      "text/plain": [
       "   姓名  家乡    学校\n",
       "0  小明  北京  北京大学\n",
       "1  小红  上海  清华大学\n",
       "2  小张  广州  华南理工\n",
       "3  小李  深圳  清华大学"
      ]
     },
     "execution_count": 34,
     "metadata": {},
     "output_type": "execute_result"
    }
   ],
   "source": [
    "df7.replace(['清华', '五道口职业技术学院', 'Tsinghua University'],'清华大学')"
   ]
  },
  {
   "cell_type": "markdown",
   "id": "950a3ee3-a6c1-434f-9264-3838e469bbf5",
   "metadata": {},
   "source": [
    "3. replace方法参数是单个字典\n",
    "\n",
    "   去指定不同的值要被什么值替换"
   ]
  },
  {
   "cell_type": "code",
   "execution_count": 36,
   "id": "d149922d-c937-4a75-91db-81a6277d5825",
   "metadata": {},
   "outputs": [
    {
     "data": {
      "text/html": [
       "<div>\n",
       "<style scoped>\n",
       "    .dataframe tbody tr th:only-of-type {\n",
       "        vertical-align: middle;\n",
       "    }\n",
       "\n",
       "    .dataframe tbody tr th {\n",
       "        vertical-align: top;\n",
       "    }\n",
       "\n",
       "    .dataframe thead th {\n",
       "        text-align: right;\n",
       "    }\n",
       "</style>\n",
       "<table border=\"1\" class=\"dataframe\">\n",
       "  <thead>\n",
       "    <tr style=\"text-align: right;\">\n",
       "      <th></th>\n",
       "      <th>姓名</th>\n",
       "      <th>家乡</th>\n",
       "      <th>学校</th>\n",
       "    </tr>\n",
       "  </thead>\n",
       "  <tbody>\n",
       "    <tr>\n",
       "      <th>0</th>\n",
       "      <td>小明</td>\n",
       "      <td>北京</td>\n",
       "      <td>北京大学</td>\n",
       "    </tr>\n",
       "    <tr>\n",
       "      <th>1</th>\n",
       "      <td>小红</td>\n",
       "      <td>上海</td>\n",
       "      <td>清华大学</td>\n",
       "    </tr>\n",
       "    <tr>\n",
       "      <th>2</th>\n",
       "      <td>小张</td>\n",
       "      <td>广州</td>\n",
       "      <td>华南理工大学</td>\n",
       "    </tr>\n",
       "    <tr>\n",
       "      <th>3</th>\n",
       "      <td>小李</td>\n",
       "      <td>深圳</td>\n",
       "      <td>清华大学</td>\n",
       "    </tr>\n",
       "  </tbody>\n",
       "</table>\n",
       "</div>"
      ],
      "text/plain": [
       "   姓名  家乡      学校\n",
       "0  小明  北京    北京大学\n",
       "1  小红  上海    清华大学\n",
       "2  小张  广州  华南理工大学\n",
       "3  小李  深圳    清华大学"
      ]
     },
     "execution_count": 36,
     "metadata": {},
     "output_type": "execute_result"
    }
   ],
   "source": [
    "replace_dict = {'华南理工': '华南理工大学', \n",
    "               '清华': '清华大学', \n",
    "               '北大': '北京大学', \n",
    "               '中大': '中山大学'}\n",
    "df7.replace(replace_dict)"
   ]
  },
  {
   "cell_type": "markdown",
   "id": "143f8259-2a1b-4b20-ac0a-0225c479afa8",
   "metadata": {},
   "source": [
    "### 四、进行数据类型转换"
   ]
  },
  {
   "cell_type": "markdown",
   "id": "bab017cc-f3c9-440c-8a4a-8028d9be58f4",
   "metadata": {},
   "source": [
    "数据类型转换，在很多时候是有必要，因为某些方法只能用在特定类型的数据上。比如说：不能对字符串求平均值\n",
    "\n",
    "1. Series的astype方法\n",
    "\n",
    "参数为数据类型，比如int、float、str、bool等，调用后，返回的新Series里的数据就被转换成了那个类型"
   ]
  },
  {
   "cell_type": "code",
   "execution_count": 38,
   "id": "4b875009-aa73-4a11-9efe-ab61094993f1",
   "metadata": {},
   "outputs": [
    {
     "data": {
      "text/plain": [
       "0    1.0\n",
       "1    2.0\n",
       "2    3.0\n",
       "dtype: float64"
      ]
     },
     "execution_count": 38,
     "metadata": {},
     "output_type": "execute_result"
    }
   ],
   "source": [
    "s1 = pd.Series([1, 2, 3])\n",
    "s1.astype(float)"
   ]
  },
  {
   "cell_type": "markdown",
   "id": "1478e0a1-e6b6-4469-bdb0-8267164d865f",
   "metadata": {},
   "source": [
    "2. type函数\n",
    "\n",
    "在Python里面，如果你想知道数据类型，可以调用type函数"
   ]
  },
  {
   "cell_type": "markdown",
   "id": "af2407da-b6da-4676-bcbf-f603801c1f95",
   "metadata": {},
   "source": [
    "3. Pandas的数据类型category\n",
    "\n",
    "   数据可以被划分为两种类型，分类数据和数值数据。\n",
    "\n",
    "   分类数据，指的是包含有限数量的不同类别的数据，比如：出生时的性别，就两种，是有限的；奥运会的奖牌，金银铜，也是有限的\n",
    "\n",
    "   数值数据，指的是测量出的观测值，是某个具体的数值，种类不受限制。比如：0到1之间就有无限个数字，那对它进行求和或求平均值等数学运算也是有意义的\n",
    "\n",
    "   当分类数据种类有限时，Pandas会推荐把它们转换成category这个数据类型。\n",
    "\n",
    "   好处：节约内存空间，并且在后续分析或可视化的时候，也有利于让Pandas自动选用合适的统计方法或图标类型\n",
    "\n",
    "   **category不是Python自带的类型名称，而是Pandas库里面的，所以我们在用astype进行转换的时候，要传入一个用引号包围的category，不然Python不认**"
   ]
  },
  {
   "cell_type": "code",
   "execution_count": 39,
   "id": "40096603-f83d-4f31-bf23-942d03907932",
   "metadata": {
    "scrolled": true
   },
   "outputs": [
    {
     "data": {
      "text/plain": [
       "0    红色\n",
       "1    红色\n",
       "2    橙色\n",
       "3    蓝色\n",
       "dtype: category\n",
       "Categories (3, object): ['橙色', '红色', '蓝色']"
      ]
     },
     "execution_count": 39,
     "metadata": {},
     "output_type": "execute_result"
    }
   ],
   "source": [
    "s2 = pd.Series([\"红色\", \"红色\", \"橙色\", \"蓝色\"])\n",
    "s2.astype('category')"
   ]
  },
  {
   "cell_type": "markdown",
   "id": "9f62e994-b25c-4389-8194-30c2df42d86f",
   "metadata": {},
   "source": [
    "4. 转换成datetime日期时间类型\n",
    "\n",
    "   可以用Pandas的to_datetime方法，参数传入Series，可以返回转换成日期时间类型的Series"
   ]
  },
  {
   "cell_type": "code",
   "execution_count": 13,
   "id": "3cbd1454-90b2-4416-9a4e-9f773595daa2",
   "metadata": {},
   "outputs": [
    {
     "data": {
      "text/plain": [
       "001   2005-01-01\n",
       "002   2005-01-02\n",
       "003   2005-01-03\n",
       "004   2023-09-15\n",
       "Name: 日期, dtype: datetime64[ns]"
      ]
     },
     "execution_count": 13,
     "metadata": {},
     "output_type": "execute_result"
    }
   ],
   "source": [
    "df3['日期'] = pd.to_datetime(df3['日期'])\n",
    "df3.日期"
   ]
  },
  {
   "cell_type": "code",
   "execution_count": null,
   "id": "a5e2c04e-828d-458d-b09c-2b5f40414e1e",
   "metadata": {},
   "outputs": [],
   "source": [
    "!jupyter nbconvert "
   ]
  }
 ],
 "metadata": {
  "kernelspec": {
   "display_name": "Python 3 (ipykernel)",
   "language": "python",
   "name": "python3"
  },
  "language_info": {
   "codemirror_mode": {
    "name": "ipython",
    "version": 3
   },
   "file_extension": ".py",
   "mimetype": "text/x-python",
   "name": "python",
   "nbconvert_exporter": "python",
   "pygments_lexer": "ipython3",
   "version": "3.11.1"
  }
 },
 "nbformat": 4,
 "nbformat_minor": 5
}
