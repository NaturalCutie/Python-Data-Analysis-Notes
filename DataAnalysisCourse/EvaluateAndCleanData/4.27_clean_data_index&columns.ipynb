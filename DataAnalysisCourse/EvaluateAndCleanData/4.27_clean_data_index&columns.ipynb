{
 "cells": [
  {
   "cell_type": "markdown",
   "id": "ea4d2c7c-f789-400c-a84b-97578086549e",
   "metadata": {},
   "source": [
    "# **4.27_clean_data_index&columns**"
   ]
  },
  {
   "cell_type": "code",
   "execution_count": 1,
   "id": "95492cc9-6e8a-477a-aeec-7f5129473dc9",
   "metadata": {},
   "outputs": [],
   "source": [
    "import pandas as pd"
   ]
  },
  {
   "cell_type": "markdown",
   "id": "76155665-281b-432d-bc22-7dfe2ad13df6",
   "metadata": {},
   "source": [
    "### 一、 重命名索引和列名(使用字典)"
   ]
  },
  {
   "cell_type": "markdown",
   "id": "dc5925c1-dd54-45d4-bab3-76cf19199398",
   "metadata": {},
   "source": [
    "DataFrame的rename方法，rename方法会返回一个新的DataFrame\n",
    "\n",
    "适用于列名或索引数量少的情况"
   ]
  },
  {
   "cell_type": "code",
   "execution_count": 8,
   "id": "bd645a15-15ed-46b7-8350-e44f68b15dea",
   "metadata": {},
   "outputs": [
    {
     "data": {
      "text/html": [
       "<div>\n",
       "<style scoped>\n",
       "    .dataframe tbody tr th:only-of-type {\n",
       "        vertical-align: middle;\n",
       "    }\n",
       "\n",
       "    .dataframe tbody tr th {\n",
       "        vertical-align: top;\n",
       "    }\n",
       "\n",
       "    .dataframe thead th {\n",
       "        text-align: right;\n",
       "    }\n",
       "</style>\n",
       "<table border=\"1\" class=\"dataframe\">\n",
       "  <thead>\n",
       "    <tr style=\"text-align: right;\">\n",
       "      <th></th>\n",
       "      <th>客户_姓名</th>\n",
       "      <th>客户 性别</th>\n",
       "      <th>age</th>\n",
       "      <th>邮箱</th>\n",
       "    </tr>\n",
       "  </thead>\n",
       "  <tbody>\n",
       "    <tr>\n",
       "      <th>1</th>\n",
       "      <td>李十</td>\n",
       "      <td>女</td>\n",
       "      <td>58</td>\n",
       "      <td>yVaQXekW@example.com</td>\n",
       "    </tr>\n",
       "    <tr>\n",
       "      <th>2_</th>\n",
       "      <td>冯三</td>\n",
       "      <td>男</td>\n",
       "      <td>27</td>\n",
       "      <td>LctXbrEM@example.com</td>\n",
       "    </tr>\n",
       "    <tr>\n",
       "      <th>3</th>\n",
       "      <td>吴十</td>\n",
       "      <td>男</td>\n",
       "      <td>32</td>\n",
       "      <td>UyTYBzUZ@example.com</td>\n",
       "    </tr>\n",
       "    <tr>\n",
       "      <th>4</th>\n",
       "      <td>王十</td>\n",
       "      <td>女</td>\n",
       "      <td>58</td>\n",
       "      <td>KCixgciF@example.com</td>\n",
       "    </tr>\n",
       "    <tr>\n",
       "      <th>_5</th>\n",
       "      <td>钱十</td>\n",
       "      <td>女</td>\n",
       "      <td>27</td>\n",
       "      <td>nqRBXOtA@example.com</td>\n",
       "    </tr>\n",
       "    <tr>\n",
       "      <th>6*</th>\n",
       "      <td>赵八</td>\n",
       "      <td>女</td>\n",
       "      <td>51</td>\n",
       "      <td>GyKwILAL@example.com</td>\n",
       "    </tr>\n",
       "  </tbody>\n",
       "</table>\n",
       "</div>"
      ],
      "text/plain": [
       "   客户_姓名 客户 性别  age                    邮箱\n",
       "1     李十     女   58  yVaQXekW@example.com\n",
       "2_    冯三     男   27  LctXbrEM@example.com\n",
       "3     吴十     男   32  UyTYBzUZ@example.com\n",
       "4     王十     女   58  KCixgciF@example.com\n",
       "_5    钱十     女   27  nqRBXOtA@example.com\n",
       "6*    赵八     女   51  GyKwILAL@example.com"
      ]
     },
     "execution_count": 8,
     "metadata": {},
     "output_type": "execute_result"
    }
   ],
   "source": [
    "df1 = pd.read_csv('example1.csv', index_col=0)\n",
    "df1"
   ]
  },
  {
   "cell_type": "markdown",
   "id": "3fe5c1e2-5781-483e-8873-cc3952c65d91",
   "metadata": {},
   "source": [
    "#### (一)、重命名索引"
   ]
  },
  {
   "cell_type": "markdown",
   "id": "6135ceda-95b4-404f-8377-e5d5cea0d41b",
   "metadata": {},
   "source": [
    " 放入可选参数index，并赋值为一个字典。\n",
    "\n",
    " 字典中，把需要修改的老的名字作为键，把对应的新的名字作为值。"
   ]
  },
  {
   "cell_type": "code",
   "execution_count": 9,
   "id": "c1b5cfa2-e704-4831-ae72-f19e60ea91cb",
   "metadata": {},
   "outputs": [
    {
     "data": {
      "text/html": [
       "<div>\n",
       "<style scoped>\n",
       "    .dataframe tbody tr th:only-of-type {\n",
       "        vertical-align: middle;\n",
       "    }\n",
       "\n",
       "    .dataframe tbody tr th {\n",
       "        vertical-align: top;\n",
       "    }\n",
       "\n",
       "    .dataframe thead th {\n",
       "        text-align: right;\n",
       "    }\n",
       "</style>\n",
       "<table border=\"1\" class=\"dataframe\">\n",
       "  <thead>\n",
       "    <tr style=\"text-align: right;\">\n",
       "      <th></th>\n",
       "      <th>客户_姓名</th>\n",
       "      <th>客户 性别</th>\n",
       "      <th>age</th>\n",
       "      <th>邮箱</th>\n",
       "    </tr>\n",
       "  </thead>\n",
       "  <tbody>\n",
       "    <tr>\n",
       "      <th>1</th>\n",
       "      <td>李十</td>\n",
       "      <td>女</td>\n",
       "      <td>58</td>\n",
       "      <td>yVaQXekW@example.com</td>\n",
       "    </tr>\n",
       "    <tr>\n",
       "      <th>2</th>\n",
       "      <td>冯三</td>\n",
       "      <td>男</td>\n",
       "      <td>27</td>\n",
       "      <td>LctXbrEM@example.com</td>\n",
       "    </tr>\n",
       "    <tr>\n",
       "      <th>3</th>\n",
       "      <td>吴十</td>\n",
       "      <td>男</td>\n",
       "      <td>32</td>\n",
       "      <td>UyTYBzUZ@example.com</td>\n",
       "    </tr>\n",
       "    <tr>\n",
       "      <th>4</th>\n",
       "      <td>王十</td>\n",
       "      <td>女</td>\n",
       "      <td>58</td>\n",
       "      <td>KCixgciF@example.com</td>\n",
       "    </tr>\n",
       "    <tr>\n",
       "      <th>5</th>\n",
       "      <td>钱十</td>\n",
       "      <td>女</td>\n",
       "      <td>27</td>\n",
       "      <td>nqRBXOtA@example.com</td>\n",
       "    </tr>\n",
       "    <tr>\n",
       "      <th>6</th>\n",
       "      <td>赵八</td>\n",
       "      <td>女</td>\n",
       "      <td>51</td>\n",
       "      <td>GyKwILAL@example.com</td>\n",
       "    </tr>\n",
       "  </tbody>\n",
       "</table>\n",
       "</div>"
      ],
      "text/plain": [
       "  客户_姓名 客户 性别  age                    邮箱\n",
       "1    李十     女   58  yVaQXekW@example.com\n",
       "2    冯三     男   27  LctXbrEM@example.com\n",
       "3    吴十     男   32  UyTYBzUZ@example.com\n",
       "4    王十     女   58  KCixgciF@example.com\n",
       "5    钱十     女   27  nqRBXOtA@example.com\n",
       "6    赵八     女   51  GyKwILAL@example.com"
      ]
     },
     "execution_count": 9,
     "metadata": {},
     "output_type": "execute_result"
    }
   ],
   "source": [
    "df1 = df1.rename(index={'2_': '2', '_5': '5', '6*': '6'})\n",
    "df1"
   ]
  },
  {
   "cell_type": "markdown",
   "id": "2614bf82-f07d-4008-bd3d-6f6ba9acd713",
   "metadata": {},
   "source": [
    "#### (二)、重命名列名"
   ]
  },
  {
   "cell_type": "markdown",
   "id": "89cf8180-a8d7-4e5c-ab25-8d04119bc581",
   "metadata": {},
   "source": [
    "放入可选参数columns，并赋值为一个字典\n",
    "\n",
    "字典中，把需要修改的老的名字作为键，把对应的新的名字作为值。"
   ]
  },
  {
   "cell_type": "code",
   "execution_count": 11,
   "id": "e45f0d09-e38a-4a8e-8d84-16f02993c803",
   "metadata": {},
   "outputs": [
    {
     "data": {
      "text/html": [
       "<div>\n",
       "<style scoped>\n",
       "    .dataframe tbody tr th:only-of-type {\n",
       "        vertical-align: middle;\n",
       "    }\n",
       "\n",
       "    .dataframe tbody tr th {\n",
       "        vertical-align: top;\n",
       "    }\n",
       "\n",
       "    .dataframe thead th {\n",
       "        text-align: right;\n",
       "    }\n",
       "</style>\n",
       "<table border=\"1\" class=\"dataframe\">\n",
       "  <thead>\n",
       "    <tr style=\"text-align: right;\">\n",
       "      <th></th>\n",
       "      <th>客户姓名</th>\n",
       "      <th>客户性别</th>\n",
       "      <th>客户年龄</th>\n",
       "      <th>客户邮箱</th>\n",
       "    </tr>\n",
       "  </thead>\n",
       "  <tbody>\n",
       "    <tr>\n",
       "      <th>1</th>\n",
       "      <td>李十</td>\n",
       "      <td>女</td>\n",
       "      <td>58</td>\n",
       "      <td>yVaQXekW@example.com</td>\n",
       "    </tr>\n",
       "    <tr>\n",
       "      <th>2</th>\n",
       "      <td>冯三</td>\n",
       "      <td>男</td>\n",
       "      <td>27</td>\n",
       "      <td>LctXbrEM@example.com</td>\n",
       "    </tr>\n",
       "    <tr>\n",
       "      <th>3</th>\n",
       "      <td>吴十</td>\n",
       "      <td>男</td>\n",
       "      <td>32</td>\n",
       "      <td>UyTYBzUZ@example.com</td>\n",
       "    </tr>\n",
       "    <tr>\n",
       "      <th>4</th>\n",
       "      <td>王十</td>\n",
       "      <td>女</td>\n",
       "      <td>58</td>\n",
       "      <td>KCixgciF@example.com</td>\n",
       "    </tr>\n",
       "    <tr>\n",
       "      <th>5</th>\n",
       "      <td>钱十</td>\n",
       "      <td>女</td>\n",
       "      <td>27</td>\n",
       "      <td>nqRBXOtA@example.com</td>\n",
       "    </tr>\n",
       "    <tr>\n",
       "      <th>6</th>\n",
       "      <td>赵八</td>\n",
       "      <td>女</td>\n",
       "      <td>51</td>\n",
       "      <td>GyKwILAL@example.com</td>\n",
       "    </tr>\n",
       "  </tbody>\n",
       "</table>\n",
       "</div>"
      ],
      "text/plain": [
       "  客户姓名 客户性别  客户年龄                  客户邮箱\n",
       "1   李十    女    58  yVaQXekW@example.com\n",
       "2   冯三    男    27  LctXbrEM@example.com\n",
       "3   吴十    男    32  UyTYBzUZ@example.com\n",
       "4   王十    女    58  KCixgciF@example.com\n",
       "5   钱十    女    27  nqRBXOtA@example.com\n",
       "6   赵八    女    51  GyKwILAL@example.com"
      ]
     },
     "execution_count": 11,
     "metadata": {},
     "output_type": "execute_result"
    }
   ],
   "source": [
    "df1 = df1.rename(columns={'客户_姓名': '客户姓名', '客户 性别': '客户性别', 'age': '客户年龄', '邮箱': '客户邮箱'})\n",
    "df1"
   ]
  },
  {
   "cell_type": "markdown",
   "id": "4b3a6647-65dc-4a05-ad96-a6b59fd77a40",
   "metadata": {},
   "source": [
    "### 二、重命名索引和列名(函数/方法)"
   ]
  },
  {
   "cell_type": "markdown",
   "id": "7d4c5d91-df6f-4ba1-bb54-6f5efcb4c2ba",
   "metadata": {},
   "source": [
    "rename方法，除了传入字典，还可以传入一个针对Series的函数或方法，可以是Pandas库里面的，也可以是我们自行定义的\n",
    "\n",
    "```python\n",
    "df2.rename(index=函数/方法)\n",
    "df2.rename(columns=函数/方法)\n",
    "```\n",
    "\n",
    "这个函数/方法会把原本索引或列名作为参数，然后返回新的名字。\n",
    "\n",
    "举个例子:"
   ]
  },
  {
   "cell_type": "markdown",
   "id": "6661f14c-8ec7-4cc7-8152-4e0c76e4862c",
   "metadata": {},
   "source": [
    "#### (一)、把所有列名变成大写"
   ]
  },
  {
   "cell_type": "markdown",
   "id": "7be2a235-f5be-466d-bb18-77fc4af92147",
   "metadata": {},
   "source": [
    "可以给columns这个可选参数，传入str.upper方法\n",
    "\n",
    "str是Series类自带的一个属性，会返回一个包含了很多字符串相关操作方法的,StringMethods类的实例(返回实例才可以调用方法)，对这个StringMethods实例调用upper方法，就会把Series里所有字符变成大写。"
   ]
  },
  {
   "cell_type": "code",
   "execution_count": 20,
   "id": "8030b912-1628-42ba-a5ab-6970153d88bc",
   "metadata": {},
   "outputs": [
    {
     "data": {
      "text/plain": [
       "0    hello\n",
       "1     this\n",
       "2       is\n",
       "3    Zheng\n",
       "dtype: object"
      ]
     },
     "execution_count": 20,
     "metadata": {},
     "output_type": "execute_result"
    }
   ],
   "source": [
    "s1 = pd.Series([\"hello\", \"this\", \"is\", \"Zheng\"])\n",
    "s1"
   ]
  },
  {
   "cell_type": "code",
   "execution_count": 21,
   "id": "3f91e496-113f-4e57-b8b7-a84cfe253024",
   "metadata": {},
   "outputs": [
    {
     "data": {
      "text/plain": [
       "<pandas.core.strings.accessor.StringMethods at 0x1e6708d9710>"
      ]
     },
     "execution_count": 21,
     "metadata": {},
     "output_type": "execute_result"
    }
   ],
   "source": [
    "s1.str"
   ]
  },
  {
   "cell_type": "code",
   "execution_count": 22,
   "id": "3dde4247-59b9-4993-8614-8bced211c1ed",
   "metadata": {},
   "outputs": [
    {
     "data": {
      "text/plain": [
       "0    HELLO\n",
       "1     THIS\n",
       "2       IS\n",
       "3    ZHENG\n",
       "dtype: object"
      ]
     },
     "execution_count": 22,
     "metadata": {},
     "output_type": "execute_result"
    }
   ],
   "source": [
    "s1.str.upper()"
   ]
  },
  {
   "cell_type": "markdown",
   "id": "cc2f03ec-eeef-4058-a876-ffd49bfc185c",
   "metadata": {},
   "source": [
    "作为columns参数的值，传给rename，执行后就会返回一个列名全变成了大写的DataFrame"
   ]
  },
  {
   "cell_type": "code",
   "execution_count": 23,
   "id": "178b9b69-4f3d-4fb5-9721-d01d572bc80c",
   "metadata": {},
   "outputs": [
    {
     "data": {
      "text/html": [
       "<div>\n",
       "<style scoped>\n",
       "    .dataframe tbody tr th:only-of-type {\n",
       "        vertical-align: middle;\n",
       "    }\n",
       "\n",
       "    .dataframe tbody tr th {\n",
       "        vertical-align: top;\n",
       "    }\n",
       "\n",
       "    .dataframe thead th {\n",
       "        text-align: right;\n",
       "    }\n",
       "</style>\n",
       "<table border=\"1\" class=\"dataframe\">\n",
       "  <thead>\n",
       "    <tr style=\"text-align: right;\">\n",
       "      <th></th>\n",
       "      <th>Date</th>\n",
       "      <th>Amount</th>\n",
       "      <th>Salesperson</th>\n",
       "      <th>Location</th>\n",
       "    </tr>\n",
       "  </thead>\n",
       "  <tbody>\n",
       "    <tr>\n",
       "      <th>0</th>\n",
       "      <td>2022-01-01</td>\n",
       "      <td>1000</td>\n",
       "      <td>Alice</td>\n",
       "      <td>New York</td>\n",
       "    </tr>\n",
       "    <tr>\n",
       "      <th>1</th>\n",
       "      <td>2022-01-02</td>\n",
       "      <td>1500</td>\n",
       "      <td>Bob</td>\n",
       "      <td>San Francisco</td>\n",
       "    </tr>\n",
       "    <tr>\n",
       "      <th>2</th>\n",
       "      <td>2022-01-03</td>\n",
       "      <td>800</td>\n",
       "      <td>Charlie</td>\n",
       "      <td>New York</td>\n",
       "    </tr>\n",
       "    <tr>\n",
       "      <th>3</th>\n",
       "      <td>2022-01-04</td>\n",
       "      <td>1200</td>\n",
       "      <td>David</td>\n",
       "      <td>San Francisco</td>\n",
       "    </tr>\n",
       "  </tbody>\n",
       "</table>\n",
       "</div>"
      ],
      "text/plain": [
       "         Date  Amount Salesperson       Location\n",
       "0  2022-01-01    1000       Alice       New York\n",
       "1  2022-01-02    1500         Bob  San Francisco\n",
       "2  2022-01-03     800     Charlie       New York\n",
       "3  2022-01-04    1200       David  San Francisco"
      ]
     },
     "execution_count": 23,
     "metadata": {},
     "output_type": "execute_result"
    }
   ],
   "source": [
    "df2 = pd.read_csv(\"example2.csv\")\n",
    "df2"
   ]
  },
  {
   "cell_type": "code",
   "execution_count": 24,
   "id": "dd8d9685-cedf-4f14-827f-ad427ac89ac7",
   "metadata": {},
   "outputs": [
    {
     "data": {
      "text/html": [
       "<div>\n",
       "<style scoped>\n",
       "    .dataframe tbody tr th:only-of-type {\n",
       "        vertical-align: middle;\n",
       "    }\n",
       "\n",
       "    .dataframe tbody tr th {\n",
       "        vertical-align: top;\n",
       "    }\n",
       "\n",
       "    .dataframe thead th {\n",
       "        text-align: right;\n",
       "    }\n",
       "</style>\n",
       "<table border=\"1\" class=\"dataframe\">\n",
       "  <thead>\n",
       "    <tr style=\"text-align: right;\">\n",
       "      <th></th>\n",
       "      <th>DATE</th>\n",
       "      <th>AMOUNT</th>\n",
       "      <th>SALESPERSON</th>\n",
       "      <th>LOCATION</th>\n",
       "    </tr>\n",
       "  </thead>\n",
       "  <tbody>\n",
       "    <tr>\n",
       "      <th>0</th>\n",
       "      <td>2022-01-01</td>\n",
       "      <td>1000</td>\n",
       "      <td>Alice</td>\n",
       "      <td>New York</td>\n",
       "    </tr>\n",
       "    <tr>\n",
       "      <th>1</th>\n",
       "      <td>2022-01-02</td>\n",
       "      <td>1500</td>\n",
       "      <td>Bob</td>\n",
       "      <td>San Francisco</td>\n",
       "    </tr>\n",
       "    <tr>\n",
       "      <th>2</th>\n",
       "      <td>2022-01-03</td>\n",
       "      <td>800</td>\n",
       "      <td>Charlie</td>\n",
       "      <td>New York</td>\n",
       "    </tr>\n",
       "    <tr>\n",
       "      <th>3</th>\n",
       "      <td>2022-01-04</td>\n",
       "      <td>1200</td>\n",
       "      <td>David</td>\n",
       "      <td>San Francisco</td>\n",
       "    </tr>\n",
       "  </tbody>\n",
       "</table>\n",
       "</div>"
      ],
      "text/plain": [
       "         DATE  AMOUNT SALESPERSON       LOCATION\n",
       "0  2022-01-01    1000       Alice       New York\n",
       "1  2022-01-02    1500         Bob  San Francisco\n",
       "2  2022-01-03     800     Charlie       New York\n",
       "3  2022-01-04    1200       David  San Francisco"
      ]
     },
     "execution_count": 24,
     "metadata": {},
     "output_type": "execute_result"
    }
   ],
   "source": [
    "df2.rename(columns=str.upper)"
   ]
  },
  {
   "cell_type": "markdown",
   "id": "bbb4a588-a84f-4512-93e6-7bcd9514d2eb",
   "metadata": {},
   "source": [
    "#### (二)、其他操作"
   ]
  },
  {
   "cell_type": "markdown",
   "id": "32a1353f-910b-4a1f-a02c-5b64af4da748",
   "metadata": {},
   "source": [
    "1. 如果想了解其它对字符串Series调用的方法，可以查看Pandas官方文档\n",
    "\n",
    "   像这些所有以pandas.Series.str开头的，都是可以用在Pandas Series上的字符串操作\n",
    "\n",
    "    所有Series的方法相关文档:\n",
    "\n",
    "   https://pandas.pydata.org/docs/reference/api/pandas.Series.html\n",
    "\n",
    "2. 所有DataFrame的方法相关文档:\n",
    "\n",
    "   https://pandas.pydata.org/docs/reference/api/pandas.DataFrame.html\n",
    "\n",
    "3. Pandas 官万文档: https://pandas.pydata.org/docs/reference\n",
    "\n",
    "   里面有所有 Pandas 库里面的类、类方法、类属性介绍等等。包括Series、DataFrame等"
   ]
  },
  {
   "cell_type": "markdown",
   "id": "6e6fc3e6-ccd1-4cd2-b5ae-fe6d0b1ff6f3",
   "metadata": {},
   "source": [
    "### 三、设置索引"
   ]
  },
  {
   "cell_type": "markdown",
   "id": "01bfe512-837f-4208-a95e-5826fe1841a2",
   "metadata": {},
   "source": [
    "#### (一)、把某列设为索引"
   ]
  },
  {
   "cell_type": "markdown",
   "id": "7ac9f92e-d065-42ba-bcec-fc8950451e32",
   "metadata": {},
   "source": [
    "set_index方法，可以直接把某列属性的值用来作为索引，里面直接传入列名，会返回一个新的DataFrame，其索引变成了那列的值"
   ]
  },
  {
   "cell_type": "code",
   "execution_count": 28,
   "id": "0884d3e0-436f-4873-9f41-c638b279ac9f",
   "metadata": {},
   "outputs": [
    {
     "data": {
      "text/html": [
       "<div>\n",
       "<style scoped>\n",
       "    .dataframe tbody tr th:only-of-type {\n",
       "        vertical-align: middle;\n",
       "    }\n",
       "\n",
       "    .dataframe tbody tr th {\n",
       "        vertical-align: top;\n",
       "    }\n",
       "\n",
       "    .dataframe thead th {\n",
       "        text-align: right;\n",
       "    }\n",
       "</style>\n",
       "<table border=\"1\" class=\"dataframe\">\n",
       "  <thead>\n",
       "    <tr style=\"text-align: right;\">\n",
       "      <th></th>\n",
       "      <th>Date</th>\n",
       "      <th>Amount</th>\n",
       "      <th>Location</th>\n",
       "    </tr>\n",
       "    <tr>\n",
       "      <th>Salesperson</th>\n",
       "      <th></th>\n",
       "      <th></th>\n",
       "      <th></th>\n",
       "    </tr>\n",
       "  </thead>\n",
       "  <tbody>\n",
       "    <tr>\n",
       "      <th>Alice</th>\n",
       "      <td>2022-01-01</td>\n",
       "      <td>1000</td>\n",
       "      <td>New York</td>\n",
       "    </tr>\n",
       "    <tr>\n",
       "      <th>Bob</th>\n",
       "      <td>2022-01-02</td>\n",
       "      <td>1500</td>\n",
       "      <td>San Francisco</td>\n",
       "    </tr>\n",
       "    <tr>\n",
       "      <th>Charlie</th>\n",
       "      <td>2022-01-03</td>\n",
       "      <td>800</td>\n",
       "      <td>New York</td>\n",
       "    </tr>\n",
       "    <tr>\n",
       "      <th>David</th>\n",
       "      <td>2022-01-04</td>\n",
       "      <td>1200</td>\n",
       "      <td>San Francisco</td>\n",
       "    </tr>\n",
       "  </tbody>\n",
       "</table>\n",
       "</div>"
      ],
      "text/plain": [
       "                   Date  Amount       Location\n",
       "Salesperson                                   \n",
       "Alice        2022-01-01    1000       New York\n",
       "Bob          2022-01-02    1500  San Francisco\n",
       "Charlie      2022-01-03     800       New York\n",
       "David        2022-01-04    1200  San Francisco"
      ]
     },
     "execution_count": 28,
     "metadata": {},
     "output_type": "execute_result"
    }
   ],
   "source": [
    "df3 = df2.set_index('Salesperson')\n",
    "df3"
   ]
  },
  {
   "cell_type": "markdown",
   "id": "d34d3513-8143-423e-a619-3871e72935b0",
   "metadata": {},
   "source": [
    "#### (二)、重置索引"
   ]
  },
  {
   "cell_type": "markdown",
   "id": "33668a07-d107-4b85-a78f-3491277031ed",
   "metadata": {},
   "source": [
    "reset_index方法，相当于做的和set_index相反的事，即把索引重设为初始默认的位置索引，并且把原本作为index的值变成单独一列"
   ]
  },
  {
   "cell_type": "code",
   "execution_count": 29,
   "id": "af633332-e9d0-46c1-8323-804c7c1eb4bf",
   "metadata": {},
   "outputs": [
    {
     "data": {
      "text/html": [
       "<div>\n",
       "<style scoped>\n",
       "    .dataframe tbody tr th:only-of-type {\n",
       "        vertical-align: middle;\n",
       "    }\n",
       "\n",
       "    .dataframe tbody tr th {\n",
       "        vertical-align: top;\n",
       "    }\n",
       "\n",
       "    .dataframe thead th {\n",
       "        text-align: right;\n",
       "    }\n",
       "</style>\n",
       "<table border=\"1\" class=\"dataframe\">\n",
       "  <thead>\n",
       "    <tr style=\"text-align: right;\">\n",
       "      <th></th>\n",
       "      <th>Salesperson</th>\n",
       "      <th>Date</th>\n",
       "      <th>Amount</th>\n",
       "      <th>Location</th>\n",
       "    </tr>\n",
       "  </thead>\n",
       "  <tbody>\n",
       "    <tr>\n",
       "      <th>0</th>\n",
       "      <td>Alice</td>\n",
       "      <td>2022-01-01</td>\n",
       "      <td>1000</td>\n",
       "      <td>New York</td>\n",
       "    </tr>\n",
       "    <tr>\n",
       "      <th>1</th>\n",
       "      <td>Bob</td>\n",
       "      <td>2022-01-02</td>\n",
       "      <td>1500</td>\n",
       "      <td>San Francisco</td>\n",
       "    </tr>\n",
       "    <tr>\n",
       "      <th>2</th>\n",
       "      <td>Charlie</td>\n",
       "      <td>2022-01-03</td>\n",
       "      <td>800</td>\n",
       "      <td>New York</td>\n",
       "    </tr>\n",
       "    <tr>\n",
       "      <th>3</th>\n",
       "      <td>David</td>\n",
       "      <td>2022-01-04</td>\n",
       "      <td>1200</td>\n",
       "      <td>San Francisco</td>\n",
       "    </tr>\n",
       "  </tbody>\n",
       "</table>\n",
       "</div>"
      ],
      "text/plain": [
       "  Salesperson        Date  Amount       Location\n",
       "0       Alice  2022-01-01    1000       New York\n",
       "1         Bob  2022-01-02    1500  San Francisco\n",
       "2     Charlie  2022-01-03     800       New York\n",
       "3       David  2022-01-04    1200  San Francisco"
      ]
     },
     "execution_count": 29,
     "metadata": {},
     "output_type": "execute_result"
    }
   ],
   "source": [
    "df3.reset_index()"
   ]
  },
  {
   "cell_type": "markdown",
   "id": "5adda229-67e6-4830-a427-f2631b4d9882",
   "metadata": {},
   "source": [
    "### 四、对索引和列名重新排序"
   ]
  },
  {
   "cell_type": "markdown",
   "id": "0913be25-1f3f-49f4-9149-5ad30cb67d75",
   "metadata": {},
   "source": [
    "sort_index方法，适用于数据的索引或列名符合要求，但它的顺序是乱的情况"
   ]
  },
  {
   "cell_type": "code",
   "execution_count": 32,
   "id": "ce17af67-fd7f-4956-b9a9-030f61e8b35b",
   "metadata": {},
   "outputs": [
    {
     "data": {
      "text/html": [
       "<div>\n",
       "<style scoped>\n",
       "    .dataframe tbody tr th:only-of-type {\n",
       "        vertical-align: middle;\n",
       "    }\n",
       "\n",
       "    .dataframe tbody tr th {\n",
       "        vertical-align: top;\n",
       "    }\n",
       "\n",
       "    .dataframe thead th {\n",
       "        text-align: right;\n",
       "    }\n",
       "</style>\n",
       "<table border=\"1\" class=\"dataframe\">\n",
       "  <thead>\n",
       "    <tr style=\"text-align: right;\">\n",
       "      <th></th>\n",
       "      <th>客户姓名</th>\n",
       "      <th>客户性别</th>\n",
       "      <th>客户年龄</th>\n",
       "      <th>客户邮箱</th>\n",
       "    </tr>\n",
       "  </thead>\n",
       "  <tbody>\n",
       "    <tr>\n",
       "      <th>a</th>\n",
       "      <td>李十</td>\n",
       "      <td>女</td>\n",
       "      <td>58</td>\n",
       "      <td>yVaQXekW@example.com</td>\n",
       "    </tr>\n",
       "    <tr>\n",
       "      <th>c</th>\n",
       "      <td>冯三</td>\n",
       "      <td>男</td>\n",
       "      <td>27</td>\n",
       "      <td>LctXbrEM@example.com</td>\n",
       "    </tr>\n",
       "    <tr>\n",
       "      <th>b</th>\n",
       "      <td>吴十</td>\n",
       "      <td>男</td>\n",
       "      <td>32</td>\n",
       "      <td>UyTYBzUZ@example.com</td>\n",
       "    </tr>\n",
       "    <tr>\n",
       "      <th>e</th>\n",
       "      <td>王十</td>\n",
       "      <td>女</td>\n",
       "      <td>58</td>\n",
       "      <td>KCixgciF@example.com</td>\n",
       "    </tr>\n",
       "    <tr>\n",
       "      <th>d</th>\n",
       "      <td>钱十</td>\n",
       "      <td>女</td>\n",
       "      <td>27</td>\n",
       "      <td>nqRBXOtA@example.com</td>\n",
       "    </tr>\n",
       "    <tr>\n",
       "      <th>f</th>\n",
       "      <td>赵八</td>\n",
       "      <td>女</td>\n",
       "      <td>51</td>\n",
       "      <td>GyKwILAL@example.com</td>\n",
       "    </tr>\n",
       "  </tbody>\n",
       "</table>\n",
       "</div>"
      ],
      "text/plain": [
       "  客户姓名 客户性别  客户年龄                  客户邮箱\n",
       "a   李十    女    58  yVaQXekW@example.com\n",
       "c   冯三    男    27  LctXbrEM@example.com\n",
       "b   吴十    男    32  UyTYBzUZ@example.com\n",
       "e   王十    女    58  KCixgciF@example.com\n",
       "d   钱十    女    27  nqRBXOtA@example.com\n",
       "f   赵八    女    51  GyKwILAL@example.com"
      ]
     },
     "execution_count": 32,
     "metadata": {},
     "output_type": "execute_result"
    }
   ],
   "source": [
    "df4 = pd.read_csv('example3.csv', index_col=0)\n",
    "df4"
   ]
  },
  {
   "cell_type": "markdown",
   "id": "0fa3b9fb-ae83-4664-a65d-248c580210ec",
   "metadata": {},
   "source": [
    "#### (一)、对索引进行排序"
   ]
  },
  {
   "cell_type": "markdown",
   "id": "59dbb23d-f371-4516-94dc-f97f70b02391",
   "metadata": {},
   "source": [
    "默认axis=0,沿着索引纵向操作，对索引排序"
   ]
  },
  {
   "cell_type": "code",
   "execution_count": 35,
   "id": "3abda999-3634-4abf-9f81-8440abea4edb",
   "metadata": {},
   "outputs": [
    {
     "data": {
      "text/html": [
       "<div>\n",
       "<style scoped>\n",
       "    .dataframe tbody tr th:only-of-type {\n",
       "        vertical-align: middle;\n",
       "    }\n",
       "\n",
       "    .dataframe tbody tr th {\n",
       "        vertical-align: top;\n",
       "    }\n",
       "\n",
       "    .dataframe thead th {\n",
       "        text-align: right;\n",
       "    }\n",
       "</style>\n",
       "<table border=\"1\" class=\"dataframe\">\n",
       "  <thead>\n",
       "    <tr style=\"text-align: right;\">\n",
       "      <th></th>\n",
       "      <th>客户姓名</th>\n",
       "      <th>客户性别</th>\n",
       "      <th>客户年龄</th>\n",
       "      <th>客户邮箱</th>\n",
       "    </tr>\n",
       "  </thead>\n",
       "  <tbody>\n",
       "    <tr>\n",
       "      <th>a</th>\n",
       "      <td>李十</td>\n",
       "      <td>女</td>\n",
       "      <td>58</td>\n",
       "      <td>yVaQXekW@example.com</td>\n",
       "    </tr>\n",
       "    <tr>\n",
       "      <th>b</th>\n",
       "      <td>吴十</td>\n",
       "      <td>男</td>\n",
       "      <td>32</td>\n",
       "      <td>UyTYBzUZ@example.com</td>\n",
       "    </tr>\n",
       "    <tr>\n",
       "      <th>c</th>\n",
       "      <td>冯三</td>\n",
       "      <td>男</td>\n",
       "      <td>27</td>\n",
       "      <td>LctXbrEM@example.com</td>\n",
       "    </tr>\n",
       "    <tr>\n",
       "      <th>d</th>\n",
       "      <td>钱十</td>\n",
       "      <td>女</td>\n",
       "      <td>27</td>\n",
       "      <td>nqRBXOtA@example.com</td>\n",
       "    </tr>\n",
       "    <tr>\n",
       "      <th>e</th>\n",
       "      <td>王十</td>\n",
       "      <td>女</td>\n",
       "      <td>58</td>\n",
       "      <td>KCixgciF@example.com</td>\n",
       "    </tr>\n",
       "    <tr>\n",
       "      <th>f</th>\n",
       "      <td>赵八</td>\n",
       "      <td>女</td>\n",
       "      <td>51</td>\n",
       "      <td>GyKwILAL@example.com</td>\n",
       "    </tr>\n",
       "  </tbody>\n",
       "</table>\n",
       "</div>"
      ],
      "text/plain": [
       "  客户姓名 客户性别  客户年龄                  客户邮箱\n",
       "a   李十    女    58  yVaQXekW@example.com\n",
       "b   吴十    男    32  UyTYBzUZ@example.com\n",
       "c   冯三    男    27  LctXbrEM@example.com\n",
       "d   钱十    女    27  nqRBXOtA@example.com\n",
       "e   王十    女    58  KCixgciF@example.com\n",
       "f   赵八    女    51  GyKwILAL@example.com"
      ]
     },
     "execution_count": 35,
     "metadata": {},
     "output_type": "execute_result"
    }
   ],
   "source": [
    "df4 = df4.sort_index()\n",
    "df4"
   ]
  },
  {
   "cell_type": "markdown",
   "id": "9169a730-d6cd-4adc-a87b-0d569c3dd765",
   "metadata": {},
   "source": [
    "#### (二)、对列名进行排序"
   ]
  },
  {
   "cell_type": "markdown",
   "id": "1a216a52-1746-4b62-bb6d-d263af9e9b67",
   "metadata": {},
   "source": [
    "指定axis=1,沿着列名纵向操作，对列名排序"
   ]
  },
  {
   "cell_type": "code",
   "execution_count": 36,
   "id": "098884b9-55d0-4a67-9abf-3589d5e1b6fb",
   "metadata": {},
   "outputs": [
    {
     "data": {
      "text/html": [
       "<div>\n",
       "<style scoped>\n",
       "    .dataframe tbody tr th:only-of-type {\n",
       "        vertical-align: middle;\n",
       "    }\n",
       "\n",
       "    .dataframe tbody tr th {\n",
       "        vertical-align: top;\n",
       "    }\n",
       "\n",
       "    .dataframe thead th {\n",
       "        text-align: right;\n",
       "    }\n",
       "</style>\n",
       "<table border=\"1\" class=\"dataframe\">\n",
       "  <thead>\n",
       "    <tr style=\"text-align: right;\">\n",
       "      <th></th>\n",
       "      <th>客户姓名</th>\n",
       "      <th>客户年龄</th>\n",
       "      <th>客户性别</th>\n",
       "      <th>客户邮箱</th>\n",
       "    </tr>\n",
       "  </thead>\n",
       "  <tbody>\n",
       "    <tr>\n",
       "      <th>a</th>\n",
       "      <td>李十</td>\n",
       "      <td>58</td>\n",
       "      <td>女</td>\n",
       "      <td>yVaQXekW@example.com</td>\n",
       "    </tr>\n",
       "    <tr>\n",
       "      <th>b</th>\n",
       "      <td>吴十</td>\n",
       "      <td>32</td>\n",
       "      <td>男</td>\n",
       "      <td>UyTYBzUZ@example.com</td>\n",
       "    </tr>\n",
       "    <tr>\n",
       "      <th>c</th>\n",
       "      <td>冯三</td>\n",
       "      <td>27</td>\n",
       "      <td>男</td>\n",
       "      <td>LctXbrEM@example.com</td>\n",
       "    </tr>\n",
       "    <tr>\n",
       "      <th>d</th>\n",
       "      <td>钱十</td>\n",
       "      <td>27</td>\n",
       "      <td>女</td>\n",
       "      <td>nqRBXOtA@example.com</td>\n",
       "    </tr>\n",
       "    <tr>\n",
       "      <th>e</th>\n",
       "      <td>王十</td>\n",
       "      <td>58</td>\n",
       "      <td>女</td>\n",
       "      <td>KCixgciF@example.com</td>\n",
       "    </tr>\n",
       "    <tr>\n",
       "      <th>f</th>\n",
       "      <td>赵八</td>\n",
       "      <td>51</td>\n",
       "      <td>女</td>\n",
       "      <td>GyKwILAL@example.com</td>\n",
       "    </tr>\n",
       "  </tbody>\n",
       "</table>\n",
       "</div>"
      ],
      "text/plain": [
       "  客户姓名  客户年龄 客户性别                  客户邮箱\n",
       "a   李十    58    女  yVaQXekW@example.com\n",
       "b   吴十    32    男  UyTYBzUZ@example.com\n",
       "c   冯三    27    男  LctXbrEM@example.com\n",
       "d   钱十    27    女  nqRBXOtA@example.com\n",
       "e   王十    58    女  KCixgciF@example.com\n",
       "f   赵八    51    女  GyKwILAL@example.com"
      ]
     },
     "execution_count": 36,
     "metadata": {},
     "output_type": "execute_result"
    }
   ],
   "source": [
    "df4.sort_index(axis=1)"
   ]
  },
  {
   "cell_type": "markdown",
   "id": "061de4e9-49cc-4955-ab00-dab92bf0a334",
   "metadata": {},
   "source": [
    "### 五、可选参数inplace"
   ]
  },
  {
   "cell_type": "markdown",
   "id": "e84e830a-9a50-4379-9e55-c10604f1c824",
   "metadata": {},
   "source": [
    "适用于rename、set_index、reset_index、sort_index方法\n",
    "\n",
    "传入'inplace=True'，表示直接原地修改原始DataFrame，就不用进行赋值了；并且此时方法不返回新的DataFrame，如果赋值给变量，则变量变为空值"
   ]
  },
  {
   "cell_type": "code",
   "execution_count": null,
   "id": "68e9adb4-af57-49e5-8c03-6f96167e4424",
   "metadata": {},
   "outputs": [],
   "source": []
  }
 ],
 "metadata": {
  "kernelspec": {
   "display_name": "Python 3 (ipykernel)",
   "language": "python",
   "name": "python3"
  },
  "language_info": {
   "codemirror_mode": {
    "name": "ipython",
    "version": 3
   },
   "file_extension": ".py",
   "mimetype": "text/x-python",
   "name": "python",
   "nbconvert_exporter": "python",
   "pygments_lexer": "ipython3",
   "version": "3.11.1"
  }
 },
 "nbformat": 4,
 "nbformat_minor": 5
}
