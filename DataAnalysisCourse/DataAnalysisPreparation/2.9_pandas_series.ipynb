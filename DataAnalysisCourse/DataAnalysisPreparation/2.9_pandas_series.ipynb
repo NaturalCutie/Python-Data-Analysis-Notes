{
 "cells": [
  {
   "cell_type": "markdown",
   "id": "8d6f812f-46ae-4aed-a81f-f6c6431f0873",
   "metadata": {},
   "source": [
    "# **2.9_Series**"
   ]
  },
  {
   "cell_type": "markdown",
   "id": "3e7324d8-9b68-44b2-83ec-41eea3a3830a",
   "metadata": {},
   "source": [
    "**Pandas优势在于：由于它是构建在NumPy之上的，所以继承了NumPy高性能的数组计算功能，同时它还提供了更多复杂精细的数据处理功能**"
   ]
  },
  {
   "cell_type": "markdown",
   "id": "0e45d66e-ebd2-4aaa-bbb8-1420bcb7e1d5",
   "metadata": {},
   "source": [
    "### 一、安装与导入Pandas"
   ]
  },
  {
   "cell_type": "markdown",
   "id": "919d3486-18c7-45ce-879d-7c623cb11550",
   "metadata": {},
   "source": [
    "1. 安装Pandas\n",
    "\n",
    "在CMD或终端，输入pip install pandas\n",
    "\n",
    "2. 导入Pandas"
   ]
  },
  {
   "cell_type": "code",
   "execution_count": 3,
   "id": "9fdf58e4-c3a4-4417-8967-7ff33ce4f0cf",
   "metadata": {},
   "outputs": [],
   "source": [
    "import pandas as pd"
   ]
  },
  {
   "cell_type": "code",
   "execution_count": 4,
   "id": "e00cd83e-c38e-43b8-9318-90ba5a02cf0c",
   "metadata": {},
   "outputs": [],
   "source": [
    "import numpy as np"
   ]
  },
  {
   "cell_type": "markdown",
   "id": "75bcf731-a92e-47b8-8473-94bb5da29294",
   "metadata": {},
   "source": [
    "### 二、Series"
   ]
  },
  {
   "cell_type": "markdown",
   "id": "fdec5d66-5776-493a-b4be-2da6c31af8ef",
   "metadata": {},
   "source": [
    "Series和NumPy的一维数组很相似"
   ]
  },
  {
   "cell_type": "markdown",
   "id": "2b15a2b8-9090-4bc9-a366-78e295e05d8b",
   "metadata": {},
   "source": [
    "#### (一)、创建Series"
   ]
  },
  {
   "cell_type": "markdown",
   "id": "1d918727-25f3-4cc9-a399-e33d942191e6",
   "metadata": {},
   "source": [
    "创建Series对象，用Series类，参数传入一个列表"
   ]
  },
  {
   "cell_type": "markdown",
   "id": "2974d99d-00c6-4ef0-96ad-816ae6175563",
   "metadata": {},
   "source": [
    "**Series第一个字母S要大写，说明调用的是Series类的构造函数，会返回给我们一个Series类的对象**"
   ]
  },
  {
   "cell_type": "code",
   "execution_count": 7,
   "id": "23d0ddb5-6fc5-4e35-89cb-c270e32f4444",
   "metadata": {},
   "outputs": [
    {
     "name": "stdout",
     "output_type": "stream",
     "text": [
      "0     5\n",
      "1    17\n",
      "2     3\n",
      "3    26\n",
      "4    31\n",
      "dtype: int64\n",
      "\n",
      "[ 5 17  3 26 31]\n"
     ]
    }
   ],
   "source": [
    "s1 = pd.Series([5, 17, 3, 26, 31])\n",
    "a1 = np.array([5, 17, 3, 26, 31])\n",
    "print(s1)\n",
    "print()\n",
    "print(a1)"
   ]
  },
  {
   "cell_type": "markdown",
   "id": "e713be33-0a49-434a-80a8-77b8ba8a0c53",
   "metadata": {},
   "source": [
    "**Series和NumPy数组的区别在于:不止展示了有什么元素，元素左边还专门展示对应的index，最后一行的dtype还展示了Series里元素的类型**"
   ]
  },
  {
   "cell_type": "markdown",
   "id": "e085fe1b-d42d-47f5-b096-cf6b42fa9780",
   "metadata": {},
   "source": [
    "#### (二)、获得Series的元素和索引"
   ]
  },
  {
   "cell_type": "markdown",
   "id": "fa2c08f4-12b0-406b-8a33-40b647d09d9c",
   "metadata": {},
   "source": [
    "1. 如果想单独获得Series的所有元素值，可以用values属性"
   ]
  },
  {
   "cell_type": "code",
   "execution_count": 8,
   "id": "3f648425-6e9a-44ca-8e90-335cdeebb0f1",
   "metadata": {},
   "outputs": [
    {
     "data": {
      "text/plain": [
       "array([ 5, 17,  3, 26, 31], dtype=int64)"
      ]
     },
     "execution_count": 8,
     "metadata": {},
     "output_type": "execute_result"
    }
   ],
   "source": [
    "s1.values"
   ]
  },
  {
   "cell_type": "markdown",
   "id": "af8025d6-e368-4f27-960a-5cef248cc03a",
   "metadata": {},
   "source": [
    "2. 如果想单独获得Series的所有索引值，可以用index属性"
   ]
  },
  {
   "cell_type": "code",
   "execution_count": 9,
   "id": "c16bd34e-37c4-4bd8-bab1-9d8da07ff5d5",
   "metadata": {},
   "outputs": [
    {
     "data": {
      "text/plain": [
       "RangeIndex(start=0, stop=5, step=1)"
      ]
     },
     "execution_count": 9,
     "metadata": {},
     "output_type": "execute_result"
    }
   ],
   "source": [
    "s1.index"
   ]
  },
  {
   "cell_type": "markdown",
   "id": "a8b3e4be-766e-4729-9441-d279b23f36e7",
   "metadata": {},
   "source": [
    "**这里index属性返回的值表示说，index从0开始，到5结束且不包括5，范围内每个index增加1**"
   ]
  },
  {
   "cell_type": "markdown",
   "id": "d6962291-2082-488e-9bed-1bac4faf2b09",
   "metadata": {},
   "source": [
    "#### (三)、索引和切片操作"
   ]
  },
  {
   "cell_type": "markdown",
   "id": "72713799-5a6e-4d56-85b7-3e12b976ea5c",
   "metadata": {},
   "source": [
    "对Series同样可以进行索引、切片操作，这个和Python列表、NumPy一维数组都是非常相似的"
   ]
  },
  {
   "cell_type": "code",
   "execution_count": 11,
   "id": "1d7a35e5-0ce6-47f9-98e1-7e95fb40a0ee",
   "metadata": {},
   "outputs": [
    {
     "data": {
      "text/plain": [
       "3"
      ]
     },
     "execution_count": 11,
     "metadata": {},
     "output_type": "execute_result"
    }
   ],
   "source": [
    "s1[2]"
   ]
  },
  {
   "cell_type": "code",
   "execution_count": 12,
   "id": "5dd1f45f-7d29-4f03-a37c-4a1f792a85c7",
   "metadata": {},
   "outputs": [
    {
     "data": {
      "text/plain": [
       "1    17\n",
       "2     3\n",
       "dtype: int64"
      ]
     },
     "execution_count": 12,
     "metadata": {},
     "output_type": "execute_result"
    }
   ],
   "source": [
    "s1[1: 3]"
   ]
  },
  {
   "cell_type": "markdown",
   "id": "b2f10bae-2614-48df-a21f-b551c5d132de",
   "metadata": {},
   "source": [
    "### 三、Series的特别之处"
   ]
  },
  {
   "cell_type": "markdown",
   "id": "4bf255df-94bc-4e20-a6c1-173c7f916b12",
   "metadata": {},
   "source": [
    "数组的索引和Python列表一样，都是表示位置的整数，从0开始逐步加1\n",
    "\n",
    "Series的索引，默认也是表示位置的整数，但是也可以自己指定。\n",
    "\n",
    "创建带标签索引的Series对象，后面跟一个index参数，放入标签索引组成的列表。比如："
   ]
  },
  {
   "cell_type": "code",
   "execution_count": 15,
   "id": "e1fa8f0c-2a40-47d1-b295-2cd1daa6e4a1",
   "metadata": {},
   "outputs": [
    {
     "data": {
      "text/plain": [
       "a     5\n",
       "d    17\n",
       "b     3\n",
       "c    26\n",
       "e    31\n",
       "dtype: int64"
      ]
     },
     "execution_count": 15,
     "metadata": {},
     "output_type": "execute_result"
    }
   ],
   "source": [
    "s1 = pd.Series([5, 17, 3, 26, 31],\n",
    "              index=[\"a\", \"d\", \"b\", \"c\", \"e\"])\n",
    "s1"
   ]
  },
  {
   "cell_type": "markdown",
   "id": "f573c6cf-e56f-4d44-9d38-5b0f5057a02b",
   "metadata": {},
   "source": [
    "元素对应的索引变成了a, d, b, c, e"
   ]
  },
  {
   "cell_type": "markdown",
   "id": "cbcd4c29-8223-4546-9485-546a4b9a5cb7",
   "metadata": {},
   "source": [
    "***一般单独说索引，指标签索引***"
   ]
  },
  {
   "cell_type": "markdown",
   "id": "16cdc42c-5279-4e3d-a47d-9ac7ea060c7b",
   "metadata": {
    "jp-MarkdownHeadingCollapsed": true
   },
   "source": [
    "#### (一)、用两种索引取值"
   ]
  },
  {
   "cell_type": "markdown",
   "id": "7d3f91ca-4825-42d2-8d8b-2caace410ff5",
   "metadata": {},
   "source": [
    "这时对Series元素取值的时候，可以用位置索引，也可以用标签索引。相当于多了一种索引方法"
   ]
  },
  {
   "cell_type": "code",
   "execution_count": 17,
   "id": "ce6f38cc-4c81-4ce9-9600-8ee42d23b7fb",
   "metadata": {},
   "outputs": [
    {
     "name": "stdout",
     "output_type": "stream",
     "text": [
      "3\n",
      "3\n"
     ]
    }
   ],
   "source": [
    "print(s1[2])\n",
    "print(s1[\"b\"])"
   ]
  },
  {
   "cell_type": "markdown",
   "id": "4a90e5d6-b6b6-48cb-b387-f0078a73253e",
   "metadata": {
    "jp-MarkdownHeadingCollapsed": true
   },
   "source": [
    "#### (二)、用两种索引切片"
   ]
  },
  {
   "cell_type": "markdown",
   "id": "4760a4ae-fd78-4bd8-8be4-7987dab07e54",
   "metadata": {},
   "source": [
    "可以用位置索引切片，也可以用标签索引切片\n",
    "\n",
    "**用标签索引切片的时候，结束值是包含的**"
   ]
  },
  {
   "cell_type": "code",
   "execution_count": 19,
   "id": "5d9ba3bb-3c6c-4118-b59f-12fad065cb8a",
   "metadata": {},
   "outputs": [
    {
     "data": {
      "text/plain": [
       "d    17\n",
       "b     3\n",
       "dtype: int64"
      ]
     },
     "execution_count": 19,
     "metadata": {},
     "output_type": "execute_result"
    }
   ],
   "source": [
    "s1[1: 3]"
   ]
  },
  {
   "cell_type": "code",
   "execution_count": 21,
   "id": "6c5aa050-c6c7-4e7a-85bb-646b53784dca",
   "metadata": {},
   "outputs": [
    {
     "data": {
      "text/plain": [
       "d    17\n",
       "b     3\n",
       "c    26\n",
       "dtype: int64"
      ]
     },
     "execution_count": 21,
     "metadata": {},
     "output_type": "execute_result"
    }
   ],
   "source": [
    "s1[\"d\": \"c\"]"
   ]
  },
  {
   "cell_type": "markdown",
   "id": "98fabc61-ffbc-4098-b0d2-7a3d60f8c413",
   "metadata": {
    "jp-MarkdownHeadingCollapsed": true
   },
   "source": [
    "#### (三)、用索引获得任意元素"
   ]
  },
  {
   "cell_type": "markdown",
   "id": "7af21dae-951e-4993-a18d-4a383583a1f8",
   "metadata": {},
   "source": [
    "要得到多个元素组成的Series，可以在方括号里放一个列表，里面包含想选出的元素的索引，这样顺序就不受限制了"
   ]
  },
  {
   "cell_type": "code",
   "execution_count": 23,
   "id": "d1f58eef-c4c4-4c70-93f3-20552bd99fa3",
   "metadata": {},
   "outputs": [
    {
     "data": {
      "text/plain": [
       "b     3\n",
       "c    26\n",
       "d    17\n",
       "dtype: int64"
      ]
     },
     "execution_count": 23,
     "metadata": {},
     "output_type": "execute_result"
    }
   ],
   "source": [
    "s1[[2, 3, 1]]"
   ]
  },
  {
   "cell_type": "code",
   "execution_count": 24,
   "id": "a94a4f8c-d341-4e63-bbc2-5e43ea6fefad",
   "metadata": {},
   "outputs": [
    {
     "data": {
      "text/plain": [
       "b     3\n",
       "c    26\n",
       "d    17\n",
       "dtype: int64"
      ]
     },
     "execution_count": 24,
     "metadata": {},
     "output_type": "execute_result"
    }
   ],
   "source": [
    "s1[[\"b\", \"c\", \"d\"]]"
   ]
  },
  {
   "cell_type": "markdown",
   "id": "864c8293-84f4-4d2f-b955-8e66784351d6",
   "metadata": {
    "jp-MarkdownHeadingCollapsed": true
   },
   "source": [
    "#### (四)、loc和iloc"
   ]
  },
  {
   "cell_type": "markdown",
   "id": "8d82cec0-e308-4978-9b8c-1553efafa165",
   "metadata": {},
   "source": [
    "***当用整数作为标签索引时，索引取值时按照标签索引，切片时按照位置索引***"
   ]
  },
  {
   "cell_type": "code",
   "execution_count": 26,
   "id": "8316610c-f8e4-4c0d-a0e4-2b13c590e28f",
   "metadata": {},
   "outputs": [],
   "source": [
    "s2 = pd.Series([5, 17, 3, 26 ,31], \n",
    "              index=[1, 3, 5, 7, 9])"
   ]
  },
  {
   "cell_type": "code",
   "execution_count": 27,
   "id": "afa9ff98-a9dc-4c15-a1ff-46f146637228",
   "metadata": {},
   "outputs": [
    {
     "data": {
      "text/plain": [
       "3"
      ]
     },
     "execution_count": 27,
     "metadata": {},
     "output_type": "execute_result"
    }
   ],
   "source": [
    "s2[5]"
   ]
  },
  {
   "cell_type": "code",
   "execution_count": 29,
   "id": "6477a40b-0ec7-46fe-8330-d65def507a2d",
   "metadata": {},
   "outputs": [
    {
     "name": "stderr",
     "output_type": "stream",
     "text": [
      "C:\\Users\\stube\\AppData\\Local\\Temp\\ipykernel_33688\\1460887372.py:1: FutureWarning: The behavior of `series[i:j]` with an integer-dtype index is deprecated. In a future version, this will be treated as *label-based* indexing, consistent with e.g. `series[i]` lookups. To retain the old behavior, use `series.iloc[i:j]`. To get the future behavior, use `series.loc[i:j]`.\n",
      "  s2[1: 3]\n"
     ]
    },
    {
     "data": {
      "text/plain": [
       "3    17\n",
       "5     3\n",
       "dtype: int64"
      ]
     },
     "execution_count": 29,
     "metadata": {},
     "output_type": "execute_result"
    }
   ],
   "source": [
    "s2[1: 3]"
   ]
  },
  {
   "cell_type": "markdown",
   "id": "92ee57ee-fb61-450d-b7d3-2f3ff621dbae",
   "metadata": {},
   "source": [
    "***这种不一致让人困惑，也很容易造成错误，所以Pandas提供了两个更好的索引取值或切片方法，叫loc和iloc***\n",
    "\n",
    "***但未来版本，切片时按照标签索引***"
   ]
  },
  {
   "cell_type": "markdown",
   "id": "ab6264f4-5dc6-4384-91c9-d8e4fadcd789",
   "metadata": {},
   "source": [
    "loc表示用标签索引去取值或切片，iloc表示用标位置索引去取值或切片"
   ]
  },
  {
   "cell_type": "code",
   "execution_count": 34,
   "id": "fe024cb5-c5bd-4e36-9300-404a95a08264",
   "metadata": {},
   "outputs": [
    {
     "data": {
      "text/plain": [
       "3    17\n",
       "5     3\n",
       "dtype: int64"
      ]
     },
     "execution_count": 34,
     "metadata": {},
     "output_type": "execute_result"
    }
   ],
   "source": [
    "s2.iloc[1: 3]"
   ]
  },
  {
   "cell_type": "code",
   "execution_count": 35,
   "id": "f1cded9b-d4d1-4358-a007-f5474bc33a04",
   "metadata": {},
   "outputs": [
    {
     "data": {
      "text/plain": [
       "1     5\n",
       "3    17\n",
       "dtype: int64"
      ]
     },
     "execution_count": 35,
     "metadata": {},
     "output_type": "execute_result"
    }
   ],
   "source": [
    "s2.loc[1: 3]"
   ]
  },
  {
   "cell_type": "markdown",
   "id": "bd06a224-b70c-4b9e-9ea8-b876e2446838",
   "metadata": {
    "jp-MarkdownHeadingCollapsed": true
   },
   "source": [
    "#### (五)、创建自定义索引Series的另一种方式"
   ]
  },
  {
   "cell_type": "markdown",
   "id": "4bb5f982-6a00-4d43-8e05-96de4bb174ff",
   "metadata": {},
   "source": [
    "除了可以通过index这个可选参数指定标签索引，另一种创建自定义索引Series的方法是：给Series这个构造函数直接传入一个字典\n",
    "\n",
    "字典的键，就会自动变成值所对应的标签索引"
   ]
  },
  {
   "cell_type": "code",
   "execution_count": 32,
   "id": "6f56a46f-34c1-44b7-99a7-738375532be0",
   "metadata": {},
   "outputs": [
    {
     "data": {
      "text/plain": [
       "青菜     4.1\n",
       "白萝卜    2.2\n",
       "西红柿    5.3\n",
       "土豆     3.7\n",
       "黄瓜     6.8\n",
       "dtype: float64"
      ]
     },
     "execution_count": 32,
     "metadata": {},
     "output_type": "execute_result"
    }
   ],
   "source": [
    "s3 = pd.Series({\"青菜\": 4.1, \"白萝卜\": 2.2, \"西红柿\":5.3, \"土豆\":3.7, \"黄瓜\": 6.8})\n",
    "s3"
   ]
  },
  {
   "cell_type": "markdown",
   "id": "ddea76cf-0844-4634-b7dc-89b0107a661b",
   "metadata": {
    "jp-MarkdownHeadingCollapsed": true
   },
   "source": [
    "#### (六)、查看标签是否存在"
   ]
  },
  {
   "cell_type": "markdown",
   "id": "c96a1a4d-3e1f-4c78-b5b1-7aac430a4df6",
   "metadata": {},
   "source": [
    "要想知道某个标签是否在Series里，可以用in,它会返回一个布尔值，来告知我们是否存在"
   ]
  },
  {
   "cell_type": "code",
   "execution_count": 33,
   "id": "b686a33c-d1e1-43e8-89fd-00d8d05c7b66",
   "metadata": {},
   "outputs": [
    {
     "data": {
      "text/plain": [
       "True"
      ]
     },
     "execution_count": 33,
     "metadata": {},
     "output_type": "execute_result"
    }
   ],
   "source": [
    "\"青菜\" in s3"
   ]
  },
  {
   "cell_type": "markdown",
   "id": "2105d13f-fd69-41d8-80ba-34a94852cd6b",
   "metadata": {
    "jp-MarkdownHeadingCollapsed": true
   },
   "source": [
    "#### (七)、修改Series里的值"
   ]
  },
  {
   "cell_type": "markdown",
   "id": "d483179b-56ce-4c76-89e3-53a5730dd07c",
   "metadata": {},
   "source": [
    "如果你想更改某个标签对应的值，可以像字典那样，方括号里面放上标签去更新。\n",
    "\n",
    "**如果标签也是整数，最好不要直接放方括号，因为可能一时区分不出来方括号里的整数指的是标签索引还是位置索引，更好的方法还是用loc和iloc**\n",
    "\n",
    "**更好的习惯是，不管标签是不是整数，都用loc和iloc**"
   ]
  },
  {
   "cell_type": "code",
   "execution_count": 38,
   "id": "d6f06a4f-0c11-40b5-b47e-763dbe6fba1a",
   "metadata": {},
   "outputs": [],
   "source": [
    "s3.loc[\"青菜\"] = 4.5\n",
    "s3.iloc[0] = 4.5"
   ]
  },
  {
   "cell_type": "markdown",
   "id": "8ffc45bd-5594-4ee4-9173-182d6e7ad8f5",
   "metadata": {
    "jp-MarkdownHeadingCollapsed": true
   },
   "source": [
    "### 四、根据条件筛选Series元素"
   ]
  },
  {
   "cell_type": "code",
   "execution_count": 39,
   "id": "c94544be-9c25-4ffc-9c00-e3f2316224bd",
   "metadata": {},
   "outputs": [
    {
     "data": {
      "text/plain": [
       "青菜     False\n",
       "白萝卜    False\n",
       "西红柿     True\n",
       "土豆     False\n",
       "黄瓜      True\n",
       "dtype: bool"
      ]
     },
     "execution_count": 39,
     "metadata": {},
     "output_type": "execute_result"
    }
   ],
   "source": [
    "s3 > 5"
   ]
  },
  {
   "cell_type": "markdown",
   "id": "590df207-17af-4f9c-92f5-843639e4dda8",
   "metadata": {},
   "source": [
    "1. 与NumPy数组类似\n",
    "\n",
    "    比如: s3 > 5，会返回一个有标签索引和布尔值组成的Series"
   ]
  },
  {
   "cell_type": "code",
   "execution_count": 40,
   "id": "7bca5282-66e3-4a5e-b920-51a25a631ddb",
   "metadata": {},
   "outputs": [
    {
     "data": {
      "text/plain": [
       "西红柿    5.3\n",
       "黄瓜     6.8\n",
       "dtype: float64"
      ]
     },
     "execution_count": 40,
     "metadata": {},
     "output_type": "execute_result"
    }
   ],
   "source": [
    "s3[s3 > 5]"
   ]
  },
  {
   "cell_type": "markdown",
   "id": "c17c2ec4-6b16-4bad-8067-c42b5b3c1b08",
   "metadata": {},
   "source": [
    "    通过布尔值数组，可以筛选出符合这个条件的元素所组成的Series"
   ]
  },
  {
   "cell_type": "markdown",
   "id": "8e6940d6-7581-436c-8c03-07ddf2585984",
   "metadata": {},
   "source": [
    "2. 结合逻辑运算，让筛选逻辑更复杂\n",
    "\n",
    "    要增加筛选条件复杂度，也可以利用&, |, ~这些逻辑符号，实现与、或、非运算"
   ]
  },
  {
   "cell_type": "code",
   "execution_count": 41,
   "id": "5a1af43b-f691-491a-8740-df3407c6f42d",
   "metadata": {},
   "outputs": [
    {
     "data": {
      "text/plain": [
       "白萝卜    2.2\n",
       "西红柿    5.3\n",
       "黄瓜     6.8\n",
       "dtype: float64"
      ]
     },
     "execution_count": 41,
     "metadata": {},
     "output_type": "execute_result"
    }
   ],
   "source": [
    "s3[(s3 > 5)|(s3 < 3)]"
   ]
  },
  {
   "cell_type": "code",
   "execution_count": null,
   "id": "f671fc16-42ba-4714-a63f-ca20b26a2fe0",
   "metadata": {},
   "outputs": [],
   "source": []
  }
 ],
 "metadata": {
  "kernelspec": {
   "display_name": "Python 3 (ipykernel)",
   "language": "python",
   "name": "python3"
  },
  "language_info": {
   "codemirror_mode": {
    "name": "ipython",
    "version": 3
   },
   "file_extension": ".py",
   "mimetype": "text/x-python",
   "name": "python",
   "nbconvert_exporter": "python",
   "pygments_lexer": "ipython3",
   "version": "3.11.1"
  }
 },
 "nbformat": 4,
 "nbformat_minor": 5
}
