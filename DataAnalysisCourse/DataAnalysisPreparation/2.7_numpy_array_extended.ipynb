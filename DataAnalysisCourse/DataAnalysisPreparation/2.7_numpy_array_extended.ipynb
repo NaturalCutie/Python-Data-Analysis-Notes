{
 "cells": [
  {
   "cell_type": "markdown",
   "id": "725c8757-87ac-48f7-a351-ab01c6d1577f",
   "metadata": {},
   "source": [
    "# **2.7_更多数组**"
   ]
  },
  {
   "cell_type": "markdown",
   "id": "8a66b7c0-17e0-4e37-b361-ed9035bd4a58",
   "metadata": {},
   "source": [
    "### 一、针对NumPy数组的常用操作"
   ]
  },
  {
   "cell_type": "markdown",
   "id": "7a739918-738d-4920-95e3-7bc0a30ad213",
   "metadata": {},
   "source": [
    "#### (一)、用concatenate函数连接数组"
   ]
  },
  {
   "cell_type": "markdown",
   "id": "500727eb-931f-4f9f-8763-c26cc26b00be",
   "metadata": {},
   "source": [
    "1. concatenate函数接收的参数是列表，所以可以把两个数组，用中括号包围起来，作为一个列表传进去\n",
    "\n",
    "2. concatenate函数输出的结果，是两个数组里所有元素拼接起来后组成的新数组"
   ]
  },
  {
   "cell_type": "code",
   "execution_count": 2,
   "id": "fcb7196d-ff20-4d85-8541-41d6ef0b6475",
   "metadata": {},
   "outputs": [
    {
     "data": {
      "text/plain": [
       "array([ 5., 17.,  3., 26., 31.,  0.,  0.])"
      ]
     },
     "execution_count": 2,
     "metadata": {},
     "output_type": "execute_result"
    }
   ],
   "source": [
    "import numpy as np\n",
    "\n",
    "arr1 = np.array([5, 17, 3, 26, 31])\n",
    "arr2 = np.zeros(2)\n",
    "np.concatenate([arr1, arr2])"
   ]
  },
  {
   "cell_type": "markdown",
   "id": "5025e681-4f28-4367-95e6-d5f3b453f425",
   "metadata": {},
   "source": [
    "**可以看到数组里的数字后面都有个小数点，这是因为zeroes方法产生的是浮点数类型的数组，然后数组里数据类型又必须统一，所以拼接后的结果也是浮点数数组**"
   ]
  },
  {
   "cell_type": "markdown",
   "id": "c5f623f3-1e47-4974-96d5-4e68ba169ca8",
   "metadata": {},
   "source": [
    "3. 由于传入列表的长度是不限的，所以也可以一次性拼接多个数组\n",
    "   ```python\n",
    "   np.concatenate([arr1, arr2, arr3])\n",
    "   ```"
   ]
  },
  {
   "cell_type": "markdown",
   "id": "a0e02b9c-8770-429d-88f6-9418c012df18",
   "metadata": {},
   "source": [
    "#### (二)、对内容进行排序"
   ]
  },
  {
   "cell_type": "markdown",
   "id": "d42b5c83-e427-4971-8d5b-d48d0be22018",
   "metadata": {},
   "source": [
    "1. 针对列表来说\n",
    "   \n",
    "    1）sorted函数\n",
    "   \n",
    "   传入列表后，就会返回一个新的排序好的列表\n",
    "   \n",
    "   **只返回排序好的新列表，不改变原始列表**\n",
    "\n",
    "   **也可以传入Series作为参数**\n",
    "   \n",
    "    2）sort方法\n",
    "   \n",
    "   调用后，该列表里面的元素就都会被排序好\n",
    "   \n",
    "   **什么都不返回，但原始列表会被排序好**"
   ]
  },
  {
   "cell_type": "code",
   "execution_count": 8,
   "id": "45905294-b9d7-4d41-a05b-dc68fc92e61c",
   "metadata": {},
   "outputs": [
    {
     "name": "stdout",
     "output_type": "stream",
     "text": [
      "[3, 5, 17, 26, 31]\n",
      "[5, 17, 3, 26, 31]\n",
      "None\n",
      "[3, 5, 17, 26, 31]\n"
     ]
    }
   ],
   "source": [
    "list1 = [5, 17, 3, 26, 31]\n",
    "sorted_list1 = sorted(list1)\n",
    "print(sorted_list1)\n",
    "print(list1)\n",
    "\n",
    "print(list1.sort())\n",
    "print(list1)"
   ]
  },
  {
   "cell_type": "markdown",
   "id": "961dfd6c-9716-4f5c-aff5-55c5389cd4f2",
   "metadata": {},
   "source": [
    "2. 针对NumPy数组来说\n",
    "\n",
    "    1）NumPy的sort函数\n",
    "\n",
    "    np.sort会返回排序好的新的数组，但是传入的原始数组不会被改变\n",
    "\n",
    "   **也可以传入Series作为参数**\n",
    "\n",
    "    2）NumPy的sort方法\n",
    "\n",
    "    而数组的sort方法，会直接在该数组上进行改动，把元素排序好\n",
    "   \n",
    "    **你可以根据是否要直接更改数组，决定使用**"
   ]
  },
  {
   "cell_type": "code",
   "execution_count": 9,
   "id": "a4375284-c61b-43c7-a8df-7bbfcd45c67b",
   "metadata": {},
   "outputs": [
    {
     "name": "stdout",
     "output_type": "stream",
     "text": [
      "[ 3  5 17 26 31]\n",
      "[ 5 17  3 26 31]\n",
      "None\n",
      "[ 3  5 17 26 31]\n"
     ]
    }
   ],
   "source": [
    "arr1 = np.array([5, 17, 3, 26, 31])\n",
    "print(np.sort(arr1))\n",
    "print(arr1)\n",
    "\n",
    "print(arr1.sort())\n",
    "print(arr1)"
   ]
  },
  {
   "cell_type": "markdown",
   "id": "79e2e797-5558-4309-bc81-47bdfbe6df43",
   "metadata": {},
   "source": [
    "#### (三)、用索引获得元素"
   ]
  },
  {
   "cell_type": "markdown",
   "id": "426ed270-02fc-44c4-a95a-d8d40b91673a",
   "metadata": {},
   "source": [
    "1. 获得某个元素\n",
    "\n",
    "   1）正着数\n",
    "\n",
    "    第一个元素的索引为0，后面依次+1\n",
    "\n",
    "   2）倒着数\n",
    "\n",
    "   最后一个元素的索引是-1，倒数第二个的索引是-2，以此类推\n",
    "\n",
    "2. 获得某范围的多个元素\n",
    "\n",
    "   切片会返回开头索引到结束索引前一个的所有元素"
   ]
  },
  {
   "cell_type": "code",
   "execution_count": 11,
   "id": "9e14c69f-95b3-411c-aad4-98a2093212e1",
   "metadata": {},
   "outputs": [
    {
     "data": {
      "text/plain": [
       "array([ 5, 17, 26])"
      ]
     },
     "execution_count": 11,
     "metadata": {},
     "output_type": "execute_result"
    }
   ],
   "source": [
    "arr1[1: 4]"
   ]
  },
  {
   "cell_type": "markdown",
   "id": "03692b01-987e-4538-b654-281ab8600a5d",
   "metadata": {},
   "source": [
    "#### (四)、数组和数组进行运算"
   ]
  },
  {
   "cell_type": "markdown",
   "id": "068519f7-ce69-4b74-aba9-ec83a822c0c0",
   "metadata": {},
   "source": [
    "**NumPy数组的强项之一是运算**\n",
    "\n",
    "1. 加减乘除\n",
    "\n",
    "   1)数组与数组之间\n",
    "\n",
    "   如果把形状相同的两个一维数组进行运算，会返回一个相同位置元素加减乘除后得到的数组。而列表做不到这么便捷了"
   ]
  },
  {
   "cell_type": "code",
   "execution_count": 15,
   "id": "b2b93a3b-273e-476e-a4c7-aa95a15530e4",
   "metadata": {},
   "outputs": [
    {
     "name": "stdout",
     "output_type": "stream",
     "text": [
      "[ 8  9 10 11 12]\n",
      "[4 5 6 7 8]\n",
      "[12 14 16 18 20]\n",
      "[3.  3.5 4.  4.5 5. ]\n"
     ]
    }
   ],
   "source": [
    "arr4 = np.array([6, 7, 8, 9, 10])\n",
    "arr5 = np.array([2, 2, 2, 2, 2])\n",
    "print(arr4 + arr5)\n",
    "print(arr4 - arr5)\n",
    "print(arr4 * arr5)\n",
    "print(arr4 / arr5)"
   ]
  },
  {
   "cell_type": "markdown",
   "id": "c6e418a2-6589-42d6-b059-29ecac1c2c93",
   "metadata": {},
   "source": [
    "    2）数组和单个数字之间\n",
    "\n",
    "    如果学过线性代数，可以看成是向量和标量之间的运算"
   ]
  },
  {
   "cell_type": "code",
   "execution_count": 29,
   "id": "94381964-d1e1-45e0-9abb-41fb410af739",
   "metadata": {},
   "outputs": [
    {
     "data": {
      "text/plain": [
       "array([18, 21, 24, 27, 30])"
      ]
     },
     "execution_count": 29,
     "metadata": {},
     "output_type": "execute_result"
    }
   ],
   "source": [
    "arr4 * 3"
   ]
  },
  {
   "cell_type": "markdown",
   "id": "3359c069-2c85-4df5-9008-18a6522ad45e",
   "metadata": {},
   "source": [
    "    这个例子里的乘3会运用在数组的每一个数字上，这种操作机制，叫做广播机制"
   ]
  },
  {
   "cell_type": "markdown",
   "id": "255ab2e0-cf54-43b0-ba6b-fb7c90c56e69",
   "metadata": {},
   "source": [
    "    3）聚合运算\n",
    "\n",
    "    a.聚合运算是指，通过一组值，来得到一个值\n",
    "\n",
    "    b.包括max求最大值，min求最小值，sum求和，mean求平均值等待\n",
    "\n",
    "    c.数组.操作名()，返回相应的运算结果"
   ]
  },
  {
   "cell_type": "code",
   "execution_count": 17,
   "id": "9591a5bd-d9eb-4994-95a2-6de3a693fc69",
   "metadata": {},
   "outputs": [
    {
     "name": "stdout",
     "output_type": "stream",
     "text": [
      "10\n",
      "6\n",
      "40\n",
      "8.0\n"
     ]
    }
   ],
   "source": [
    "print(arr4.max())\n",
    "print(arr4.min())\n",
    "print(arr4.sum())\n",
    "print(arr4.mean())"
   ]
  },
  {
   "cell_type": "markdown",
   "id": "2b90b0e9-fbce-40ba-9217-82570da81f2b",
   "metadata": {},
   "source": [
    "#### (五)、根据条件筛选数组元素"
   ]
  },
  {
   "cell_type": "code",
   "execution_count": 27,
   "id": "afe054fb-2bb4-48f6-9ee0-0c75a739c23e",
   "metadata": {},
   "outputs": [
    {
     "data": {
      "text/plain": [
       "array([False, False,  True,  True,  True,  True])"
      ]
     },
     "execution_count": 27,
     "metadata": {},
     "output_type": "execute_result"
    }
   ],
   "source": [
    "arr = np.array([-22, 3, 65, 9, 11, 7])\n",
    "arr > 6"
   ]
  },
  {
   "cell_type": "markdown",
   "id": "195d3b0c-4e38-4133-a1ea-870c18ef9bee",
   "metadata": {},
   "source": [
    "1. \n",
    "\n",
    "一个数组和一个数字之间的操作，根据广播机制，> 6会被运用到每一个数字上，那产生的结果就是由True和False组成的布尔值数组，每个布尔值都代表了这个数字是否大于6"
   ]
  },
  {
   "cell_type": "code",
   "execution_count": 28,
   "id": "b214b2f6-630f-4296-a002-6a73974565c6",
   "metadata": {},
   "outputs": [
    {
     "data": {
      "text/plain": [
       "array([65,  9, 11,  7])"
      ]
     },
     "execution_count": 28,
     "metadata": {},
     "output_type": "execute_result"
    }
   ],
   "source": [
    "arr[arr > 6]"
   ]
  },
  {
   "cell_type": "markdown",
   "id": "98b029c5-563c-4e27-a4d8-068ddab1c659",
   "metadata": {},
   "source": [
    "布尔值数组可以用来对形状相同的数组进行索引，在方括号里放上这个布尔值数组，相应位置为True的元素就会被筛选出来，那作为结果的数组里就会有那个元素"
   ]
  },
  {
   "cell_type": "markdown",
   "id": "57a3b7b2-30ac-4ad7-b9d3-d4011603fc4b",
   "metadata": {},
   "source": [
    "2. 结合逻辑运算，让筛选逻辑更加复杂\n",
    "\n",
    "与：Python里用and，在数组上用&\n",
    "\n",
    "或：Python里用or，在数组上用|\n",
    "\n",
    "非：Python里用not，在数组上用~"
   ]
  },
  {
   "cell_type": "code",
   "execution_count": 22,
   "id": "a1e0005b-6d82-401c-8ef8-75473db12dad",
   "metadata": {},
   "outputs": [
    {
     "data": {
      "text/plain": [
       "array([9, 7])"
      ]
     },
     "execution_count": 22,
     "metadata": {},
     "output_type": "execute_result"
    }
   ],
   "source": [
    "arr[(arr > 6) & (arr < 10)]"
   ]
  },
  {
   "cell_type": "markdown",
   "id": "845ad4b9-0c77-47e5-a027-a3a5729bd140",
   "metadata": {},
   "source": [
    "比如要筛选出所有大于6且小于10的数字，就把 > 6和 < 10这两个条件用括号括住，表示这两个条件要先于&计算"
   ]
  },
  {
   "cell_type": "markdown",
   "id": "2c027013-63a4-475f-99dc-6069fba4082f",
   "metadata": {},
   "source": [
    "### 二、其他"
   ]
  },
  {
   "cell_type": "markdown",
   "id": "82b0407e-c91b-4c27-80fb-9ed308bb5885",
   "metadata": {},
   "source": [
    "1. np.nan表示缺失值，将np.nan赋值给其他变量，可以使变量为NaN值"
   ]
  },
  {
   "cell_type": "code",
   "execution_count": 5,
   "id": "ff0e27f4-9d87-4f5e-90ff-dfd6c1d89eb2",
   "metadata": {},
   "outputs": [
    {
     "data": {
      "text/plain": [
       "nan"
      ]
     },
     "execution_count": 5,
     "metadata": {},
     "output_type": "execute_result"
    }
   ],
   "source": [
    "np.nan"
   ]
  },
  {
   "cell_type": "code",
   "execution_count": null,
   "id": "b8d8902c-81d6-4244-a442-044bf927b5b8",
   "metadata": {},
   "outputs": [],
   "source": []
  }
 ],
 "metadata": {
  "kernelspec": {
   "display_name": "Python 3 (ipykernel)",
   "language": "python",
   "name": "python3"
  },
  "language_info": {
   "codemirror_mode": {
    "name": "ipython",
    "version": 3
   },
   "file_extension": ".py",
   "mimetype": "text/x-python",
   "name": "python",
   "nbconvert_exporter": "python",
   "pygments_lexer": "ipython3",
   "version": "3.11.1"
  }
 },
 "nbformat": 4,
 "nbformat_minor": 5
}
