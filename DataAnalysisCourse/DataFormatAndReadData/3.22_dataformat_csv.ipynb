{
 "cells": [
  {
   "cell_type": "markdown",
   "id": "c6289597-ef62-410e-a093-2c8e45523900",
   "metadata": {},
   "source": [
    "# **3.22_dataformat_csv**"
   ]
  },
  {
   "cell_type": "markdown",
   "id": "23c40658-27a3-4fee-a3df-4c677bd51b24",
   "metadata": {},
   "source": [
    "数据分析师最喜欢的数据格式"
   ]
  },
  {
   "cell_type": "markdown",
   "id": "a645aba4-72cb-4cff-82f9-a3e7f52bdb78",
   "metadata": {},
   "source": [
    "与JSON一样，CSV也是纯文本文件，也就是说文字内容不存在粗体、下划线、字号、颜色等特征\n",
    "\n",
    "如果把逗号对齐，CSV的结构基本上就是一个表格"
   ]
  },
  {
   "cell_type": "markdown",
   "id": "d4df4290-d9c2-4646-9174-a267591a1f1a",
   "metadata": {},
   "source": [
    "### CSV"
   ]
  },
  {
   "cell_type": "markdown",
   "id": "be8b5bed-1b3d-449a-9006-6f011412be46",
   "metadata": {},
   "source": [
    "1. 概念\n",
    "\n",
    "    CSV，全称是Comma-Separated Values，表示逗号分隔值，\n",
    "\n",
    "2. 结构\n",
    "\n",
    "   1）表头\n",
    "\n",
    "     a.有表头\n",
    "\n",
    "       CSV文件第一行，也就是展示列名那行，大部分情况下是表格头，包含了许多属性名\n",
    "\n",
    "     b.无表头\n",
    "\n",
    "       也可以无表头，以数据直接开始\n",
    "\n",
    "   2)数据\n",
    "   \n",
    "     a.在表头下面，每一条数据都是独占一行的，因此当我们把CSV文件转换成DataFrame后，CSV的行与DataFrame的行之间能够直接对应上，\n",
    "\n",
    "     b.每行数据里所包含的值的数量应该是相同的，逗号分隔符的数量也必须相同，但凡哪行多了或少了，说明那就不是一个合格有效的CSV\n",
    "\n",
    "3. 特殊情况\n",
    "\n",
    "   1)当数据值里面包含英文逗号，可以用引号围完整的值。里面的逗号，就不会被当成分隔符的逗号了\n",
    "\n",
    "   2)当某个值为空缺，可以让两个分隔逗号相邻，表示中间那个值不存在\n",
    "\n",
    "4. CSV与JSON对比\n",
    "\n",
    "   CSV本身是一个非常规整的二维结构，能一眼就知道它所对应的表格长什么样子\n",
    "\n",
    "   JSON则不同，它的结构能非常灵活，也可以层层嵌套，很难直观看出对应表格长什么样\n",
    "\n",
    "   因此，JSON是通用编程时受欢迎的数据结构，而CSV是数据分析时受欢迎的数据结构\n",
    "\n",
    "5. 编写CSV\n",
    "\n",
    "   打开代码编辑器或文本编辑器，按照CSV格式的规则写好后，把文件保存为以.csv结尾的文件即可\n",
    "\n",
    "6. **会编程的人用代码分析数据时，尽量会让源数据文件，以CSV、JSON等纯文本格式，或者sqlite等数据库文件格式**\n",
    "\n",
    "7. 优点\n",
    "\n",
    "   体积小，结构工整，容易让人理解，能非常直接地转换成表格。\n",
    "  \n",
    "   可以用Excel软件去读取、修改或导出CSV。\n",
    "\n",
    "8. 读取\n",
    "\n",
    "   在实际的数据分析中，由于一般数据量比较大，动辄1G以上的CSV数据集是很常见的，\n",
    "\n",
    "   1)Excel\n",
    "\n",
    "   可能会卡住。因为Excel不止要展示数据，还要试图展示格式(虽然文件里可能就没有额外格式)，还得加载一系列功能等\n",
    "\n",
    "   2)代码编辑器或者纯文本编辑器\n",
    "\n",
    "   3)更好的方法\n",
    "\n",
    "   用代码读取，转换成DataFrame，然后用Pandas库里的方法，想看几行看几行，而不用等海量的数据全部加载出来"
   ]
  },
  {
   "cell_type": "code",
   "execution_count": null,
   "id": "ac272783-ddb7-4c7d-9bc2-488e25a7257b",
   "metadata": {},
   "outputs": [],
   "source": []
  }
 ],
 "metadata": {
  "kernelspec": {
   "display_name": "Python 3 (ipykernel)",
   "language": "python",
   "name": "python3"
  },
  "language_info": {
   "codemirror_mode": {
    "name": "ipython",
    "version": 3
   },
   "file_extension": ".py",
   "mimetype": "text/x-python",
   "name": "python",
   "nbconvert_exporter": "python",
   "pygments_lexer": "ipython3",
   "version": "3.11.1"
  }
 },
 "nbformat": 4,
 "nbformat_minor": 5
}
