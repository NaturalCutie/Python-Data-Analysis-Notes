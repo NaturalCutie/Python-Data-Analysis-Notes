{
 "cells": [
  {
   "cell_type": "markdown",
   "id": "228a0610-2bd6-4e0b-b234-a767b0875162",
   "metadata": {},
   "source": [
    "# **3.19_retrieve_data**"
   ]
  },
  {
   "cell_type": "markdown",
   "id": "b5d6d99c-eafe-4082-b871-219a1a1eeb34",
   "metadata": {},
   "source": [
    "***数据分析流程:获取数据、读取数据、评估数据、清洗数据、整理数据、分析数据、可视化数据***"
   ]
  },
  {
   "cell_type": "markdown",
   "id": "cbd33fc8-c1a5-4d3f-a4a4-aa1cef8893fb",
   "metadata": {},
   "source": [
    "### 一、获取私密数据"
   ]
  },
  {
   "cell_type": "markdown",
   "id": "2fc614e6-5a30-40fe-9776-8e8459c689c0",
   "metadata": {},
   "source": [
    "获取私密数据没有通用方法，方法取决于具体情况 "
   ]
  },
  {
   "cell_type": "markdown",
   "id": "d85547ae-1a47-4611-90b1-973b0050ddd0",
   "metadata": {},
   "source": [
    "### 二、获取公开数据"
   ]
  },
  {
   "cell_type": "markdown",
   "id": "f40af378-7800-4211-9911-ea8c6a4573c9",
   "metadata": {},
   "source": [
    "#### (一)、下载"
   ]
  },
  {
   "cell_type": "markdown",
   "id": "4eae05e9-a5bd-4868-b1ca-c0367a21682d",
   "metadata": {},
   "source": [
    "1. 公开数据集"
   ]
  },
  {
   "cell_type": "markdown",
   "id": "ca1a775c-d246-4af1-b99e-7663caaab80f",
   "metadata": {},
   "source": [
    "    1)网络上有一些提供公开数据集的网站，可以在后续掌握分析技巧后，探索和下载感兴趣的数据集。\n",
    "\n",
    "      飞桨(百度旗下深度学习平台)数据集：https://aistudio.baidu.com/aistudio/datasetoverview\n",
    "\n",
    "      天池(阿里云旗下开发者竞赛平台) ：https://tianchi.aliyun.com/dataset/\n",
    "\n",
    "      和鲸社区(数据科学开源社区)数据集：https://www.heywhale.com/home/dataset\n",
    "\n",
    "    2)课程配套资料里也整理好了很多公开数据集"
   ]
  },
  {
   "cell_type": "markdown",
   "id": "fa169a62-d56b-488f-8939-0fbf83f1e3ce",
   "metadata": {},
   "source": [
    "####  (二)、爬虫"
   ]
  },
  {
   "cell_type": "markdown",
   "id": "ac69d491-5dae-408c-b509-eec0829a8699",
   "metadata": {},
   "source": [
    "获取数据的过程\n",
    "\n",
    "1. 获取网页内容\n",
    "\n",
    "   通过发送请求，获取网页源代码。\n",
    "\n",
    "2. 解析网页内容\n",
    "\n",
    "   解析源代码内容，提取出想要的内容。这些数据就可以作为后续分析的原料了..."
   ]
  },
  {
   "cell_type": "markdown",
   "id": "c66cd5fb-0401-4f77-a1d5-5f830fa7608c",
   "metadata": {},
   "source": [
    "爬虫的红线\n",
    "\n",
    "1. 不要爬取公民隐私数据\n",
    "\n",
    "2. 不要爬取受著作权保护的内容\n",
    "\n",
    "3. 不要爬取国家事务、国防建设、尖端科学技术领域的计算机系统等"
   ]
  },
  {
   "cell_type": "markdown",
   "id": "17bc7aaf-ab0e-45e7-adaa-4ef95e8d6210",
   "metadata": {},
   "source": [
    "#### (三)、API"
   ]
  },
  {
   "cell_type": "markdown",
   "id": "73bb4518-3872-4639-9ab2-ad4e014c62f3",
   "metadata": {},
   "source": [
    "1. 概念\n",
    "  \n",
    "   API, 全称是Application Programming Interface, 表示应用程序编程接口。\n",
    "\n",
    "   API定义了两个程序之间的服务合约，即双方是如何使用请求和响应来进行通讯的\n",
    "\n",
    "2. 爬虫和API获取数据的区别\n",
    "\n",
    "   当我们爬虫时，发送请求后，获取的是网页源码，但网页源码本身是用来给浏览器渲染的，而不是直接的信息。要从中寻找特定数据，还要解析网页源码\n",
    "\n",
    "   如果网站直接提供给我们API，我们就能按照对方规定好的服务合约，根据规则发送请求，然后直接获得想要的数据，不需要经过解析源码这一步骤\n",
    "\n",
    "   因此，当一个网站提供了公开API时，通过API而不是爬虫去获取数据，肯定是更高效的方法"
   ]
  },
  {
   "cell_type": "code",
   "execution_count": null,
   "id": "ba518bc6-4c64-416a-a483-418d4927178b",
   "metadata": {},
   "outputs": [],
   "source": []
  }
 ],
 "metadata": {
  "kernelspec": {
   "display_name": "Python 3 (ipykernel)",
   "language": "python",
   "name": "python3"
  },
  "language_info": {
   "codemirror_mode": {
    "name": "ipython",
    "version": 3
   },
   "file_extension": ".py",
   "mimetype": "text/x-python",
   "name": "python",
   "nbconvert_exporter": "python",
   "pygments_lexer": "ipython3",
   "version": "3.11.1"
  }
 },
 "nbformat": 4,
 "nbformat_minor": 5
}
