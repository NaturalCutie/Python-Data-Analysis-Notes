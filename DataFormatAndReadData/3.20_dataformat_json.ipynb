{
 "cells": [
  {
   "cell_type": "markdown",
   "id": "683c2d6c-9d56-4440-9e3c-c73577a17c54",
   "metadata": {},
   "source": [
    "# **3.20_dataformat_json**"
   ]
  },
  {
   "cell_type": "markdown",
   "id": "7d204c59-2076-45ac-804d-ebdc5e81458f",
   "metadata": {},
   "source": [
    "程序员非常喜欢的数据格式"
   ]
  },
  {
   "cell_type": "markdown",
   "id": "108254ed-91cf-4735-90f6-0df99b524688",
   "metadata": {},
   "source": [
    "### 一、数据格式"
   ]
  },
  {
   "cell_type": "markdown",
   "id": "683f808c-2be0-4c3b-a0ed-168de4b3824d",
   "metadata": {},
   "source": [
    "不同文件格式有不同的读取方法，一般通过文件后缀来分辨文件格式\n",
    "\n",
    "**文件名后缀只是文件名的一部分，更改后缀并不改变文件里面的内容，因此更改后缀不影响实际的文件格式，**\n",
    "\n",
    "**文件名后缀会影响电脑选择用什么软件去打开它**\n",
    "\n",
    "当我们聊数据格式时，不仅聊的是这个文件以什么后缀结尾，更重要的是它里面的内容遵循怎样的格式规则"
   ]
  },
  {
   "cell_type": "markdown",
   "id": "a90b43e2-ef53-4354-b4d9-b4cc7d595ded",
   "metadata": {},
   "source": [
    "### 二、JSON"
   ]
  },
  {
   "cell_type": "markdown",
   "id": "8f5659b4-10fa-49db-92cb-333fd5dee9a5",
   "metadata": {},
   "source": [
    "1. 概念\n",
    "\n",
    "   JSON，全称为JaveScript Object Notation,意思是JavaScript的对象表示法，可见这种数据格式和JavaScript的语法是有些关联的\n",
    "\n",
    "   JSON，与Python的字典或列表，有非常类似之处；并且被无数主流变成语言支持\n",
    "\n",
    "2. 优点\n",
    "\n",
    "   1)用API获得的数据，很多时候数据都是一JSON格式进行返回的\n",
    "\n",
    "   2)占用体积小\n",
    "\n",
    "   3)非常容易被转换成程序语言自己的结构\n",
    "\n",
    "3. 数据结构\n",
    "\n",
    "   JSON对象和JSON数组，可以分别被转换成Python字典和列表\n",
    "\n",
    "   1)JSON对象\n",
    "\n",
    "   JSON对象，以大括号开头和结尾，然后里面都是键值对，每个键值对之间用逗号进行分隔。\n",
    "\n",
    "```JSON\n",
    "{\n",
    "  \"id\": \"1\", \n",
    "  \"type\": \"article\", \n",
    "  \"title\": \"working with JSON data\", \n",
    "  \"created\": \"2099-12-18T14:56:29.000Z\"\n",
    "}\n",
    "```\n",
    "\n",
    "   2)JSON数组\n",
    "\n",
    "   JSON数组，以中括号开头和结尾，然后里面是一个个值，每个值之间用逗号进行分隔。\n",
    "\n",
    "```JSON\n",
    "[\n",
    "  {\n",
    "    \"title\": \"A Light in the Attic\"\n",
    "    \"price\": \"£51.77\"\n",
    "  },\n",
    "  {\n",
    "    \"title\": \"Tipping the Velvet\"\n",
    "    \"price\": \"£53.74\"\n",
    "  }\n",
    "]\n",
    "```\n",
    "\n",
    "4. JSON值的类型，需要属于以下几种：\n",
    "\n",
    "   1)字符串  \"star\"\n",
    "\n",
    "   2)数字  31\n",
    "\n",
    "   3)布尔值 true\n",
    "\n",
    "   4)数组 [\"hi\", 7] \n",
    "\n",
    "   5)对象  {\"age\": 25}\n",
    "\n",
    "   6)空值  null\n",
    "\n",
    "   支持嵌套， 数组里面的值可以是对象，对象里的值可以是数组\n",
    "\n",
    "5. 与Python语法的区别\n",
    "\n",
    "   1)Python字典，可以用整数等不可变数据类型作为键；但在JSON对象里，只能是字符串作为键，不能是其他类型。\n",
    "\n",
    "   2)JSON对象的键，不能存在重复，因为值要靠键提取；Python字典里，键重复不会报错，但在有两个键相同的情况下，后来赋给键的值将成为键的真实值\n",
    "\n",
    "   3)JSON里，字符串必须被双引号包围，不能用单引号\n",
    "\n",
    "   4)Python的布尔值，都是以大写开头；因为本质是JavaScript对象，而JavaScript的布尔值是以小写开头，JSON里布尔值也是以小写开头\n",
    "\n",
    "   5)JSON里空值是null\n",
    "\n",
    "6. 数据转换\n",
    "\n",
    "   因为JSON和Python的字典或列表还是存在差别的，因此获取JSON数据后，要进行解析+转换，才能去分析数据"
   ]
  },
  {
   "cell_type": "code",
   "execution_count": null,
   "id": "f21ca04e-3062-417e-8346-3b28979b5da4",
   "metadata": {},
   "outputs": [],
   "source": []
  }
 ],
 "metadata": {
  "kernelspec": {
   "display_name": "Python 3 (ipykernel)",
   "language": "python",
   "name": "python3"
  },
  "language_info": {
   "codemirror_mode": {
    "name": "ipython",
    "version": 3
   },
   "file_extension": ".py",
   "mimetype": "text/x-python",
   "name": "python",
   "nbconvert_exporter": "python",
   "pygments_lexer": "ipython3",
   "version": "3.11.1"
  }
 },
 "nbformat": 4,
 "nbformat_minor": 5
}
