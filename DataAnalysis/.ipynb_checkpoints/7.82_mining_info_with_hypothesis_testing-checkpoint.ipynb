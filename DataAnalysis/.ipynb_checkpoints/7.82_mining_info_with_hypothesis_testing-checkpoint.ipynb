{
 "cells": [
  {
   "cell_type": "markdown",
   "id": "fe9f7ae0-7e08-4bc3-b392-ae6b29491d24",
   "metadata": {},
   "source": [
    "7.82_mining_info_with_hypothesis_testing"
   ]
  },
  {
   "cell_type": "code",
   "execution_count": 6,
   "id": "98bb0bee-a276-470b-9abd-c9f31cc4dc0d",
   "metadata": {},
   "outputs": [],
   "source": [
    "import numpy as np\n",
    "import pandas as pd\n",
    "\n",
    "# 引入绘图相关库\n",
    "import seaborn as sns\n",
    "import matplotlib.pyplot as plt\n",
    "import matplotlib\n",
    "\n",
    "# 引入t检验相关函数\n",
    "from scipy.stats import ttest_ind\n",
    "\n",
    "# 引入Z检验相关函数\n",
    "from statsmodels.stats.weightstats import ztest"
   ]
  },
  {
   "cell_type": "markdown",
   "id": "003fe437-1851-4d56-9b0c-05fb10d94db8",
   "metadata": {},
   "source": [
    "### 一、用代码实现t检验"
   ]
  },
  {
   "cell_type": "markdown",
   "id": "a1d14800-7f45-4602-a8f6-0b6d4a853c25",
   "metadata": {},
   "source": [
    "#### (一)、Knowledge"
   ]
  },
  {
   "cell_type": "markdown",
   "id": "3fd714ea-9735-4daf-a6c5-dfd22bf61b22",
   "metadata": {},
   "source": [
    "1. SciPy\n",
    "   \n",
    "- 做t检验，可以用SciPy这个库。SciPy和Pandas一样，都是建立在NumPy之上的\n",
    "\n",
    "- `SciPy.stats`模块，有很多和统计分析有关的函数和类\n",
    "\n",
    "- `SciPy.stats`模块中的`ttest_ind`函数，就是一个专门用来做独立双样本t检验的函数，'ind'是independent的简写"
   ]
  },
  {
   "cell_type": "markdown",
   "id": "7eb660b1-6fd1-4989-b677-e3f23e79a282",
   "metadata": {},
   "source": [
    "2. p值：如果总体之间不存在显著差异，那样本之间存在当前这种差异或更极端的差异，有多大概率。\n",
    "\n",
    "- p值小，假设总体之间没有显著差异的话，样本有这样的差异是小概率事件，应该拒绝原假设\n",
    "\n",
    "- p值大，假设总体之间没有显著差异的话，样本有这样的差异是大概率事件，应该接受原假设"
   ]
  },
  {
   "cell_type": "markdown",
   "id": "741c3f38-fee6-493f-89bf-113d2ff409ed",
   "metadata": {},
   "source": [
    "#### (二)、步骤"
   ]
  },
  {
   "cell_type": "code",
   "execution_count": 7,
   "id": "69aacd0a-a1d9-4ead-a52e-294569ec9273",
   "metadata": {},
   "outputs": [
    {
     "data": {
      "text/html": [
       "<div>\n",
       "<style scoped>\n",
       "    .dataframe tbody tr th:only-of-type {\n",
       "        vertical-align: middle;\n",
       "    }\n",
       "\n",
       "    .dataframe tbody tr th {\n",
       "        vertical-align: top;\n",
       "    }\n",
       "\n",
       "    .dataframe thead th {\n",
       "        text-align: right;\n",
       "    }\n",
       "</style>\n",
       "<table border=\"1\" class=\"dataframe\">\n",
       "  <thead>\n",
       "    <tr style=\"text-align: right;\">\n",
       "      <th></th>\n",
       "      <th>身高</th>\n",
       "      <th>地区</th>\n",
       "    </tr>\n",
       "  </thead>\n",
       "  <tbody>\n",
       "    <tr>\n",
       "      <th>0</th>\n",
       "      <td>165</td>\n",
       "      <td>A</td>\n",
       "    </tr>\n",
       "    <tr>\n",
       "      <th>1</th>\n",
       "      <td>167</td>\n",
       "      <td>A</td>\n",
       "    </tr>\n",
       "    <tr>\n",
       "      <th>2</th>\n",
       "      <td>172</td>\n",
       "      <td>A</td>\n",
       "    </tr>\n",
       "    <tr>\n",
       "      <th>3</th>\n",
       "      <td>176</td>\n",
       "      <td>A</td>\n",
       "    </tr>\n",
       "    <tr>\n",
       "      <th>4</th>\n",
       "      <td>178</td>\n",
       "      <td>A</td>\n",
       "    </tr>\n",
       "    <tr>\n",
       "      <th>5</th>\n",
       "      <td>180</td>\n",
       "      <td>A</td>\n",
       "    </tr>\n",
       "    <tr>\n",
       "      <th>6</th>\n",
       "      <td>182</td>\n",
       "      <td>A</td>\n",
       "    </tr>\n",
       "    <tr>\n",
       "      <th>7</th>\n",
       "      <td>183</td>\n",
       "      <td>A</td>\n",
       "    </tr>\n",
       "    <tr>\n",
       "      <th>8</th>\n",
       "      <td>185</td>\n",
       "      <td>A</td>\n",
       "    </tr>\n",
       "    <tr>\n",
       "      <th>9</th>\n",
       "      <td>188</td>\n",
       "      <td>A</td>\n",
       "    </tr>\n",
       "    <tr>\n",
       "      <th>10</th>\n",
       "      <td>155</td>\n",
       "      <td>B</td>\n",
       "    </tr>\n",
       "    <tr>\n",
       "      <th>11</th>\n",
       "      <td>158</td>\n",
       "      <td>B</td>\n",
       "    </tr>\n",
       "    <tr>\n",
       "      <th>12</th>\n",
       "      <td>160</td>\n",
       "      <td>B</td>\n",
       "    </tr>\n",
       "    <tr>\n",
       "      <th>13</th>\n",
       "      <td>162</td>\n",
       "      <td>B</td>\n",
       "    </tr>\n",
       "    <tr>\n",
       "      <th>14</th>\n",
       "      <td>165</td>\n",
       "      <td>B</td>\n",
       "    </tr>\n",
       "    <tr>\n",
       "      <th>15</th>\n",
       "      <td>168</td>\n",
       "      <td>B</td>\n",
       "    </tr>\n",
       "    <tr>\n",
       "      <th>16</th>\n",
       "      <td>172</td>\n",
       "      <td>B</td>\n",
       "    </tr>\n",
       "    <tr>\n",
       "      <th>17</th>\n",
       "      <td>176</td>\n",
       "      <td>B</td>\n",
       "    </tr>\n",
       "    <tr>\n",
       "      <th>18</th>\n",
       "      <td>179</td>\n",
       "      <td>B</td>\n",
       "    </tr>\n",
       "    <tr>\n",
       "      <th>19</th>\n",
       "      <td>182</td>\n",
       "      <td>B</td>\n",
       "    </tr>\n",
       "  </tbody>\n",
       "</table>\n",
       "</div>"
      ],
      "text/plain": [
       "     身高 地区\n",
       "0   165  A\n",
       "1   167  A\n",
       "2   172  A\n",
       "3   176  A\n",
       "4   178  A\n",
       "5   180  A\n",
       "6   182  A\n",
       "7   183  A\n",
       "8   185  A\n",
       "9   188  A\n",
       "10  155  B\n",
       "11  158  B\n",
       "12  160  B\n",
       "13  162  B\n",
       "14  165  B\n",
       "15  168  B\n",
       "16  172  B\n",
       "17  176  B\n",
       "18  179  B\n",
       "19  182  B"
      ]
     },
     "execution_count": 7,
     "metadata": {},
     "output_type": "execute_result"
    }
   ],
   "source": [
    "height_df = pd.read_csv('height.csv')\n",
    "height_df"
   ]
  },
  {
   "cell_type": "markdown",
   "id": "efd48e16-8237-4ca0-9479-fe4c38efc7c1",
   "metadata": {},
   "source": [
    "1. 引入t检验相关函数"
   ]
  },
  {
   "cell_type": "markdown",
   "id": "93a58ee5-2c03-4f31-950e-afd71378f005",
   "metadata": {},
   "source": [
    "2. 筛选两独立样本的Series"
   ]
  },
  {
   "cell_type": "code",
   "execution_count": 8,
   "id": "cd496d2f-e5cb-4b52-be78-ac4465bd3b66",
   "metadata": {},
   "outputs": [],
   "source": [
    "region_a_height = height_df.query('地区 == \"A\"')['身高']\n",
    "region_b_height = height_df.query('地区 == \"B\"')['身高']"
   ]
  },
  {
   "cell_type": "code",
   "execution_count": 9,
   "id": "e472a2bf-6875-484c-8b4a-8073df9af943",
   "metadata": {},
   "outputs": [
    {
     "data": {
      "text/plain": [
       "0    165\n",
       "1    167\n",
       "2    172\n",
       "3    176\n",
       "4    178\n",
       "5    180\n",
       "6    182\n",
       "7    183\n",
       "8    185\n",
       "9    188\n",
       "Name: 身高, dtype: int64"
      ]
     },
     "execution_count": 9,
     "metadata": {},
     "output_type": "execute_result"
    }
   ],
   "source": [
    "region_a_height"
   ]
  },
  {
   "cell_type": "code",
   "execution_count": 10,
   "id": "2a48a927-915e-4c69-9901-6cb834d490e7",
   "metadata": {
    "scrolled": true
   },
   "outputs": [
    {
     "data": {
      "text/plain": [
       "10    155\n",
       "11    158\n",
       "12    160\n",
       "13    162\n",
       "14    165\n",
       "15    168\n",
       "16    172\n",
       "17    176\n",
       "18    179\n",
       "19    182\n",
       "Name: 身高, dtype: int64"
      ]
     },
     "execution_count": 10,
     "metadata": {},
     "output_type": "execute_result"
    }
   ],
   "source": [
    "region_b_height"
   ]
  },
  {
   "cell_type": "code",
   "execution_count": 28,
   "id": "36a033c1-2ff6-47a9-aaae-991e6ba1831b",
   "metadata": {},
   "outputs": [],
   "source": [
    "# 替换成Microsoft YaHei字体\n",
    "matplotlib.rc(\"font\",family='Microsoft YaHei')"
   ]
  },
  {
   "cell_type": "code",
   "execution_count": 29,
   "id": "70519a78-cb61-4df9-9b23-5a339dc99937",
   "metadata": {},
   "outputs": [
    {
     "data": {
      "image/png": "[encoded data removed]",
      "text/plain": [
       "<Figure size 640x480 with 1 Axes>"
      ]
     },
     "metadata": {},
     "output_type": "display_data"
    }
   ],
   "source": [
    "sns.kdeplot(region_a_height)\n",
    "sns.kdeplot(region_b_height)\n",
    "plt.show()"
   ]
  },
  {
   "cell_type": "markdown",
   "id": "27a7069b-3176-4975-bde9-834878639a00",
   "metadata": {},
   "source": [
    "3. 建立假设\n",
    "\n",
    "   **带括号的步骤只需要在脑袋里过一下或稍微记录一下**"
   ]
  },
  {
   "cell_type": "code",
   "execution_count": 14,
   "id": "f38f54fd-43ce-4652-8f9d-e31d341cea7f",
   "metadata": {},
   "outputs": [],
   "source": [
    "# (原假设(H0):地区A和地区B的人平均身高没有差异)\n",
    "# (备择假设(H1)：地区A和地区B 的人平均身高有差异)"
   ]
  },
  {
   "cell_type": "markdown",
   "id": "b7905864-8120-45be-9b50-f6d7763fa88f",
   "metadata": {},
   "source": [
    "4. 选择单尾/双尾"
   ]
  },
  {
   "cell_type": "code",
   "execution_count": 15,
   "id": "3750491c-7c29-4569-a329-affc8f5f73b3",
   "metadata": {},
   "outputs": [],
   "source": [
    "# (选择双尾检验)"
   ]
  },
  {
   "cell_type": "markdown",
   "id": "f438e70b-e8a0-483a-acd0-c72912703064",
   "metadata": {},
   "source": [
    "5. 确定显著水平"
   ]
  },
  {
   "cell_type": "code",
   "execution_count": 16,
   "id": "447ccde2-9960-4894-949b-9e32e4400298",
   "metadata": {},
   "outputs": [],
   "source": [
    "alpha = 0.05"
   ]
  },
  {
   "cell_type": "markdown",
   "id": "7c94d053-d8bf-4e05-9647-f2d506b6ba14",
   "metadata": {},
   "source": [
    "6. 计算t值和p值\n",
    "\n",
    "- 调用ttest_ind函数，分别传入两样本的Series，ttest_ind函数会返回t检验的结果，里面包含两个数字，第一个表示t值，第二个表示p值\n",
    "\n",
    "- **ttest_ind函数默认计算的是双尾的p值，如果是单尾检验，单尾的p值等于返回的p值除以二**\n",
    "\n",
    "- **之所以双尾检验p值是单尾检验p值的2倍，是人为x2的结果。可以想象单尾检验的p值为，一样本平均值，落在另一样本正态分布图中的面积；而由于双尾检验显著水平为，一样本平均值落入另一样本两边的面积，所以人为将p值x2，用两倍的面积和两边的面积去比较**"
   ]
  },
  {
   "cell_type": "code",
   "execution_count": 17,
   "id": "1b4913c5-0b61-43ff-bce0-a40203db27d1",
   "metadata": {},
   "outputs": [
    {
     "name": "stdout",
     "output_type": "stream",
     "text": [
      "2.608375959216796 0.017783305969556976\n"
     ]
    }
   ],
   "source": [
    "t_stat, p_value = ttest_ind(region_a_height, region_b_height)\n",
    "print(t_stat, p_value)"
   ]
  },
  {
   "cell_type": "markdown",
   "id": "a93d25f3-469f-4754-885a-60bee5d8c1b4",
   "metadata": {},
   "source": [
    "7. 比较p值和显著水平"
   ]
  },
  {
   "cell_type": "code",
   "execution_count": 26,
   "id": "a73f392c-13f0-41f6-9b0e-ba955f57327f",
   "metadata": {},
   "outputs": [
    {
     "name": "stdout",
     "output_type": "stream",
     "text": [
      "两组数据有显著差异\n"
     ]
    }
   ],
   "source": [
    "# (把p值和显著水平进行比较，这里计算出的p值是0.018左右，小于0,05。\n",
    "# 说明当原假设为真时，当前样本出现这种差异的概率很小，而且比我们选择的显著水平更小，因此应该拒绝原假设，换句话说，我们推断总体的平均值确实存在差异。)\n",
    "if p_value < alpha:\n",
    "    print('两组数据有显著差异')\n",
    "else:\n",
    "    print('两组数据无显著差异')"
   ]
  },
  {
   "cell_type": "markdown",
   "id": "e1ff1a89-daa3-45aa-86f0-9fce609c6645",
   "metadata": {},
   "source": [
    "**用代码做t检验的步骤，比上一届学的更加简洁和高效。我们不需要去看t值具体是多少，不需要去查t值临界值表，也不需要对比t值和临界值。只需要直接对比p值和显著水平，就能得到结论，到底是拒绝还是接受原假设**"
   ]
  },
  {
   "cell_type": "markdown",
   "id": "fee52a9e-87fe-43b1-a0c7-9241b79d2e4a",
   "metadata": {},
   "source": [
    "### 二、用代码实现Z检验 "
   ]
  },
  {
   "cell_type": "markdown",
   "id": "b7c9c4d0-26e3-43e5-9ae8-da895aa6921a",
   "metadata": {},
   "source": [
    "#### (一)、Knowledge"
   ]
  },
  {
   "cell_type": "markdown",
   "id": "c7508d85-3c80-4514-8b7c-ca594216dd0c",
   "metadata": {},
   "source": [
    "1. statsmodels\n",
    "\n",
    "   计算Z值和p值，可以用statsmodels.stats.weightstats模块的ztest函数 "
   ]
  },
  {
   "cell_type": "markdown",
   "id": "cad9eef0-7447-41a2-9034-f5a7b4834b1a",
   "metadata": {},
   "source": [
    "#### (二)、步骤"
   ]
  },
  {
   "cell_type": "markdown",
   "id": "f46f9473-cc2f-4e10-9824-fa07808d1309",
   "metadata": {},
   "source": [
    "用Python做Z检验，整个步骤和t检验很相似"
   ]
  },
  {
   "cell_type": "code",
   "execution_count": 19,
   "id": "62bd6d06-d46d-4c34-ae8a-c7f170e7eba4",
   "metadata": {},
   "outputs": [
    {
     "data": {
      "text/html": [
       "<div>\n",
       "<style scoped>\n",
       "    .dataframe tbody tr th:only-of-type {\n",
       "        vertical-align: middle;\n",
       "    }\n",
       "\n",
       "    .dataframe tbody tr th {\n",
       "        vertical-align: top;\n",
       "    }\n",
       "\n",
       "    .dataframe thead th {\n",
       "        text-align: right;\n",
       "    }\n",
       "</style>\n",
       "<table border=\"1\" class=\"dataframe\">\n",
       "  <thead>\n",
       "    <tr style=\"text-align: right;\">\n",
       "      <th></th>\n",
       "      <th>身高</th>\n",
       "      <th>地区</th>\n",
       "    </tr>\n",
       "  </thead>\n",
       "  <tbody>\n",
       "    <tr>\n",
       "      <th>0</th>\n",
       "      <td>175</td>\n",
       "      <td>A</td>\n",
       "    </tr>\n",
       "    <tr>\n",
       "      <th>1</th>\n",
       "      <td>169</td>\n",
       "      <td>A</td>\n",
       "    </tr>\n",
       "    <tr>\n",
       "      <th>2</th>\n",
       "      <td>176</td>\n",
       "      <td>A</td>\n",
       "    </tr>\n",
       "    <tr>\n",
       "      <th>3</th>\n",
       "      <td>185</td>\n",
       "      <td>A</td>\n",
       "    </tr>\n",
       "    <tr>\n",
       "      <th>4</th>\n",
       "      <td>168</td>\n",
       "      <td>A</td>\n",
       "    </tr>\n",
       "    <tr>\n",
       "      <th>...</th>\n",
       "      <td>...</td>\n",
       "      <td>...</td>\n",
       "    </tr>\n",
       "    <tr>\n",
       "      <th>61</th>\n",
       "      <td>173</td>\n",
       "      <td>B</td>\n",
       "    </tr>\n",
       "    <tr>\n",
       "      <th>62</th>\n",
       "      <td>164</td>\n",
       "      <td>B</td>\n",
       "    </tr>\n",
       "    <tr>\n",
       "      <th>63</th>\n",
       "      <td>163</td>\n",
       "      <td>B</td>\n",
       "    </tr>\n",
       "    <tr>\n",
       "      <th>64</th>\n",
       "      <td>183</td>\n",
       "      <td>B</td>\n",
       "    </tr>\n",
       "    <tr>\n",
       "      <th>65</th>\n",
       "      <td>189</td>\n",
       "      <td>B</td>\n",
       "    </tr>\n",
       "  </tbody>\n",
       "</table>\n",
       "<p>66 rows × 2 columns</p>\n",
       "</div>"
      ],
      "text/plain": [
       "     身高 地区\n",
       "0   175  A\n",
       "1   169  A\n",
       "2   176  A\n",
       "3   185  A\n",
       "4   168  A\n",
       "..  ... ..\n",
       "61  173  B\n",
       "62  164  B\n",
       "63  163  B\n",
       "64  183  B\n",
       "65  189  B\n",
       "\n",
       "[66 rows x 2 columns]"
      ]
     },
     "execution_count": 19,
     "metadata": {},
     "output_type": "execute_result"
    }
   ],
   "source": [
    "height_df2 = pd.read_csv('height2.csv')\n",
    "height_df2"
   ]
  },
  {
   "cell_type": "markdown",
   "id": "fffc0048-9a3e-4581-ad43-e439b1031409",
   "metadata": {},
   "source": [
    "1. 引入Z检验相关函数"
   ]
  },
  {
   "cell_type": "markdown",
   "id": "17803982-c498-4835-bd8c-f9c237073a47",
   "metadata": {},
   "source": [
    "2. 筛选两独立样本的Series"
   ]
  },
  {
   "cell_type": "code",
   "execution_count": 20,
   "id": "103c2425-ba4f-44f5-a3a4-7c6254dc9584",
   "metadata": {},
   "outputs": [],
   "source": [
    "region_a_height2 = height_df2.query('地区 == \"A\"')['身高']\n",
    "region_b_height2 = height_df2.query('地区 == \"B\"')['身高']"
   ]
  },
  {
   "cell_type": "code",
   "execution_count": 30,
   "id": "152e3863-20b3-467b-97c6-270f0c9ab23f",
   "metadata": {},
   "outputs": [
    {
     "data": {
      "image/png": "[encoded data removed]",
      "text/plain": [
       "<Figure size 640x480 with 1 Axes>"
      ]
     },
     "metadata": {},
     "output_type": "display_data"
    }
   ],
   "source": [
    "sns.kdeplot(region_a_height2)\n",
    "sns.kdeplot(region_b_height2)\n",
    "plt.show()"
   ]
  },
  {
   "cell_type": "markdown",
   "id": "975c19de-ba06-4ec7-8422-7f1565d4f545",
   "metadata": {},
   "source": [
    "3. 建立假设"
   ]
  },
  {
   "cell_type": "markdown",
   "id": "25ad0832-c82b-43b0-b4e9-a63d99a91807",
   "metadata": {},
   "source": [
    "4. 选择单尾/双尾"
   ]
  },
  {
   "cell_type": "markdown",
   "id": "f50f16f8-57fd-42af-bf02-e435958c208a",
   "metadata": {},
   "source": [
    "5. 确定显著水平"
   ]
  },
  {
   "cell_type": "code",
   "execution_count": 24,
   "id": "1462ed5e-c1ce-421c-a113-ad4c2ac07183",
   "metadata": {},
   "outputs": [],
   "source": [
    "alpha = 0.05"
   ]
  },
  {
   "cell_type": "markdown",
   "id": "dcb2c6a3-9dc5-4a44-ac25-4caaced43212",
   "metadata": {},
   "source": [
    "6. 计算Z值和p值\n",
    "\n",
    "- 调用ztest函数，分别传入两样本，ztest函数返回两个数字，第一个表示Z值，第二个表示p值\n",
    "\n",
    "    - 传入可选参数`alternative='two-sided'`，表示双尾\n",
    " \n",
    "    - 如果是单尾的话，传入可选参数`alternative='larger'`，表示想推断第一个的均值，是否显著大于第二个\n",
    " \n",
    "    - 传入可选参数`alternative='smaller'`，表示想推断第一个的均值，是否显著小于第二个"
   ]
  },
  {
   "cell_type": "code",
   "execution_count": 23,
   "id": "aedfa1bc-7414-4a11-9400-b0f068663cdd",
   "metadata": {},
   "outputs": [
    {
     "name": "stdout",
     "output_type": "stream",
     "text": [
      "-1.9906963757270788 0.04651427741343414\n"
     ]
    }
   ],
   "source": [
    "z_stat, p_value = ztest(region_a_height2, region_b_height2, alternative='two-sided')\n",
    "print(z_stat, p_value)"
   ]
  },
  {
   "cell_type": "markdown",
   "id": "eda55435-ede9-45d2-a67e-37274fd605a4",
   "metadata": {},
   "source": [
    "7. 比较p值和显著水平"
   ]
  },
  {
   "cell_type": "code",
   "execution_count": 25,
   "id": "300edca1-023c-47be-8869-369aca2c253d",
   "metadata": {},
   "outputs": [
    {
     "name": "stdout",
     "output_type": "stream",
     "text": [
      "两组数据有显著差异\n"
     ]
    }
   ],
   "source": [
    "if p_value < alpha:\n",
    "    print('两组数据有显著差异')\n",
    "else:\n",
    "    print('两组数据无显著差异')"
   ]
  },
  {
   "cell_type": "code",
   "execution_count": 31,
   "id": "722503d0-2060-4096-aad1-589f9bf0fcba",
   "metadata": {},
   "outputs": [
    {
     "name": "stdout",
     "output_type": "stream",
     "text": [
      "-1.9906963757270788 0.02325713870671707\n",
      "两组数据有显著差异\n"
     ]
    }
   ],
   "source": [
    "# 建立假设\n",
    "# 原假设：\n",
    "# 备择假设：地区A的人平均身高小于地区B 的人的平均身高\n",
    "\n",
    "alpha = 0.025\n",
    "\n",
    "# 计算z值和p值（单尾负差异）\n",
    "z_stat, p_value = ztest(region_a_height2, region_b_height2, \n",
    "                        alternative='smaller')\n",
    "print(z_stat, p_value)\n",
    "\n",
    "if p_value < alpha:\n",
    "    print('两组数据有显著差异')\n",
    "else:\n",
    "    print('两组数据无显著差异')"
   ]
  },
  {
   "cell_type": "code",
   "execution_count": null,
   "id": "d5ad81b6-d328-4939-a827-65d9a4544bbf",
   "metadata": {},
   "outputs": [],
   "source": []
  }
 ],
 "metadata": {
  "kernelspec": {
   "display_name": "Python 3 (ipykernel)",
   "language": "python",
   "name": "python3"
  },
  "language_info": {
   "codemirror_mode": {
    "name": "ipython",
    "version": 3
   },
   "file_extension": ".py",
   "mimetype": "text/x-python",
   "name": "python",
   "nbconvert_exporter": "python",
   "pygments_lexer": "ipython3",
   "version": "3.11.1"
  }
 },
 "nbformat": 4,
 "nbformat_minor": 5
}
