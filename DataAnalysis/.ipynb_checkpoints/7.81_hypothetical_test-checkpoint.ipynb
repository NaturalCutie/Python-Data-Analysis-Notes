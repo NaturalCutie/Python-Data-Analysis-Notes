{
 "cells": [
  {
   "cell_type": "markdown",
   "id": "8ba2c081-94e8-43d8-9d1d-095837b49eac",
   "metadata": {},
   "source": [
    "7.81_hypothetical_test"
   ]
  },
  {
   "cell_type": "markdown",
   "id": "747e72fa-5135-4ffb-9859-6200fcdc17b0",
   "metadata": {},
   "source": [
    "### 一、有关假设检验的一些概念"
   ]
  },
  {
   "cell_type": "markdown",
   "id": "d4cf7743-a280-45a1-ac96-33f20cf0cc82",
   "metadata": {},
   "source": [
    "1. 描述统计学与推断统计学\n",
    "\n",
    "- 描述统计学：对数据进行描述和总结\n",
    "\n",
    "- 推断统计学: 通过样本做出关于总体的推断和预测\n",
    "\n",
    "2. 对象和整体\n",
    "  \n",
    "- 对象：我们想要观测的具体事物叫做对象\n",
    "\n",
    "- 整体：我们想观测的整个对象的集合\n",
    "\n",
    "3. 样本和整体\n",
    "\n",
    "- 样本是我们收集数据的对象\n",
    "\n",
    "- 总体是我们想要得到结论的群体\n",
    "\n",
    "4. 统计量和参数\n",
    "\n",
    "- 统计量：描述样本特征的数值\n",
    "\n",
    "- 参数：描述总体特征的数值\n",
    "\n",
    "- 在统计推断中，我们会基于样本的统计量，对总体的参数进行推断，从而得到对总体的结论"
   ]
  },
  {
   "cell_type": "markdown",
   "id": "77abcd2b-bf0e-40e9-b7ee-087fa12e2bc8",
   "metadata": {},
   "source": [
    "### 二、独立双样本t检验步骤"
   ]
  },
  {
   "cell_type": "markdown",
   "id": "4217a0db-7f0d-4b5e-b6ed-63e710d50dee",
   "metadata": {},
   "source": [
    "1. 概念\n",
    "\n",
    "- 独立：说明样本来自不同的总体，彼此没有关联\n",
    "\n",
    "- 双样本：比较两个不同样本的数据\n",
    "\n",
    "- t检验：一种统计方法，用于确定样本的平均值之间是否存在统计显著的差异\n",
    "\n",
    "2. 前提条件\n",
    "\n",
    "- 随机抽样\n",
    "\n",
    "- 总体大致呈正态分布   "
   ]
  },
  {
   "cell_type": "markdown",
   "id": "e8a0921a-387d-43f8-ae28-525f6ad0d5bd",
   "metadata": {},
   "source": [
    "#### (一)、建立假设"
   ]
  },
  {
   "cell_type": "markdown",
   "id": "2a33f8cb-288d-443b-9402-4535e834614c",
   "metadata": {},
   "source": [
    "1. 原假设(H0)\n",
    "\n",
    "2. 备择假设(H1)\n",
    "\n",
    "一般我们进行假设检验的时候，是想反驳原假设，以及支持备择假设"
   ]
  },
  {
   "cell_type": "markdown",
   "id": "95f4041d-1471-4c37-9b89-a4095e41156a",
   "metadata": {},
   "source": [
    "#### (二)、选择单尾或双尾"
   ]
  },
  {
   "cell_type": "markdown",
   "id": "38b4098a-5db8-4551-b562-b5be8dc54c45",
   "metadata": {},
   "source": [
    "1. 双尾只推断总体之间是否有差异，不在意是正差还是负差\n",
    "\n",
    "2. 单尾推断只看是否存在正差异，或者只看是否存在负差异"
   ]
  },
  {
   "cell_type": "markdown",
   "id": "46ec60fa-4a97-4ced-a1e5-a66357be0754",
   "metadata": {},
   "source": [
    "#### (三)、确定显著水平"
   ]
  },
  {
   "cell_type": "markdown",
   "id": "48c6d02e-eb27-4530-8eec-c96d871422ab",
   "metadata": {},
   "source": [
    "显著水平反应了检验的严格程度。\n",
    "\n",
    "样本抽样存在随机性，检验结果没有可能保证100%符合现实，只能通过显著水平来调整严格程度\n",
    "\n",
    "常见的双尾检验显著水平是0.05，也就是说如果检验结果是拒绝原假设，原假设实际为真的概率是5%；再换句话说，如果检验结果是拒绝原假设，结论95%概率是对的。\n",
    "\n",
    "常见的单位检验显著水平是0.025。"
   ]
  },
  {
   "cell_type": "markdown",
   "id": "b1d7705a-ada8-455b-b5cf-05a13f2f188a",
   "metadata": {},
   "source": [
    "#### (四)、计算t值"
   ]
  },
  {
   "cell_type": "markdown",
   "id": "b4b58533-4f12-48d9-90fe-49a21b67c408",
   "metadata": {},
   "source": [
    "#### (五)、计算自由度"
   ]
  },
  {
   "cell_type": "markdown",
   "id": "89ef8380-8c8b-45c3-a79d-c658800c2ecd",
   "metadata": {},
   "source": [
    "自由度 = 样本1的数量 + 样本2的数量 -2"
   ]
  },
  {
   "cell_type": "markdown",
   "id": "122d9642-2f20-4a91-a2ed-f5bd9aeeff6b",
   "metadata": {},
   "source": [
    "#### (六)、查看t值临界值表"
   ]
  },
  {
   "cell_type": "markdown",
   "id": "5256df88-576b-414b-bcde-4f9054bfad59",
   "metadata": {},
   "source": [
    "根据单双尾、自由度和显著水平，去查t值临界值表"
   ]
  },
  {
   "cell_type": "markdown",
   "id": "cd171f86-90a6-45f2-b2f6-97f59d74f7b3",
   "metadata": {},
   "source": [
    "#### (七)、比较临界值和t值"
   ]
  },
  {
   "cell_type": "markdown",
   "id": "3fce23de-3f54-43c9-94d5-07a58bae58d2",
   "metadata": {},
   "source": [
    "t值 >= 临界值，拒绝原假设，说明存在显著差异\n",
    "\n",
    "t值 < 临界值，接受原假设，说明不存在显著差异"
   ]
  },
  {
   "cell_type": "markdown",
   "id": "1a6a7176-e3c0-44ed-beb0-724e13ec656e",
   "metadata": {},
   "source": [
    "### 三、Z检验"
   ]
  },
  {
   "cell_type": "markdown",
   "id": "47ece0f8-0dd7-40c0-be0d-6841e8b0548e",
   "metadata": {},
   "source": [
    "1. 前提条件的区别\n",
    "\n",
    "- 增加了要求：总体方差已知/样本容量大于30\n",
    "\n",
    "2. 步骤的区别\n",
    "\n",
    "- 不需要计算自由度\n",
    "\n",
    "- z值计算公式，相比于t值计算公式，把样本方差换成了总体方差\n",
    "\n",
    "- 查看z值临界值表\n",
    "\n",
    "3. 应用场景\n",
    "\n",
    "Z检验适用于已知总体方差，或者样本的数量大于30的情况\n",
    "\n",
    "t检验适用于总体方差位置，且样本的数量小于等于30的情况。\n",
    "\n",
    "在实际应用中，t检验比Z检验更加常见\n",
    "\n",
    "4. 检验结果差异\n",
    "\n",
    "Z检验可以提供更高的准确性和敏感性"
   ]
  },
  {
   "cell_type": "code",
   "execution_count": null,
   "id": "3320a27a-7a82-4f9a-8695-a9a4695d6c64",
   "metadata": {},
   "outputs": [],
   "source": []
  }
 ],
 "metadata": {
  "kernelspec": {
   "display_name": "Python 3 (ipykernel)",
   "language": "python",
   "name": "python3"
  },
  "language_info": {
   "codemirror_mode": {
    "name": "ipython",
    "version": 3
   },
   "file_extension": ".py",
   "mimetype": "text/x-python",
   "name": "python",
   "nbconvert_exporter": "python",
   "pygments_lexer": "ipython3",
   "version": "3.11.1"
  }
 },
 "nbformat": 4,
 "nbformat_minor": 5
}
